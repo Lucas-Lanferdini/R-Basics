{
  "nbformat": 4,
  "nbformat_minor": 0,
  "metadata": {
    "colab": {
      "provenance": [],
      "gpuType": "T4"
    },
    "kernelspec": {
      "name": "ir",
      "display_name": "R"
    },
    "language_info": {
      "name": "R"
    },
    "accelerator": "GPU"
  },
  "cells": [
    {
      "cell_type": "code",
      "execution_count": 1,
      "metadata": {
        "id": "TzEdvQnqJJk_",
        "colab": {
          "base_uri": "https://localhost:8080/",
          "height": 34
        },
        "outputId": "7323ae50-5faa-436d-f7ea-422314f50fd4"
      },
      "outputs": [
        {
          "output_type": "display_data",
          "data": {
            "text/html": [
              "2.9625"
            ],
            "text/markdown": "2.9625",
            "text/latex": "2.9625",
            "text/plain": [
              "[1] 2.9625"
            ]
          },
          "metadata": {}
        }
      ],
      "source": [
        "0.15 * 19.75"
      ]
    },
    {
      "cell_type": "code",
      "source": [
        "install.packages (\"dslabs\")"
      ],
      "metadata": {
        "colab": {
          "base_uri": "https://localhost:8080/"
        },
        "id": "xwShw2lck7B1",
        "outputId": "851b98b4-c6ef-4574-efc2-12868c0b5e72"
      },
      "execution_count": 2,
      "outputs": [
        {
          "output_type": "stream",
          "name": "stderr",
          "text": [
            "Installing package into ‘/usr/local/lib/R/site-library’\n",
            "(as ‘lib’ is unspecified)\n",
            "\n"
          ]
        }
      ]
    },
    {
      "cell_type": "code",
      "source": [
        "library(dslabs)\n"
      ],
      "metadata": {
        "id": "8uWIPsqplEI1"
      },
      "execution_count": 3,
      "outputs": []
    },
    {
      "cell_type": "code",
      "source": [
        "install.packages(\"dslabs\")  # to install a single package\n",
        "install.packages(\"tidyverse\") # to install two packages at the same time\n",
        "installed.packages() # to see the list of all installed packages"
      ],
      "metadata": {
        "colab": {
          "base_uri": "https://localhost:8080/",
          "height": 1000
        },
        "id": "-WoUStZ6lxhK",
        "outputId": "084f7060-0c7e-4655-b83e-9d0500fadb70"
      },
      "execution_count": 4,
      "outputs": [
        {
          "output_type": "stream",
          "name": "stderr",
          "text": [
            "Installing package into ‘/usr/local/lib/R/site-library’\n",
            "(as ‘lib’ is unspecified)\n",
            "\n",
            "Installing package into ‘/usr/local/lib/R/site-library’\n",
            "(as ‘lib’ is unspecified)\n",
            "\n"
          ]
        },
        {
          "output_type": "display_data",
          "data": {
            "text/html": [
              "<table class=\"dataframe\">\n",
              "<caption>A matrix: 165 × 16 of type chr</caption>\n",
              "<thead>\n",
              "\t<tr><th></th><th scope=col>Package</th><th scope=col>LibPath</th><th scope=col>Version</th><th scope=col>Priority</th><th scope=col>Depends</th><th scope=col>Imports</th><th scope=col>LinkingTo</th><th scope=col>Suggests</th><th scope=col>Enhances</th><th scope=col>License</th><th scope=col>License_is_FOSS</th><th scope=col>License_restricts_use</th><th scope=col>OS_type</th><th scope=col>MD5sum</th><th scope=col>NeedsCompilation</th><th scope=col>Built</th></tr>\n",
              "</thead>\n",
              "<tbody>\n",
              "\t<tr><th scope=row>dslabs</th><td><span style=white-space:pre-wrap>dslabs     </span></td><td>/usr/local/lib/R/site-library</td><td>0.8.0 </td><td>NA</td><td><span style=white-space:pre-wrap>R (&gt;= 3.5.0)                                       </span></td><td><span style=white-space:pre-wrap>ggplot2                                                                                                                                                                                                                                                                                                                                                                                                                                                                                                                                                                                                    </span></td><td>NA</td><td><span style=white-space:pre-wrap>NA                                                                                                                                                                                                                                                                                                                                                                                                                                                                                                                                                                                                                                                                                                                                                                 </span></td><td><span style=white-space:pre-wrap>NA                                                          </span></td><td><span style=white-space:pre-wrap>Artistic-2.0               </span></td><td>NA</td><td>NA</td><td>NA</td><td>NA</td><td>no </td><td>4.3.3</td></tr>\n",
              "\t<tr><th scope=row>IRdisplay</th><td><span style=white-space:pre-wrap>IRdisplay  </span></td><td>/usr/local/lib/R/site-library</td><td><span style=white-space:pre-wrap>1.1   </span></td><td>NA</td><td><span style=white-space:pre-wrap>R (&gt;= 3.0.1)                                       </span></td><td><span style=white-space:pre-wrap>methods, repr                                                                                                                                                                                                                                                                                                                                                                                                                                                                                                                                                                                              </span></td><td>NA</td><td><span style=white-space:pre-wrap>testthat, withr                                                                                                                                                                                                                                                                                                                                                                                                                                                                                                                                                                                                                                                                                                                                                    </span></td><td><span style=white-space:pre-wrap>NA                                                          </span></td><td><span style=white-space:pre-wrap>MIT + file LICENSE         </span></td><td>NA</td><td>NA</td><td>NA</td><td>NA</td><td>no </td><td>4.3.3</td></tr>\n",
              "\t<tr><th scope=row>IRkernel</th><td><span style=white-space:pre-wrap>IRkernel   </span></td><td>/usr/local/lib/R/site-library</td><td>1.3.2 </td><td>NA</td><td><span style=white-space:pre-wrap>R (&gt;= 3.2.0)                                       </span></td><td><span style=white-space:pre-wrap>repr (&gt;= 0.4.99), methods, evaluate (&gt;= 0.10), IRdisplay (&gt;=\n",
              "0.3.0.9999), pbdZMQ (&gt;= 0.2-1), crayon, jsonlite (&gt;= 0.9.6),\n",
              "uuid, digest                                                                                                                                                                                                                                                                                                                                                                                                                                                                   </span></td><td>NA</td><td><span style=white-space:pre-wrap>testthat, roxygen2                                                                                                                                                                                                                                                                                                                                                                                                                                                                                                                                                                                                                                                                                                                                                 </span></td><td><span style=white-space:pre-wrap>NA                                                          </span></td><td><span style=white-space:pre-wrap>MIT + file LICENSE         </span></td><td>NA</td><td>NA</td><td>NA</td><td>NA</td><td>no </td><td>4.3.3</td></tr>\n",
              "\t<tr><th scope=row>pbdZMQ</th><td><span style=white-space:pre-wrap>pbdZMQ     </span></td><td>/usr/local/lib/R/site-library</td><td>0.3-11</td><td>NA</td><td><span style=white-space:pre-wrap>R (&gt;= 3.5.0)                                       </span></td><td><span style=white-space:pre-wrap>NA                                                                                                                                                                                                                                                                                                                                                                                                                                                                                                                                                                                                         </span></td><td>NA</td><td><span style=white-space:pre-wrap>NA                                                                                                                                                                                                                                                                                                                                                                                                                                                                                                                                                                                                                                                                                                                                                                 </span></td><td><span style=white-space:pre-wrap>NA                                                          </span></td><td><span style=white-space:pre-wrap>GPL-3                      </span></td><td>NA</td><td>NA</td><td>NA</td><td>NA</td><td>yes</td><td>4.3.3</td></tr>\n",
              "\t<tr><th scope=row>repr</th><td><span style=white-space:pre-wrap>repr       </span></td><td>/usr/local/lib/R/site-library</td><td>1.1.7 </td><td>NA</td><td><span style=white-space:pre-wrap>R (&gt;= 3.0.1)                                       </span></td><td><span style=white-space:pre-wrap>utils, grDevices, htmltools, jsonlite, pillar (&gt;= 1.4.0),\n",
              "base64enc                                                                                                                                                                                                                                                                                                                                                                                                                                                                                                                                       </span></td><td>NA</td><td><span style=white-space:pre-wrap>methods, highr, Cairo, stringr, testthat (&gt;= 3.0.0), leaflet                                                                                                                                                                                                                                                                                                                                                                                                                                                                                                                                                                                                                                                                                                       </span></td><td>data.table, tibble, htmlwidgets, vegalite, plotly, geojsonio</td><td><span style=white-space:pre-wrap>GPL (&gt;= 3)                 </span></td><td>NA</td><td>NA</td><td>NA</td><td>NA</td><td>no </td><td>4.3.3</td></tr>\n",
              "\t<tr><th scope=row>tidyverse</th><td><span style=white-space:pre-wrap>tidyverse  </span></td><td>/usr/local/lib/R/site-library</td><td>2.0.0 </td><td>NA</td><td><span style=white-space:pre-wrap>R (&gt;= 3.3)                                         </span></td><td>broom (&gt;= 1.0.3), conflicted (&gt;= 1.2.0), cli (&gt;= 3.6.0),\n",
              "dbplyr (&gt;= 2.3.0), dplyr (&gt;= 1.1.0), dtplyr (&gt;= 1.2.2), forcats\n",
              "(&gt;= 1.0.0), ggplot2 (&gt;= 3.4.1), googledrive (&gt;= 2.0.0),\n",
              "googlesheets4 (&gt;= 1.0.1), haven (&gt;= 2.5.1), hms (&gt;= 1.1.2),\n",
              "httr (&gt;= 1.4.4), jsonlite (&gt;= 1.8.4), lubridate (&gt;= 1.9.2),\n",
              "magrittr (&gt;= 2.0.3), modelr (&gt;= 0.1.10), pillar (&gt;= 1.8.1),\n",
              "purrr (&gt;= 1.0.1), ragg (&gt;= 1.2.5), readr (&gt;= 2.1.4), readxl (&gt;=\n",
              "1.4.2), reprex (&gt;= 2.0.2), rlang (&gt;= 1.0.6), rstudioapi (&gt;=\n",
              "0.14), rvest (&gt;= 1.0.3), stringr (&gt;= 1.5.0), tibble (&gt;= 3.1.8),\n",
              "tidyr (&gt;= 1.3.0), xml2 (&gt;= 1.3.3)</td><td>NA</td><td><span style=white-space:pre-wrap>covr (&gt;= 3.6.1), feather (&gt;= 0.3.5), glue (&gt;= 1.6.2), mockr\n",
              "(&gt;= 0.2.0), knitr (&gt;= 1.41), rmarkdown (&gt;= 2.20), testthat (&gt;=\n",
              "3.1.6)                                                                                                                                                                                                                                                                                                                                                                                                                                                                                                                                                                                                                                </span></td><td><span style=white-space:pre-wrap>NA                                                          </span></td><td><span style=white-space:pre-wrap>MIT + file LICENSE         </span></td><td>NA</td><td>NA</td><td>NA</td><td>NA</td><td>no </td><td>4.3.3</td></tr>\n",
              "\t<tr><th scope=row>askpass</th><td><span style=white-space:pre-wrap>askpass    </span></td><td><span style=white-space:pre-wrap>/usr/lib/R/site-library      </span></td><td>1.2.0 </td><td>NA</td><td><span style=white-space:pre-wrap>NA                                                 </span></td><td><span style=white-space:pre-wrap>sys (&gt;= 2.1)                                                                                                                                                                                                                                                                                                                                                                                                                                                                                                                                                                                               </span></td><td>NA</td><td><span style=white-space:pre-wrap>testthat                                                                                                                                                                                                                                                                                                                                                                                                                                                                                                                                                                                                                                                                                                                                                           </span></td><td><span style=white-space:pre-wrap>NA                                                          </span></td><td><span style=white-space:pre-wrap>MIT + file LICENSE         </span></td><td>NA</td><td>NA</td><td>NA</td><td>NA</td><td>yes</td><td>4.3.1</td></tr>\n",
              "\t<tr><th scope=row>backports</th><td><span style=white-space:pre-wrap>backports  </span></td><td><span style=white-space:pre-wrap>/usr/lib/R/site-library      </span></td><td>1.4.1 </td><td>NA</td><td><span style=white-space:pre-wrap>R (&gt;= 3.0.0)                                       </span></td><td><span style=white-space:pre-wrap>NA                                                                                                                                                                                                                                                                                                                                                                                                                                                                                                                                                                                                         </span></td><td>NA</td><td><span style=white-space:pre-wrap>NA                                                                                                                                                                                                                                                                                                                                                                                                                                                                                                                                                                                                                                                                                                                                                                 </span></td><td><span style=white-space:pre-wrap>NA                                                          </span></td><td><span style=white-space:pre-wrap>GPL-2 | GPL-3              </span></td><td>NA</td><td>NA</td><td>NA</td><td>NA</td><td>yes</td><td>4.2.0</td></tr>\n",
              "\t<tr><th scope=row>base64enc</th><td><span style=white-space:pre-wrap>base64enc  </span></td><td><span style=white-space:pre-wrap>/usr/lib/R/site-library      </span></td><td>0.1-3 </td><td>NA</td><td><span style=white-space:pre-wrap>R (&gt;= 2.9.0)                                       </span></td><td><span style=white-space:pre-wrap>NA                                                                                                                                                                                                                                                                                                                                                                                                                                                                                                                                                                                                         </span></td><td>NA</td><td><span style=white-space:pre-wrap>NA                                                                                                                                                                                                                                                                                                                                                                                                                                                                                                                                                                                                                                                                                                                                                                 </span></td><td><span style=white-space:pre-wrap>png                                                         </span></td><td><span style=white-space:pre-wrap>GPL-2 | GPL-3              </span></td><td>NA</td><td>NA</td><td>NA</td><td>NA</td><td>yes</td><td>4.0.2</td></tr>\n",
              "\t<tr><th scope=row>bit</th><td><span style=white-space:pre-wrap>bit        </span></td><td><span style=white-space:pre-wrap>/usr/lib/R/site-library      </span></td><td>4.0.4 </td><td>NA</td><td><span style=white-space:pre-wrap>R (&gt;= 2.9.2)                                       </span></td><td><span style=white-space:pre-wrap>NA                                                                                                                                                                                                                                                                                                                                                                                                                                                                                                                                                                                                         </span></td><td>NA</td><td><span style=white-space:pre-wrap>testthat (&gt;= 0.11.0), roxygen2, knitr, rmarkdown,\n",
              "microbenchmark, bit64 (&gt;= 4.0.0), ff (&gt;= 4.0.0)                                                                                                                                                                                                                                                                                                                                                                                                                                                                                                                                                                                                                                                                 </span></td><td><span style=white-space:pre-wrap>NA                                                          </span></td><td><span style=white-space:pre-wrap>GPL-2 | GPL-3              </span></td><td>NA</td><td>NA</td><td>NA</td><td>NA</td><td>yes</td><td>4.0.2</td></tr>\n",
              "\t<tr><th scope=row>bit64</th><td><span style=white-space:pre-wrap>bit64      </span></td><td><span style=white-space:pre-wrap>/usr/lib/R/site-library      </span></td><td>4.0.5 </td><td>NA</td><td>R (&gt;= 3.0.1), bit (&gt;= 4.0.0), utils, methods, stats</td><td><span style=white-space:pre-wrap>NA                                                                                                                                                                                                                                                                                                                                                                                                                                                                                                                                                                                                         </span></td><td>NA</td><td><span style=white-space:pre-wrap>NA                                                                                                                                                                                                                                                                                                                                                                                                                                                                                                                                                                                                                                                                                                                                                                 </span></td><td><span style=white-space:pre-wrap>NA                                                          </span></td><td><span style=white-space:pre-wrap>GPL-2 | GPL-3              </span></td><td>NA</td><td>NA</td><td>NA</td><td>NA</td><td>yes</td><td>4.2.0</td></tr>\n",
              "\t<tr><th scope=row>blob</th><td><span style=white-space:pre-wrap>blob       </span></td><td><span style=white-space:pre-wrap>/usr/lib/R/site-library      </span></td><td>1.2.4 </td><td>NA</td><td><span style=white-space:pre-wrap>NA                                                 </span></td><td><span style=white-space:pre-wrap>methods, rlang, vctrs (&gt;= 0.2.1)                                                                                                                                                                                                                                                                                                                                                                                                                                                                                                                                                                           </span></td><td>NA</td><td><span style=white-space:pre-wrap>covr, crayon, pillar (&gt;= 1.2.1), testthat                                                                                                                                                                                                                                                                                                                                                                                                                                                                                                                                                                                                                                                                                                                          </span></td><td><span style=white-space:pre-wrap>NA                                                          </span></td><td><span style=white-space:pre-wrap>MIT + file LICENSE         </span></td><td>NA</td><td>NA</td><td>NA</td><td>NA</td><td>no </td><td>4.2.3</td></tr>\n",
              "\t<tr><th scope=row>brew</th><td><span style=white-space:pre-wrap>brew       </span></td><td><span style=white-space:pre-wrap>/usr/lib/R/site-library      </span></td><td>1.0-10</td><td>NA</td><td><span style=white-space:pre-wrap>NA                                                 </span></td><td><span style=white-space:pre-wrap>NA                                                                                                                                                                                                                                                                                                                                                                                                                                                                                                                                                                                                         </span></td><td>NA</td><td><span style=white-space:pre-wrap>testthat (&gt;= 3.0.0)                                                                                                                                                                                                                                                                                                                                                                                                                                                                                                                                                                                                                                                                                                                                                </span></td><td><span style=white-space:pre-wrap>NA                                                          </span></td><td><span style=white-space:pre-wrap>GPL (&gt;= 2)                 </span></td><td>NA</td><td>NA</td><td>NA</td><td>NA</td><td>no </td><td>4.3.2</td></tr>\n",
              "\t<tr><th scope=row>brio</th><td><span style=white-space:pre-wrap>brio       </span></td><td><span style=white-space:pre-wrap>/usr/lib/R/site-library      </span></td><td>1.1.4 </td><td>NA</td><td><span style=white-space:pre-wrap>R (&gt;= 3.6)                                         </span></td><td><span style=white-space:pre-wrap>NA                                                                                                                                                                                                                                                                                                                                                                                                                                                                                                                                                                                                         </span></td><td>NA</td><td><span style=white-space:pre-wrap>covr, testthat (&gt;= 3.0.0)                                                                                                                                                                                                                                                                                                                                                                                                                                                                                                                                                                                                                                                                                                                                          </span></td><td><span style=white-space:pre-wrap>NA                                                          </span></td><td><span style=white-space:pre-wrap>MIT + file LICENSE         </span></td><td>NA</td><td>NA</td><td>NA</td><td>NA</td><td>yes</td><td>4.3.2</td></tr>\n",
              "\t<tr><th scope=row>broom</th><td><span style=white-space:pre-wrap>broom      </span></td><td><span style=white-space:pre-wrap>/usr/lib/R/site-library      </span></td><td>1.0.5 </td><td>NA</td><td><span style=white-space:pre-wrap>R (&gt;= 3.5)                                         </span></td><td><span style=white-space:pre-wrap>backports, dplyr (&gt;= 1.0.0), ellipsis, generics (&gt;= 0.0.2),\n",
              "glue, lifecycle, purrr, rlang, stringr, tibble (&gt;= 3.0.0),\n",
              "tidyr (&gt;= 1.0.0)                                                                                                                                                                                                                                                                                                                                                                                                                                                                  </span></td><td>NA</td><td>AER, AUC, bbmle, betareg, biglm, binGroup, boot, btergm (&gt;=\n",
              "1.10.6), car, carData, caret, cluster, cmprsk, coda, covr, drc,\n",
              "e1071, emmeans, epiR, ergm (&gt;= 3.10.4), fixest (&gt;= 0.9.0), gam\n",
              "(&gt;= 1.15), gee, geepack, ggplot2, glmnet, glmnetUtils, gmm,\n",
              "Hmisc, irlba, interp, joineRML, Kendall, knitr, ks, Lahman,\n",
              "lavaan, leaps, lfe, lm.beta, lme4, lmodel2, lmtest (&gt;= 0.9.38),\n",
              "lsmeans, maps, margins, MASS, mclust, mediation, metafor, mfx,\n",
              "mgcv, mlogit, modeldata, modeltests, muhaz, multcomp, network,\n",
              "nnet, orcutt (&gt;= 2.2), ordinal, plm, poLCA, psych, quantreg,\n",
              "rmarkdown, robust, robustbase, rsample, sandwich, sp, spdep (&gt;=\n",
              "1.1), spatialreg, speedglm, spelling, survey, survival,\n",
              "systemfit, testthat (&gt;= 2.1.0), tseries, vars, zoo</td><td><span style=white-space:pre-wrap>NA                                                          </span></td><td><span style=white-space:pre-wrap>MIT + file LICENSE         </span></td><td>NA</td><td>NA</td><td>NA</td><td>NA</td><td>no </td><td>4.3.1</td></tr>\n",
              "\t<tr><th scope=row>bslib</th><td><span style=white-space:pre-wrap>bslib      </span></td><td><span style=white-space:pre-wrap>/usr/lib/R/site-library      </span></td><td>0.6.1 </td><td>NA</td><td><span style=white-space:pre-wrap>R (&gt;= 2.10)                                        </span></td><td><span style=white-space:pre-wrap>base64enc, cachem, grDevices, htmltools (&gt;= 0.5.7), jquerylib\n",
              "(&gt;= 0.1.3), jsonlite, lifecycle, memoise (&gt;= 2.0.1), mime,\n",
              "rlang, sass (&gt;= 0.4.0)                                                                                                                                                                                                                                                                                                                                                                                                                                                          </span></td><td>NA</td><td><span style=white-space:pre-wrap>bsicons, curl, fontawesome, ggplot2, knitr, magrittr,\n",
              "rappdirs, rmarkdown (&gt;= 2.7), shiny (&gt;= 1.8.0), testthat,\n",
              "thematic, withr                                                                                                                                                                                                                                                                                                                                                                                                                                                                                                                                                                                                                                  </span></td><td><span style=white-space:pre-wrap>NA                                                          </span></td><td><span style=white-space:pre-wrap>MIT + file LICENSE         </span></td><td>NA</td><td>NA</td><td>NA</td><td>NA</td><td>no </td><td>4.3.2</td></tr>\n",
              "\t<tr><th scope=row>cachem</th><td><span style=white-space:pre-wrap>cachem     </span></td><td><span style=white-space:pre-wrap>/usr/lib/R/site-library      </span></td><td>1.0.8 </td><td>NA</td><td><span style=white-space:pre-wrap>NA                                                 </span></td><td><span style=white-space:pre-wrap>rlang, fastmap (&gt;= 1.1.1)                                                                                                                                                                                                                                                                                                                                                                                                                                                                                                                                                                                  </span></td><td>NA</td><td><span style=white-space:pre-wrap>testthat                                                                                                                                                                                                                                                                                                                                                                                                                                                                                                                                                                                                                                                                                                                                                           </span></td><td><span style=white-space:pre-wrap>NA                                                          </span></td><td><span style=white-space:pre-wrap>MIT + file LICENSE         </span></td><td>NA</td><td>NA</td><td>NA</td><td>NA</td><td>yes</td><td>4.3.0</td></tr>\n",
              "\t<tr><th scope=row>callr</th><td><span style=white-space:pre-wrap>callr      </span></td><td><span style=white-space:pre-wrap>/usr/lib/R/site-library      </span></td><td>3.7.3 </td><td>NA</td><td><span style=white-space:pre-wrap>R (&gt;= 3.4)                                         </span></td><td><span style=white-space:pre-wrap>processx (&gt;= 3.6.1), R6, utils                                                                                                                                                                                                                                                                                                                                                                                                                                                                                                                                                                             </span></td><td>NA</td><td><span style=white-space:pre-wrap>asciicast, cli (&gt;= 1.1.0), covr, mockery, ps, rprojroot,\n",
              "spelling, testthat (&gt;= 3.0.0), withr (&gt;= 2.3.0)                                                                                                                                                                                                                                                                                                                                                                                                                                                                                                                                                                                                                                                          </span></td><td><span style=white-space:pre-wrap>NA                                                          </span></td><td><span style=white-space:pre-wrap>MIT + file LICENSE         </span></td><td>NA</td><td>NA</td><td>NA</td><td>NA</td><td>no </td><td>4.2.2</td></tr>\n",
              "\t<tr><th scope=row>cellranger</th><td>cellranger </td><td><span style=white-space:pre-wrap>/usr/lib/R/site-library      </span></td><td>1.1.0 </td><td>NA</td><td><span style=white-space:pre-wrap>R (&gt;= 3.0.0)                                       </span></td><td><span style=white-space:pre-wrap>rematch, tibble                                                                                                                                                                                                                                                                                                                                                                                                                                                                                                                                                                                            </span></td><td>NA</td><td><span style=white-space:pre-wrap>covr, testthat (&gt;= 1.0.0), knitr, rmarkdown                                                                                                                                                                                                                                                                                                                                                                                                                                                                                                                                                                                                                                                                                                                        </span></td><td><span style=white-space:pre-wrap>NA                                                          </span></td><td><span style=white-space:pre-wrap>MIT + file LICENSE         </span></td><td>NA</td><td>NA</td><td>NA</td><td>NA</td><td>no </td><td>4.0.1</td></tr>\n",
              "\t<tr><th scope=row>cli</th><td><span style=white-space:pre-wrap>cli        </span></td><td><span style=white-space:pre-wrap>/usr/lib/R/site-library      </span></td><td>3.6.2 </td><td>NA</td><td><span style=white-space:pre-wrap>R (&gt;= 3.4)                                         </span></td><td><span style=white-space:pre-wrap>utils                                                                                                                                                                                                                                                                                                                                                                                                                                                                                                                                                                                                      </span></td><td>NA</td><td><span style=white-space:pre-wrap>callr, covr, crayon, digest, glue (&gt;= 1.6.0), grDevices,\n",
              "htmltools, htmlwidgets, knitr, methods, mockery, processx, ps\n",
              "(&gt;= 1.3.4.9000), rlang (&gt;= 1.0.2.9003), rmarkdown, rprojroot,\n",
              "rstudioapi, testthat, tibble, whoami, withr                                                                                                                                                                                                                                                                                                                                                                                                                                                                                                                                </span></td><td><span style=white-space:pre-wrap>NA                                                          </span></td><td><span style=white-space:pre-wrap>MIT + file LICENSE         </span></td><td>NA</td><td>NA</td><td>NA</td><td>NA</td><td>yes</td><td>4.3.2</td></tr>\n",
              "\t<tr><th scope=row>clipr</th><td><span style=white-space:pre-wrap>clipr      </span></td><td><span style=white-space:pre-wrap>/usr/lib/R/site-library      </span></td><td>0.8.0 </td><td>NA</td><td><span style=white-space:pre-wrap>NA                                                 </span></td><td><span style=white-space:pre-wrap>utils                                                                                                                                                                                                                                                                                                                                                                                                                                                                                                                                                                                                      </span></td><td>NA</td><td><span style=white-space:pre-wrap>covr, knitr, rmarkdown, rstudioapi (&gt;= 0.5), testthat (&gt;=\n",
              "2.0.0)                                                                                                                                                                                                                                                                                                                                                                                                                                                                                                                                                                                                                                                                                                  </span></td><td><span style=white-space:pre-wrap>NA                                                          </span></td><td><span style=white-space:pre-wrap>GPL-3                      </span></td><td>NA</td><td>NA</td><td>NA</td><td>NA</td><td>no </td><td>4.2.0</td></tr>\n",
              "\t<tr><th scope=row>colorspace</th><td>colorspace </td><td><span style=white-space:pre-wrap>/usr/lib/R/site-library      </span></td><td>2.1-0 </td><td>NA</td><td><span style=white-space:pre-wrap>R (&gt;= 3.0.0), methods                              </span></td><td><span style=white-space:pre-wrap>graphics, grDevices, stats                                                                                                                                                                                                                                                                                                                                                                                                                                                                                                                                                                                 </span></td><td>NA</td><td><span style=white-space:pre-wrap>datasets, utils, KernSmooth, MASS, kernlab, mvtnorm, vcd,\n",
              "tcltk, shiny, shinyjs, ggplot2, dplyr, scales, grid, png, jpeg,\n",
              "knitr, rmarkdown, RColorBrewer, rcartocolor, scico, viridis,\n",
              "wesanderson                                                                                                                                                                                                                                                                                                                                                                                                                                                                                                                                                              </span></td><td><span style=white-space:pre-wrap>NA                                                          </span></td><td>BSD_3_clause + file LICENSE</td><td>NA</td><td>NA</td><td>NA</td><td>NA</td><td>yes</td><td>4.2.2</td></tr>\n",
              "\t<tr><th scope=row>commonmark</th><td>commonmark </td><td>/usr/lib/R/site-library      </td><td>1.9.1 </td><td>NA</td><td>NA                                                 </td><td>NA                                                                                                                                                                                                                                                                                                                                                                                                                                                                                                                                                                                                         </td><td>NA</td><td>curl, testthat, xml2                                                                                                                                                                                                                                                                                                                                                                                                                                                                                                                                                                                                                                                                                                                                               </td><td>NA                                                          </td><td>BSD_2_clause + file LICENSE</td><td>NA</td><td>NA</td><td>NA</td><td>NA</td><td>yes</td><td>4.3.2</td></tr>\n",
              "\t<tr><th scope=row>conflicted</th><td>conflicted </td><td><span style=white-space:pre-wrap>/usr/lib/R/site-library      </span></td><td>1.2.0 </td><td>NA</td><td><span style=white-space:pre-wrap>R (&gt;= 3.2)                                         </span></td><td><span style=white-space:pre-wrap>cli (&gt;= 3.4.0), memoise, rlang (&gt;= 1.0.0)                                                                                                                                                                                                                                                                                                                                                                                                                                                                                                                                                                  </span></td><td>NA</td><td><span style=white-space:pre-wrap>callr, covr, dplyr, Matrix, methods, pkgload, testthat (&gt;=\n",
              "3.0.0), withr                                                                                                                                                                                                                                                                                                                                                                                                                                                                                                                                                                                                                                                                                          </span></td><td><span style=white-space:pre-wrap>NA                                                          </span></td><td><span style=white-space:pre-wrap>MIT + file LICENSE         </span></td><td>NA</td><td>NA</td><td>NA</td><td>NA</td><td>no </td><td>4.2.2</td></tr>\n",
              "\t<tr><th scope=row>cpp11</th><td><span style=white-space:pre-wrap>cpp11      </span></td><td><span style=white-space:pre-wrap>/usr/lib/R/site-library      </span></td><td>0.4.7 </td><td>NA</td><td><span style=white-space:pre-wrap>R (&gt;= 3.5.0)                                       </span></td><td><span style=white-space:pre-wrap>NA                                                                                                                                                                                                                                                                                                                                                                                                                                                                                                                                                                                                         </span></td><td>NA</td><td><span style=white-space:pre-wrap>bench, brio, callr, cli, covr, decor, desc, ggplot2, glue,\n",
              "knitr, lobstr, mockery, progress, rmarkdown, scales, Rcpp,\n",
              "testthat (&gt;= 3.2.0), tibble, utils, vctrs, withr                                                                                                                                                                                                                                                                                                                                                                                                                                                                                                                                                                                           </span></td><td><span style=white-space:pre-wrap>NA                                                          </span></td><td><span style=white-space:pre-wrap>MIT + file LICENSE         </span></td><td>NA</td><td>NA</td><td>NA</td><td>NA</td><td>no </td><td>4.3.2</td></tr>\n",
              "\t<tr><th scope=row>crayon</th><td>crayon     </td><td>/usr/lib/R/site-library      </td><td>1.5.2 </td><td>NA</td><td>NA                                                 </td><td>grDevices, methods, utils                                                                                                                                                                                                                                                                                                                                                                                                                                                                                                                                                                                  </td><td>NA</td><td>mockery, rstudioapi, testthat, withr                                                                                                                                                                                                                                                                                                                                                                                                                                                                                                                                                                                                                                                                                                                               </td><td>NA                                                          </td><td>MIT + file LICENSE         </td><td>NA</td><td>NA</td><td>NA</td><td>NA</td><td>no </td><td>4.2.1</td></tr>\n",
              "\t<tr><th scope=row>credentials</th><td>credentials</td><td><span style=white-space:pre-wrap>/usr/lib/R/site-library      </span></td><td>2.0.1 </td><td>NA</td><td><span style=white-space:pre-wrap>NA                                                 </span></td><td><span style=white-space:pre-wrap>openssl (&gt;= 1.3), sys (&gt;= 2.1), curl, jsonlite, askpass                                                                                                                                                                                                                                                                                                                                                                                                                                                                                                                                                    </span></td><td>NA</td><td><span style=white-space:pre-wrap>testthat, knitr, rmarkdown                                                                                                                                                                                                                                                                                                                                                                                                                                                                                                                                                                                                                                                                                                                                         </span></td><td><span style=white-space:pre-wrap>NA                                                          </span></td><td><span style=white-space:pre-wrap>MIT + file LICENSE         </span></td><td>NA</td><td>NA</td><td>NA</td><td>NA</td><td>no </td><td>4.3.1</td></tr>\n",
              "\t<tr><th scope=row>curl</th><td><span style=white-space:pre-wrap>curl       </span></td><td><span style=white-space:pre-wrap>/usr/lib/R/site-library      </span></td><td>5.0.2 </td><td>NA</td><td><span style=white-space:pre-wrap>R (&gt;= 3.0.0)                                       </span></td><td><span style=white-space:pre-wrap>NA                                                                                                                                                                                                                                                                                                                                                                                                                                                                                                                                                                                                         </span></td><td>NA</td><td><span style=white-space:pre-wrap>spelling, testthat (&gt;= 1.0.0), knitr, jsonlite, rmarkdown,\n",
              "magrittr, httpuv (&gt;= 1.4.4), webutils                                                                                                                                                                                                                                                                                                                                                                                                                                                                                                                                                                                                                                                                  </span></td><td><span style=white-space:pre-wrap>NA                                                          </span></td><td><span style=white-space:pre-wrap>MIT + file LICENSE         </span></td><td>NA</td><td>NA</td><td>NA</td><td>NA</td><td>yes</td><td>4.3.1</td></tr>\n",
              "\t<tr><th scope=row>data.table</th><td>data.table </td><td><span style=white-space:pre-wrap>/usr/lib/R/site-library      </span></td><td>1.15.0</td><td>NA</td><td><span style=white-space:pre-wrap>R (&gt;= 3.1.0)                                       </span></td><td><span style=white-space:pre-wrap>methods                                                                                                                                                                                                                                                                                                                                                                                                                                                                                                                                                                                                    </span></td><td>NA</td><td><span style=white-space:pre-wrap>bit64 (&gt;= 4.0.0), bit (&gt;= 4.0.4), R.utils, xts, zoo (&gt;=\n",
              "1.8-1), yaml, knitr, markdown                                                                                                                                                                                                                                                                                                                                                                                                                                                                                                                                                                                                                                                                             </span></td><td><span style=white-space:pre-wrap>NA                                                          </span></td><td><span style=white-space:pre-wrap>MPL-2.0 | file LICENSE     </span></td><td>NA</td><td>NA</td><td>NA</td><td>NA</td><td>yes</td><td>4.3.2</td></tr>\n",
              "\t<tr><th scope=row>DBI</th><td><span style=white-space:pre-wrap>DBI        </span></td><td><span style=white-space:pre-wrap>/usr/lib/R/site-library      </span></td><td>1.2.1 </td><td>NA</td><td><span style=white-space:pre-wrap>methods, R (&gt;= 3.0.0)                              </span></td><td><span style=white-space:pre-wrap>NA                                                                                                                                                                                                                                                                                                                                                                                                                                                                                                                                                                                                         </span></td><td>NA</td><td><span style=white-space:pre-wrap>arrow, blob, covr, DBItest, dbplyr, downlit, dplyr, glue,\n",
              "hms, knitr, magrittr, nanoarrow (&gt;= 0.3.0.1), RMariaDB,\n",
              "rmarkdown, rprojroot, RSQLite (&gt;= 1.1-2), testthat (&gt;= 3.0.0),\n",
              "vctrs, xml2                                                                                                                                                                                                                                                                                                                                                                                                                                                                                                                                                                    </span></td><td><span style=white-space:pre-wrap>NA                                                          </span></td><td><span style=white-space:pre-wrap>LGPL (&gt;= 2.1)              </span></td><td>NA</td><td>NA</td><td>NA</td><td>NA</td><td>no </td><td>4.3.2</td></tr>\n",
              "\t<tr><th scope=row>⋮</th><td>⋮</td><td>⋮</td><td>⋮</td><td>⋮</td><td>⋮</td><td>⋮</td><td>⋮</td><td>⋮</td><td>⋮</td><td>⋮</td><td>⋮</td><td>⋮</td><td>⋮</td><td>⋮</td><td>⋮</td><td>⋮</td></tr>\n",
              "\t<tr><th scope=row>zip</th><td>zip       </td><td>/usr/lib/R/site-library</td><td>2.3.0     </td><td>NA         </td><td>NA                                           </td><td>NA                                              </td><td>NA</td><td>covr, processx, R6, testthat, withr                                   </td><td>NA                              </td><td>MIT + file LICENSE       </td><td>NA</td><td>NA</td><td>NA</td><td>NA</td><td>yes</td><td>4.3.0</td></tr>\n",
              "\t<tr><th scope=row>base</th><td>base      </td><td>/usr/lib/R/library     </td><td>4.3.3     </td><td>base       </td><td>NA                                           </td><td>NA                                              </td><td>NA</td><td>methods                                                               </td><td>NA                              </td><td>Part of R 4.3.3          </td><td>NA</td><td>NA</td><td>NA</td><td>NA</td><td>NA </td><td>4.3.3</td></tr>\n",
              "\t<tr><th scope=row>boot</th><td><span style=white-space:pre-wrap>boot      </span></td><td><span style=white-space:pre-wrap>/usr/lib/R/library     </span></td><td><span style=white-space:pre-wrap>1.3-30    </span></td><td>recommended</td><td><span style=white-space:pre-wrap>R (&gt;= 3.0.0), graphics, stats                </span></td><td><span style=white-space:pre-wrap>NA                                              </span></td><td>NA</td><td><span style=white-space:pre-wrap>MASS, survival                                                        </span></td><td><span style=white-space:pre-wrap>NA                              </span></td><td><span style=white-space:pre-wrap>Unlimited                </span></td><td>NA</td><td>NA</td><td>NA</td><td>NA</td><td>no </td><td>4.3.3</td></tr>\n",
              "\t<tr><th scope=row>class</th><td><span style=white-space:pre-wrap>class     </span></td><td><span style=white-space:pre-wrap>/usr/lib/R/library     </span></td><td><span style=white-space:pre-wrap>7.3-22    </span></td><td>recommended</td><td><span style=white-space:pre-wrap>R (&gt;= 3.0.0), stats, utils                   </span></td><td><span style=white-space:pre-wrap>MASS                                            </span></td><td>NA</td><td><span style=white-space:pre-wrap>NA                                                                    </span></td><td><span style=white-space:pre-wrap>NA                              </span></td><td><span style=white-space:pre-wrap>GPL-2 | GPL-3            </span></td><td>NA</td><td>NA</td><td>NA</td><td>NA</td><td>yes</td><td>4.3.1</td></tr>\n",
              "\t<tr><th scope=row>cluster</th><td><span style=white-space:pre-wrap>cluster   </span></td><td><span style=white-space:pre-wrap>/usr/lib/R/library     </span></td><td><span style=white-space:pre-wrap>2.1.6     </span></td><td>recommended</td><td><span style=white-space:pre-wrap>R (&gt;= 3.5.0)                                 </span></td><td><span style=white-space:pre-wrap>graphics, grDevices, stats, utils               </span></td><td>NA</td><td><span style=white-space:pre-wrap>MASS, Matrix                                                          </span></td><td>mvoutlier, fpc, ellipse, sfsmisc</td><td><span style=white-space:pre-wrap>GPL (&gt;= 2)               </span></td><td>NA</td><td>NA</td><td>NA</td><td>NA</td><td>yes</td><td>4.3.2</td></tr>\n",
              "\t<tr><th scope=row>codetools</th><td>codetools </td><td><span style=white-space:pre-wrap>/usr/lib/R/library     </span></td><td><span style=white-space:pre-wrap>0.2-19    </span></td><td>recommended</td><td><span style=white-space:pre-wrap>R (&gt;= 2.1)                                   </span></td><td><span style=white-space:pre-wrap>NA                                              </span></td><td>NA</td><td><span style=white-space:pre-wrap>NA                                                                    </span></td><td><span style=white-space:pre-wrap>NA                              </span></td><td><span style=white-space:pre-wrap>GPL                      </span></td><td>NA</td><td>NA</td><td>NA</td><td>NA</td><td>no </td><td>4.2.2</td></tr>\n",
              "\t<tr><th scope=row>compiler</th><td>compiler  </td><td>/usr/lib/R/library     </td><td>4.3.3     </td><td>base       </td><td>NA                                           </td><td>NA                                              </td><td>NA</td><td>NA                                                                    </td><td>NA                              </td><td>Part of R 4.3.3          </td><td>NA</td><td>NA</td><td>NA</td><td>NA</td><td>NA </td><td>4.3.3</td></tr>\n",
              "\t<tr><th scope=row>datasets</th><td>datasets  </td><td>/usr/lib/R/library     </td><td>4.3.3     </td><td>base       </td><td>NA                                           </td><td>NA                                              </td><td>NA</td><td>NA                                                                    </td><td>NA                              </td><td>Part of R 4.3.3          </td><td>NA</td><td>NA</td><td>NA</td><td>NA</td><td>NA </td><td>4.3.3</td></tr>\n",
              "\t<tr><th scope=row>foreign</th><td><span style=white-space:pre-wrap>foreign   </span></td><td><span style=white-space:pre-wrap>/usr/lib/R/library     </span></td><td><span style=white-space:pre-wrap>0.8-86    </span></td><td>recommended</td><td><span style=white-space:pre-wrap>R (&gt;= 4.0.0)                                 </span></td><td><span style=white-space:pre-wrap>methods, utils, stats                           </span></td><td>NA</td><td><span style=white-space:pre-wrap>NA                                                                    </span></td><td><span style=white-space:pre-wrap>NA                              </span></td><td><span style=white-space:pre-wrap>GPL (&gt;= 2)               </span></td><td>NA</td><td>NA</td><td>NA</td><td>NA</td><td>yes</td><td>4.3.2</td></tr>\n",
              "\t<tr><th scope=row>graphics</th><td>graphics  </td><td>/usr/lib/R/library     </td><td>4.3.3     </td><td>base       </td><td>NA                                           </td><td>grDevices                                       </td><td>NA</td><td>NA                                                                    </td><td>NA                              </td><td>Part of R 4.3.3          </td><td>NA</td><td>NA</td><td>NA</td><td>NA</td><td>yes</td><td>4.3.3</td></tr>\n",
              "\t<tr><th scope=row>grDevices</th><td>grDevices </td><td>/usr/lib/R/library     </td><td>4.3.3     </td><td>base       </td><td>NA                                           </td><td>NA                                              </td><td>NA</td><td>KernSmooth                                                            </td><td>NA                              </td><td>Part of R 4.3.3          </td><td>NA</td><td>NA</td><td>NA</td><td>NA</td><td>yes</td><td>4.3.3</td></tr>\n",
              "\t<tr><th scope=row>grid</th><td>grid      </td><td>/usr/lib/R/library     </td><td>4.3.3     </td><td>base       </td><td>NA                                           </td><td>grDevices, utils                                </td><td>NA</td><td>NA                                                                    </td><td>NA                              </td><td>Part of R 4.3.3          </td><td>NA</td><td>NA</td><td>NA</td><td>NA</td><td>yes</td><td>4.3.3</td></tr>\n",
              "\t<tr><th scope=row>KernSmooth</th><td>KernSmooth</td><td><span style=white-space:pre-wrap>/usr/lib/R/library     </span></td><td><span style=white-space:pre-wrap>2.23-22   </span></td><td>recommended</td><td><span style=white-space:pre-wrap>R (&gt;= 2.5.0), stats                          </span></td><td><span style=white-space:pre-wrap>NA                                              </span></td><td>NA</td><td><span style=white-space:pre-wrap>MASS, carData                                                         </span></td><td><span style=white-space:pre-wrap>NA                              </span></td><td><span style=white-space:pre-wrap>Unlimited                </span></td><td>NA</td><td>NA</td><td>NA</td><td>NA</td><td>yes</td><td>4.3.1</td></tr>\n",
              "\t<tr><th scope=row>lattice</th><td><span style=white-space:pre-wrap>lattice   </span></td><td><span style=white-space:pre-wrap>/usr/lib/R/library     </span></td><td><span style=white-space:pre-wrap>0.22-5    </span></td><td>recommended</td><td><span style=white-space:pre-wrap>R (&gt;= 4.0.0)                                 </span></td><td><span style=white-space:pre-wrap>grid, grDevices, graphics, stats, utils         </span></td><td>NA</td><td><span style=white-space:pre-wrap>KernSmooth, MASS, latticeExtra, colorspace                            </span></td><td><span style=white-space:pre-wrap>chron, zoo                      </span></td><td><span style=white-space:pre-wrap>GPL (&gt;= 2)               </span></td><td>NA</td><td>NA</td><td>NA</td><td>NA</td><td>yes</td><td>4.3.1</td></tr>\n",
              "\t<tr><th scope=row>MASS</th><td><span style=white-space:pre-wrap>MASS      </span></td><td><span style=white-space:pre-wrap>/usr/lib/R/library     </span></td><td>7.3-60.0.1</td><td>recommended</td><td>R (&gt;= 4.0), grDevices, graphics, stats, utils</td><td><span style=white-space:pre-wrap>methods                                         </span></td><td>NA</td><td><span style=white-space:pre-wrap>lattice, nlme, nnet, survival                                         </span></td><td><span style=white-space:pre-wrap>NA                              </span></td><td><span style=white-space:pre-wrap>GPL-2 | GPL-3            </span></td><td>NA</td><td>NA</td><td>NA</td><td>NA</td><td>yes</td><td>4.3.2</td></tr>\n",
              "\t<tr><th scope=row>Matrix</th><td><span style=white-space:pre-wrap>Matrix    </span></td><td><span style=white-space:pre-wrap>/usr/lib/R/library     </span></td><td><span style=white-space:pre-wrap>1.6-5     </span></td><td>recommended</td><td><span style=white-space:pre-wrap>R (&gt;= 3.5.0), methods                        </span></td><td>grDevices, graphics, grid, lattice, stats, utils</td><td>NA</td><td><span style=white-space:pre-wrap>MASS, datasets, sfsmisc, tools                                        </span></td><td><span style=white-space:pre-wrap>SparseM, graph                  </span></td><td>GPL (&gt;= 2) | file LICENCE</td><td>NA</td><td>NA</td><td>NA</td><td>NA</td><td>yes</td><td>4.3.3</td></tr>\n",
              "\t<tr><th scope=row>methods</th><td>methods   </td><td>/usr/lib/R/library     </td><td>4.3.3     </td><td>base       </td><td>NA                                           </td><td>utils, stats                                    </td><td>NA</td><td>codetools                                                             </td><td>NA                              </td><td>Part of R 4.3.3          </td><td>NA</td><td>NA</td><td>NA</td><td>NA</td><td>yes</td><td>4.3.3</td></tr>\n",
              "\t<tr><th scope=row>mgcv</th><td><span style=white-space:pre-wrap>mgcv      </span></td><td><span style=white-space:pre-wrap>/usr/lib/R/library     </span></td><td><span style=white-space:pre-wrap>1.9-1     </span></td><td>recommended</td><td><span style=white-space:pre-wrap>R (&gt;= 3.6.0), nlme (&gt;= 3.1-64)               </span></td><td>methods, stats, graphics, Matrix, splines, utils</td><td>NA</td><td><span style=white-space:pre-wrap>parallel, survival, MASS                                              </span></td><td><span style=white-space:pre-wrap>NA                              </span></td><td><span style=white-space:pre-wrap>GPL (&gt;= 2)               </span></td><td>NA</td><td>NA</td><td>NA</td><td>NA</td><td>yes</td><td>4.3.2</td></tr>\n",
              "\t<tr><th scope=row>nlme</th><td><span style=white-space:pre-wrap>nlme      </span></td><td><span style=white-space:pre-wrap>/usr/lib/R/library     </span></td><td><span style=white-space:pre-wrap>3.1-163   </span></td><td>recommended</td><td><span style=white-space:pre-wrap>R (&gt;= 3.5.0)                                 </span></td><td><span style=white-space:pre-wrap>graphics, stats, utils, lattice                 </span></td><td>NA</td><td><span style=white-space:pre-wrap>Hmisc, MASS, SASmixed                                                 </span></td><td><span style=white-space:pre-wrap>NA                              </span></td><td><span style=white-space:pre-wrap>GPL (&gt;= 2)               </span></td><td>NA</td><td>NA</td><td>NA</td><td>NA</td><td>yes</td><td>4.3.1</td></tr>\n",
              "\t<tr><th scope=row>nnet</th><td><span style=white-space:pre-wrap>nnet      </span></td><td><span style=white-space:pre-wrap>/usr/lib/R/library     </span></td><td><span style=white-space:pre-wrap>7.3-19    </span></td><td>recommended</td><td><span style=white-space:pre-wrap>R (&gt;= 3.0.0), stats, utils                   </span></td><td><span style=white-space:pre-wrap>NA                                              </span></td><td>NA</td><td><span style=white-space:pre-wrap>MASS                                                                  </span></td><td><span style=white-space:pre-wrap>NA                              </span></td><td><span style=white-space:pre-wrap>GPL-2 | GPL-3            </span></td><td>NA</td><td>NA</td><td>NA</td><td>NA</td><td>yes</td><td>4.3.1</td></tr>\n",
              "\t<tr><th scope=row>parallel</th><td>parallel  </td><td>/usr/lib/R/library     </td><td>4.3.3     </td><td>base       </td><td>NA                                           </td><td>tools, compiler                                 </td><td>NA</td><td>methods                                                               </td><td>snow, Rmpi                      </td><td>Part of R 4.3.3          </td><td>NA</td><td>NA</td><td>NA</td><td>NA</td><td>yes</td><td>4.3.3</td></tr>\n",
              "\t<tr><th scope=row>rpart</th><td><span style=white-space:pre-wrap>rpart     </span></td><td><span style=white-space:pre-wrap>/usr/lib/R/library     </span></td><td><span style=white-space:pre-wrap>4.1.23    </span></td><td>recommended</td><td><span style=white-space:pre-wrap>R (&gt;= 2.15.0), graphics, stats, grDevices    </span></td><td><span style=white-space:pre-wrap>NA                                              </span></td><td>NA</td><td><span style=white-space:pre-wrap>survival                                                              </span></td><td><span style=white-space:pre-wrap>NA                              </span></td><td><span style=white-space:pre-wrap>GPL-2 | GPL-3            </span></td><td>NA</td><td>NA</td><td>NA</td><td>NA</td><td>yes</td><td>4.3.2</td></tr>\n",
              "\t<tr><th scope=row>spatial</th><td><span style=white-space:pre-wrap>spatial   </span></td><td><span style=white-space:pre-wrap>/usr/lib/R/library     </span></td><td><span style=white-space:pre-wrap>7.3-17    </span></td><td>recommended</td><td><span style=white-space:pre-wrap>R (&gt;= 3.0.0), graphics, stats, utils         </span></td><td><span style=white-space:pre-wrap>NA                                              </span></td><td>NA</td><td><span style=white-space:pre-wrap>MASS                                                                  </span></td><td><span style=white-space:pre-wrap>NA                              </span></td><td><span style=white-space:pre-wrap>GPL-2 | GPL-3            </span></td><td>NA</td><td>NA</td><td>NA</td><td>NA</td><td>yes</td><td>4.3.1</td></tr>\n",
              "\t<tr><th scope=row>splines</th><td>splines   </td><td>/usr/lib/R/library     </td><td>4.3.3     </td><td>base       </td><td>NA                                           </td><td>graphics, stats                                 </td><td>NA</td><td>Matrix, methods                                                       </td><td>NA                              </td><td>Part of R 4.3.3          </td><td>NA</td><td>NA</td><td>NA</td><td>NA</td><td>yes</td><td>4.3.3</td></tr>\n",
              "\t<tr><th scope=row>stats</th><td>stats     </td><td>/usr/lib/R/library     </td><td>4.3.3     </td><td>base       </td><td>NA                                           </td><td>utils, grDevices, graphics                      </td><td>NA</td><td>MASS, Matrix, SuppDists, methods, stats4                              </td><td>NA                              </td><td>Part of R 4.3.3          </td><td>NA</td><td>NA</td><td>NA</td><td>NA</td><td>yes</td><td>4.3.3</td></tr>\n",
              "\t<tr><th scope=row>stats4</th><td>stats4    </td><td>/usr/lib/R/library     </td><td>4.3.3     </td><td>base       </td><td>NA                                           </td><td>graphics, methods, stats                        </td><td>NA</td><td>NA                                                                    </td><td>NA                              </td><td>Part of R 4.3.3          </td><td>NA</td><td>NA</td><td>NA</td><td>NA</td><td>NA </td><td>4.3.3</td></tr>\n",
              "\t<tr><th scope=row>survival</th><td><span style=white-space:pre-wrap>survival  </span></td><td><span style=white-space:pre-wrap>/usr/lib/R/library     </span></td><td><span style=white-space:pre-wrap>3.5-8     </span></td><td>recommended</td><td><span style=white-space:pre-wrap>R (&gt;= 3.5.0)                                 </span></td><td>graphics, Matrix, methods, splines, stats, utils</td><td>NA</td><td><span style=white-space:pre-wrap>NA                                                                    </span></td><td><span style=white-space:pre-wrap>NA                              </span></td><td><span style=white-space:pre-wrap>LGPL (&gt;= 2)              </span></td><td>NA</td><td>NA</td><td>NA</td><td>NA</td><td>yes</td><td>4.3.3</td></tr>\n",
              "\t<tr><th scope=row>tcltk</th><td>tcltk     </td><td>/usr/lib/R/library     </td><td>4.3.3     </td><td>base       </td><td>NA                                           </td><td>utils                                           </td><td>NA</td><td>NA                                                                    </td><td>NA                              </td><td>Part of R 4.3.3          </td><td>NA</td><td>NA</td><td>NA</td><td>NA</td><td>yes</td><td>4.3.3</td></tr>\n",
              "\t<tr><th scope=row>tools</th><td>tools     </td><td>/usr/lib/R/library     </td><td>4.3.3     </td><td>base       </td><td>NA                                           </td><td>NA                                              </td><td>NA</td><td>codetools, methods, xml2, curl, commonmark, knitr, xfun,\n",
              "mathjaxr, V8</td><td>NA                              </td><td>Part of R 4.3.3          </td><td>NA</td><td>NA</td><td>NA</td><td>NA</td><td>yes</td><td>4.3.3</td></tr>\n",
              "\t<tr><th scope=row>utils</th><td>utils     </td><td>/usr/lib/R/library     </td><td>4.3.3     </td><td>base       </td><td>NA                                           </td><td>NA                                              </td><td>NA</td><td>methods, xml2, commonmark, knitr                                      </td><td>NA                              </td><td>Part of R 4.3.3          </td><td>NA</td><td>NA</td><td>NA</td><td>NA</td><td>yes</td><td>4.3.3</td></tr>\n",
              "</tbody>\n",
              "</table>\n"
            ],
            "text/markdown": "\nA matrix: 165 × 16 of type chr\n\n| <!--/--> | Package | LibPath | Version | Priority | Depends | Imports | LinkingTo | Suggests | Enhances | License | License_is_FOSS | License_restricts_use | OS_type | MD5sum | NeedsCompilation | Built |\n|---|---|---|---|---|---|---|---|---|---|---|---|---|---|---|---|---|\n| dslabs | dslabs      | /usr/local/lib/R/site-library | 0.8.0  | NA | R (&gt;= 3.5.0)                                        | ggplot2                                                                                                                                                                                                                                                                                                                                                                                                                                                                                                                                                                                                     | NA | NA                                                                                                                                                                                                                                                                                                                                                                                                                                                                                                                                                                                                                                                                                                                                                                  | NA                                                           | Artistic-2.0                | NA | NA | NA | NA | no  | 4.3.3 |\n| IRdisplay | IRdisplay   | /usr/local/lib/R/site-library | 1.1    | NA | R (&gt;= 3.0.1)                                        | methods, repr                                                                                                                                                                                                                                                                                                                                                                                                                                                                                                                                                                                               | NA | testthat, withr                                                                                                                                                                                                                                                                                                                                                                                                                                                                                                                                                                                                                                                                                                                                                     | NA                                                           | MIT + file LICENSE          | NA | NA | NA | NA | no  | 4.3.3 |\n| IRkernel | IRkernel    | /usr/local/lib/R/site-library | 1.3.2  | NA | R (&gt;= 3.2.0)                                        | repr (&gt;= 0.4.99), methods, evaluate (&gt;= 0.10), IRdisplay (&gt;=\n0.3.0.9999), pbdZMQ (&gt;= 0.2-1), crayon, jsonlite (&gt;= 0.9.6),\nuuid, digest                                                                                                                                                                                                                                                                                                                                                                                                                                                                    | NA | testthat, roxygen2                                                                                                                                                                                                                                                                                                                                                                                                                                                                                                                                                                                                                                                                                                                                                  | NA                                                           | MIT + file LICENSE          | NA | NA | NA | NA | no  | 4.3.3 |\n| pbdZMQ | pbdZMQ      | /usr/local/lib/R/site-library | 0.3-11 | NA | R (&gt;= 3.5.0)                                        | NA                                                                                                                                                                                                                                                                                                                                                                                                                                                                                                                                                                                                          | NA | NA                                                                                                                                                                                                                                                                                                                                                                                                                                                                                                                                                                                                                                                                                                                                                                  | NA                                                           | GPL-3                       | NA | NA | NA | NA | yes | 4.3.3 |\n| repr | repr        | /usr/local/lib/R/site-library | 1.1.7  | NA | R (&gt;= 3.0.1)                                        | utils, grDevices, htmltools, jsonlite, pillar (&gt;= 1.4.0),\nbase64enc                                                                                                                                                                                                                                                                                                                                                                                                                                                                                                                                        | NA | methods, highr, Cairo, stringr, testthat (&gt;= 3.0.0), leaflet                                                                                                                                                                                                                                                                                                                                                                                                                                                                                                                                                                                                                                                                                                        | data.table, tibble, htmlwidgets, vegalite, plotly, geojsonio | GPL (&gt;= 3)                  | NA | NA | NA | NA | no  | 4.3.3 |\n| tidyverse | tidyverse   | /usr/local/lib/R/site-library | 2.0.0  | NA | R (&gt;= 3.3)                                          | broom (&gt;= 1.0.3), conflicted (&gt;= 1.2.0), cli (&gt;= 3.6.0),\ndbplyr (&gt;= 2.3.0), dplyr (&gt;= 1.1.0), dtplyr (&gt;= 1.2.2), forcats\n(&gt;= 1.0.0), ggplot2 (&gt;= 3.4.1), googledrive (&gt;= 2.0.0),\ngooglesheets4 (&gt;= 1.0.1), haven (&gt;= 2.5.1), hms (&gt;= 1.1.2),\nhttr (&gt;= 1.4.4), jsonlite (&gt;= 1.8.4), lubridate (&gt;= 1.9.2),\nmagrittr (&gt;= 2.0.3), modelr (&gt;= 0.1.10), pillar (&gt;= 1.8.1),\npurrr (&gt;= 1.0.1), ragg (&gt;= 1.2.5), readr (&gt;= 2.1.4), readxl (&gt;=\n1.4.2), reprex (&gt;= 2.0.2), rlang (&gt;= 1.0.6), rstudioapi (&gt;=\n0.14), rvest (&gt;= 1.0.3), stringr (&gt;= 1.5.0), tibble (&gt;= 3.1.8),\ntidyr (&gt;= 1.3.0), xml2 (&gt;= 1.3.3) | NA | covr (&gt;= 3.6.1), feather (&gt;= 0.3.5), glue (&gt;= 1.6.2), mockr\n(&gt;= 0.2.0), knitr (&gt;= 1.41), rmarkdown (&gt;= 2.20), testthat (&gt;=\n3.1.6)                                                                                                                                                                                                                                                                                                                                                                                                                                                                                                                                                                                                                                 | NA                                                           | MIT + file LICENSE          | NA | NA | NA | NA | no  | 4.3.3 |\n| askpass | askpass     | /usr/lib/R/site-library       | 1.2.0  | NA | NA                                                  | sys (&gt;= 2.1)                                                                                                                                                                                                                                                                                                                                                                                                                                                                                                                                                                                                | NA | testthat                                                                                                                                                                                                                                                                                                                                                                                                                                                                                                                                                                                                                                                                                                                                                            | NA                                                           | MIT + file LICENSE          | NA | NA | NA | NA | yes | 4.3.1 |\n| backports | backports   | /usr/lib/R/site-library       | 1.4.1  | NA | R (&gt;= 3.0.0)                                        | NA                                                                                                                                                                                                                                                                                                                                                                                                                                                                                                                                                                                                          | NA | NA                                                                                                                                                                                                                                                                                                                                                                                                                                                                                                                                                                                                                                                                                                                                                                  | NA                                                           | GPL-2 | GPL-3               | NA | NA | NA | NA | yes | 4.2.0 |\n| base64enc | base64enc   | /usr/lib/R/site-library       | 0.1-3  | NA | R (&gt;= 2.9.0)                                        | NA                                                                                                                                                                                                                                                                                                                                                                                                                                                                                                                                                                                                          | NA | NA                                                                                                                                                                                                                                                                                                                                                                                                                                                                                                                                                                                                                                                                                                                                                                  | png                                                          | GPL-2 | GPL-3               | NA | NA | NA | NA | yes | 4.0.2 |\n| bit | bit         | /usr/lib/R/site-library       | 4.0.4  | NA | R (&gt;= 2.9.2)                                        | NA                                                                                                                                                                                                                                                                                                                                                                                                                                                                                                                                                                                                          | NA | testthat (&gt;= 0.11.0), roxygen2, knitr, rmarkdown,\nmicrobenchmark, bit64 (&gt;= 4.0.0), ff (&gt;= 4.0.0)                                                                                                                                                                                                                                                                                                                                                                                                                                                                                                                                                                                                                                                                  | NA                                                           | GPL-2 | GPL-3               | NA | NA | NA | NA | yes | 4.0.2 |\n| bit64 | bit64       | /usr/lib/R/site-library       | 4.0.5  | NA | R (&gt;= 3.0.1), bit (&gt;= 4.0.0), utils, methods, stats | NA                                                                                                                                                                                                                                                                                                                                                                                                                                                                                                                                                                                                          | NA | NA                                                                                                                                                                                                                                                                                                                                                                                                                                                                                                                                                                                                                                                                                                                                                                  | NA                                                           | GPL-2 | GPL-3               | NA | NA | NA | NA | yes | 4.2.0 |\n| blob | blob        | /usr/lib/R/site-library       | 1.2.4  | NA | NA                                                  | methods, rlang, vctrs (&gt;= 0.2.1)                                                                                                                                                                                                                                                                                                                                                                                                                                                                                                                                                                            | NA | covr, crayon, pillar (&gt;= 1.2.1), testthat                                                                                                                                                                                                                                                                                                                                                                                                                                                                                                                                                                                                                                                                                                                           | NA                                                           | MIT + file LICENSE          | NA | NA | NA | NA | no  | 4.2.3 |\n| brew | brew        | /usr/lib/R/site-library       | 1.0-10 | NA | NA                                                  | NA                                                                                                                                                                                                                                                                                                                                                                                                                                                                                                                                                                                                          | NA | testthat (&gt;= 3.0.0)                                                                                                                                                                                                                                                                                                                                                                                                                                                                                                                                                                                                                                                                                                                                                 | NA                                                           | GPL (&gt;= 2)                  | NA | NA | NA | NA | no  | 4.3.2 |\n| brio | brio        | /usr/lib/R/site-library       | 1.1.4  | NA | R (&gt;= 3.6)                                          | NA                                                                                                                                                                                                                                                                                                                                                                                                                                                                                                                                                                                                          | NA | covr, testthat (&gt;= 3.0.0)                                                                                                                                                                                                                                                                                                                                                                                                                                                                                                                                                                                                                                                                                                                                           | NA                                                           | MIT + file LICENSE          | NA | NA | NA | NA | yes | 4.3.2 |\n| broom | broom       | /usr/lib/R/site-library       | 1.0.5  | NA | R (&gt;= 3.5)                                          | backports, dplyr (&gt;= 1.0.0), ellipsis, generics (&gt;= 0.0.2),\nglue, lifecycle, purrr, rlang, stringr, tibble (&gt;= 3.0.0),\ntidyr (&gt;= 1.0.0)                                                                                                                                                                                                                                                                                                                                                                                                                                                                   | NA | AER, AUC, bbmle, betareg, biglm, binGroup, boot, btergm (&gt;=\n1.10.6), car, carData, caret, cluster, cmprsk, coda, covr, drc,\ne1071, emmeans, epiR, ergm (&gt;= 3.10.4), fixest (&gt;= 0.9.0), gam\n(&gt;= 1.15), gee, geepack, ggplot2, glmnet, glmnetUtils, gmm,\nHmisc, irlba, interp, joineRML, Kendall, knitr, ks, Lahman,\nlavaan, leaps, lfe, lm.beta, lme4, lmodel2, lmtest (&gt;= 0.9.38),\nlsmeans, maps, margins, MASS, mclust, mediation, metafor, mfx,\nmgcv, mlogit, modeldata, modeltests, muhaz, multcomp, network,\nnnet, orcutt (&gt;= 2.2), ordinal, plm, poLCA, psych, quantreg,\nrmarkdown, robust, robustbase, rsample, sandwich, sp, spdep (&gt;=\n1.1), spatialreg, speedglm, spelling, survey, survival,\nsystemfit, testthat (&gt;= 2.1.0), tseries, vars, zoo | NA                                                           | MIT + file LICENSE          | NA | NA | NA | NA | no  | 4.3.1 |\n| bslib | bslib       | /usr/lib/R/site-library       | 0.6.1  | NA | R (&gt;= 2.10)                                         | base64enc, cachem, grDevices, htmltools (&gt;= 0.5.7), jquerylib\n(&gt;= 0.1.3), jsonlite, lifecycle, memoise (&gt;= 2.0.1), mime,\nrlang, sass (&gt;= 0.4.0)                                                                                                                                                                                                                                                                                                                                                                                                                                                           | NA | bsicons, curl, fontawesome, ggplot2, knitr, magrittr,\nrappdirs, rmarkdown (&gt;= 2.7), shiny (&gt;= 1.8.0), testthat,\nthematic, withr                                                                                                                                                                                                                                                                                                                                                                                                                                                                                                                                                                                                                                   | NA                                                           | MIT + file LICENSE          | NA | NA | NA | NA | no  | 4.3.2 |\n| cachem | cachem      | /usr/lib/R/site-library       | 1.0.8  | NA | NA                                                  | rlang, fastmap (&gt;= 1.1.1)                                                                                                                                                                                                                                                                                                                                                                                                                                                                                                                                                                                   | NA | testthat                                                                                                                                                                                                                                                                                                                                                                                                                                                                                                                                                                                                                                                                                                                                                            | NA                                                           | MIT + file LICENSE          | NA | NA | NA | NA | yes | 4.3.0 |\n| callr | callr       | /usr/lib/R/site-library       | 3.7.3  | NA | R (&gt;= 3.4)                                          | processx (&gt;= 3.6.1), R6, utils                                                                                                                                                                                                                                                                                                                                                                                                                                                                                                                                                                              | NA | asciicast, cli (&gt;= 1.1.0), covr, mockery, ps, rprojroot,\nspelling, testthat (&gt;= 3.0.0), withr (&gt;= 2.3.0)                                                                                                                                                                                                                                                                                                                                                                                                                                                                                                                                                                                                                                                           | NA                                                           | MIT + file LICENSE          | NA | NA | NA | NA | no  | 4.2.2 |\n| cellranger | cellranger  | /usr/lib/R/site-library       | 1.1.0  | NA | R (&gt;= 3.0.0)                                        | rematch, tibble                                                                                                                                                                                                                                                                                                                                                                                                                                                                                                                                                                                             | NA | covr, testthat (&gt;= 1.0.0), knitr, rmarkdown                                                                                                                                                                                                                                                                                                                                                                                                                                                                                                                                                                                                                                                                                                                         | NA                                                           | MIT + file LICENSE          | NA | NA | NA | NA | no  | 4.0.1 |\n| cli | cli         | /usr/lib/R/site-library       | 3.6.2  | NA | R (&gt;= 3.4)                                          | utils                                                                                                                                                                                                                                                                                                                                                                                                                                                                                                                                                                                                       | NA | callr, covr, crayon, digest, glue (&gt;= 1.6.0), grDevices,\nhtmltools, htmlwidgets, knitr, methods, mockery, processx, ps\n(&gt;= 1.3.4.9000), rlang (&gt;= 1.0.2.9003), rmarkdown, rprojroot,\nrstudioapi, testthat, tibble, whoami, withr                                                                                                                                                                                                                                                                                                                                                                                                                                                                                                                                 | NA                                                           | MIT + file LICENSE          | NA | NA | NA | NA | yes | 4.3.2 |\n| clipr | clipr       | /usr/lib/R/site-library       | 0.8.0  | NA | NA                                                  | utils                                                                                                                                                                                                                                                                                                                                                                                                                                                                                                                                                                                                       | NA | covr, knitr, rmarkdown, rstudioapi (&gt;= 0.5), testthat (&gt;=\n2.0.0)                                                                                                                                                                                                                                                                                                                                                                                                                                                                                                                                                                                                                                                                                                   | NA                                                           | GPL-3                       | NA | NA | NA | NA | no  | 4.2.0 |\n| colorspace | colorspace  | /usr/lib/R/site-library       | 2.1-0  | NA | R (&gt;= 3.0.0), methods                               | graphics, grDevices, stats                                                                                                                                                                                                                                                                                                                                                                                                                                                                                                                                                                                  | NA | datasets, utils, KernSmooth, MASS, kernlab, mvtnorm, vcd,\ntcltk, shiny, shinyjs, ggplot2, dplyr, scales, grid, png, jpeg,\nknitr, rmarkdown, RColorBrewer, rcartocolor, scico, viridis,\nwesanderson                                                                                                                                                                                                                                                                                                                                                                                                                                                                                                                                                               | NA                                                           | BSD_3_clause + file LICENSE | NA | NA | NA | NA | yes | 4.2.2 |\n| commonmark | commonmark  | /usr/lib/R/site-library       | 1.9.1  | NA | NA                                                  | NA                                                                                                                                                                                                                                                                                                                                                                                                                                                                                                                                                                                                          | NA | curl, testthat, xml2                                                                                                                                                                                                                                                                                                                                                                                                                                                                                                                                                                                                                                                                                                                                                | NA                                                           | BSD_2_clause + file LICENSE | NA | NA | NA | NA | yes | 4.3.2 |\n| conflicted | conflicted  | /usr/lib/R/site-library       | 1.2.0  | NA | R (&gt;= 3.2)                                          | cli (&gt;= 3.4.0), memoise, rlang (&gt;= 1.0.0)                                                                                                                                                                                                                                                                                                                                                                                                                                                                                                                                                                   | NA | callr, covr, dplyr, Matrix, methods, pkgload, testthat (&gt;=\n3.0.0), withr                                                                                                                                                                                                                                                                                                                                                                                                                                                                                                                                                                                                                                                                                           | NA                                                           | MIT + file LICENSE          | NA | NA | NA | NA | no  | 4.2.2 |\n| cpp11 | cpp11       | /usr/lib/R/site-library       | 0.4.7  | NA | R (&gt;= 3.5.0)                                        | NA                                                                                                                                                                                                                                                                                                                                                                                                                                                                                                                                                                                                          | NA | bench, brio, callr, cli, covr, decor, desc, ggplot2, glue,\nknitr, lobstr, mockery, progress, rmarkdown, scales, Rcpp,\ntestthat (&gt;= 3.2.0), tibble, utils, vctrs, withr                                                                                                                                                                                                                                                                                                                                                                                                                                                                                                                                                                                            | NA                                                           | MIT + file LICENSE          | NA | NA | NA | NA | no  | 4.3.2 |\n| crayon | crayon      | /usr/lib/R/site-library       | 1.5.2  | NA | NA                                                  | grDevices, methods, utils                                                                                                                                                                                                                                                                                                                                                                                                                                                                                                                                                                                   | NA | mockery, rstudioapi, testthat, withr                                                                                                                                                                                                                                                                                                                                                                                                                                                                                                                                                                                                                                                                                                                                | NA                                                           | MIT + file LICENSE          | NA | NA | NA | NA | no  | 4.2.1 |\n| credentials | credentials | /usr/lib/R/site-library       | 2.0.1  | NA | NA                                                  | openssl (&gt;= 1.3), sys (&gt;= 2.1), curl, jsonlite, askpass                                                                                                                                                                                                                                                                                                                                                                                                                                                                                                                                                     | NA | testthat, knitr, rmarkdown                                                                                                                                                                                                                                                                                                                                                                                                                                                                                                                                                                                                                                                                                                                                          | NA                                                           | MIT + file LICENSE          | NA | NA | NA | NA | no  | 4.3.1 |\n| curl | curl        | /usr/lib/R/site-library       | 5.0.2  | NA | R (&gt;= 3.0.0)                                        | NA                                                                                                                                                                                                                                                                                                                                                                                                                                                                                                                                                                                                          | NA | spelling, testthat (&gt;= 1.0.0), knitr, jsonlite, rmarkdown,\nmagrittr, httpuv (&gt;= 1.4.4), webutils                                                                                                                                                                                                                                                                                                                                                                                                                                                                                                                                                                                                                                                                   | NA                                                           | MIT + file LICENSE          | NA | NA | NA | NA | yes | 4.3.1 |\n| data.table | data.table  | /usr/lib/R/site-library       | 1.15.0 | NA | R (&gt;= 3.1.0)                                        | methods                                                                                                                                                                                                                                                                                                                                                                                                                                                                                                                                                                                                     | NA | bit64 (&gt;= 4.0.0), bit (&gt;= 4.0.4), R.utils, xts, zoo (&gt;=\n1.8-1), yaml, knitr, markdown                                                                                                                                                                                                                                                                                                                                                                                                                                                                                                                                                                                                                                                                              | NA                                                           | MPL-2.0 | file LICENSE      | NA | NA | NA | NA | yes | 4.3.2 |\n| DBI | DBI         | /usr/lib/R/site-library       | 1.2.1  | NA | methods, R (&gt;= 3.0.0)                               | NA                                                                                                                                                                                                                                                                                                                                                                                                                                                                                                                                                                                                          | NA | arrow, blob, covr, DBItest, dbplyr, downlit, dplyr, glue,\nhms, knitr, magrittr, nanoarrow (&gt;= 0.3.0.1), RMariaDB,\nrmarkdown, rprojroot, RSQLite (&gt;= 1.1-2), testthat (&gt;= 3.0.0),\nvctrs, xml2                                                                                                                                                                                                                                                                                                                                                                                                                                                                                                                                                                     | NA                                                           | LGPL (&gt;= 2.1)               | NA | NA | NA | NA | no  | 4.3.2 |\n| ⋮ | ⋮ | ⋮ | ⋮ | ⋮ | ⋮ | ⋮ | ⋮ | ⋮ | ⋮ | ⋮ | ⋮ | ⋮ | ⋮ | ⋮ | ⋮ | ⋮ |\n| zip | zip        | /usr/lib/R/site-library | 2.3.0      | NA          | NA                                            | NA                                               | NA | covr, processx, R6, testthat, withr                                    | NA                               | MIT + file LICENSE        | NA | NA | NA | NA | yes | 4.3.0 |\n| base | base       | /usr/lib/R/library      | 4.3.3      | base        | NA                                            | NA                                               | NA | methods                                                                | NA                               | Part of R 4.3.3           | NA | NA | NA | NA | NA  | 4.3.3 |\n| boot | boot       | /usr/lib/R/library      | 1.3-30     | recommended | R (&gt;= 3.0.0), graphics, stats                 | NA                                               | NA | MASS, survival                                                         | NA                               | Unlimited                 | NA | NA | NA | NA | no  | 4.3.3 |\n| class | class      | /usr/lib/R/library      | 7.3-22     | recommended | R (&gt;= 3.0.0), stats, utils                    | MASS                                             | NA | NA                                                                     | NA                               | GPL-2 | GPL-3             | NA | NA | NA | NA | yes | 4.3.1 |\n| cluster | cluster    | /usr/lib/R/library      | 2.1.6      | recommended | R (&gt;= 3.5.0)                                  | graphics, grDevices, stats, utils                | NA | MASS, Matrix                                                           | mvoutlier, fpc, ellipse, sfsmisc | GPL (&gt;= 2)                | NA | NA | NA | NA | yes | 4.3.2 |\n| codetools | codetools  | /usr/lib/R/library      | 0.2-19     | recommended | R (&gt;= 2.1)                                    | NA                                               | NA | NA                                                                     | NA                               | GPL                       | NA | NA | NA | NA | no  | 4.2.2 |\n| compiler | compiler   | /usr/lib/R/library      | 4.3.3      | base        | NA                                            | NA                                               | NA | NA                                                                     | NA                               | Part of R 4.3.3           | NA | NA | NA | NA | NA  | 4.3.3 |\n| datasets | datasets   | /usr/lib/R/library      | 4.3.3      | base        | NA                                            | NA                                               | NA | NA                                                                     | NA                               | Part of R 4.3.3           | NA | NA | NA | NA | NA  | 4.3.3 |\n| foreign | foreign    | /usr/lib/R/library      | 0.8-86     | recommended | R (&gt;= 4.0.0)                                  | methods, utils, stats                            | NA | NA                                                                     | NA                               | GPL (&gt;= 2)                | NA | NA | NA | NA | yes | 4.3.2 |\n| graphics | graphics   | /usr/lib/R/library      | 4.3.3      | base        | NA                                            | grDevices                                        | NA | NA                                                                     | NA                               | Part of R 4.3.3           | NA | NA | NA | NA | yes | 4.3.3 |\n| grDevices | grDevices  | /usr/lib/R/library      | 4.3.3      | base        | NA                                            | NA                                               | NA | KernSmooth                                                             | NA                               | Part of R 4.3.3           | NA | NA | NA | NA | yes | 4.3.3 |\n| grid | grid       | /usr/lib/R/library      | 4.3.3      | base        | NA                                            | grDevices, utils                                 | NA | NA                                                                     | NA                               | Part of R 4.3.3           | NA | NA | NA | NA | yes | 4.3.3 |\n| KernSmooth | KernSmooth | /usr/lib/R/library      | 2.23-22    | recommended | R (&gt;= 2.5.0), stats                           | NA                                               | NA | MASS, carData                                                          | NA                               | Unlimited                 | NA | NA | NA | NA | yes | 4.3.1 |\n| lattice | lattice    | /usr/lib/R/library      | 0.22-5     | recommended | R (&gt;= 4.0.0)                                  | grid, grDevices, graphics, stats, utils          | NA | KernSmooth, MASS, latticeExtra, colorspace                             | chron, zoo                       | GPL (&gt;= 2)                | NA | NA | NA | NA | yes | 4.3.1 |\n| MASS | MASS       | /usr/lib/R/library      | 7.3-60.0.1 | recommended | R (&gt;= 4.0), grDevices, graphics, stats, utils | methods                                          | NA | lattice, nlme, nnet, survival                                          | NA                               | GPL-2 | GPL-3             | NA | NA | NA | NA | yes | 4.3.2 |\n| Matrix | Matrix     | /usr/lib/R/library      | 1.6-5      | recommended | R (&gt;= 3.5.0), methods                         | grDevices, graphics, grid, lattice, stats, utils | NA | MASS, datasets, sfsmisc, tools                                         | SparseM, graph                   | GPL (&gt;= 2) | file LICENCE | NA | NA | NA | NA | yes | 4.3.3 |\n| methods | methods    | /usr/lib/R/library      | 4.3.3      | base        | NA                                            | utils, stats                                     | NA | codetools                                                              | NA                               | Part of R 4.3.3           | NA | NA | NA | NA | yes | 4.3.3 |\n| mgcv | mgcv       | /usr/lib/R/library      | 1.9-1      | recommended | R (&gt;= 3.6.0), nlme (&gt;= 3.1-64)                | methods, stats, graphics, Matrix, splines, utils | NA | parallel, survival, MASS                                               | NA                               | GPL (&gt;= 2)                | NA | NA | NA | NA | yes | 4.3.2 |\n| nlme | nlme       | /usr/lib/R/library      | 3.1-163    | recommended | R (&gt;= 3.5.0)                                  | graphics, stats, utils, lattice                  | NA | Hmisc, MASS, SASmixed                                                  | NA                               | GPL (&gt;= 2)                | NA | NA | NA | NA | yes | 4.3.1 |\n| nnet | nnet       | /usr/lib/R/library      | 7.3-19     | recommended | R (&gt;= 3.0.0), stats, utils                    | NA                                               | NA | MASS                                                                   | NA                               | GPL-2 | GPL-3             | NA | NA | NA | NA | yes | 4.3.1 |\n| parallel | parallel   | /usr/lib/R/library      | 4.3.3      | base        | NA                                            | tools, compiler                                  | NA | methods                                                                | snow, Rmpi                       | Part of R 4.3.3           | NA | NA | NA | NA | yes | 4.3.3 |\n| rpart | rpart      | /usr/lib/R/library      | 4.1.23     | recommended | R (&gt;= 2.15.0), graphics, stats, grDevices     | NA                                               | NA | survival                                                               | NA                               | GPL-2 | GPL-3             | NA | NA | NA | NA | yes | 4.3.2 |\n| spatial | spatial    | /usr/lib/R/library      | 7.3-17     | recommended | R (&gt;= 3.0.0), graphics, stats, utils          | NA                                               | NA | MASS                                                                   | NA                               | GPL-2 | GPL-3             | NA | NA | NA | NA | yes | 4.3.1 |\n| splines | splines    | /usr/lib/R/library      | 4.3.3      | base        | NA                                            | graphics, stats                                  | NA | Matrix, methods                                                        | NA                               | Part of R 4.3.3           | NA | NA | NA | NA | yes | 4.3.3 |\n| stats | stats      | /usr/lib/R/library      | 4.3.3      | base        | NA                                            | utils, grDevices, graphics                       | NA | MASS, Matrix, SuppDists, methods, stats4                               | NA                               | Part of R 4.3.3           | NA | NA | NA | NA | yes | 4.3.3 |\n| stats4 | stats4     | /usr/lib/R/library      | 4.3.3      | base        | NA                                            | graphics, methods, stats                         | NA | NA                                                                     | NA                               | Part of R 4.3.3           | NA | NA | NA | NA | NA  | 4.3.3 |\n| survival | survival   | /usr/lib/R/library      | 3.5-8      | recommended | R (&gt;= 3.5.0)                                  | graphics, Matrix, methods, splines, stats, utils | NA | NA                                                                     | NA                               | LGPL (&gt;= 2)               | NA | NA | NA | NA | yes | 4.3.3 |\n| tcltk | tcltk      | /usr/lib/R/library      | 4.3.3      | base        | NA                                            | utils                                            | NA | NA                                                                     | NA                               | Part of R 4.3.3           | NA | NA | NA | NA | yes | 4.3.3 |\n| tools | tools      | /usr/lib/R/library      | 4.3.3      | base        | NA                                            | NA                                               | NA | codetools, methods, xml2, curl, commonmark, knitr, xfun,\nmathjaxr, V8 | NA                               | Part of R 4.3.3           | NA | NA | NA | NA | yes | 4.3.3 |\n| utils | utils      | /usr/lib/R/library      | 4.3.3      | base        | NA                                            | NA                                               | NA | methods, xml2, commonmark, knitr                                       | NA                               | Part of R 4.3.3           | NA | NA | NA | NA | yes | 4.3.3 |\n\n",
            "text/latex": "A matrix: 165 × 16 of type chr\n\\begin{tabular}{r|llllllllllllllll}\n  & Package & LibPath & Version & Priority & Depends & Imports & LinkingTo & Suggests & Enhances & License & License\\_is\\_FOSS & License\\_restricts\\_use & OS\\_type & MD5sum & NeedsCompilation & Built\\\\\n\\hline\n\tdslabs & dslabs      & /usr/local/lib/R/site-library & 0.8.0  & NA & R (>= 3.5.0)                                        & ggplot2                                                                                                                                                                                                                                                                                                                                                                                                                                                                                                                                                                                                     & NA & NA                                                                                                                                                                                                                                                                                                                                                                                                                                                                                                                                                                                                                                                                                                                                                                  & NA                                                           & Artistic-2.0                & NA & NA & NA & NA & no  & 4.3.3\\\\\n\tIRdisplay & IRdisplay   & /usr/local/lib/R/site-library & 1.1    & NA & R (>= 3.0.1)                                        & methods, repr                                                                                                                                                                                                                                                                                                                                                                                                                                                                                                                                                                                               & NA & testthat, withr                                                                                                                                                                                                                                                                                                                                                                                                                                                                                                                                                                                                                                                                                                                                                     & NA                                                           & MIT + file LICENSE          & NA & NA & NA & NA & no  & 4.3.3\\\\\n\tIRkernel & IRkernel    & /usr/local/lib/R/site-library & 1.3.2  & NA & R (>= 3.2.0)                                        & repr (>= 0.4.99), methods, evaluate (>= 0.10), IRdisplay (>=\n0.3.0.9999), pbdZMQ (>= 0.2-1), crayon, jsonlite (>= 0.9.6),\nuuid, digest                                                                                                                                                                                                                                                                                                                                                                                                                                                                    & NA & testthat, roxygen2                                                                                                                                                                                                                                                                                                                                                                                                                                                                                                                                                                                                                                                                                                                                                  & NA                                                           & MIT + file LICENSE          & NA & NA & NA & NA & no  & 4.3.3\\\\\n\tpbdZMQ & pbdZMQ      & /usr/local/lib/R/site-library & 0.3-11 & NA & R (>= 3.5.0)                                        & NA                                                                                                                                                                                                                                                                                                                                                                                                                                                                                                                                                                                                          & NA & NA                                                                                                                                                                                                                                                                                                                                                                                                                                                                                                                                                                                                                                                                                                                                                                  & NA                                                           & GPL-3                       & NA & NA & NA & NA & yes & 4.3.3\\\\\n\trepr & repr        & /usr/local/lib/R/site-library & 1.1.7  & NA & R (>= 3.0.1)                                        & utils, grDevices, htmltools, jsonlite, pillar (>= 1.4.0),\nbase64enc                                                                                                                                                                                                                                                                                                                                                                                                                                                                                                                                        & NA & methods, highr, Cairo, stringr, testthat (>= 3.0.0), leaflet                                                                                                                                                                                                                                                                                                                                                                                                                                                                                                                                                                                                                                                                                                        & data.table, tibble, htmlwidgets, vegalite, plotly, geojsonio & GPL (>= 3)                  & NA & NA & NA & NA & no  & 4.3.3\\\\\n\ttidyverse & tidyverse   & /usr/local/lib/R/site-library & 2.0.0  & NA & R (>= 3.3)                                          & broom (>= 1.0.3), conflicted (>= 1.2.0), cli (>= 3.6.0),\ndbplyr (>= 2.3.0), dplyr (>= 1.1.0), dtplyr (>= 1.2.2), forcats\n(>= 1.0.0), ggplot2 (>= 3.4.1), googledrive (>= 2.0.0),\ngooglesheets4 (>= 1.0.1), haven (>= 2.5.1), hms (>= 1.1.2),\nhttr (>= 1.4.4), jsonlite (>= 1.8.4), lubridate (>= 1.9.2),\nmagrittr (>= 2.0.3), modelr (>= 0.1.10), pillar (>= 1.8.1),\npurrr (>= 1.0.1), ragg (>= 1.2.5), readr (>= 2.1.4), readxl (>=\n1.4.2), reprex (>= 2.0.2), rlang (>= 1.0.6), rstudioapi (>=\n0.14), rvest (>= 1.0.3), stringr (>= 1.5.0), tibble (>= 3.1.8),\ntidyr (>= 1.3.0), xml2 (>= 1.3.3) & NA & covr (>= 3.6.1), feather (>= 0.3.5), glue (>= 1.6.2), mockr\n(>= 0.2.0), knitr (>= 1.41), rmarkdown (>= 2.20), testthat (>=\n3.1.6)                                                                                                                                                                                                                                                                                                                                                                                                                                                                                                                                                                                                                                 & NA                                                           & MIT + file LICENSE          & NA & NA & NA & NA & no  & 4.3.3\\\\\n\taskpass & askpass     & /usr/lib/R/site-library       & 1.2.0  & NA & NA                                                  & sys (>= 2.1)                                                                                                                                                                                                                                                                                                                                                                                                                                                                                                                                                                                                & NA & testthat                                                                                                                                                                                                                                                                                                                                                                                                                                                                                                                                                                                                                                                                                                                                                            & NA                                                           & MIT + file LICENSE          & NA & NA & NA & NA & yes & 4.3.1\\\\\n\tbackports & backports   & /usr/lib/R/site-library       & 1.4.1  & NA & R (>= 3.0.0)                                        & NA                                                                                                                                                                                                                                                                                                                                                                                                                                                                                                                                                                                                          & NA & NA                                                                                                                                                                                                                                                                                                                                                                                                                                                                                                                                                                                                                                                                                                                                                                  & NA                                                           & GPL-2 \\textbar{} GPL-3               & NA & NA & NA & NA & yes & 4.2.0\\\\\n\tbase64enc & base64enc   & /usr/lib/R/site-library       & 0.1-3  & NA & R (>= 2.9.0)                                        & NA                                                                                                                                                                                                                                                                                                                                                                                                                                                                                                                                                                                                          & NA & NA                                                                                                                                                                                                                                                                                                                                                                                                                                                                                                                                                                                                                                                                                                                                                                  & png                                                          & GPL-2 \\textbar{} GPL-3               & NA & NA & NA & NA & yes & 4.0.2\\\\\n\tbit & bit         & /usr/lib/R/site-library       & 4.0.4  & NA & R (>= 2.9.2)                                        & NA                                                                                                                                                                                                                                                                                                                                                                                                                                                                                                                                                                                                          & NA & testthat (>= 0.11.0), roxygen2, knitr, rmarkdown,\nmicrobenchmark, bit64 (>= 4.0.0), ff (>= 4.0.0)                                                                                                                                                                                                                                                                                                                                                                                                                                                                                                                                                                                                                                                                  & NA                                                           & GPL-2 \\textbar{} GPL-3               & NA & NA & NA & NA & yes & 4.0.2\\\\\n\tbit64 & bit64       & /usr/lib/R/site-library       & 4.0.5  & NA & R (>= 3.0.1), bit (>= 4.0.0), utils, methods, stats & NA                                                                                                                                                                                                                                                                                                                                                                                                                                                                                                                                                                                                          & NA & NA                                                                                                                                                                                                                                                                                                                                                                                                                                                                                                                                                                                                                                                                                                                                                                  & NA                                                           & GPL-2 \\textbar{} GPL-3               & NA & NA & NA & NA & yes & 4.2.0\\\\\n\tblob & blob        & /usr/lib/R/site-library       & 1.2.4  & NA & NA                                                  & methods, rlang, vctrs (>= 0.2.1)                                                                                                                                                                                                                                                                                                                                                                                                                                                                                                                                                                            & NA & covr, crayon, pillar (>= 1.2.1), testthat                                                                                                                                                                                                                                                                                                                                                                                                                                                                                                                                                                                                                                                                                                                           & NA                                                           & MIT + file LICENSE          & NA & NA & NA & NA & no  & 4.2.3\\\\\n\tbrew & brew        & /usr/lib/R/site-library       & 1.0-10 & NA & NA                                                  & NA                                                                                                                                                                                                                                                                                                                                                                                                                                                                                                                                                                                                          & NA & testthat (>= 3.0.0)                                                                                                                                                                                                                                                                                                                                                                                                                                                                                                                                                                                                                                                                                                                                                 & NA                                                           & GPL (>= 2)                  & NA & NA & NA & NA & no  & 4.3.2\\\\\n\tbrio & brio        & /usr/lib/R/site-library       & 1.1.4  & NA & R (>= 3.6)                                          & NA                                                                                                                                                                                                                                                                                                                                                                                                                                                                                                                                                                                                          & NA & covr, testthat (>= 3.0.0)                                                                                                                                                                                                                                                                                                                                                                                                                                                                                                                                                                                                                                                                                                                                           & NA                                                           & MIT + file LICENSE          & NA & NA & NA & NA & yes & 4.3.2\\\\\n\tbroom & broom       & /usr/lib/R/site-library       & 1.0.5  & NA & R (>= 3.5)                                          & backports, dplyr (>= 1.0.0), ellipsis, generics (>= 0.0.2),\nglue, lifecycle, purrr, rlang, stringr, tibble (>= 3.0.0),\ntidyr (>= 1.0.0)                                                                                                                                                                                                                                                                                                                                                                                                                                                                   & NA & AER, AUC, bbmle, betareg, biglm, binGroup, boot, btergm (>=\n1.10.6), car, carData, caret, cluster, cmprsk, coda, covr, drc,\ne1071, emmeans, epiR, ergm (>= 3.10.4), fixest (>= 0.9.0), gam\n(>= 1.15), gee, geepack, ggplot2, glmnet, glmnetUtils, gmm,\nHmisc, irlba, interp, joineRML, Kendall, knitr, ks, Lahman,\nlavaan, leaps, lfe, lm.beta, lme4, lmodel2, lmtest (>= 0.9.38),\nlsmeans, maps, margins, MASS, mclust, mediation, metafor, mfx,\nmgcv, mlogit, modeldata, modeltests, muhaz, multcomp, network,\nnnet, orcutt (>= 2.2), ordinal, plm, poLCA, psych, quantreg,\nrmarkdown, robust, robustbase, rsample, sandwich, sp, spdep (>=\n1.1), spatialreg, speedglm, spelling, survey, survival,\nsystemfit, testthat (>= 2.1.0), tseries, vars, zoo & NA                                                           & MIT + file LICENSE          & NA & NA & NA & NA & no  & 4.3.1\\\\\n\tbslib & bslib       & /usr/lib/R/site-library       & 0.6.1  & NA & R (>= 2.10)                                         & base64enc, cachem, grDevices, htmltools (>= 0.5.7), jquerylib\n(>= 0.1.3), jsonlite, lifecycle, memoise (>= 2.0.1), mime,\nrlang, sass (>= 0.4.0)                                                                                                                                                                                                                                                                                                                                                                                                                                                           & NA & bsicons, curl, fontawesome, ggplot2, knitr, magrittr,\nrappdirs, rmarkdown (>= 2.7), shiny (>= 1.8.0), testthat,\nthematic, withr                                                                                                                                                                                                                                                                                                                                                                                                                                                                                                                                                                                                                                   & NA                                                           & MIT + file LICENSE          & NA & NA & NA & NA & no  & 4.3.2\\\\\n\tcachem & cachem      & /usr/lib/R/site-library       & 1.0.8  & NA & NA                                                  & rlang, fastmap (>= 1.1.1)                                                                                                                                                                                                                                                                                                                                                                                                                                                                                                                                                                                   & NA & testthat                                                                                                                                                                                                                                                                                                                                                                                                                                                                                                                                                                                                                                                                                                                                                            & NA                                                           & MIT + file LICENSE          & NA & NA & NA & NA & yes & 4.3.0\\\\\n\tcallr & callr       & /usr/lib/R/site-library       & 3.7.3  & NA & R (>= 3.4)                                          & processx (>= 3.6.1), R6, utils                                                                                                                                                                                                                                                                                                                                                                                                                                                                                                                                                                              & NA & asciicast, cli (>= 1.1.0), covr, mockery, ps, rprojroot,\nspelling, testthat (>= 3.0.0), withr (>= 2.3.0)                                                                                                                                                                                                                                                                                                                                                                                                                                                                                                                                                                                                                                                           & NA                                                           & MIT + file LICENSE          & NA & NA & NA & NA & no  & 4.2.2\\\\\n\tcellranger & cellranger  & /usr/lib/R/site-library       & 1.1.0  & NA & R (>= 3.0.0)                                        & rematch, tibble                                                                                                                                                                                                                                                                                                                                                                                                                                                                                                                                                                                             & NA & covr, testthat (>= 1.0.0), knitr, rmarkdown                                                                                                                                                                                                                                                                                                                                                                                                                                                                                                                                                                                                                                                                                                                         & NA                                                           & MIT + file LICENSE          & NA & NA & NA & NA & no  & 4.0.1\\\\\n\tcli & cli         & /usr/lib/R/site-library       & 3.6.2  & NA & R (>= 3.4)                                          & utils                                                                                                                                                                                                                                                                                                                                                                                                                                                                                                                                                                                                       & NA & callr, covr, crayon, digest, glue (>= 1.6.0), grDevices,\nhtmltools, htmlwidgets, knitr, methods, mockery, processx, ps\n(>= 1.3.4.9000), rlang (>= 1.0.2.9003), rmarkdown, rprojroot,\nrstudioapi, testthat, tibble, whoami, withr                                                                                                                                                                                                                                                                                                                                                                                                                                                                                                                                 & NA                                                           & MIT + file LICENSE          & NA & NA & NA & NA & yes & 4.3.2\\\\\n\tclipr & clipr       & /usr/lib/R/site-library       & 0.8.0  & NA & NA                                                  & utils                                                                                                                                                                                                                                                                                                                                                                                                                                                                                                                                                                                                       & NA & covr, knitr, rmarkdown, rstudioapi (>= 0.5), testthat (>=\n2.0.0)                                                                                                                                                                                                                                                                                                                                                                                                                                                                                                                                                                                                                                                                                                   & NA                                                           & GPL-3                       & NA & NA & NA & NA & no  & 4.2.0\\\\\n\tcolorspace & colorspace  & /usr/lib/R/site-library       & 2.1-0  & NA & R (>= 3.0.0), methods                               & graphics, grDevices, stats                                                                                                                                                                                                                                                                                                                                                                                                                                                                                                                                                                                  & NA & datasets, utils, KernSmooth, MASS, kernlab, mvtnorm, vcd,\ntcltk, shiny, shinyjs, ggplot2, dplyr, scales, grid, png, jpeg,\nknitr, rmarkdown, RColorBrewer, rcartocolor, scico, viridis,\nwesanderson                                                                                                                                                                                                                                                                                                                                                                                                                                                                                                                                                               & NA                                                           & BSD\\_3\\_clause + file LICENSE & NA & NA & NA & NA & yes & 4.2.2\\\\\n\tcommonmark & commonmark  & /usr/lib/R/site-library       & 1.9.1  & NA & NA                                                  & NA                                                                                                                                                                                                                                                                                                                                                                                                                                                                                                                                                                                                          & NA & curl, testthat, xml2                                                                                                                                                                                                                                                                                                                                                                                                                                                                                                                                                                                                                                                                                                                                                & NA                                                           & BSD\\_2\\_clause + file LICENSE & NA & NA & NA & NA & yes & 4.3.2\\\\\n\tconflicted & conflicted  & /usr/lib/R/site-library       & 1.2.0  & NA & R (>= 3.2)                                          & cli (>= 3.4.0), memoise, rlang (>= 1.0.0)                                                                                                                                                                                                                                                                                                                                                                                                                                                                                                                                                                   & NA & callr, covr, dplyr, Matrix, methods, pkgload, testthat (>=\n3.0.0), withr                                                                                                                                                                                                                                                                                                                                                                                                                                                                                                                                                                                                                                                                                           & NA                                                           & MIT + file LICENSE          & NA & NA & NA & NA & no  & 4.2.2\\\\\n\tcpp11 & cpp11       & /usr/lib/R/site-library       & 0.4.7  & NA & R (>= 3.5.0)                                        & NA                                                                                                                                                                                                                                                                                                                                                                                                                                                                                                                                                                                                          & NA & bench, brio, callr, cli, covr, decor, desc, ggplot2, glue,\nknitr, lobstr, mockery, progress, rmarkdown, scales, Rcpp,\ntestthat (>= 3.2.0), tibble, utils, vctrs, withr                                                                                                                                                                                                                                                                                                                                                                                                                                                                                                                                                                                            & NA                                                           & MIT + file LICENSE          & NA & NA & NA & NA & no  & 4.3.2\\\\\n\tcrayon & crayon      & /usr/lib/R/site-library       & 1.5.2  & NA & NA                                                  & grDevices, methods, utils                                                                                                                                                                                                                                                                                                                                                                                                                                                                                                                                                                                   & NA & mockery, rstudioapi, testthat, withr                                                                                                                                                                                                                                                                                                                                                                                                                                                                                                                                                                                                                                                                                                                                & NA                                                           & MIT + file LICENSE          & NA & NA & NA & NA & no  & 4.2.1\\\\\n\tcredentials & credentials & /usr/lib/R/site-library       & 2.0.1  & NA & NA                                                  & openssl (>= 1.3), sys (>= 2.1), curl, jsonlite, askpass                                                                                                                                                                                                                                                                                                                                                                                                                                                                                                                                                     & NA & testthat, knitr, rmarkdown                                                                                                                                                                                                                                                                                                                                                                                                                                                                                                                                                                                                                                                                                                                                          & NA                                                           & MIT + file LICENSE          & NA & NA & NA & NA & no  & 4.3.1\\\\\n\tcurl & curl        & /usr/lib/R/site-library       & 5.0.2  & NA & R (>= 3.0.0)                                        & NA                                                                                                                                                                                                                                                                                                                                                                                                                                                                                                                                                                                                          & NA & spelling, testthat (>= 1.0.0), knitr, jsonlite, rmarkdown,\nmagrittr, httpuv (>= 1.4.4), webutils                                                                                                                                                                                                                                                                                                                                                                                                                                                                                                                                                                                                                                                                   & NA                                                           & MIT + file LICENSE          & NA & NA & NA & NA & yes & 4.3.1\\\\\n\tdata.table & data.table  & /usr/lib/R/site-library       & 1.15.0 & NA & R (>= 3.1.0)                                        & methods                                                                                                                                                                                                                                                                                                                                                                                                                                                                                                                                                                                                     & NA & bit64 (>= 4.0.0), bit (>= 4.0.4), R.utils, xts, zoo (>=\n1.8-1), yaml, knitr, markdown                                                                                                                                                                                                                                                                                                                                                                                                                                                                                                                                                                                                                                                                              & NA                                                           & MPL-2.0 \\textbar{} file LICENSE      & NA & NA & NA & NA & yes & 4.3.2\\\\\n\tDBI & DBI         & /usr/lib/R/site-library       & 1.2.1  & NA & methods, R (>= 3.0.0)                               & NA                                                                                                                                                                                                                                                                                                                                                                                                                                                                                                                                                                                                          & NA & arrow, blob, covr, DBItest, dbplyr, downlit, dplyr, glue,\nhms, knitr, magrittr, nanoarrow (>= 0.3.0.1), RMariaDB,\nrmarkdown, rprojroot, RSQLite (>= 1.1-2), testthat (>= 3.0.0),\nvctrs, xml2                                                                                                                                                                                                                                                                                                                                                                                                                                                                                                                                                                     & NA                                                           & LGPL (>= 2.1)               & NA & NA & NA & NA & no  & 4.3.2\\\\\n\t⋮ & ⋮ & ⋮ & ⋮ & ⋮ & ⋮ & ⋮ & ⋮ & ⋮ & ⋮ & ⋮ & ⋮ & ⋮ & ⋮ & ⋮ & ⋮ & ⋮\\\\\n\tzip & zip        & /usr/lib/R/site-library & 2.3.0      & NA          & NA                                            & NA                                               & NA & covr, processx, R6, testthat, withr                                    & NA                               & MIT + file LICENSE        & NA & NA & NA & NA & yes & 4.3.0\\\\\n\tbase & base       & /usr/lib/R/library      & 4.3.3      & base        & NA                                            & NA                                               & NA & methods                                                                & NA                               & Part of R 4.3.3           & NA & NA & NA & NA & NA  & 4.3.3\\\\\n\tboot & boot       & /usr/lib/R/library      & 1.3-30     & recommended & R (>= 3.0.0), graphics, stats                 & NA                                               & NA & MASS, survival                                                         & NA                               & Unlimited                 & NA & NA & NA & NA & no  & 4.3.3\\\\\n\tclass & class      & /usr/lib/R/library      & 7.3-22     & recommended & R (>= 3.0.0), stats, utils                    & MASS                                             & NA & NA                                                                     & NA                               & GPL-2 \\textbar{} GPL-3             & NA & NA & NA & NA & yes & 4.3.1\\\\\n\tcluster & cluster    & /usr/lib/R/library      & 2.1.6      & recommended & R (>= 3.5.0)                                  & graphics, grDevices, stats, utils                & NA & MASS, Matrix                                                           & mvoutlier, fpc, ellipse, sfsmisc & GPL (>= 2)                & NA & NA & NA & NA & yes & 4.3.2\\\\\n\tcodetools & codetools  & /usr/lib/R/library      & 0.2-19     & recommended & R (>= 2.1)                                    & NA                                               & NA & NA                                                                     & NA                               & GPL                       & NA & NA & NA & NA & no  & 4.2.2\\\\\n\tcompiler & compiler   & /usr/lib/R/library      & 4.3.3      & base        & NA                                            & NA                                               & NA & NA                                                                     & NA                               & Part of R 4.3.3           & NA & NA & NA & NA & NA  & 4.3.3\\\\\n\tdatasets & datasets   & /usr/lib/R/library      & 4.3.3      & base        & NA                                            & NA                                               & NA & NA                                                                     & NA                               & Part of R 4.3.3           & NA & NA & NA & NA & NA  & 4.3.3\\\\\n\tforeign & foreign    & /usr/lib/R/library      & 0.8-86     & recommended & R (>= 4.0.0)                                  & methods, utils, stats                            & NA & NA                                                                     & NA                               & GPL (>= 2)                & NA & NA & NA & NA & yes & 4.3.2\\\\\n\tgraphics & graphics   & /usr/lib/R/library      & 4.3.3      & base        & NA                                            & grDevices                                        & NA & NA                                                                     & NA                               & Part of R 4.3.3           & NA & NA & NA & NA & yes & 4.3.3\\\\\n\tgrDevices & grDevices  & /usr/lib/R/library      & 4.3.3      & base        & NA                                            & NA                                               & NA & KernSmooth                                                             & NA                               & Part of R 4.3.3           & NA & NA & NA & NA & yes & 4.3.3\\\\\n\tgrid & grid       & /usr/lib/R/library      & 4.3.3      & base        & NA                                            & grDevices, utils                                 & NA & NA                                                                     & NA                               & Part of R 4.3.3           & NA & NA & NA & NA & yes & 4.3.3\\\\\n\tKernSmooth & KernSmooth & /usr/lib/R/library      & 2.23-22    & recommended & R (>= 2.5.0), stats                           & NA                                               & NA & MASS, carData                                                          & NA                               & Unlimited                 & NA & NA & NA & NA & yes & 4.3.1\\\\\n\tlattice & lattice    & /usr/lib/R/library      & 0.22-5     & recommended & R (>= 4.0.0)                                  & grid, grDevices, graphics, stats, utils          & NA & KernSmooth, MASS, latticeExtra, colorspace                             & chron, zoo                       & GPL (>= 2)                & NA & NA & NA & NA & yes & 4.3.1\\\\\n\tMASS & MASS       & /usr/lib/R/library      & 7.3-60.0.1 & recommended & R (>= 4.0), grDevices, graphics, stats, utils & methods                                          & NA & lattice, nlme, nnet, survival                                          & NA                               & GPL-2 \\textbar{} GPL-3             & NA & NA & NA & NA & yes & 4.3.2\\\\\n\tMatrix & Matrix     & /usr/lib/R/library      & 1.6-5      & recommended & R (>= 3.5.0), methods                         & grDevices, graphics, grid, lattice, stats, utils & NA & MASS, datasets, sfsmisc, tools                                         & SparseM, graph                   & GPL (>= 2) \\textbar{} file LICENCE & NA & NA & NA & NA & yes & 4.3.3\\\\\n\tmethods & methods    & /usr/lib/R/library      & 4.3.3      & base        & NA                                            & utils, stats                                     & NA & codetools                                                              & NA                               & Part of R 4.3.3           & NA & NA & NA & NA & yes & 4.3.3\\\\\n\tmgcv & mgcv       & /usr/lib/R/library      & 1.9-1      & recommended & R (>= 3.6.0), nlme (>= 3.1-64)                & methods, stats, graphics, Matrix, splines, utils & NA & parallel, survival, MASS                                               & NA                               & GPL (>= 2)                & NA & NA & NA & NA & yes & 4.3.2\\\\\n\tnlme & nlme       & /usr/lib/R/library      & 3.1-163    & recommended & R (>= 3.5.0)                                  & graphics, stats, utils, lattice                  & NA & Hmisc, MASS, SASmixed                                                  & NA                               & GPL (>= 2)                & NA & NA & NA & NA & yes & 4.3.1\\\\\n\tnnet & nnet       & /usr/lib/R/library      & 7.3-19     & recommended & R (>= 3.0.0), stats, utils                    & NA                                               & NA & MASS                                                                   & NA                               & GPL-2 \\textbar{} GPL-3             & NA & NA & NA & NA & yes & 4.3.1\\\\\n\tparallel & parallel   & /usr/lib/R/library      & 4.3.3      & base        & NA                                            & tools, compiler                                  & NA & methods                                                                & snow, Rmpi                       & Part of R 4.3.3           & NA & NA & NA & NA & yes & 4.3.3\\\\\n\trpart & rpart      & /usr/lib/R/library      & 4.1.23     & recommended & R (>= 2.15.0), graphics, stats, grDevices     & NA                                               & NA & survival                                                               & NA                               & GPL-2 \\textbar{} GPL-3             & NA & NA & NA & NA & yes & 4.3.2\\\\\n\tspatial & spatial    & /usr/lib/R/library      & 7.3-17     & recommended & R (>= 3.0.0), graphics, stats, utils          & NA                                               & NA & MASS                                                                   & NA                               & GPL-2 \\textbar{} GPL-3             & NA & NA & NA & NA & yes & 4.3.1\\\\\n\tsplines & splines    & /usr/lib/R/library      & 4.3.3      & base        & NA                                            & graphics, stats                                  & NA & Matrix, methods                                                        & NA                               & Part of R 4.3.3           & NA & NA & NA & NA & yes & 4.3.3\\\\\n\tstats & stats      & /usr/lib/R/library      & 4.3.3      & base        & NA                                            & utils, grDevices, graphics                       & NA & MASS, Matrix, SuppDists, methods, stats4                               & NA                               & Part of R 4.3.3           & NA & NA & NA & NA & yes & 4.3.3\\\\\n\tstats4 & stats4     & /usr/lib/R/library      & 4.3.3      & base        & NA                                            & graphics, methods, stats                         & NA & NA                                                                     & NA                               & Part of R 4.3.3           & NA & NA & NA & NA & NA  & 4.3.3\\\\\n\tsurvival & survival   & /usr/lib/R/library      & 3.5-8      & recommended & R (>= 3.5.0)                                  & graphics, Matrix, methods, splines, stats, utils & NA & NA                                                                     & NA                               & LGPL (>= 2)               & NA & NA & NA & NA & yes & 4.3.3\\\\\n\ttcltk & tcltk      & /usr/lib/R/library      & 4.3.3      & base        & NA                                            & utils                                            & NA & NA                                                                     & NA                               & Part of R 4.3.3           & NA & NA & NA & NA & yes & 4.3.3\\\\\n\ttools & tools      & /usr/lib/R/library      & 4.3.3      & base        & NA                                            & NA                                               & NA & codetools, methods, xml2, curl, commonmark, knitr, xfun,\nmathjaxr, V8 & NA                               & Part of R 4.3.3           & NA & NA & NA & NA & yes & 4.3.3\\\\\n\tutils & utils      & /usr/lib/R/library      & 4.3.3      & base        & NA                                            & NA                                               & NA & methods, xml2, commonmark, knitr                                       & NA                               & Part of R 4.3.3           & NA & NA & NA & NA & yes & 4.3.3\\\\\n\\end{tabular}\n",
            "text/plain": [
              "            Package     LibPath                       Version    Priority   \n",
              "dslabs      dslabs      /usr/local/lib/R/site-library 0.8.0      NA         \n",
              "IRdisplay   IRdisplay   /usr/local/lib/R/site-library 1.1        NA         \n",
              "IRkernel    IRkernel    /usr/local/lib/R/site-library 1.3.2      NA         \n",
              "pbdZMQ      pbdZMQ      /usr/local/lib/R/site-library 0.3-11     NA         \n",
              "repr        repr        /usr/local/lib/R/site-library 1.1.7      NA         \n",
              "tidyverse   tidyverse   /usr/local/lib/R/site-library 2.0.0      NA         \n",
              "askpass     askpass     /usr/lib/R/site-library       1.2.0      NA         \n",
              "backports   backports   /usr/lib/R/site-library       1.4.1      NA         \n",
              "base64enc   base64enc   /usr/lib/R/site-library       0.1-3      NA         \n",
              "bit         bit         /usr/lib/R/site-library       4.0.4      NA         \n",
              "bit64       bit64       /usr/lib/R/site-library       4.0.5      NA         \n",
              "blob        blob        /usr/lib/R/site-library       1.2.4      NA         \n",
              "brew        brew        /usr/lib/R/site-library       1.0-10     NA         \n",
              "brio        brio        /usr/lib/R/site-library       1.1.4      NA         \n",
              "broom       broom       /usr/lib/R/site-library       1.0.5      NA         \n",
              "bslib       bslib       /usr/lib/R/site-library       0.6.1      NA         \n",
              "cachem      cachem      /usr/lib/R/site-library       1.0.8      NA         \n",
              "callr       callr       /usr/lib/R/site-library       3.7.3      NA         \n",
              "cellranger  cellranger  /usr/lib/R/site-library       1.1.0      NA         \n",
              "cli         cli         /usr/lib/R/site-library       3.6.2      NA         \n",
              "clipr       clipr       /usr/lib/R/site-library       0.8.0      NA         \n",
              "colorspace  colorspace  /usr/lib/R/site-library       2.1-0      NA         \n",
              "commonmark  commonmark  /usr/lib/R/site-library       1.9.1      NA         \n",
              "conflicted  conflicted  /usr/lib/R/site-library       1.2.0      NA         \n",
              "cpp11       cpp11       /usr/lib/R/site-library       0.4.7      NA         \n",
              "crayon      crayon      /usr/lib/R/site-library       1.5.2      NA         \n",
              "credentials credentials /usr/lib/R/site-library       2.0.1      NA         \n",
              "curl        curl        /usr/lib/R/site-library       5.0.2      NA         \n",
              "data.table  data.table  /usr/lib/R/site-library       1.15.0     NA         \n",
              "DBI         DBI         /usr/lib/R/site-library       1.2.1      NA         \n",
              "⋮           ⋮           ⋮                             ⋮          ⋮          \n",
              "zip         zip         /usr/lib/R/site-library       2.3.0      NA         \n",
              "base        base        /usr/lib/R/library            4.3.3      base       \n",
              "boot        boot        /usr/lib/R/library            1.3-30     recommended\n",
              "class       class       /usr/lib/R/library            7.3-22     recommended\n",
              "cluster     cluster     /usr/lib/R/library            2.1.6      recommended\n",
              "codetools   codetools   /usr/lib/R/library            0.2-19     recommended\n",
              "compiler    compiler    /usr/lib/R/library            4.3.3      base       \n",
              "datasets    datasets    /usr/lib/R/library            4.3.3      base       \n",
              "foreign     foreign     /usr/lib/R/library            0.8-86     recommended\n",
              "graphics    graphics    /usr/lib/R/library            4.3.3      base       \n",
              "grDevices   grDevices   /usr/lib/R/library            4.3.3      base       \n",
              "grid        grid        /usr/lib/R/library            4.3.3      base       \n",
              "KernSmooth  KernSmooth  /usr/lib/R/library            2.23-22    recommended\n",
              "lattice     lattice     /usr/lib/R/library            0.22-5     recommended\n",
              "MASS        MASS        /usr/lib/R/library            7.3-60.0.1 recommended\n",
              "Matrix      Matrix      /usr/lib/R/library            1.6-5      recommended\n",
              "methods     methods     /usr/lib/R/library            4.3.3      base       \n",
              "mgcv        mgcv        /usr/lib/R/library            1.9-1      recommended\n",
              "nlme        nlme        /usr/lib/R/library            3.1-163    recommended\n",
              "nnet        nnet        /usr/lib/R/library            7.3-19     recommended\n",
              "parallel    parallel    /usr/lib/R/library            4.3.3      base       \n",
              "rpart       rpart       /usr/lib/R/library            4.1.23     recommended\n",
              "spatial     spatial     /usr/lib/R/library            7.3-17     recommended\n",
              "splines     splines     /usr/lib/R/library            4.3.3      base       \n",
              "stats       stats       /usr/lib/R/library            4.3.3      base       \n",
              "stats4      stats4      /usr/lib/R/library            4.3.3      base       \n",
              "survival    survival    /usr/lib/R/library            3.5-8      recommended\n",
              "tcltk       tcltk       /usr/lib/R/library            4.3.3      base       \n",
              "tools       tools       /usr/lib/R/library            4.3.3      base       \n",
              "utils       utils       /usr/lib/R/library            4.3.3      base       \n",
              "            Depends                                            \n",
              "dslabs      R (>= 3.5.0)                                       \n",
              "IRdisplay   R (>= 3.0.1)                                       \n",
              "IRkernel    R (>= 3.2.0)                                       \n",
              "pbdZMQ      R (>= 3.5.0)                                       \n",
              "repr        R (>= 3.0.1)                                       \n",
              "tidyverse   R (>= 3.3)                                         \n",
              "askpass     NA                                                 \n",
              "backports   R (>= 3.0.0)                                       \n",
              "base64enc   R (>= 2.9.0)                                       \n",
              "bit         R (>= 2.9.2)                                       \n",
              "bit64       R (>= 3.0.1), bit (>= 4.0.0), utils, methods, stats\n",
              "blob        NA                                                 \n",
              "brew        NA                                                 \n",
              "brio        R (>= 3.6)                                         \n",
              "broom       R (>= 3.5)                                         \n",
              "bslib       R (>= 2.10)                                        \n",
              "cachem      NA                                                 \n",
              "callr       R (>= 3.4)                                         \n",
              "cellranger  R (>= 3.0.0)                                       \n",
              "cli         R (>= 3.4)                                         \n",
              "clipr       NA                                                 \n",
              "colorspace  R (>= 3.0.0), methods                              \n",
              "commonmark  NA                                                 \n",
              "conflicted  R (>= 3.2)                                         \n",
              "cpp11       R (>= 3.5.0)                                       \n",
              "crayon      NA                                                 \n",
              "credentials NA                                                 \n",
              "curl        R (>= 3.0.0)                                       \n",
              "data.table  R (>= 3.1.0)                                       \n",
              "DBI         methods, R (>= 3.0.0)                              \n",
              "⋮           ⋮                                                  \n",
              "zip         NA                                                 \n",
              "base        NA                                                 \n",
              "boot        R (>= 3.0.0), graphics, stats                      \n",
              "class       R (>= 3.0.0), stats, utils                         \n",
              "cluster     R (>= 3.5.0)                                       \n",
              "codetools   R (>= 2.1)                                         \n",
              "compiler    NA                                                 \n",
              "datasets    NA                                                 \n",
              "foreign     R (>= 4.0.0)                                       \n",
              "graphics    NA                                                 \n",
              "grDevices   NA                                                 \n",
              "grid        NA                                                 \n",
              "KernSmooth  R (>= 2.5.0), stats                                \n",
              "lattice     R (>= 4.0.0)                                       \n",
              "MASS        R (>= 4.0), grDevices, graphics, stats, utils      \n",
              "Matrix      R (>= 3.5.0), methods                              \n",
              "methods     NA                                                 \n",
              "mgcv        R (>= 3.6.0), nlme (>= 3.1-64)                     \n",
              "nlme        R (>= 3.5.0)                                       \n",
              "nnet        R (>= 3.0.0), stats, utils                         \n",
              "parallel    NA                                                 \n",
              "rpart       R (>= 2.15.0), graphics, stats, grDevices          \n",
              "spatial     R (>= 3.0.0), graphics, stats, utils               \n",
              "splines     NA                                                 \n",
              "stats       NA                                                 \n",
              "stats4      NA                                                 \n",
              "survival    R (>= 3.5.0)                                       \n",
              "tcltk       NA                                                 \n",
              "tools       NA                                                 \n",
              "utils       NA                                                 \n",
              "            Imports                                                                                                                                                                                                                                                                                                                                                                                                                                                                                                                                                                                                    \n",
              "dslabs      ggplot2                                                                                                                                                                                                                                                                                                                                                                                                                                                                                                                                                                                                    \n",
              "IRdisplay   methods, repr                                                                                                                                                                                                                                                                                                                                                                                                                                                                                                                                                                                              \n",
              "IRkernel    repr (>= 0.4.99), methods, evaluate (>= 0.10), IRdisplay (>=\\n0.3.0.9999), pbdZMQ (>= 0.2-1), crayon, jsonlite (>= 0.9.6),\\nuuid, digest                                                                                                                                                                                                                                                                                                                                                                                                                                                                   \n",
              "pbdZMQ      NA                                                                                                                                                                                                                                                                                                                                                                                                                                                                                                                                                                                                         \n",
              "repr        utils, grDevices, htmltools, jsonlite, pillar (>= 1.4.0),\\nbase64enc                                                                                                                                                                                                                                                                                                                                                                                                                                                                                                                                       \n",
              "tidyverse   broom (>= 1.0.3), conflicted (>= 1.2.0), cli (>= 3.6.0),\\ndbplyr (>= 2.3.0), dplyr (>= 1.1.0), dtplyr (>= 1.2.2), forcats\\n(>= 1.0.0), ggplot2 (>= 3.4.1), googledrive (>= 2.0.0),\\ngooglesheets4 (>= 1.0.1), haven (>= 2.5.1), hms (>= 1.1.2),\\nhttr (>= 1.4.4), jsonlite (>= 1.8.4), lubridate (>= 1.9.2),\\nmagrittr (>= 2.0.3), modelr (>= 0.1.10), pillar (>= 1.8.1),\\npurrr (>= 1.0.1), ragg (>= 1.2.5), readr (>= 2.1.4), readxl (>=\\n1.4.2), reprex (>= 2.0.2), rlang (>= 1.0.6), rstudioapi (>=\\n0.14), rvest (>= 1.0.3), stringr (>= 1.5.0), tibble (>= 3.1.8),\\ntidyr (>= 1.3.0), xml2 (>= 1.3.3)\n",
              "askpass     sys (>= 2.1)                                                                                                                                                                                                                                                                                                                                                                                                                                                                                                                                                                                               \n",
              "backports   NA                                                                                                                                                                                                                                                                                                                                                                                                                                                                                                                                                                                                         \n",
              "base64enc   NA                                                                                                                                                                                                                                                                                                                                                                                                                                                                                                                                                                                                         \n",
              "bit         NA                                                                                                                                                                                                                                                                                                                                                                                                                                                                                                                                                                                                         \n",
              "bit64       NA                                                                                                                                                                                                                                                                                                                                                                                                                                                                                                                                                                                                         \n",
              "blob        methods, rlang, vctrs (>= 0.2.1)                                                                                                                                                                                                                                                                                                                                                                                                                                                                                                                                                                           \n",
              "brew        NA                                                                                                                                                                                                                                                                                                                                                                                                                                                                                                                                                                                                         \n",
              "brio        NA                                                                                                                                                                                                                                                                                                                                                                                                                                                                                                                                                                                                         \n",
              "broom       backports, dplyr (>= 1.0.0), ellipsis, generics (>= 0.0.2),\\nglue, lifecycle, purrr, rlang, stringr, tibble (>= 3.0.0),\\ntidyr (>= 1.0.0)                                                                                                                                                                                                                                                                                                                                                                                                                                                                  \n",
              "bslib       base64enc, cachem, grDevices, htmltools (>= 0.5.7), jquerylib\\n(>= 0.1.3), jsonlite, lifecycle, memoise (>= 2.0.1), mime,\\nrlang, sass (>= 0.4.0)                                                                                                                                                                                                                                                                                                                                                                                                                                                          \n",
              "cachem      rlang, fastmap (>= 1.1.1)                                                                                                                                                                                                                                                                                                                                                                                                                                                                                                                                                                                  \n",
              "callr       processx (>= 3.6.1), R6, utils                                                                                                                                                                                                                                                                                                                                                                                                                                                                                                                                                                             \n",
              "cellranger  rematch, tibble                                                                                                                                                                                                                                                                                                                                                                                                                                                                                                                                                                                            \n",
              "cli         utils                                                                                                                                                                                                                                                                                                                                                                                                                                                                                                                                                                                                      \n",
              "clipr       utils                                                                                                                                                                                                                                                                                                                                                                                                                                                                                                                                                                                                      \n",
              "colorspace  graphics, grDevices, stats                                                                                                                                                                                                                                                                                                                                                                                                                                                                                                                                                                                 \n",
              "commonmark  NA                                                                                                                                                                                                                                                                                                                                                                                                                                                                                                                                                                                                         \n",
              "conflicted  cli (>= 3.4.0), memoise, rlang (>= 1.0.0)                                                                                                                                                                                                                                                                                                                                                                                                                                                                                                                                                                  \n",
              "cpp11       NA                                                                                                                                                                                                                                                                                                                                                                                                                                                                                                                                                                                                         \n",
              "crayon      grDevices, methods, utils                                                                                                                                                                                                                                                                                                                                                                                                                                                                                                                                                                                  \n",
              "credentials openssl (>= 1.3), sys (>= 2.1), curl, jsonlite, askpass                                                                                                                                                                                                                                                                                                                                                                                                                                                                                                                                                    \n",
              "curl        NA                                                                                                                                                                                                                                                                                                                                                                                                                                                                                                                                                                                                         \n",
              "data.table  methods                                                                                                                                                                                                                                                                                                                                                                                                                                                                                                                                                                                                    \n",
              "DBI         NA                                                                                                                                                                                                                                                                                                                                                                                                                                                                                                                                                                                                         \n",
              "⋮           ⋮                                                                                                                                                                                                                                                                                                                                                                                                                                                                                                                                                                                                          \n",
              "zip         NA                                                                                                                                                                                                                                                                                                                                                                                                                                                                                                                                                                                                         \n",
              "base        NA                                                                                                                                                                                                                                                                                                                                                                                                                                                                                                                                                                                                         \n",
              "boot        NA                                                                                                                                                                                                                                                                                                                                                                                                                                                                                                                                                                                                         \n",
              "class       MASS                                                                                                                                                                                                                                                                                                                                                                                                                                                                                                                                                                                                       \n",
              "cluster     graphics, grDevices, stats, utils                                                                                                                                                                                                                                                                                                                                                                                                                                                                                                                                                                          \n",
              "codetools   NA                                                                                                                                                                                                                                                                                                                                                                                                                                                                                                                                                                                                         \n",
              "compiler    NA                                                                                                                                                                                                                                                                                                                                                                                                                                                                                                                                                                                                         \n",
              "datasets    NA                                                                                                                                                                                                                                                                                                                                                                                                                                                                                                                                                                                                         \n",
              "foreign     methods, utils, stats                                                                                                                                                                                                                                                                                                                                                                                                                                                                                                                                                                                      \n",
              "graphics    grDevices                                                                                                                                                                                                                                                                                                                                                                                                                                                                                                                                                                                                  \n",
              "grDevices   NA                                                                                                                                                                                                                                                                                                                                                                                                                                                                                                                                                                                                         \n",
              "grid        grDevices, utils                                                                                                                                                                                                                                                                                                                                                                                                                                                                                                                                                                                           \n",
              "KernSmooth  NA                                                                                                                                                                                                                                                                                                                                                                                                                                                                                                                                                                                                         \n",
              "lattice     grid, grDevices, graphics, stats, utils                                                                                                                                                                                                                                                                                                                                                                                                                                                                                                                                                                    \n",
              "MASS        methods                                                                                                                                                                                                                                                                                                                                                                                                                                                                                                                                                                                                    \n",
              "Matrix      grDevices, graphics, grid, lattice, stats, utils                                                                                                                                                                                                                                                                                                                                                                                                                                                                                                                                                           \n",
              "methods     utils, stats                                                                                                                                                                                                                                                                                                                                                                                                                                                                                                                                                                                               \n",
              "mgcv        methods, stats, graphics, Matrix, splines, utils                                                                                                                                                                                                                                                                                                                                                                                                                                                                                                                                                           \n",
              "nlme        graphics, stats, utils, lattice                                                                                                                                                                                                                                                                                                                                                                                                                                                                                                                                                                            \n",
              "nnet        NA                                                                                                                                                                                                                                                                                                                                                                                                                                                                                                                                                                                                         \n",
              "parallel    tools, compiler                                                                                                                                                                                                                                                                                                                                                                                                                                                                                                                                                                                            \n",
              "rpart       NA                                                                                                                                                                                                                                                                                                                                                                                                                                                                                                                                                                                                         \n",
              "spatial     NA                                                                                                                                                                                                                                                                                                                                                                                                                                                                                                                                                                                                         \n",
              "splines     graphics, stats                                                                                                                                                                                                                                                                                                                                                                                                                                                                                                                                                                                            \n",
              "stats       utils, grDevices, graphics                                                                                                                                                                                                                                                                                                                                                                                                                                                                                                                                                                                 \n",
              "stats4      graphics, methods, stats                                                                                                                                                                                                                                                                                                                                                                                                                                                                                                                                                                                   \n",
              "survival    graphics, Matrix, methods, splines, stats, utils                                                                                                                                                                                                                                                                                                                                                                                                                                                                                                                                                           \n",
              "tcltk       utils                                                                                                                                                                                                                                                                                                                                                                                                                                                                                                                                                                                                      \n",
              "tools       NA                                                                                                                                                                                                                                                                                                                                                                                                                                                                                                                                                                                                         \n",
              "utils       NA                                                                                                                                                                                                                                                                                                                                                                                                                                                                                                                                                                                                         \n",
              "            LinkingTo\n",
              "dslabs      NA       \n",
              "IRdisplay   NA       \n",
              "IRkernel    NA       \n",
              "pbdZMQ      NA       \n",
              "repr        NA       \n",
              "tidyverse   NA       \n",
              "askpass     NA       \n",
              "backports   NA       \n",
              "base64enc   NA       \n",
              "bit         NA       \n",
              "bit64       NA       \n",
              "blob        NA       \n",
              "brew        NA       \n",
              "brio        NA       \n",
              "broom       NA       \n",
              "bslib       NA       \n",
              "cachem      NA       \n",
              "callr       NA       \n",
              "cellranger  NA       \n",
              "cli         NA       \n",
              "clipr       NA       \n",
              "colorspace  NA       \n",
              "commonmark  NA       \n",
              "conflicted  NA       \n",
              "cpp11       NA       \n",
              "crayon      NA       \n",
              "credentials NA       \n",
              "curl        NA       \n",
              "data.table  NA       \n",
              "DBI         NA       \n",
              "⋮           ⋮        \n",
              "zip         NA       \n",
              "base        NA       \n",
              "boot        NA       \n",
              "class       NA       \n",
              "cluster     NA       \n",
              "codetools   NA       \n",
              "compiler    NA       \n",
              "datasets    NA       \n",
              "foreign     NA       \n",
              "graphics    NA       \n",
              "grDevices   NA       \n",
              "grid        NA       \n",
              "KernSmooth  NA       \n",
              "lattice     NA       \n",
              "MASS        NA       \n",
              "Matrix      NA       \n",
              "methods     NA       \n",
              "mgcv        NA       \n",
              "nlme        NA       \n",
              "nnet        NA       \n",
              "parallel    NA       \n",
              "rpart       NA       \n",
              "spatial     NA       \n",
              "splines     NA       \n",
              "stats       NA       \n",
              "stats4      NA       \n",
              "survival    NA       \n",
              "tcltk       NA       \n",
              "tools       NA       \n",
              "utils       NA       \n",
              "            Suggests                                                                                                                                                                                                                                                                                                                                                                                                                                                                                                                                                                                                                                                                                                                                                           \n",
              "dslabs      NA                                                                                                                                                                                                                                                                                                                                                                                                                                                                                                                                                                                                                                                                                                                                                                 \n",
              "IRdisplay   testthat, withr                                                                                                                                                                                                                                                                                                                                                                                                                                                                                                                                                                                                                                                                                                                                                    \n",
              "IRkernel    testthat, roxygen2                                                                                                                                                                                                                                                                                                                                                                                                                                                                                                                                                                                                                                                                                                                                                 \n",
              "pbdZMQ      NA                                                                                                                                                                                                                                                                                                                                                                                                                                                                                                                                                                                                                                                                                                                                                                 \n",
              "repr        methods, highr, Cairo, stringr, testthat (>= 3.0.0), leaflet                                                                                                                                                                                                                                                                                                                                                                                                                                                                                                                                                                                                                                                                                                       \n",
              "tidyverse   covr (>= 3.6.1), feather (>= 0.3.5), glue (>= 1.6.2), mockr\\n(>= 0.2.0), knitr (>= 1.41), rmarkdown (>= 2.20), testthat (>=\\n3.1.6)                                                                                                                                                                                                                                                                                                                                                                                                                                                                                                                                                                                                                                \n",
              "askpass     testthat                                                                                                                                                                                                                                                                                                                                                                                                                                                                                                                                                                                                                                                                                                                                                           \n",
              "backports   NA                                                                                                                                                                                                                                                                                                                                                                                                                                                                                                                                                                                                                                                                                                                                                                 \n",
              "base64enc   NA                                                                                                                                                                                                                                                                                                                                                                                                                                                                                                                                                                                                                                                                                                                                                                 \n",
              "bit         testthat (>= 0.11.0), roxygen2, knitr, rmarkdown,\\nmicrobenchmark, bit64 (>= 4.0.0), ff (>= 4.0.0)                                                                                                                                                                                                                                                                                                                                                                                                                                                                                                                                                                                                                                                                 \n",
              "bit64       NA                                                                                                                                                                                                                                                                                                                                                                                                                                                                                                                                                                                                                                                                                                                                                                 \n",
              "blob        covr, crayon, pillar (>= 1.2.1), testthat                                                                                                                                                                                                                                                                                                                                                                                                                                                                                                                                                                                                                                                                                                                          \n",
              "brew        testthat (>= 3.0.0)                                                                                                                                                                                                                                                                                                                                                                                                                                                                                                                                                                                                                                                                                                                                                \n",
              "brio        covr, testthat (>= 3.0.0)                                                                                                                                                                                                                                                                                                                                                                                                                                                                                                                                                                                                                                                                                                                                          \n",
              "broom       AER, AUC, bbmle, betareg, biglm, binGroup, boot, btergm (>=\\n1.10.6), car, carData, caret, cluster, cmprsk, coda, covr, drc,\\ne1071, emmeans, epiR, ergm (>= 3.10.4), fixest (>= 0.9.0), gam\\n(>= 1.15), gee, geepack, ggplot2, glmnet, glmnetUtils, gmm,\\nHmisc, irlba, interp, joineRML, Kendall, knitr, ks, Lahman,\\nlavaan, leaps, lfe, lm.beta, lme4, lmodel2, lmtest (>= 0.9.38),\\nlsmeans, maps, margins, MASS, mclust, mediation, metafor, mfx,\\nmgcv, mlogit, modeldata, modeltests, muhaz, multcomp, network,\\nnnet, orcutt (>= 2.2), ordinal, plm, poLCA, psych, quantreg,\\nrmarkdown, robust, robustbase, rsample, sandwich, sp, spdep (>=\\n1.1), spatialreg, speedglm, spelling, survey, survival,\\nsystemfit, testthat (>= 2.1.0), tseries, vars, zoo\n",
              "bslib       bsicons, curl, fontawesome, ggplot2, knitr, magrittr,\\nrappdirs, rmarkdown (>= 2.7), shiny (>= 1.8.0), testthat,\\nthematic, withr                                                                                                                                                                                                                                                                                                                                                                                                                                                                                                                                                                                                                                  \n",
              "cachem      testthat                                                                                                                                                                                                                                                                                                                                                                                                                                                                                                                                                                                                                                                                                                                                                           \n",
              "callr       asciicast, cli (>= 1.1.0), covr, mockery, ps, rprojroot,\\nspelling, testthat (>= 3.0.0), withr (>= 2.3.0)                                                                                                                                                                                                                                                                                                                                                                                                                                                                                                                                                                                                                                                          \n",
              "cellranger  covr, testthat (>= 1.0.0), knitr, rmarkdown                                                                                                                                                                                                                                                                                                                                                                                                                                                                                                                                                                                                                                                                                                                        \n",
              "cli         callr, covr, crayon, digest, glue (>= 1.6.0), grDevices,\\nhtmltools, htmlwidgets, knitr, methods, mockery, processx, ps\\n(>= 1.3.4.9000), rlang (>= 1.0.2.9003), rmarkdown, rprojroot,\\nrstudioapi, testthat, tibble, whoami, withr                                                                                                                                                                                                                                                                                                                                                                                                                                                                                                                                \n",
              "clipr       covr, knitr, rmarkdown, rstudioapi (>= 0.5), testthat (>=\\n2.0.0)                                                                                                                                                                                                                                                                                                                                                                                                                                                                                                                                                                                                                                                                                                  \n",
              "colorspace  datasets, utils, KernSmooth, MASS, kernlab, mvtnorm, vcd,\\ntcltk, shiny, shinyjs, ggplot2, dplyr, scales, grid, png, jpeg,\\nknitr, rmarkdown, RColorBrewer, rcartocolor, scico, viridis,\\nwesanderson                                                                                                                                                                                                                                                                                                                                                                                                                                                                                                                                                              \n",
              "commonmark  curl, testthat, xml2                                                                                                                                                                                                                                                                                                                                                                                                                                                                                                                                                                                                                                                                                                                                               \n",
              "conflicted  callr, covr, dplyr, Matrix, methods, pkgload, testthat (>=\\n3.0.0), withr                                                                                                                                                                                                                                                                                                                                                                                                                                                                                                                                                                                                                                                                                          \n",
              "cpp11       bench, brio, callr, cli, covr, decor, desc, ggplot2, glue,\\nknitr, lobstr, mockery, progress, rmarkdown, scales, Rcpp,\\ntestthat (>= 3.2.0), tibble, utils, vctrs, withr                                                                                                                                                                                                                                                                                                                                                                                                                                                                                                                                                                                           \n",
              "crayon      mockery, rstudioapi, testthat, withr                                                                                                                                                                                                                                                                                                                                                                                                                                                                                                                                                                                                                                                                                                                               \n",
              "credentials testthat, knitr, rmarkdown                                                                                                                                                                                                                                                                                                                                                                                                                                                                                                                                                                                                                                                                                                                                         \n",
              "curl        spelling, testthat (>= 1.0.0), knitr, jsonlite, rmarkdown,\\nmagrittr, httpuv (>= 1.4.4), webutils                                                                                                                                                                                                                                                                                                                                                                                                                                                                                                                                                                                                                                                                  \n",
              "data.table  bit64 (>= 4.0.0), bit (>= 4.0.4), R.utils, xts, zoo (>=\\n1.8-1), yaml, knitr, markdown                                                                                                                                                                                                                                                                                                                                                                                                                                                                                                                                                                                                                                                                             \n",
              "DBI         arrow, blob, covr, DBItest, dbplyr, downlit, dplyr, glue,\\nhms, knitr, magrittr, nanoarrow (>= 0.3.0.1), RMariaDB,\\nrmarkdown, rprojroot, RSQLite (>= 1.1-2), testthat (>= 3.0.0),\\nvctrs, xml2                                                                                                                                                                                                                                                                                                                                                                                                                                                                                                                                                                    \n",
              "⋮           ⋮                                                                                                                                                                                                                                                                                                                                                                                                                                                                                                                                                                                                                                                                                                                                                                  \n",
              "zip         covr, processx, R6, testthat, withr                                                                                                                                                                                                                                                                                                                                                                                                                                                                                                                                                                                                                                                                                                                                \n",
              "base        methods                                                                                                                                                                                                                                                                                                                                                                                                                                                                                                                                                                                                                                                                                                                                                            \n",
              "boot        MASS, survival                                                                                                                                                                                                                                                                                                                                                                                                                                                                                                                                                                                                                                                                                                                                                     \n",
              "class       NA                                                                                                                                                                                                                                                                                                                                                                                                                                                                                                                                                                                                                                                                                                                                                                 \n",
              "cluster     MASS, Matrix                                                                                                                                                                                                                                                                                                                                                                                                                                                                                                                                                                                                                                                                                                                                                       \n",
              "codetools   NA                                                                                                                                                                                                                                                                                                                                                                                                                                                                                                                                                                                                                                                                                                                                                                 \n",
              "compiler    NA                                                                                                                                                                                                                                                                                                                                                                                                                                                                                                                                                                                                                                                                                                                                                                 \n",
              "datasets    NA                                                                                                                                                                                                                                                                                                                                                                                                                                                                                                                                                                                                                                                                                                                                                                 \n",
              "foreign     NA                                                                                                                                                                                                                                                                                                                                                                                                                                                                                                                                                                                                                                                                                                                                                                 \n",
              "graphics    NA                                                                                                                                                                                                                                                                                                                                                                                                                                                                                                                                                                                                                                                                                                                                                                 \n",
              "grDevices   KernSmooth                                                                                                                                                                                                                                                                                                                                                                                                                                                                                                                                                                                                                                                                                                                                                         \n",
              "grid        NA                                                                                                                                                                                                                                                                                                                                                                                                                                                                                                                                                                                                                                                                                                                                                                 \n",
              "KernSmooth  MASS, carData                                                                                                                                                                                                                                                                                                                                                                                                                                                                                                                                                                                                                                                                                                                                                      \n",
              "lattice     KernSmooth, MASS, latticeExtra, colorspace                                                                                                                                                                                                                                                                                                                                                                                                                                                                                                                                                                                                                                                                                                                         \n",
              "MASS        lattice, nlme, nnet, survival                                                                                                                                                                                                                                                                                                                                                                                                                                                                                                                                                                                                                                                                                                                                      \n",
              "Matrix      MASS, datasets, sfsmisc, tools                                                                                                                                                                                                                                                                                                                                                                                                                                                                                                                                                                                                                                                                                                                                     \n",
              "methods     codetools                                                                                                                                                                                                                                                                                                                                                                                                                                                                                                                                                                                                                                                                                                                                                          \n",
              "mgcv        parallel, survival, MASS                                                                                                                                                                                                                                                                                                                                                                                                                                                                                                                                                                                                                                                                                                                                           \n",
              "nlme        Hmisc, MASS, SASmixed                                                                                                                                                                                                                                                                                                                                                                                                                                                                                                                                                                                                                                                                                                                                              \n",
              "nnet        MASS                                                                                                                                                                                                                                                                                                                                                                                                                                                                                                                                                                                                                                                                                                                                                               \n",
              "parallel    methods                                                                                                                                                                                                                                                                                                                                                                                                                                                                                                                                                                                                                                                                                                                                                            \n",
              "rpart       survival                                                                                                                                                                                                                                                                                                                                                                                                                                                                                                                                                                                                                                                                                                                                                           \n",
              "spatial     MASS                                                                                                                                                                                                                                                                                                                                                                                                                                                                                                                                                                                                                                                                                                                                                               \n",
              "splines     Matrix, methods                                                                                                                                                                                                                                                                                                                                                                                                                                                                                                                                                                                                                                                                                                                                                    \n",
              "stats       MASS, Matrix, SuppDists, methods, stats4                                                                                                                                                                                                                                                                                                                                                                                                                                                                                                                                                                                                                                                                                                                           \n",
              "stats4      NA                                                                                                                                                                                                                                                                                                                                                                                                                                                                                                                                                                                                                                                                                                                                                                 \n",
              "survival    NA                                                                                                                                                                                                                                                                                                                                                                                                                                                                                                                                                                                                                                                                                                                                                                 \n",
              "tcltk       NA                                                                                                                                                                                                                                                                                                                                                                                                                                                                                                                                                                                                                                                                                                                                                                 \n",
              "tools       codetools, methods, xml2, curl, commonmark, knitr, xfun,\\nmathjaxr, V8                                                                                                                                                                                                                                                                                                                                                                                                                                                                                                                                                                                                                                                                                             \n",
              "utils       methods, xml2, commonmark, knitr                                                                                                                                                                                                                                                                                                                                                                                                                                                                                                                                                                                                                                                                                                                                   \n",
              "            Enhances                                                    \n",
              "dslabs      NA                                                          \n",
              "IRdisplay   NA                                                          \n",
              "IRkernel    NA                                                          \n",
              "pbdZMQ      NA                                                          \n",
              "repr        data.table, tibble, htmlwidgets, vegalite, plotly, geojsonio\n",
              "tidyverse   NA                                                          \n",
              "askpass     NA                                                          \n",
              "backports   NA                                                          \n",
              "base64enc   png                                                         \n",
              "bit         NA                                                          \n",
              "bit64       NA                                                          \n",
              "blob        NA                                                          \n",
              "brew        NA                                                          \n",
              "brio        NA                                                          \n",
              "broom       NA                                                          \n",
              "bslib       NA                                                          \n",
              "cachem      NA                                                          \n",
              "callr       NA                                                          \n",
              "cellranger  NA                                                          \n",
              "cli         NA                                                          \n",
              "clipr       NA                                                          \n",
              "colorspace  NA                                                          \n",
              "commonmark  NA                                                          \n",
              "conflicted  NA                                                          \n",
              "cpp11       NA                                                          \n",
              "crayon      NA                                                          \n",
              "credentials NA                                                          \n",
              "curl        NA                                                          \n",
              "data.table  NA                                                          \n",
              "DBI         NA                                                          \n",
              "⋮           ⋮                                                           \n",
              "zip         NA                                                          \n",
              "base        NA                                                          \n",
              "boot        NA                                                          \n",
              "class       NA                                                          \n",
              "cluster     mvoutlier, fpc, ellipse, sfsmisc                            \n",
              "codetools   NA                                                          \n",
              "compiler    NA                                                          \n",
              "datasets    NA                                                          \n",
              "foreign     NA                                                          \n",
              "graphics    NA                                                          \n",
              "grDevices   NA                                                          \n",
              "grid        NA                                                          \n",
              "KernSmooth  NA                                                          \n",
              "lattice     chron, zoo                                                  \n",
              "MASS        NA                                                          \n",
              "Matrix      SparseM, graph                                              \n",
              "methods     NA                                                          \n",
              "mgcv        NA                                                          \n",
              "nlme        NA                                                          \n",
              "nnet        NA                                                          \n",
              "parallel    snow, Rmpi                                                  \n",
              "rpart       NA                                                          \n",
              "spatial     NA                                                          \n",
              "splines     NA                                                          \n",
              "stats       NA                                                          \n",
              "stats4      NA                                                          \n",
              "survival    NA                                                          \n",
              "tcltk       NA                                                          \n",
              "tools       NA                                                          \n",
              "utils       NA                                                          \n",
              "            License                     License_is_FOSS License_restricts_use\n",
              "dslabs      Artistic-2.0                NA              NA                   \n",
              "IRdisplay   MIT + file LICENSE          NA              NA                   \n",
              "IRkernel    MIT + file LICENSE          NA              NA                   \n",
              "pbdZMQ      GPL-3                       NA              NA                   \n",
              "repr        GPL (>= 3)                  NA              NA                   \n",
              "tidyverse   MIT + file LICENSE          NA              NA                   \n",
              "askpass     MIT + file LICENSE          NA              NA                   \n",
              "backports   GPL-2 | GPL-3               NA              NA                   \n",
              "base64enc   GPL-2 | GPL-3               NA              NA                   \n",
              "bit         GPL-2 | GPL-3               NA              NA                   \n",
              "bit64       GPL-2 | GPL-3               NA              NA                   \n",
              "blob        MIT + file LICENSE          NA              NA                   \n",
              "brew        GPL (>= 2)                  NA              NA                   \n",
              "brio        MIT + file LICENSE          NA              NA                   \n",
              "broom       MIT + file LICENSE          NA              NA                   \n",
              "bslib       MIT + file LICENSE          NA              NA                   \n",
              "cachem      MIT + file LICENSE          NA              NA                   \n",
              "callr       MIT + file LICENSE          NA              NA                   \n",
              "cellranger  MIT + file LICENSE          NA              NA                   \n",
              "cli         MIT + file LICENSE          NA              NA                   \n",
              "clipr       GPL-3                       NA              NA                   \n",
              "colorspace  BSD_3_clause + file LICENSE NA              NA                   \n",
              "commonmark  BSD_2_clause + file LICENSE NA              NA                   \n",
              "conflicted  MIT + file LICENSE          NA              NA                   \n",
              "cpp11       MIT + file LICENSE          NA              NA                   \n",
              "crayon      MIT + file LICENSE          NA              NA                   \n",
              "credentials MIT + file LICENSE          NA              NA                   \n",
              "curl        MIT + file LICENSE          NA              NA                   \n",
              "data.table  MPL-2.0 | file LICENSE      NA              NA                   \n",
              "DBI         LGPL (>= 2.1)               NA              NA                   \n",
              "⋮           ⋮                           ⋮               ⋮                    \n",
              "zip         MIT + file LICENSE          NA              NA                   \n",
              "base        Part of R 4.3.3             NA              NA                   \n",
              "boot        Unlimited                   NA              NA                   \n",
              "class       GPL-2 | GPL-3               NA              NA                   \n",
              "cluster     GPL (>= 2)                  NA              NA                   \n",
              "codetools   GPL                         NA              NA                   \n",
              "compiler    Part of R 4.3.3             NA              NA                   \n",
              "datasets    Part of R 4.3.3             NA              NA                   \n",
              "foreign     GPL (>= 2)                  NA              NA                   \n",
              "graphics    Part of R 4.3.3             NA              NA                   \n",
              "grDevices   Part of R 4.3.3             NA              NA                   \n",
              "grid        Part of R 4.3.3             NA              NA                   \n",
              "KernSmooth  Unlimited                   NA              NA                   \n",
              "lattice     GPL (>= 2)                  NA              NA                   \n",
              "MASS        GPL-2 | GPL-3               NA              NA                   \n",
              "Matrix      GPL (>= 2) | file LICENCE   NA              NA                   \n",
              "methods     Part of R 4.3.3             NA              NA                   \n",
              "mgcv        GPL (>= 2)                  NA              NA                   \n",
              "nlme        GPL (>= 2)                  NA              NA                   \n",
              "nnet        GPL-2 | GPL-3               NA              NA                   \n",
              "parallel    Part of R 4.3.3             NA              NA                   \n",
              "rpart       GPL-2 | GPL-3               NA              NA                   \n",
              "spatial     GPL-2 | GPL-3               NA              NA                   \n",
              "splines     Part of R 4.3.3             NA              NA                   \n",
              "stats       Part of R 4.3.3             NA              NA                   \n",
              "stats4      Part of R 4.3.3             NA              NA                   \n",
              "survival    LGPL (>= 2)                 NA              NA                   \n",
              "tcltk       Part of R 4.3.3             NA              NA                   \n",
              "tools       Part of R 4.3.3             NA              NA                   \n",
              "utils       Part of R 4.3.3             NA              NA                   \n",
              "            OS_type MD5sum NeedsCompilation Built\n",
              "dslabs      NA      NA     no               4.3.3\n",
              "IRdisplay   NA      NA     no               4.3.3\n",
              "IRkernel    NA      NA     no               4.3.3\n",
              "pbdZMQ      NA      NA     yes              4.3.3\n",
              "repr        NA      NA     no               4.3.3\n",
              "tidyverse   NA      NA     no               4.3.3\n",
              "askpass     NA      NA     yes              4.3.1\n",
              "backports   NA      NA     yes              4.2.0\n",
              "base64enc   NA      NA     yes              4.0.2\n",
              "bit         NA      NA     yes              4.0.2\n",
              "bit64       NA      NA     yes              4.2.0\n",
              "blob        NA      NA     no               4.2.3\n",
              "brew        NA      NA     no               4.3.2\n",
              "brio        NA      NA     yes              4.3.2\n",
              "broom       NA      NA     no               4.3.1\n",
              "bslib       NA      NA     no               4.3.2\n",
              "cachem      NA      NA     yes              4.3.0\n",
              "callr       NA      NA     no               4.2.2\n",
              "cellranger  NA      NA     no               4.0.1\n",
              "cli         NA      NA     yes              4.3.2\n",
              "clipr       NA      NA     no               4.2.0\n",
              "colorspace  NA      NA     yes              4.2.2\n",
              "commonmark  NA      NA     yes              4.3.2\n",
              "conflicted  NA      NA     no               4.2.2\n",
              "cpp11       NA      NA     no               4.3.2\n",
              "crayon      NA      NA     no               4.2.1\n",
              "credentials NA      NA     no               4.3.1\n",
              "curl        NA      NA     yes              4.3.1\n",
              "data.table  NA      NA     yes              4.3.2\n",
              "DBI         NA      NA     no               4.3.2\n",
              "⋮           ⋮       ⋮      ⋮                ⋮    \n",
              "zip         NA      NA     yes              4.3.0\n",
              "base        NA      NA     NA               4.3.3\n",
              "boot        NA      NA     no               4.3.3\n",
              "class       NA      NA     yes              4.3.1\n",
              "cluster     NA      NA     yes              4.3.2\n",
              "codetools   NA      NA     no               4.2.2\n",
              "compiler    NA      NA     NA               4.3.3\n",
              "datasets    NA      NA     NA               4.3.3\n",
              "foreign     NA      NA     yes              4.3.2\n",
              "graphics    NA      NA     yes              4.3.3\n",
              "grDevices   NA      NA     yes              4.3.3\n",
              "grid        NA      NA     yes              4.3.3\n",
              "KernSmooth  NA      NA     yes              4.3.1\n",
              "lattice     NA      NA     yes              4.3.1\n",
              "MASS        NA      NA     yes              4.3.2\n",
              "Matrix      NA      NA     yes              4.3.3\n",
              "methods     NA      NA     yes              4.3.3\n",
              "mgcv        NA      NA     yes              4.3.2\n",
              "nlme        NA      NA     yes              4.3.1\n",
              "nnet        NA      NA     yes              4.3.1\n",
              "parallel    NA      NA     yes              4.3.3\n",
              "rpart       NA      NA     yes              4.3.2\n",
              "spatial     NA      NA     yes              4.3.1\n",
              "splines     NA      NA     yes              4.3.3\n",
              "stats       NA      NA     yes              4.3.3\n",
              "stats4      NA      NA     NA               4.3.3\n",
              "survival    NA      NA     yes              4.3.3\n",
              "tcltk       NA      NA     yes              4.3.3\n",
              "tools       NA      NA     yes              4.3.3\n",
              "utils       NA      NA     yes              4.3.3"
            ]
          },
          "metadata": {}
        }
      ]
    },
    {
      "cell_type": "code",
      "source": [
        "library(tidyverse)\n",
        "library(dslabs)\n",
        "data(murders)\n",
        "\n",
        "\n",
        "murders %>%\n",
        "  ggplot(aes(population, total, label = abb, color=region))+\n",
        "  geom_label()"
      ],
      "metadata": {
        "colab": {
          "base_uri": "https://localhost:8080/",
          "height": 611
        },
        "id": "NM2pFccbmsp-",
        "outputId": "bd55cd49-f0a5-4ec0-daa5-ae6a35fb80ce"
      },
      "execution_count": 5,
      "outputs": [
        {
          "output_type": "stream",
          "name": "stderr",
          "text": [
            "── \u001b[1mAttaching core tidyverse packages\u001b[22m ──────────────────────── tidyverse 2.0.0 ──\n",
            "\u001b[32m✔\u001b[39m \u001b[34mdplyr    \u001b[39m 1.1.4     \u001b[32m✔\u001b[39m \u001b[34mreadr    \u001b[39m 2.1.5\n",
            "\u001b[32m✔\u001b[39m \u001b[34mforcats  \u001b[39m 1.0.0     \u001b[32m✔\u001b[39m \u001b[34mstringr  \u001b[39m 1.5.1\n",
            "\u001b[32m✔\u001b[39m \u001b[34mggplot2  \u001b[39m 3.4.4     \u001b[32m✔\u001b[39m \u001b[34mtibble   \u001b[39m 3.2.1\n",
            "\u001b[32m✔\u001b[39m \u001b[34mlubridate\u001b[39m 1.9.3     \u001b[32m✔\u001b[39m \u001b[34mtidyr    \u001b[39m 1.3.1\n",
            "\u001b[32m✔\u001b[39m \u001b[34mpurrr    \u001b[39m 1.0.2     \n",
            "── \u001b[1mConflicts\u001b[22m ────────────────────────────────────────── tidyverse_conflicts() ──\n",
            "\u001b[31m✖\u001b[39m \u001b[34mdplyr\u001b[39m::\u001b[32mfilter()\u001b[39m masks \u001b[34mstats\u001b[39m::filter()\n",
            "\u001b[31m✖\u001b[39m \u001b[34mdplyr\u001b[39m::\u001b[32mlag()\u001b[39m    masks \u001b[34mstats\u001b[39m::lag()\n",
            "\u001b[36mℹ\u001b[39m Use the conflicted package (\u001b[3m\u001b[34m<http://conflicted.r-lib.org/>\u001b[39m\u001b[23m) to force all conflicts to become errors\n"
          ]
        },
        {
          "output_type": "display_data",
          "data": {
            "text/plain": [
              "plot without title"
            ],
            "image/png": "[encoded data removed]"
          },
          "metadata": {
            "image/png": {
              "width": 420,
              "height": 420
            }
          }
        }
      ]
    },
    {
      "cell_type": "code",
      "source": [
        "a <- 1\n",
        "b <- 1\n",
        "c <- -1\n",
        "ls()"
      ],
      "metadata": {
        "colab": {
          "base_uri": "https://localhost:8080/",
          "height": 34
        },
        "id": "_lES89NEnw8o",
        "outputId": "db928ff8-4882-495f-de14-08dbc2ee24ac"
      },
      "execution_count": 6,
      "outputs": [
        {
          "output_type": "display_data",
          "data": {
            "text/html": [
              "<style>\n",
              ".list-inline {list-style: none; margin:0; padding: 0}\n",
              ".list-inline>li {display: inline-block}\n",
              ".list-inline>li:not(:last-child)::after {content: \"\\00b7\"; padding: 0 .5ex}\n",
              "</style>\n",
              "<ol class=list-inline><li>'a'</li><li>'b'</li><li>'c'</li><li>'murders'</li></ol>\n"
            ],
            "text/markdown": "1. 'a'\n2. 'b'\n3. 'c'\n4. 'murders'\n\n\n",
            "text/latex": "\\begin{enumerate*}\n\\item 'a'\n\\item 'b'\n\\item 'c'\n\\item 'murders'\n\\end{enumerate*}\n",
            "text/plain": [
              "[1] \"a\"       \"b\"       \"c\"       \"murders\""
            ]
          },
          "metadata": {}
        }
      ]
    },
    {
      "cell_type": "code",
      "source": [
        "log(8)"
      ],
      "metadata": {
        "colab": {
          "base_uri": "https://localhost:8080/",
          "height": 34
        },
        "id": "VfxWFGjdoxnA",
        "outputId": "614b537c-9d9b-4998-e59c-c92e73f93b03"
      },
      "execution_count": 7,
      "outputs": [
        {
          "output_type": "display_data",
          "data": {
            "text/html": [
              "2.07944154167984"
            ],
            "text/markdown": "2.07944154167984",
            "text/latex": "2.07944154167984",
            "text/plain": [
              "[1] 2.079442"
            ]
          },
          "metadata": {}
        }
      ]
    },
    {
      "cell_type": "code",
      "source": [
        "?mean"
      ],
      "metadata": {
        "id": "0tI2q-bhqIY0"
      },
      "execution_count": 8,
      "outputs": []
    },
    {
      "cell_type": "code",
      "source": [
        "n <- 1000\n",
        "\n",
        "n*(n+1)/2"
      ],
      "metadata": {
        "colab": {
          "base_uri": "https://localhost:8080/",
          "height": 34
        },
        "id": "1_qE5eBdr3du",
        "outputId": "b60daabf-ade1-44ca-b1f1-0dbf80f4dbd2"
      },
      "execution_count": 9,
      "outputs": [
        {
          "output_type": "display_data",
          "data": {
            "text/html": [
              "500500"
            ],
            "text/markdown": "500500",
            "text/latex": "500500",
            "text/plain": [
              "[1] 500500"
            ]
          },
          "metadata": {}
        }
      ]
    },
    {
      "cell_type": "code",
      "source": [],
      "metadata": {
        "id": "VT9K2pRVPgso"
      },
      "execution_count": 10,
      "outputs": []
    },
    {
      "cell_type": "code",
      "source": [
        "n <- 100\n",
        "x <- seq(1,n)\n",
        "sum(x)"
      ],
      "metadata": {
        "colab": {
          "base_uri": "https://localhost:8080/",
          "height": 34
        },
        "id": "_WL1F1z5vvmS",
        "outputId": "e73c9d58-ed89-408a-faa6-8e18c64b5319"
      },
      "execution_count": 11,
      "outputs": [
        {
          "output_type": "display_data",
          "data": {
            "text/html": [
              "5050"
            ],
            "text/markdown": "5050",
            "text/latex": "5050",
            "text/plain": [
              "[1] 5050"
            ]
          },
          "metadata": {}
        }
      ]
    },
    {
      "cell_type": "code",
      "source": [
        "sqrt(log10(10))\n"
      ],
      "metadata": {
        "colab": {
          "base_uri": "https://localhost:8080/",
          "height": 34
        },
        "id": "S8a7Km-1xhtt",
        "outputId": "5bb00586-bbed-4274-e257-247c537634b5"
      },
      "execution_count": 12,
      "outputs": [
        {
          "output_type": "display_data",
          "data": {
            "text/html": [
              "1"
            ],
            "text/markdown": "1",
            "text/latex": "1",
            "text/plain": [
              "[1] 1"
            ]
          },
          "metadata": {}
        }
      ]
    },
    {
      "cell_type": "code",
      "source": [
        "x<-2\n",
        "log(10^x)\n",
        "log10(x^10)\n",
        "log(exp(x))"
      ],
      "metadata": {
        "colab": {
          "base_uri": "https://localhost:8080/",
          "height": 69
        },
        "id": "hu6A0oB1yNnl",
        "outputId": "901e7b59-ce2b-4161-9c1c-62b893382991"
      },
      "execution_count": 13,
      "outputs": [
        {
          "output_type": "display_data",
          "data": {
            "text/html": [
              "4.60517018598809"
            ],
            "text/markdown": "4.60517018598809",
            "text/latex": "4.60517018598809",
            "text/plain": [
              "[1] 4.60517"
            ]
          },
          "metadata": {}
        },
        {
          "output_type": "display_data",
          "data": {
            "text/html": [
              "3.01029995663981"
            ],
            "text/markdown": "3.01029995663981",
            "text/latex": "3.01029995663981",
            "text/plain": [
              "[1] 3.0103"
            ]
          },
          "metadata": {}
        },
        {
          "output_type": "display_data",
          "data": {
            "text/html": [
              "2"
            ],
            "text/markdown": "2",
            "text/latex": "2",
            "text/plain": [
              "[1] 2"
            ]
          },
          "metadata": {}
        }
      ]
    },
    {
      "cell_type": "code",
      "source": [
        "str(murders)"
      ],
      "metadata": {
        "colab": {
          "base_uri": "https://localhost:8080/"
        },
        "id": "rvbXhvnDza-L",
        "outputId": "06b478eb-5cb9-4d7a-dd7b-3401b47d6151"
      },
      "execution_count": 14,
      "outputs": [
        {
          "output_type": "stream",
          "name": "stdout",
          "text": [
            "'data.frame':\t51 obs. of  5 variables:\n",
            " $ state     : chr  \"Alabama\" \"Alaska\" \"Arizona\" \"Arkansas\" ...\n",
            " $ abb       : chr  \"AL\" \"AK\" \"AZ\" \"AR\" ...\n",
            " $ region    : Factor w/ 4 levels \"Northeast\",\"South\",..: 2 4 4 2 4 4 1 2 2 2 ...\n",
            " $ population: num  4779736 710231 6392017 2915918 37253956 ...\n",
            " $ total     : num  135 19 232 93 1257 ...\n"
          ]
        }
      ]
    },
    {
      "cell_type": "code",
      "source": [
        "a = 2\n",
        "b = -1\n",
        "c = -4\n",
        "\n",
        "\n",
        "solution_1 = (-b + sqrt(b^2 - 4*a*c))/(2*a)\n",
        "solution_2 = (-b - sqrt(b^2 - 4*a*c))/(2*a)\n",
        "\n",
        "solution_1\n",
        "solution_2"
      ],
      "metadata": {
        "colab": {
          "base_uri": "https://localhost:8080/",
          "height": 52
        },
        "id": "k1vxhAev7YIM",
        "outputId": "381c55d4-0979-441d-d236-5db817d04d68"
      },
      "execution_count": 15,
      "outputs": [
        {
          "output_type": "display_data",
          "data": {
            "text/html": [
              "1.68614066163451"
            ],
            "text/markdown": "1.68614066163451",
            "text/latex": "1.68614066163451",
            "text/plain": [
              "[1] 1.686141"
            ]
          },
          "metadata": {}
        },
        {
          "output_type": "display_data",
          "data": {
            "text/html": [
              "-1.18614066163451"
            ],
            "text/markdown": "-1.18614066163451",
            "text/latex": "-1.18614066163451",
            "text/plain": [
              "[1] -1.186141"
            ]
          },
          "metadata": {}
        }
      ]
    },
    {
      "cell_type": "code",
      "source": [
        "log(1024, 4)"
      ],
      "metadata": {
        "colab": {
          "base_uri": "https://localhost:8080/",
          "height": 34
        },
        "id": "_hsWfDBGC7DW",
        "outputId": "d3df868f-4755-4025-cfa3-e7cd19291e54"
      },
      "execution_count": 16,
      "outputs": [
        {
          "output_type": "display_data",
          "data": {
            "text/html": [
              "5"
            ],
            "text/markdown": "5",
            "text/latex": "5",
            "text/plain": [
              "[1] 5"
            ]
          },
          "metadata": {}
        }
      ]
    },
    {
      "cell_type": "code",
      "source": [
        "library(dslabs)\n",
        "data(movielens)\n",
        "str(movielens)\n",
        "\n",
        "nlevels(movielens$genre)"
      ],
      "metadata": {
        "colab": {
          "base_uri": "https://localhost:8080/",
          "height": 173
        },
        "id": "6ohsBlygDGSt",
        "outputId": "4bd5101d-b2c0-461d-e255-3f5dc2d2142b"
      },
      "execution_count": 17,
      "outputs": [
        {
          "output_type": "stream",
          "name": "stdout",
          "text": [
            "'data.frame':\t100004 obs. of  7 variables:\n",
            " $ movieId  : int  31 1029 1061 1129 1172 1263 1287 1293 1339 1343 ...\n",
            " $ title    : chr  \"Dangerous Minds\" \"Dumbo\" \"Sleepers\" \"Escape from New York\" ...\n",
            " $ year     : int  1995 1941 1996 1981 1989 1978 1959 1982 1992 1991 ...\n",
            " $ genres   : Factor w/ 901 levels \"(no genres listed)\",..: 762 510 899 120 762 836 81 762 844 899 ...\n",
            " $ userId   : int  1 1 1 1 1 1 1 1 1 1 ...\n",
            " $ rating   : num  2.5 3 3 2 4 2 2 2 3.5 2 ...\n",
            " $ timestamp: int  1260759144 1260759179 1260759182 1260759185 1260759205 1260759151 1260759187 1260759148 1260759125 1260759131 ...\n"
          ]
        },
        {
          "output_type": "display_data",
          "data": {
            "text/html": [
              "901"
            ],
            "text/markdown": "901",
            "text/latex": "901",
            "text/plain": [
              "[1] 901"
            ]
          },
          "metadata": {}
        }
      ]
    },
    {
      "cell_type": "code",
      "source": [
        "temp <- c(35, 88, 42, 84, 81, 30)\n",
        "city <- c(\"Beijing\", \"Lagos\", \"Paris\", \"Rio de Janeiro\", \"San Juan\", \"Toronto\")\n",
        "names(temp) <- city\n",
        "temp[1:3]\n",
        "temp[c(3,5)]"
      ],
      "metadata": {
        "colab": {
          "base_uri": "https://localhost:8080/",
          "height": 52
        },
        "id": "okvmrkMCPimE",
        "outputId": "71d370c7-c3f1-4799-cff6-f0f810f70e38"
      },
      "execution_count": 18,
      "outputs": [
        {
          "output_type": "display_data",
          "data": {
            "text/html": [
              "<style>\n",
              ".dl-inline {width: auto; margin:0; padding: 0}\n",
              ".dl-inline>dt, .dl-inline>dd {float: none; width: auto; display: inline-block}\n",
              ".dl-inline>dt::after {content: \":\\0020\"; padding-right: .5ex}\n",
              ".dl-inline>dt:not(:first-of-type) {padding-left: .5ex}\n",
              "</style><dl class=dl-inline><dt>Beijing</dt><dd>35</dd><dt>Lagos</dt><dd>88</dd><dt>Paris</dt><dd>42</dd></dl>\n"
            ],
            "text/markdown": "Beijing\n:   35Lagos\n:   88Paris\n:   42\n\n",
            "text/latex": "\\begin{description*}\n\\item[Beijing] 35\n\\item[Lagos] 88\n\\item[Paris] 42\n\\end{description*}\n",
            "text/plain": [
              "Beijing   Lagos   Paris \n",
              "     35      88      42 "
            ]
          },
          "metadata": {}
        },
        {
          "output_type": "display_data",
          "data": {
            "text/html": [
              "<style>\n",
              ".dl-inline {width: auto; margin:0; padding: 0}\n",
              ".dl-inline>dt, .dl-inline>dd {float: none; width: auto; display: inline-block}\n",
              ".dl-inline>dt::after {content: \":\\0020\"; padding-right: .5ex}\n",
              ".dl-inline>dt:not(:first-of-type) {padding-left: .5ex}\n",
              "</style><dl class=dl-inline><dt>Paris</dt><dd>42</dd><dt>San Juan</dt><dd>81</dd></dl>\n"
            ],
            "text/markdown": "Paris\n:   42San Juan\n:   81\n\n",
            "text/latex": "\\begin{description*}\n\\item[Paris] 42\n\\item[San Juan] 81\n\\end{description*}\n",
            "text/plain": [
              "   Paris San Juan \n",
              "      42       81 "
            ]
          },
          "metadata": {}
        }
      ]
    },
    {
      "cell_type": "code",
      "source": [
        "x <- 12:73\n",
        "# Determine the length of object x.\n",
        "length(x)"
      ],
      "metadata": {
        "id": "MhU_brVlU3mq",
        "colab": {
          "base_uri": "https://localhost:8080/",
          "height": 34
        },
        "outputId": "e56cfe1e-fba1-4e08-832d-1d1df3120353"
      },
      "execution_count": 19,
      "outputs": [
        {
          "output_type": "display_data",
          "data": {
            "text/html": [
              "62"
            ],
            "text/markdown": "62",
            "text/latex": "62",
            "text/plain": [
              "[1] 62"
            ]
          },
          "metadata": {}
        }
      ]
    },
    {
      "cell_type": "code",
      "source": [
        "x <- c(seq(1,100,2))\n",
        "# The numbers should be in ascending order\n",
        "x\n",
        "a <- seq(1, 10, length.out = 100)\n",
        "a\n",
        "# Determine the class of a\n",
        "class(a)\n",
        "class(1)\n",
        "\n",
        "# Confirm the class of 1L is integer\n",
        "class(1L)"
      ],
      "metadata": {
        "id": "Htm4ED-_U_de",
        "colab": {
          "base_uri": "https://localhost:8080/",
          "height": 225
        },
        "outputId": "e8fa6935-adc7-47ec-f150-56f3a26ab793"
      },
      "execution_count": 20,
      "outputs": [
        {
          "output_type": "display_data",
          "data": {
            "text/html": [
              "<style>\n",
              ".list-inline {list-style: none; margin:0; padding: 0}\n",
              ".list-inline>li {display: inline-block}\n",
              ".list-inline>li:not(:last-child)::after {content: \"\\00b7\"; padding: 0 .5ex}\n",
              "</style>\n",
              "<ol class=list-inline><li>1</li><li>3</li><li>5</li><li>7</li><li>9</li><li>11</li><li>13</li><li>15</li><li>17</li><li>19</li><li>21</li><li>23</li><li>25</li><li>27</li><li>29</li><li>31</li><li>33</li><li>35</li><li>37</li><li>39</li><li>41</li><li>43</li><li>45</li><li>47</li><li>49</li><li>51</li><li>53</li><li>55</li><li>57</li><li>59</li><li>61</li><li>63</li><li>65</li><li>67</li><li>69</li><li>71</li><li>73</li><li>75</li><li>77</li><li>79</li><li>81</li><li>83</li><li>85</li><li>87</li><li>89</li><li>91</li><li>93</li><li>95</li><li>97</li><li>99</li></ol>\n"
            ],
            "text/markdown": "1. 1\n2. 3\n3. 5\n4. 7\n5. 9\n6. 11\n7. 13\n8. 15\n9. 17\n10. 19\n11. 21\n12. 23\n13. 25\n14. 27\n15. 29\n16. 31\n17. 33\n18. 35\n19. 37\n20. 39\n21. 41\n22. 43\n23. 45\n24. 47\n25. 49\n26. 51\n27. 53\n28. 55\n29. 57\n30. 59\n31. 61\n32. 63\n33. 65\n34. 67\n35. 69\n36. 71\n37. 73\n38. 75\n39. 77\n40. 79\n41. 81\n42. 83\n43. 85\n44. 87\n45. 89\n46. 91\n47. 93\n48. 95\n49. 97\n50. 99\n\n\n",
            "text/latex": "\\begin{enumerate*}\n\\item 1\n\\item 3\n\\item 5\n\\item 7\n\\item 9\n\\item 11\n\\item 13\n\\item 15\n\\item 17\n\\item 19\n\\item 21\n\\item 23\n\\item 25\n\\item 27\n\\item 29\n\\item 31\n\\item 33\n\\item 35\n\\item 37\n\\item 39\n\\item 41\n\\item 43\n\\item 45\n\\item 47\n\\item 49\n\\item 51\n\\item 53\n\\item 55\n\\item 57\n\\item 59\n\\item 61\n\\item 63\n\\item 65\n\\item 67\n\\item 69\n\\item 71\n\\item 73\n\\item 75\n\\item 77\n\\item 79\n\\item 81\n\\item 83\n\\item 85\n\\item 87\n\\item 89\n\\item 91\n\\item 93\n\\item 95\n\\item 97\n\\item 99\n\\end{enumerate*}\n",
            "text/plain": [
              " [1]  1  3  5  7  9 11 13 15 17 19 21 23 25 27 29 31 33 35 37 39 41 43 45 47 49\n",
              "[26] 51 53 55 57 59 61 63 65 67 69 71 73 75 77 79 81 83 85 87 89 91 93 95 97 99"
            ]
          },
          "metadata": {}
        },
        {
          "output_type": "display_data",
          "data": {
            "text/html": [
              "<style>\n",
              ".list-inline {list-style: none; margin:0; padding: 0}\n",
              ".list-inline>li {display: inline-block}\n",
              ".list-inline>li:not(:last-child)::after {content: \"\\00b7\"; padding: 0 .5ex}\n",
              "</style>\n",
              "<ol class=list-inline><li>1</li><li>1.09090909090909</li><li>1.18181818181818</li><li>1.27272727272727</li><li>1.36363636363636</li><li>1.45454545454545</li><li>1.54545454545455</li><li>1.63636363636364</li><li>1.72727272727273</li><li>1.81818181818182</li><li>1.90909090909091</li><li>2</li><li>2.09090909090909</li><li>2.18181818181818</li><li>2.27272727272727</li><li>2.36363636363636</li><li>2.45454545454545</li><li>2.54545454545455</li><li>2.63636363636364</li><li>2.72727272727273</li><li>2.81818181818182</li><li>2.90909090909091</li><li>3</li><li>3.09090909090909</li><li>3.18181818181818</li><li>3.27272727272727</li><li>3.36363636363636</li><li>3.45454545454545</li><li>3.54545454545455</li><li>3.63636363636364</li><li>3.72727272727273</li><li>3.81818181818182</li><li>3.90909090909091</li><li>4</li><li>4.09090909090909</li><li>4.18181818181818</li><li>4.27272727272727</li><li>4.36363636363636</li><li>4.45454545454546</li><li>4.54545454545454</li><li>4.63636363636364</li><li>4.72727272727273</li><li>4.81818181818182</li><li>4.90909090909091</li><li>5</li><li>5.09090909090909</li><li>5.18181818181818</li><li>5.27272727272727</li><li>5.36363636363636</li><li>5.45454545454546</li><li>5.54545454545455</li><li>5.63636363636364</li><li>5.72727272727273</li><li>5.81818181818182</li><li>5.90909090909091</li><li>6</li><li>6.09090909090909</li><li>6.18181818181818</li><li>6.27272727272727</li><li>6.36363636363636</li><li>6.45454545454546</li><li>6.54545454545455</li><li>6.63636363636364</li><li>6.72727272727273</li><li>6.81818181818182</li><li>6.90909090909091</li><li>7</li><li>7.09090909090909</li><li>7.18181818181818</li><li>7.27272727272727</li><li>7.36363636363636</li><li>7.45454545454546</li><li>7.54545454545455</li><li>7.63636363636364</li><li>7.72727272727273</li><li>7.81818181818182</li><li>7.90909090909091</li><li>8</li><li>8.09090909090909</li><li>8.18181818181818</li><li>8.27272727272727</li><li>8.36363636363636</li><li>8.45454545454546</li><li>8.54545454545455</li><li>8.63636363636364</li><li>8.72727272727273</li><li>8.81818181818182</li><li>8.90909090909091</li><li>9</li><li>9.09090909090909</li><li>9.18181818181818</li><li>9.27272727272727</li><li>9.36363636363636</li><li>9.45454545454546</li><li>9.54545454545454</li><li>9.63636363636364</li><li>9.72727272727273</li><li>9.81818181818182</li><li>9.90909090909091</li><li>10</li></ol>\n"
            ],
            "text/markdown": "1. 1\n2. 1.09090909090909\n3. 1.18181818181818\n4. 1.27272727272727\n5. 1.36363636363636\n6. 1.45454545454545\n7. 1.54545454545455\n8. 1.63636363636364\n9. 1.72727272727273\n10. 1.81818181818182\n11. 1.90909090909091\n12. 2\n13. 2.09090909090909\n14. 2.18181818181818\n15. 2.27272727272727\n16. 2.36363636363636\n17. 2.45454545454545\n18. 2.54545454545455\n19. 2.63636363636364\n20. 2.72727272727273\n21. 2.81818181818182\n22. 2.90909090909091\n23. 3\n24. 3.09090909090909\n25. 3.18181818181818\n26. 3.27272727272727\n27. 3.36363636363636\n28. 3.45454545454545\n29. 3.54545454545455\n30. 3.63636363636364\n31. 3.72727272727273\n32. 3.81818181818182\n33. 3.90909090909091\n34. 4\n35. 4.09090909090909\n36. 4.18181818181818\n37. 4.27272727272727\n38. 4.36363636363636\n39. 4.45454545454546\n40. 4.54545454545454\n41. 4.63636363636364\n42. 4.72727272727273\n43. 4.81818181818182\n44. 4.90909090909091\n45. 5\n46. 5.09090909090909\n47. 5.18181818181818\n48. 5.27272727272727\n49. 5.36363636363636\n50. 5.45454545454546\n51. 5.54545454545455\n52. 5.63636363636364\n53. 5.72727272727273\n54. 5.81818181818182\n55. 5.90909090909091\n56. 6\n57. 6.09090909090909\n58. 6.18181818181818\n59. 6.27272727272727\n60. 6.36363636363636\n61. 6.45454545454546\n62. 6.54545454545455\n63. 6.63636363636364\n64. 6.72727272727273\n65. 6.81818181818182\n66. 6.90909090909091\n67. 7\n68. 7.09090909090909\n69. 7.18181818181818\n70. 7.27272727272727\n71. 7.36363636363636\n72. 7.45454545454546\n73. 7.54545454545455\n74. 7.63636363636364\n75. 7.72727272727273\n76. 7.81818181818182\n77. 7.90909090909091\n78. 8\n79. 8.09090909090909\n80. 8.18181818181818\n81. 8.27272727272727\n82. 8.36363636363636\n83. 8.45454545454546\n84. 8.54545454545455\n85. 8.63636363636364\n86. 8.72727272727273\n87. 8.81818181818182\n88. 8.90909090909091\n89. 9\n90. 9.09090909090909\n91. 9.18181818181818\n92. 9.27272727272727\n93. 9.36363636363636\n94. 9.45454545454546\n95. 9.54545454545454\n96. 9.63636363636364\n97. 9.72727272727273\n98. 9.81818181818182\n99. 9.90909090909091\n100. 10\n\n\n",
            "text/latex": "\\begin{enumerate*}\n\\item 1\n\\item 1.09090909090909\n\\item 1.18181818181818\n\\item 1.27272727272727\n\\item 1.36363636363636\n\\item 1.45454545454545\n\\item 1.54545454545455\n\\item 1.63636363636364\n\\item 1.72727272727273\n\\item 1.81818181818182\n\\item 1.90909090909091\n\\item 2\n\\item 2.09090909090909\n\\item 2.18181818181818\n\\item 2.27272727272727\n\\item 2.36363636363636\n\\item 2.45454545454545\n\\item 2.54545454545455\n\\item 2.63636363636364\n\\item 2.72727272727273\n\\item 2.81818181818182\n\\item 2.90909090909091\n\\item 3\n\\item 3.09090909090909\n\\item 3.18181818181818\n\\item 3.27272727272727\n\\item 3.36363636363636\n\\item 3.45454545454545\n\\item 3.54545454545455\n\\item 3.63636363636364\n\\item 3.72727272727273\n\\item 3.81818181818182\n\\item 3.90909090909091\n\\item 4\n\\item 4.09090909090909\n\\item 4.18181818181818\n\\item 4.27272727272727\n\\item 4.36363636363636\n\\item 4.45454545454546\n\\item 4.54545454545454\n\\item 4.63636363636364\n\\item 4.72727272727273\n\\item 4.81818181818182\n\\item 4.90909090909091\n\\item 5\n\\item 5.09090909090909\n\\item 5.18181818181818\n\\item 5.27272727272727\n\\item 5.36363636363636\n\\item 5.45454545454546\n\\item 5.54545454545455\n\\item 5.63636363636364\n\\item 5.72727272727273\n\\item 5.81818181818182\n\\item 5.90909090909091\n\\item 6\n\\item 6.09090909090909\n\\item 6.18181818181818\n\\item 6.27272727272727\n\\item 6.36363636363636\n\\item 6.45454545454546\n\\item 6.54545454545455\n\\item 6.63636363636364\n\\item 6.72727272727273\n\\item 6.81818181818182\n\\item 6.90909090909091\n\\item 7\n\\item 7.09090909090909\n\\item 7.18181818181818\n\\item 7.27272727272727\n\\item 7.36363636363636\n\\item 7.45454545454546\n\\item 7.54545454545455\n\\item 7.63636363636364\n\\item 7.72727272727273\n\\item 7.81818181818182\n\\item 7.90909090909091\n\\item 8\n\\item 8.09090909090909\n\\item 8.18181818181818\n\\item 8.27272727272727\n\\item 8.36363636363636\n\\item 8.45454545454546\n\\item 8.54545454545455\n\\item 8.63636363636364\n\\item 8.72727272727273\n\\item 8.81818181818182\n\\item 8.90909090909091\n\\item 9\n\\item 9.09090909090909\n\\item 9.18181818181818\n\\item 9.27272727272727\n\\item 9.36363636363636\n\\item 9.45454545454546\n\\item 9.54545454545454\n\\item 9.63636363636364\n\\item 9.72727272727273\n\\item 9.81818181818182\n\\item 9.90909090909091\n\\item 10\n\\end{enumerate*}\n",
            "text/plain": [
              "  [1]  1.000000  1.090909  1.181818  1.272727  1.363636  1.454545  1.545455\n",
              "  [8]  1.636364  1.727273  1.818182  1.909091  2.000000  2.090909  2.181818\n",
              " [15]  2.272727  2.363636  2.454545  2.545455  2.636364  2.727273  2.818182\n",
              " [22]  2.909091  3.000000  3.090909  3.181818  3.272727  3.363636  3.454545\n",
              " [29]  3.545455  3.636364  3.727273  3.818182  3.909091  4.000000  4.090909\n",
              " [36]  4.181818  4.272727  4.363636  4.454545  4.545455  4.636364  4.727273\n",
              " [43]  4.818182  4.909091  5.000000  5.090909  5.181818  5.272727  5.363636\n",
              " [50]  5.454545  5.545455  5.636364  5.727273  5.818182  5.909091  6.000000\n",
              " [57]  6.090909  6.181818  6.272727  6.363636  6.454545  6.545455  6.636364\n",
              " [64]  6.727273  6.818182  6.909091  7.000000  7.090909  7.181818  7.272727\n",
              " [71]  7.363636  7.454545  7.545455  7.636364  7.727273  7.818182  7.909091\n",
              " [78]  8.000000  8.090909  8.181818  8.272727  8.363636  8.454545  8.545455\n",
              " [85]  8.636364  8.727273  8.818182  8.909091  9.000000  9.090909  9.181818\n",
              " [92]  9.272727  9.363636  9.454545  9.545455  9.636364  9.727273  9.818182\n",
              " [99]  9.909091 10.000000"
            ]
          },
          "metadata": {}
        },
        {
          "output_type": "display_data",
          "data": {
            "text/html": [
              "'numeric'"
            ],
            "text/markdown": "'numeric'",
            "text/latex": "'numeric'",
            "text/plain": [
              "[1] \"numeric\""
            ]
          },
          "metadata": {}
        },
        {
          "output_type": "display_data",
          "data": {
            "text/html": [
              "'numeric'"
            ],
            "text/markdown": "'numeric'",
            "text/latex": "'numeric'",
            "text/plain": [
              "[1] \"numeric\""
            ]
          },
          "metadata": {}
        },
        {
          "output_type": "display_data",
          "data": {
            "text/html": [
              "'integer'"
            ],
            "text/markdown": "'integer'",
            "text/latex": "'integer'",
            "text/plain": [
              "[1] \"integer\""
            ]
          },
          "metadata": {}
        }
      ]
    },
    {
      "cell_type": "code",
      "source": [
        "# Define the vector x\n",
        "x <- c(1, 3, 5,\"a\")\n",
        "\n",
        "# Note that the x is character vector\n",
        "x\n",
        "\n",
        "# Redefine `x` to typecast it to get an integer vector using `as.numeric`.\n",
        "x <- as.numeric(x)\n",
        "# You will get a warning but that is okay\n"
      ],
      "metadata": {
        "id": "_zgbZEd9VOQJ",
        "colab": {
          "base_uri": "https://localhost:8080/",
          "height": 69
        },
        "outputId": "b904de51-92ac-454e-ae72-892fa3799e6f"
      },
      "execution_count": 21,
      "outputs": [
        {
          "output_type": "display_data",
          "data": {
            "text/html": [
              "<style>\n",
              ".list-inline {list-style: none; margin:0; padding: 0}\n",
              ".list-inline>li {display: inline-block}\n",
              ".list-inline>li:not(:last-child)::after {content: \"\\00b7\"; padding: 0 .5ex}\n",
              "</style>\n",
              "<ol class=list-inline><li>'1'</li><li>'3'</li><li>'5'</li><li>'a'</li></ol>\n"
            ],
            "text/markdown": "1. '1'\n2. '3'\n3. '5'\n4. 'a'\n\n\n",
            "text/latex": "\\begin{enumerate*}\n\\item '1'\n\\item '3'\n\\item '5'\n\\item 'a'\n\\end{enumerate*}\n",
            "text/plain": [
              "[1] \"1\" \"3\" \"5\" \"a\""
            ]
          },
          "metadata": {}
        },
        {
          "output_type": "stream",
          "name": "stderr",
          "text": [
            "Warning message in eval(expr, envir, enclos):\n",
            "“NAs introduced by coercion”\n"
          ]
        }
      ]
    },
    {
      "cell_type": "code",
      "source": [
        "# Access the `state` variable and store it in an object\n",
        "states <- murders$state\n",
        "\n",
        "# Sort the object alphabetically and redefine the object\n",
        "states <- sort(states)\n",
        "\n",
        "# Report the first alphabetical value\n",
        "states[1]\n",
        "\n",
        "# Access population values from the dataset and store it in pop\n",
        "pop <- murders$population\n",
        "# Sort the object and save it in the same object\n",
        "pop <- sort(pop)\n",
        "# Report the smallest population size\n",
        "pop\n",
        "min(pop)"
      ],
      "metadata": {
        "id": "feBYR1a-XctL",
        "colab": {
          "base_uri": "https://localhost:8080/",
          "height": 104
        },
        "outputId": "c5e23015-75fc-49e3-a6f8-b297daa813c7"
      },
      "execution_count": 22,
      "outputs": [
        {
          "output_type": "display_data",
          "data": {
            "text/html": [
              "'Alabama'"
            ],
            "text/markdown": "'Alabama'",
            "text/latex": "'Alabama'",
            "text/plain": [
              "[1] \"Alabama\""
            ]
          },
          "metadata": {}
        },
        {
          "output_type": "display_data",
          "data": {
            "text/html": [
              "<style>\n",
              ".list-inline {list-style: none; margin:0; padding: 0}\n",
              ".list-inline>li {display: inline-block}\n",
              ".list-inline>li:not(:last-child)::after {content: \"\\00b7\"; padding: 0 .5ex}\n",
              "</style>\n",
              "<ol class=list-inline><li>563626</li><li>601723</li><li>625741</li><li>672591</li><li>710231</li><li>814180</li><li>897934</li><li>989415</li><li>1052567</li><li>1316470</li><li>1328361</li><li>1360301</li><li>1567582</li><li>1826341</li><li>1852994</li><li>2059179</li><li>2700551</li><li>2763885</li><li>2853118</li><li>2915918</li><li>2967297</li><li>3046355</li><li>3574097</li><li>3751351</li><li>3831074</li><li>4339367</li><li>4533372</li><li>4625364</li><li>4779736</li><li>5029196</li><li>5303925</li><li>5686986</li><li>5773552</li><li>5988927</li><li>6346105</li><li>6392017</li><li>6483802</li><li>6547629</li><li>6724540</li><li>8001024</li><li>8791894</li><li>9535483</li><li>9883640</li><li>9920000</li><li>11536504</li><li>12702379</li><li>12830632</li><li>19378102</li><li>19687653</li><li>25145561</li><li>37253956</li></ol>\n"
            ],
            "text/markdown": "1. 563626\n2. 601723\n3. 625741\n4. 672591\n5. 710231\n6. 814180\n7. 897934\n8. 989415\n9. 1052567\n10. 1316470\n11. 1328361\n12. 1360301\n13. 1567582\n14. 1826341\n15. 1852994\n16. 2059179\n17. 2700551\n18. 2763885\n19. 2853118\n20. 2915918\n21. 2967297\n22. 3046355\n23. 3574097\n24. 3751351\n25. 3831074\n26. 4339367\n27. 4533372\n28. 4625364\n29. 4779736\n30. 5029196\n31. 5303925\n32. 5686986\n33. 5773552\n34. 5988927\n35. 6346105\n36. 6392017\n37. 6483802\n38. 6547629\n39. 6724540\n40. 8001024\n41. 8791894\n42. 9535483\n43. 9883640\n44. 9920000\n45. 11536504\n46. 12702379\n47. 12830632\n48. 19378102\n49. 19687653\n50. 25145561\n51. 37253956\n\n\n",
            "text/latex": "\\begin{enumerate*}\n\\item 563626\n\\item 601723\n\\item 625741\n\\item 672591\n\\item 710231\n\\item 814180\n\\item 897934\n\\item 989415\n\\item 1052567\n\\item 1316470\n\\item 1328361\n\\item 1360301\n\\item 1567582\n\\item 1826341\n\\item 1852994\n\\item 2059179\n\\item 2700551\n\\item 2763885\n\\item 2853118\n\\item 2915918\n\\item 2967297\n\\item 3046355\n\\item 3574097\n\\item 3751351\n\\item 3831074\n\\item 4339367\n\\item 4533372\n\\item 4625364\n\\item 4779736\n\\item 5029196\n\\item 5303925\n\\item 5686986\n\\item 5773552\n\\item 5988927\n\\item 6346105\n\\item 6392017\n\\item 6483802\n\\item 6547629\n\\item 6724540\n\\item 8001024\n\\item 8791894\n\\item 9535483\n\\item 9883640\n\\item 9920000\n\\item 11536504\n\\item 12702379\n\\item 12830632\n\\item 19378102\n\\item 19687653\n\\item 25145561\n\\item 37253956\n\\end{enumerate*}\n",
            "text/plain": [
              " [1]   563626   601723   625741   672591   710231   814180   897934   989415\n",
              " [9]  1052567  1316470  1328361  1360301  1567582  1826341  1852994  2059179\n",
              "[17]  2700551  2763885  2853118  2915918  2967297  3046355  3574097  3751351\n",
              "[25]  3831074  4339367  4533372  4625364  4779736  5029196  5303925  5686986\n",
              "[33]  5773552  5988927  6346105  6392017  6483802  6547629  6724540  8001024\n",
              "[41]  8791894  9535483  9883640  9920000 11536504 12702379 12830632 19378102\n",
              "[49] 19687653 25145561 37253956"
            ]
          },
          "metadata": {}
        },
        {
          "output_type": "display_data",
          "data": {
            "text/html": [
              "563626"
            ],
            "text/markdown": "563626",
            "text/latex": "563626",
            "text/plain": [
              "[1] 563626"
            ]
          },
          "metadata": {}
        }
      ]
    },
    {
      "cell_type": "code",
      "source": [
        "# Define a variable states to be the state names from the murders data frame\n",
        "states <- murders$state\n",
        "\n",
        "# Define a variable ranks to determine the population size ranks\n",
        "ranks <- rank(murders$population)\n",
        "\n",
        "# Define a variable ind to store the indexes needed to order the population values\n",
        "ind <- order(murders$population)\n",
        "\n",
        "# Create a data frame my_df with the state name and its rank and ordered from least populous to most\n",
        "my_df <- data.frame(states = states[ind], rank = ranks[ind])\n",
        "my_df"
      ],
      "metadata": {
        "id": "0nmz7ub9j_TA",
        "colab": {
          "base_uri": "https://localhost:8080/",
          "height": 1000
        },
        "outputId": "abe9ec49-2fe1-4f42-fc58-86b54ac685a6"
      },
      "execution_count": 23,
      "outputs": [
        {
          "output_type": "display_data",
          "data": {
            "text/html": [
              "<table class=\"dataframe\">\n",
              "<caption>A data.frame: 51 × 2</caption>\n",
              "<thead>\n",
              "\t<tr><th scope=col>states</th><th scope=col>rank</th></tr>\n",
              "\t<tr><th scope=col>&lt;chr&gt;</th><th scope=col>&lt;dbl&gt;</th></tr>\n",
              "</thead>\n",
              "<tbody>\n",
              "\t<tr><td>Wyoming             </td><td> 1</td></tr>\n",
              "\t<tr><td>District of Columbia</td><td> 2</td></tr>\n",
              "\t<tr><td>Vermont             </td><td> 3</td></tr>\n",
              "\t<tr><td>North Dakota        </td><td> 4</td></tr>\n",
              "\t<tr><td>Alaska              </td><td> 5</td></tr>\n",
              "\t<tr><td>South Dakota        </td><td> 6</td></tr>\n",
              "\t<tr><td>Delaware            </td><td> 7</td></tr>\n",
              "\t<tr><td>Montana             </td><td> 8</td></tr>\n",
              "\t<tr><td>Rhode Island        </td><td> 9</td></tr>\n",
              "\t<tr><td>New Hampshire       </td><td>10</td></tr>\n",
              "\t<tr><td>Maine               </td><td>11</td></tr>\n",
              "\t<tr><td>Hawaii              </td><td>12</td></tr>\n",
              "\t<tr><td>Idaho               </td><td>13</td></tr>\n",
              "\t<tr><td>Nebraska            </td><td>14</td></tr>\n",
              "\t<tr><td>West Virginia       </td><td>15</td></tr>\n",
              "\t<tr><td>New Mexico          </td><td>16</td></tr>\n",
              "\t<tr><td>Nevada              </td><td>17</td></tr>\n",
              "\t<tr><td>Utah                </td><td>18</td></tr>\n",
              "\t<tr><td>Kansas              </td><td>19</td></tr>\n",
              "\t<tr><td>Arkansas            </td><td>20</td></tr>\n",
              "\t<tr><td>Mississippi         </td><td>21</td></tr>\n",
              "\t<tr><td>Iowa                </td><td>22</td></tr>\n",
              "\t<tr><td>Connecticut         </td><td>23</td></tr>\n",
              "\t<tr><td>Oklahoma            </td><td>24</td></tr>\n",
              "\t<tr><td>Oregon              </td><td>25</td></tr>\n",
              "\t<tr><td>Kentucky            </td><td>26</td></tr>\n",
              "\t<tr><td>Louisiana           </td><td>27</td></tr>\n",
              "\t<tr><td>South Carolina      </td><td>28</td></tr>\n",
              "\t<tr><td>Alabama             </td><td>29</td></tr>\n",
              "\t<tr><td>Colorado            </td><td>30</td></tr>\n",
              "\t<tr><td>Minnesota           </td><td>31</td></tr>\n",
              "\t<tr><td>Wisconsin           </td><td>32</td></tr>\n",
              "\t<tr><td>Maryland            </td><td>33</td></tr>\n",
              "\t<tr><td>Missouri            </td><td>34</td></tr>\n",
              "\t<tr><td>Tennessee           </td><td>35</td></tr>\n",
              "\t<tr><td>Arizona             </td><td>36</td></tr>\n",
              "\t<tr><td>Indiana             </td><td>37</td></tr>\n",
              "\t<tr><td>Massachusetts       </td><td>38</td></tr>\n",
              "\t<tr><td>Washington          </td><td>39</td></tr>\n",
              "\t<tr><td>Virginia            </td><td>40</td></tr>\n",
              "\t<tr><td>New Jersey          </td><td>41</td></tr>\n",
              "\t<tr><td>North Carolina      </td><td>42</td></tr>\n",
              "\t<tr><td>Michigan            </td><td>43</td></tr>\n",
              "\t<tr><td>Georgia             </td><td>44</td></tr>\n",
              "\t<tr><td>Ohio                </td><td>45</td></tr>\n",
              "\t<tr><td>Pennsylvania        </td><td>46</td></tr>\n",
              "\t<tr><td>Illinois            </td><td>47</td></tr>\n",
              "\t<tr><td>New York            </td><td>48</td></tr>\n",
              "\t<tr><td>Florida             </td><td>49</td></tr>\n",
              "\t<tr><td>Texas               </td><td>50</td></tr>\n",
              "\t<tr><td>California          </td><td>51</td></tr>\n",
              "</tbody>\n",
              "</table>\n"
            ],
            "text/markdown": "\nA data.frame: 51 × 2\n\n| states &lt;chr&gt; | rank &lt;dbl&gt; |\n|---|---|\n| Wyoming              |  1 |\n| District of Columbia |  2 |\n| Vermont              |  3 |\n| North Dakota         |  4 |\n| Alaska               |  5 |\n| South Dakota         |  6 |\n| Delaware             |  7 |\n| Montana              |  8 |\n| Rhode Island         |  9 |\n| New Hampshire        | 10 |\n| Maine                | 11 |\n| Hawaii               | 12 |\n| Idaho                | 13 |\n| Nebraska             | 14 |\n| West Virginia        | 15 |\n| New Mexico           | 16 |\n| Nevada               | 17 |\n| Utah                 | 18 |\n| Kansas               | 19 |\n| Arkansas             | 20 |\n| Mississippi          | 21 |\n| Iowa                 | 22 |\n| Connecticut          | 23 |\n| Oklahoma             | 24 |\n| Oregon               | 25 |\n| Kentucky             | 26 |\n| Louisiana            | 27 |\n| South Carolina       | 28 |\n| Alabama              | 29 |\n| Colorado             | 30 |\n| Minnesota            | 31 |\n| Wisconsin            | 32 |\n| Maryland             | 33 |\n| Missouri             | 34 |\n| Tennessee            | 35 |\n| Arizona              | 36 |\n| Indiana              | 37 |\n| Massachusetts        | 38 |\n| Washington           | 39 |\n| Virginia             | 40 |\n| New Jersey           | 41 |\n| North Carolina       | 42 |\n| Michigan             | 43 |\n| Georgia              | 44 |\n| Ohio                 | 45 |\n| Pennsylvania         | 46 |\n| Illinois             | 47 |\n| New York             | 48 |\n| Florida              | 49 |\n| Texas                | 50 |\n| California           | 51 |\n\n",
            "text/latex": "A data.frame: 51 × 2\n\\begin{tabular}{ll}\n states & rank\\\\\n <chr> & <dbl>\\\\\n\\hline\n\t Wyoming              &  1\\\\\n\t District of Columbia &  2\\\\\n\t Vermont              &  3\\\\\n\t North Dakota         &  4\\\\\n\t Alaska               &  5\\\\\n\t South Dakota         &  6\\\\\n\t Delaware             &  7\\\\\n\t Montana              &  8\\\\\n\t Rhode Island         &  9\\\\\n\t New Hampshire        & 10\\\\\n\t Maine                & 11\\\\\n\t Hawaii               & 12\\\\\n\t Idaho                & 13\\\\\n\t Nebraska             & 14\\\\\n\t West Virginia        & 15\\\\\n\t New Mexico           & 16\\\\\n\t Nevada               & 17\\\\\n\t Utah                 & 18\\\\\n\t Kansas               & 19\\\\\n\t Arkansas             & 20\\\\\n\t Mississippi          & 21\\\\\n\t Iowa                 & 22\\\\\n\t Connecticut          & 23\\\\\n\t Oklahoma             & 24\\\\\n\t Oregon               & 25\\\\\n\t Kentucky             & 26\\\\\n\t Louisiana            & 27\\\\\n\t South Carolina       & 28\\\\\n\t Alabama              & 29\\\\\n\t Colorado             & 30\\\\\n\t Minnesota            & 31\\\\\n\t Wisconsin            & 32\\\\\n\t Maryland             & 33\\\\\n\t Missouri             & 34\\\\\n\t Tennessee            & 35\\\\\n\t Arizona              & 36\\\\\n\t Indiana              & 37\\\\\n\t Massachusetts        & 38\\\\\n\t Washington           & 39\\\\\n\t Virginia             & 40\\\\\n\t New Jersey           & 41\\\\\n\t North Carolina       & 42\\\\\n\t Michigan             & 43\\\\\n\t Georgia              & 44\\\\\n\t Ohio                 & 45\\\\\n\t Pennsylvania         & 46\\\\\n\t Illinois             & 47\\\\\n\t New York             & 48\\\\\n\t Florida              & 49\\\\\n\t Texas                & 50\\\\\n\t California           & 51\\\\\n\\end{tabular}\n",
            "text/plain": [
              "   states               rank\n",
              "1  Wyoming               1  \n",
              "2  District of Columbia  2  \n",
              "3  Vermont               3  \n",
              "4  North Dakota          4  \n",
              "5  Alaska                5  \n",
              "6  South Dakota          6  \n",
              "7  Delaware              7  \n",
              "8  Montana               8  \n",
              "9  Rhode Island          9  \n",
              "10 New Hampshire        10  \n",
              "11 Maine                11  \n",
              "12 Hawaii               12  \n",
              "13 Idaho                13  \n",
              "14 Nebraska             14  \n",
              "15 West Virginia        15  \n",
              "16 New Mexico           16  \n",
              "17 Nevada               17  \n",
              "18 Utah                 18  \n",
              "19 Kansas               19  \n",
              "20 Arkansas             20  \n",
              "21 Mississippi          21  \n",
              "22 Iowa                 22  \n",
              "23 Connecticut          23  \n",
              "24 Oklahoma             24  \n",
              "25 Oregon               25  \n",
              "26 Kentucky             26  \n",
              "27 Louisiana            27  \n",
              "28 South Carolina       28  \n",
              "29 Alabama              29  \n",
              "30 Colorado             30  \n",
              "31 Minnesota            31  \n",
              "32 Wisconsin            32  \n",
              "33 Maryland             33  \n",
              "34 Missouri             34  \n",
              "35 Tennessee            35  \n",
              "36 Arizona              36  \n",
              "37 Indiana              37  \n",
              "38 Massachusetts        38  \n",
              "39 Washington           39  \n",
              "40 Virginia             40  \n",
              "41 New Jersey           41  \n",
              "42 North Carolina       42  \n",
              "43 Michigan             43  \n",
              "44 Georgia              44  \n",
              "45 Ohio                 45  \n",
              "46 Pennsylvania         46  \n",
              "47 Illinois             47  \n",
              "48 New York             48  \n",
              "49 Florida              49  \n",
              "50 Texas                50  \n",
              "51 California           51  "
            ]
          },
          "metadata": {}
        }
      ]
    },
    {
      "cell_type": "code",
      "source": [
        "# Using new dataset\n",
        "library(dslabs)\n",
        "data(na_example)\n",
        "\n",
        "# Checking the structure\n",
        "str(na_example)\n",
        "\n",
        "# Find out the mean of the entire dataset\n",
        "mean(na_example)\n",
        "\n",
        "# Use is.na to create a logical index ind that tells which entries are NA\n",
        "is.na(na_example)\n",
        "# Determine how many NA ind has using the sum function\n",
        "sum(is.na(na_example))"
      ],
      "metadata": {
        "id": "Y0U0UUuNkTPC",
        "colab": {
          "base_uri": "https://localhost:8080/",
          "height": 312
        },
        "outputId": "0f7e3098-d525-4d6a-ee99-b84a5df92257"
      },
      "execution_count": 24,
      "outputs": [
        {
          "output_type": "stream",
          "name": "stdout",
          "text": [
            " int [1:1000] 2 1 3 2 1 3 1 4 3 2 ...\n"
          ]
        },
        {
          "output_type": "display_data",
          "data": {
            "text/html": [
              "&lt;NA&gt;"
            ],
            "text/markdown": "&lt;NA&gt;",
            "text/latex": "<NA>",
            "text/plain": [
              "[1] NA"
            ]
          },
          "metadata": {}
        },
        {
          "output_type": "display_data",
          "data": {
            "text/html": [
              "<style>\n",
              ".list-inline {list-style: none; margin:0; padding: 0}\n",
              ".list-inline>li {display: inline-block}\n",
              ".list-inline>li:not(:last-child)::after {content: \"\\00b7\"; padding: 0 .5ex}\n",
              "</style>\n",
              "<ol class=list-inline><li>FALSE</li><li>FALSE</li><li>FALSE</li><li>FALSE</li><li>FALSE</li><li>FALSE</li><li>FALSE</li><li>FALSE</li><li>FALSE</li><li>FALSE</li><li>FALSE</li><li>TRUE</li><li>FALSE</li><li>FALSE</li><li>FALSE</li><li>FALSE</li><li>TRUE</li><li>FALSE</li><li>FALSE</li><li>FALSE</li><li>FALSE</li><li>FALSE</li><li>FALSE</li><li>FALSE</li><li>FALSE</li><li>FALSE</li><li>TRUE</li><li>FALSE</li><li>FALSE</li><li>FALSE</li><li>FALSE</li><li>FALSE</li><li>FALSE</li><li>FALSE</li><li>FALSE</li><li>FALSE</li><li>FALSE</li><li>FALSE</li><li>FALSE</li><li>FALSE</li><li>FALSE</li><li>FALSE</li><li>FALSE</li><li>FALSE</li><li>FALSE</li><li>FALSE</li><li>FALSE</li><li>FALSE</li><li>FALSE</li><li>TRUE</li><li>TRUE</li><li>TRUE</li><li>FALSE</li><li>FALSE</li><li>FALSE</li><li>FALSE</li><li>FALSE</li><li>FALSE</li><li>TRUE</li><li>FALSE</li><li>FALSE</li><li>FALSE</li><li>FALSE</li><li>FALSE</li><li>TRUE</li><li>TRUE</li><li>FALSE</li><li>TRUE</li><li>FALSE</li><li>FALSE</li><li>FALSE</li><li>FALSE</li><li>FALSE</li><li>FALSE</li><li>FALSE</li><li>FALSE</li><li>FALSE</li><li>FALSE</li><li>FALSE</li><li>FALSE</li><li>FALSE</li><li>FALSE</li><li>FALSE</li><li>FALSE</li><li>FALSE</li><li>FALSE</li><li>FALSE</li><li>FALSE</li><li>FALSE</li><li>FALSE</li><li>TRUE</li><li>FALSE</li><li>FALSE</li><li>FALSE</li><li>FALSE</li><li>FALSE</li><li>FALSE</li><li>FALSE</li><li>FALSE</li><li>FALSE</li><li>FALSE</li><li>FALSE</li><li>FALSE</li><li>FALSE</li><li>FALSE</li><li>FALSE</li><li>FALSE</li><li>FALSE</li><li>FALSE</li><li>FALSE</li><li>FALSE</li><li>FALSE</li><li>FALSE</li><li>FALSE</li><li>FALSE</li><li>FALSE</li><li>TRUE</li><li>FALSE</li><li>FALSE</li><li>FALSE</li><li>FALSE</li><li>FALSE</li><li>FALSE</li><li>FALSE</li><li>TRUE</li><li>TRUE</li><li>TRUE</li><li>TRUE</li><li>FALSE</li><li>FALSE</li><li>FALSE</li><li>FALSE</li><li>FALSE</li><li>FALSE</li><li>FALSE</li><li>FALSE</li><li>FALSE</li><li>FALSE</li><li>TRUE</li><li>TRUE</li><li>TRUE</li><li>TRUE</li><li>FALSE</li><li>FALSE</li><li>FALSE</li><li>FALSE</li><li>FALSE</li><li>FALSE</li><li>FALSE</li><li>FALSE</li><li>FALSE</li><li>FALSE</li><li>TRUE</li><li>FALSE</li><li>FALSE</li><li>FALSE</li><li>FALSE</li><li>TRUE</li><li>FALSE</li><li>FALSE</li><li>FALSE</li><li>FALSE</li><li>FALSE</li><li>FALSE</li><li>FALSE</li><li>FALSE</li><li>FALSE</li><li>TRUE</li><li>TRUE</li><li>FALSE</li><li>FALSE</li><li>TRUE</li><li>FALSE</li><li>FALSE</li><li>FALSE</li><li>FALSE</li><li>FALSE</li><li>FALSE</li><li>TRUE</li><li>FALSE</li><li>FALSE</li><li>FALSE</li><li>FALSE</li><li>FALSE</li><li>FALSE</li><li>FALSE</li><li>FALSE</li><li>FALSE</li><li>TRUE</li><li>TRUE</li><li>FALSE</li><li>FALSE</li><li>FALSE</li><li>FALSE</li><li>FALSE</li><li>FALSE</li><li>FALSE</li><li>FALSE</li><li>FALSE</li><li>FALSE</li><li>⋯</li><li>FALSE</li><li>FALSE</li><li>FALSE</li><li>FALSE</li><li>FALSE</li><li>FALSE</li><li>TRUE</li><li>FALSE</li><li>FALSE</li><li>FALSE</li><li>FALSE</li><li>FALSE</li><li>FALSE</li><li>FALSE</li><li>FALSE</li><li>FALSE</li><li>FALSE</li><li>FALSE</li><li>FALSE</li><li>FALSE</li><li>TRUE</li><li>FALSE</li><li>FALSE</li><li>FALSE</li><li>FALSE</li><li>TRUE</li><li>FALSE</li><li>FALSE</li><li>FALSE</li><li>FALSE</li><li>FALSE</li><li>TRUE</li><li>FALSE</li><li>FALSE</li><li>FALSE</li><li>FALSE</li><li>FALSE</li><li>TRUE</li><li>FALSE</li><li>FALSE</li><li>FALSE</li><li>FALSE</li><li>TRUE</li><li>TRUE</li><li>TRUE</li><li>FALSE</li><li>FALSE</li><li>FALSE</li><li>TRUE</li><li>TRUE</li><li>FALSE</li><li>FALSE</li><li>TRUE</li><li>FALSE</li><li>FALSE</li><li>FALSE</li><li>FALSE</li><li>FALSE</li><li>TRUE</li><li>FALSE</li><li>FALSE</li><li>FALSE</li><li>FALSE</li><li>FALSE</li><li>FALSE</li><li>FALSE</li><li>FALSE</li><li>FALSE</li><li>TRUE</li><li>FALSE</li><li>FALSE</li><li>FALSE</li><li>FALSE</li><li>FALSE</li><li>FALSE</li><li>FALSE</li><li>FALSE</li><li>FALSE</li><li>FALSE</li><li>FALSE</li><li>FALSE</li><li>FALSE</li><li>FALSE</li><li>FALSE</li><li>FALSE</li><li>FALSE</li><li>TRUE</li><li>FALSE</li><li>FALSE</li><li>FALSE</li><li>FALSE</li><li>TRUE</li><li>TRUE</li><li>FALSE</li><li>FALSE</li><li>FALSE</li><li>FALSE</li><li>FALSE</li><li>FALSE</li><li>FALSE</li><li>FALSE</li><li>FALSE</li><li>FALSE</li><li>FALSE</li><li>FALSE</li><li>TRUE</li><li>FALSE</li><li>FALSE</li><li>TRUE</li><li>FALSE</li><li>TRUE</li><li>FALSE</li><li>FALSE</li><li>FALSE</li><li>FALSE</li><li>FALSE</li><li>FALSE</li><li>TRUE</li><li>FALSE</li><li>FALSE</li><li>FALSE</li><li>FALSE</li><li>FALSE</li><li>TRUE</li><li>TRUE</li><li>FALSE</li><li>FALSE</li><li>FALSE</li><li>FALSE</li><li>FALSE</li><li>FALSE</li><li>FALSE</li><li>FALSE</li><li>FALSE</li><li>FALSE</li><li>FALSE</li><li>FALSE</li><li>FALSE</li><li>TRUE</li><li>FALSE</li><li>FALSE</li><li>FALSE</li><li>TRUE</li><li>FALSE</li><li>FALSE</li><li>FALSE</li><li>FALSE</li><li>FALSE</li><li>FALSE</li><li>TRUE</li><li>FALSE</li><li>FALSE</li><li>FALSE</li><li>FALSE</li><li>FALSE</li><li>FALSE</li><li>FALSE</li><li>FALSE</li><li>FALSE</li><li>FALSE</li><li>FALSE</li><li>TRUE</li><li>FALSE</li><li>FALSE</li><li>TRUE</li><li>TRUE</li><li>FALSE</li><li>TRUE</li><li>FALSE</li><li>FALSE</li><li>FALSE</li><li>FALSE</li><li>FALSE</li><li>FALSE</li><li>FALSE</li><li>FALSE</li><li>FALSE</li><li>FALSE</li><li>TRUE</li><li>FALSE</li><li>FALSE</li><li>FALSE</li><li>FALSE</li><li>FALSE</li><li>FALSE</li><li>FALSE</li><li>FALSE</li><li>FALSE</li><li>FALSE</li><li>TRUE</li><li>FALSE</li><li>FALSE</li><li>FALSE</li><li>FALSE</li><li>FALSE</li><li>FALSE</li><li>FALSE</li><li>FALSE</li><li>TRUE</li><li>FALSE</li></ol>\n"
            ],
            "text/markdown": "1. FALSE\n2. FALSE\n3. FALSE\n4. FALSE\n5. FALSE\n6. FALSE\n7. FALSE\n8. FALSE\n9. FALSE\n10. FALSE\n11. FALSE\n12. TRUE\n13. FALSE\n14. FALSE\n15. FALSE\n16. FALSE\n17. TRUE\n18. FALSE\n19. FALSE\n20. FALSE\n21. FALSE\n22. FALSE\n23. FALSE\n24. FALSE\n25. FALSE\n26. FALSE\n27. TRUE\n28. FALSE\n29. FALSE\n30. FALSE\n31. FALSE\n32. FALSE\n33. FALSE\n34. FALSE\n35. FALSE\n36. FALSE\n37. FALSE\n38. FALSE\n39. FALSE\n40. FALSE\n41. FALSE\n42. FALSE\n43. FALSE\n44. FALSE\n45. FALSE\n46. FALSE\n47. FALSE\n48. FALSE\n49. FALSE\n50. TRUE\n51. TRUE\n52. TRUE\n53. FALSE\n54. FALSE\n55. FALSE\n56. FALSE\n57. FALSE\n58. FALSE\n59. TRUE\n60. FALSE\n61. FALSE\n62. FALSE\n63. FALSE\n64. FALSE\n65. TRUE\n66. TRUE\n67. FALSE\n68. TRUE\n69. FALSE\n70. FALSE\n71. FALSE\n72. FALSE\n73. FALSE\n74. FALSE\n75. FALSE\n76. FALSE\n77. FALSE\n78. FALSE\n79. FALSE\n80. FALSE\n81. FALSE\n82. FALSE\n83. FALSE\n84. FALSE\n85. FALSE\n86. FALSE\n87. FALSE\n88. FALSE\n89. FALSE\n90. FALSE\n91. TRUE\n92. FALSE\n93. FALSE\n94. FALSE\n95. FALSE\n96. FALSE\n97. FALSE\n98. FALSE\n99. FALSE\n100. FALSE\n101. FALSE\n102. FALSE\n103. FALSE\n104. FALSE\n105. FALSE\n106. FALSE\n107. FALSE\n108. FALSE\n109. FALSE\n110. FALSE\n111. FALSE\n112. FALSE\n113. FALSE\n114. FALSE\n115. FALSE\n116. FALSE\n117. TRUE\n118. FALSE\n119. FALSE\n120. FALSE\n121. FALSE\n122. FALSE\n123. FALSE\n124. FALSE\n125. TRUE\n126. TRUE\n127. TRUE\n128. TRUE\n129. FALSE\n130. FALSE\n131. FALSE\n132. FALSE\n133. FALSE\n134. FALSE\n135. FALSE\n136. FALSE\n137. FALSE\n138. FALSE\n139. TRUE\n140. TRUE\n141. TRUE\n142. TRUE\n143. FALSE\n144. FALSE\n145. FALSE\n146. FALSE\n147. FALSE\n148. FALSE\n149. FALSE\n150. FALSE\n151. FALSE\n152. FALSE\n153. TRUE\n154. FALSE\n155. FALSE\n156. FALSE\n157. FALSE\n158. TRUE\n159. FALSE\n160. FALSE\n161. FALSE\n162. FALSE\n163. FALSE\n164. FALSE\n165. FALSE\n166. FALSE\n167. FALSE\n168. TRUE\n169. TRUE\n170. FALSE\n171. FALSE\n172. TRUE\n173. FALSE\n174. FALSE\n175. FALSE\n176. FALSE\n177. FALSE\n178. FALSE\n179. TRUE\n180. FALSE\n181. FALSE\n182. FALSE\n183. FALSE\n184. FALSE\n185. FALSE\n186. FALSE\n187. FALSE\n188. FALSE\n189. TRUE\n190. TRUE\n191. FALSE\n192. FALSE\n193. FALSE\n194. FALSE\n195. FALSE\n196. FALSE\n197. FALSE\n198. FALSE\n199. FALSE\n200. FALSE\n201. ⋯\n202. FALSE\n203. FALSE\n204. FALSE\n205. FALSE\n206. FALSE\n207. FALSE\n208. TRUE\n209. FALSE\n210. FALSE\n211. FALSE\n212. FALSE\n213. FALSE\n214. FALSE\n215. FALSE\n216. FALSE\n217. FALSE\n218. FALSE\n219. FALSE\n220. FALSE\n221. FALSE\n222. TRUE\n223. FALSE\n224. FALSE\n225. FALSE\n226. FALSE\n227. TRUE\n228. FALSE\n229. FALSE\n230. FALSE\n231. FALSE\n232. FALSE\n233. TRUE\n234. FALSE\n235. FALSE\n236. FALSE\n237. FALSE\n238. FALSE\n239. TRUE\n240. FALSE\n241. FALSE\n242. FALSE\n243. FALSE\n244. TRUE\n245. TRUE\n246. TRUE\n247. FALSE\n248. FALSE\n249. FALSE\n250. TRUE\n251. TRUE\n252. FALSE\n253. FALSE\n254. TRUE\n255. FALSE\n256. FALSE\n257. FALSE\n258. FALSE\n259. FALSE\n260. TRUE\n261. FALSE\n262. FALSE\n263. FALSE\n264. FALSE\n265. FALSE\n266. FALSE\n267. FALSE\n268. FALSE\n269. FALSE\n270. TRUE\n271. FALSE\n272. FALSE\n273. FALSE\n274. FALSE\n275. FALSE\n276. FALSE\n277. FALSE\n278. FALSE\n279. FALSE\n280. FALSE\n281. FALSE\n282. FALSE\n283. FALSE\n284. FALSE\n285. FALSE\n286. FALSE\n287. FALSE\n288. TRUE\n289. FALSE\n290. FALSE\n291. FALSE\n292. FALSE\n293. TRUE\n294. TRUE\n295. FALSE\n296. FALSE\n297. FALSE\n298. FALSE\n299. FALSE\n300. FALSE\n301. FALSE\n302. FALSE\n303. FALSE\n304. FALSE\n305. FALSE\n306. FALSE\n307. TRUE\n308. FALSE\n309. FALSE\n310. TRUE\n311. FALSE\n312. TRUE\n313. FALSE\n314. FALSE\n315. FALSE\n316. FALSE\n317. FALSE\n318. FALSE\n319. TRUE\n320. FALSE\n321. FALSE\n322. FALSE\n323. FALSE\n324. FALSE\n325. TRUE\n326. TRUE\n327. FALSE\n328. FALSE\n329. FALSE\n330. FALSE\n331. FALSE\n332. FALSE\n333. FALSE\n334. FALSE\n335. FALSE\n336. FALSE\n337. FALSE\n338. FALSE\n339. FALSE\n340. TRUE\n341. FALSE\n342. FALSE\n343. FALSE\n344. TRUE\n345. FALSE\n346. FALSE\n347. FALSE\n348. FALSE\n349. FALSE\n350. FALSE\n351. TRUE\n352. FALSE\n353. FALSE\n354. FALSE\n355. FALSE\n356. FALSE\n357. FALSE\n358. FALSE\n359. FALSE\n360. FALSE\n361. FALSE\n362. FALSE\n363. TRUE\n364. FALSE\n365. FALSE\n366. TRUE\n367. TRUE\n368. FALSE\n369. TRUE\n370. FALSE\n371. FALSE\n372. FALSE\n373. FALSE\n374. FALSE\n375. FALSE\n376. FALSE\n377. FALSE\n378. FALSE\n379. FALSE\n380. TRUE\n381. FALSE\n382. FALSE\n383. FALSE\n384. FALSE\n385. FALSE\n386. FALSE\n387. FALSE\n388. FALSE\n389. FALSE\n390. FALSE\n391. TRUE\n392. FALSE\n393. FALSE\n394. FALSE\n395. FALSE\n396. FALSE\n397. FALSE\n398. FALSE\n399. FALSE\n400. TRUE\n401. FALSE\n\n\n",
            "text/latex": "\\begin{enumerate*}\n\\item FALSE\n\\item FALSE\n\\item FALSE\n\\item FALSE\n\\item FALSE\n\\item FALSE\n\\item FALSE\n\\item FALSE\n\\item FALSE\n\\item FALSE\n\\item FALSE\n\\item TRUE\n\\item FALSE\n\\item FALSE\n\\item FALSE\n\\item FALSE\n\\item TRUE\n\\item FALSE\n\\item FALSE\n\\item FALSE\n\\item FALSE\n\\item FALSE\n\\item FALSE\n\\item FALSE\n\\item FALSE\n\\item FALSE\n\\item TRUE\n\\item FALSE\n\\item FALSE\n\\item FALSE\n\\item FALSE\n\\item FALSE\n\\item FALSE\n\\item FALSE\n\\item FALSE\n\\item FALSE\n\\item FALSE\n\\item FALSE\n\\item FALSE\n\\item FALSE\n\\item FALSE\n\\item FALSE\n\\item FALSE\n\\item FALSE\n\\item FALSE\n\\item FALSE\n\\item FALSE\n\\item FALSE\n\\item FALSE\n\\item TRUE\n\\item TRUE\n\\item TRUE\n\\item FALSE\n\\item FALSE\n\\item FALSE\n\\item FALSE\n\\item FALSE\n\\item FALSE\n\\item TRUE\n\\item FALSE\n\\item FALSE\n\\item FALSE\n\\item FALSE\n\\item FALSE\n\\item TRUE\n\\item TRUE\n\\item FALSE\n\\item TRUE\n\\item FALSE\n\\item FALSE\n\\item FALSE\n\\item FALSE\n\\item FALSE\n\\item FALSE\n\\item FALSE\n\\item FALSE\n\\item FALSE\n\\item FALSE\n\\item FALSE\n\\item FALSE\n\\item FALSE\n\\item FALSE\n\\item FALSE\n\\item FALSE\n\\item FALSE\n\\item FALSE\n\\item FALSE\n\\item FALSE\n\\item FALSE\n\\item FALSE\n\\item TRUE\n\\item FALSE\n\\item FALSE\n\\item FALSE\n\\item FALSE\n\\item FALSE\n\\item FALSE\n\\item FALSE\n\\item FALSE\n\\item FALSE\n\\item FALSE\n\\item FALSE\n\\item FALSE\n\\item FALSE\n\\item FALSE\n\\item FALSE\n\\item FALSE\n\\item FALSE\n\\item FALSE\n\\item FALSE\n\\item FALSE\n\\item FALSE\n\\item FALSE\n\\item FALSE\n\\item FALSE\n\\item FALSE\n\\item TRUE\n\\item FALSE\n\\item FALSE\n\\item FALSE\n\\item FALSE\n\\item FALSE\n\\item FALSE\n\\item FALSE\n\\item TRUE\n\\item TRUE\n\\item TRUE\n\\item TRUE\n\\item FALSE\n\\item FALSE\n\\item FALSE\n\\item FALSE\n\\item FALSE\n\\item FALSE\n\\item FALSE\n\\item FALSE\n\\item FALSE\n\\item FALSE\n\\item TRUE\n\\item TRUE\n\\item TRUE\n\\item TRUE\n\\item FALSE\n\\item FALSE\n\\item FALSE\n\\item FALSE\n\\item FALSE\n\\item FALSE\n\\item FALSE\n\\item FALSE\n\\item FALSE\n\\item FALSE\n\\item TRUE\n\\item FALSE\n\\item FALSE\n\\item FALSE\n\\item FALSE\n\\item TRUE\n\\item FALSE\n\\item FALSE\n\\item FALSE\n\\item FALSE\n\\item FALSE\n\\item FALSE\n\\item FALSE\n\\item FALSE\n\\item FALSE\n\\item TRUE\n\\item TRUE\n\\item FALSE\n\\item FALSE\n\\item TRUE\n\\item FALSE\n\\item FALSE\n\\item FALSE\n\\item FALSE\n\\item FALSE\n\\item FALSE\n\\item TRUE\n\\item FALSE\n\\item FALSE\n\\item FALSE\n\\item FALSE\n\\item FALSE\n\\item FALSE\n\\item FALSE\n\\item FALSE\n\\item FALSE\n\\item TRUE\n\\item TRUE\n\\item FALSE\n\\item FALSE\n\\item FALSE\n\\item FALSE\n\\item FALSE\n\\item FALSE\n\\item FALSE\n\\item FALSE\n\\item FALSE\n\\item FALSE\n\\item ⋯\n\\item FALSE\n\\item FALSE\n\\item FALSE\n\\item FALSE\n\\item FALSE\n\\item FALSE\n\\item TRUE\n\\item FALSE\n\\item FALSE\n\\item FALSE\n\\item FALSE\n\\item FALSE\n\\item FALSE\n\\item FALSE\n\\item FALSE\n\\item FALSE\n\\item FALSE\n\\item FALSE\n\\item FALSE\n\\item FALSE\n\\item TRUE\n\\item FALSE\n\\item FALSE\n\\item FALSE\n\\item FALSE\n\\item TRUE\n\\item FALSE\n\\item FALSE\n\\item FALSE\n\\item FALSE\n\\item FALSE\n\\item TRUE\n\\item FALSE\n\\item FALSE\n\\item FALSE\n\\item FALSE\n\\item FALSE\n\\item TRUE\n\\item FALSE\n\\item FALSE\n\\item FALSE\n\\item FALSE\n\\item TRUE\n\\item TRUE\n\\item TRUE\n\\item FALSE\n\\item FALSE\n\\item FALSE\n\\item TRUE\n\\item TRUE\n\\item FALSE\n\\item FALSE\n\\item TRUE\n\\item FALSE\n\\item FALSE\n\\item FALSE\n\\item FALSE\n\\item FALSE\n\\item TRUE\n\\item FALSE\n\\item FALSE\n\\item FALSE\n\\item FALSE\n\\item FALSE\n\\item FALSE\n\\item FALSE\n\\item FALSE\n\\item FALSE\n\\item TRUE\n\\item FALSE\n\\item FALSE\n\\item FALSE\n\\item FALSE\n\\item FALSE\n\\item FALSE\n\\item FALSE\n\\item FALSE\n\\item FALSE\n\\item FALSE\n\\item FALSE\n\\item FALSE\n\\item FALSE\n\\item FALSE\n\\item FALSE\n\\item FALSE\n\\item FALSE\n\\item TRUE\n\\item FALSE\n\\item FALSE\n\\item FALSE\n\\item FALSE\n\\item TRUE\n\\item TRUE\n\\item FALSE\n\\item FALSE\n\\item FALSE\n\\item FALSE\n\\item FALSE\n\\item FALSE\n\\item FALSE\n\\item FALSE\n\\item FALSE\n\\item FALSE\n\\item FALSE\n\\item FALSE\n\\item TRUE\n\\item FALSE\n\\item FALSE\n\\item TRUE\n\\item FALSE\n\\item TRUE\n\\item FALSE\n\\item FALSE\n\\item FALSE\n\\item FALSE\n\\item FALSE\n\\item FALSE\n\\item TRUE\n\\item FALSE\n\\item FALSE\n\\item FALSE\n\\item FALSE\n\\item FALSE\n\\item TRUE\n\\item TRUE\n\\item FALSE\n\\item FALSE\n\\item FALSE\n\\item FALSE\n\\item FALSE\n\\item FALSE\n\\item FALSE\n\\item FALSE\n\\item FALSE\n\\item FALSE\n\\item FALSE\n\\item FALSE\n\\item FALSE\n\\item TRUE\n\\item FALSE\n\\item FALSE\n\\item FALSE\n\\item TRUE\n\\item FALSE\n\\item FALSE\n\\item FALSE\n\\item FALSE\n\\item FALSE\n\\item FALSE\n\\item TRUE\n\\item FALSE\n\\item FALSE\n\\item FALSE\n\\item FALSE\n\\item FALSE\n\\item FALSE\n\\item FALSE\n\\item FALSE\n\\item FALSE\n\\item FALSE\n\\item FALSE\n\\item TRUE\n\\item FALSE\n\\item FALSE\n\\item TRUE\n\\item TRUE\n\\item FALSE\n\\item TRUE\n\\item FALSE\n\\item FALSE\n\\item FALSE\n\\item FALSE\n\\item FALSE\n\\item FALSE\n\\item FALSE\n\\item FALSE\n\\item FALSE\n\\item FALSE\n\\item TRUE\n\\item FALSE\n\\item FALSE\n\\item FALSE\n\\item FALSE\n\\item FALSE\n\\item FALSE\n\\item FALSE\n\\item FALSE\n\\item FALSE\n\\item FALSE\n\\item TRUE\n\\item FALSE\n\\item FALSE\n\\item FALSE\n\\item FALSE\n\\item FALSE\n\\item FALSE\n\\item FALSE\n\\item FALSE\n\\item TRUE\n\\item FALSE\n\\end{enumerate*}\n",
            "text/plain": [
              "   [1] FALSE FALSE FALSE FALSE FALSE FALSE FALSE FALSE FALSE FALSE FALSE  TRUE\n",
              "  [13] FALSE FALSE FALSE FALSE  TRUE FALSE FALSE FALSE FALSE FALSE FALSE FALSE\n",
              "  [25] FALSE FALSE  TRUE FALSE FALSE FALSE FALSE FALSE FALSE FALSE FALSE FALSE\n",
              "  [37] FALSE FALSE FALSE FALSE FALSE FALSE FALSE FALSE FALSE FALSE FALSE FALSE\n",
              "  [49] FALSE  TRUE  TRUE  TRUE FALSE FALSE FALSE FALSE FALSE FALSE  TRUE FALSE\n",
              "  [61] FALSE FALSE FALSE FALSE  TRUE  TRUE FALSE  TRUE FALSE FALSE FALSE FALSE\n",
              "  [73] FALSE FALSE FALSE FALSE FALSE FALSE FALSE FALSE FALSE FALSE FALSE FALSE\n",
              "  [85] FALSE FALSE FALSE FALSE FALSE FALSE  TRUE FALSE FALSE FALSE FALSE FALSE\n",
              "  [97] FALSE FALSE FALSE FALSE FALSE FALSE FALSE FALSE FALSE FALSE FALSE FALSE\n",
              " [109] FALSE FALSE FALSE FALSE FALSE FALSE FALSE FALSE  TRUE FALSE FALSE FALSE\n",
              " [121] FALSE FALSE FALSE FALSE  TRUE  TRUE  TRUE  TRUE FALSE FALSE FALSE FALSE\n",
              " [133] FALSE FALSE FALSE FALSE FALSE FALSE  TRUE  TRUE  TRUE  TRUE FALSE FALSE\n",
              " [145] FALSE FALSE FALSE FALSE FALSE FALSE FALSE FALSE  TRUE FALSE FALSE FALSE\n",
              " [157] FALSE  TRUE FALSE FALSE FALSE FALSE FALSE FALSE FALSE FALSE FALSE  TRUE\n",
              " [169]  TRUE FALSE FALSE  TRUE FALSE FALSE FALSE FALSE FALSE FALSE  TRUE FALSE\n",
              " [181] FALSE FALSE FALSE FALSE FALSE FALSE FALSE FALSE  TRUE  TRUE FALSE FALSE\n",
              " [193] FALSE FALSE FALSE FALSE FALSE FALSE FALSE FALSE FALSE FALSE  TRUE FALSE\n",
              " [205]  TRUE FALSE  TRUE  TRUE FALSE FALSE FALSE  TRUE FALSE  TRUE FALSE FALSE\n",
              " [217] FALSE FALSE FALSE FALSE FALSE FALSE FALSE FALSE FALSE FALSE FALSE FALSE\n",
              " [229] FALSE FALSE FALSE FALSE FALSE FALSE FALSE FALSE  TRUE FALSE FALSE FALSE\n",
              " [241]  TRUE FALSE  TRUE  TRUE FALSE FALSE FALSE FALSE FALSE FALSE FALSE FALSE\n",
              " [253]  TRUE FALSE FALSE FALSE  TRUE FALSE FALSE FALSE FALSE FALSE FALSE FALSE\n",
              " [265]  TRUE FALSE  TRUE FALSE  TRUE FALSE FALSE FALSE FALSE FALSE FALSE FALSE\n",
              " [277] FALSE FALSE  TRUE FALSE FALSE  TRUE FALSE FALSE FALSE FALSE  TRUE FALSE\n",
              " [289] FALSE  TRUE FALSE FALSE FALSE FALSE FALSE FALSE FALSE  TRUE FALSE FALSE\n",
              " [301] FALSE FALSE FALSE FALSE FALSE FALSE FALSE FALSE FALSE  TRUE FALSE FALSE\n",
              " [313] FALSE FALSE FALSE FALSE FALSE FALSE FALSE FALSE FALSE FALSE FALSE FALSE\n",
              " [325]  TRUE  TRUE FALSE FALSE FALSE  TRUE FALSE FALSE FALSE FALSE FALSE FALSE\n",
              " [337] FALSE FALSE FALSE FALSE  TRUE FALSE FALSE FALSE FALSE FALSE FALSE  TRUE\n",
              " [349] FALSE FALSE FALSE FALSE FALSE FALSE FALSE FALSE FALSE FALSE FALSE FALSE\n",
              " [361]  TRUE FALSE FALSE FALSE FALSE FALSE FALSE FALSE FALSE FALSE FALSE FALSE\n",
              " [373] FALSE  TRUE FALSE FALSE FALSE FALSE FALSE FALSE FALSE FALSE FALSE FALSE\n",
              " [385] FALSE FALSE FALSE FALSE FALSE FALSE FALSE  TRUE FALSE FALSE  TRUE FALSE\n",
              " [397]  TRUE FALSE FALSE FALSE FALSE FALSE FALSE FALSE FALSE FALSE  TRUE FALSE\n",
              " [409] FALSE  TRUE FALSE FALSE FALSE FALSE FALSE FALSE FALSE FALSE FALSE FALSE\n",
              " [421] FALSE FALSE FALSE FALSE FALSE FALSE FALSE FALSE FALSE FALSE FALSE FALSE\n",
              " [433] FALSE FALSE FALSE FALSE  TRUE FALSE FALSE FALSE FALSE FALSE  TRUE FALSE\n",
              " [445] FALSE  TRUE FALSE FALSE FALSE FALSE FALSE FALSE FALSE FALSE FALSE FALSE\n",
              " [457] FALSE FALSE FALSE FALSE  TRUE FALSE FALSE FALSE FALSE FALSE FALSE  TRUE\n",
              " [469] FALSE  TRUE FALSE FALSE FALSE FALSE FALSE FALSE FALSE FALSE FALSE FALSE\n",
              " [481] FALSE FALSE FALSE FALSE FALSE FALSE FALSE FALSE FALSE  TRUE FALSE FALSE\n",
              " [493] FALSE FALSE FALSE  TRUE FALSE FALSE FALSE FALSE FALSE FALSE FALSE FALSE\n",
              " [505]  TRUE FALSE FALSE FALSE FALSE FALSE FALSE FALSE FALSE FALSE FALSE FALSE\n",
              " [517] FALSE FALSE FALSE FALSE FALSE FALSE FALSE FALSE FALSE FALSE  TRUE FALSE\n",
              " [529] FALSE FALSE FALSE FALSE FALSE FALSE FALSE  TRUE FALSE FALSE  TRUE FALSE\n",
              " [541] FALSE FALSE FALSE FALSE FALSE FALSE FALSE FALSE FALSE FALSE FALSE FALSE\n",
              " [553]  TRUE FALSE FALSE FALSE FALSE FALSE FALSE FALSE  TRUE FALSE FALSE FALSE\n",
              " [565] FALSE FALSE FALSE FALSE FALSE FALSE FALSE FALSE FALSE FALSE FALSE  TRUE\n",
              " [577] FALSE  TRUE FALSE FALSE FALSE FALSE FALSE FALSE FALSE FALSE FALSE FALSE\n",
              " [589]  TRUE FALSE FALSE FALSE FALSE FALSE FALSE FALSE FALSE FALSE  TRUE FALSE\n",
              " [601] FALSE FALSE  TRUE FALSE FALSE FALSE FALSE FALSE  TRUE FALSE FALSE FALSE\n",
              " [613] FALSE FALSE FALSE  TRUE FALSE  TRUE FALSE  TRUE FALSE FALSE FALSE FALSE\n",
              " [625] FALSE FALSE FALSE FALSE FALSE  TRUE FALSE FALSE  TRUE FALSE FALSE  TRUE\n",
              " [637] FALSE FALSE FALSE FALSE  TRUE FALSE FALSE FALSE FALSE FALSE FALSE FALSE\n",
              " [649] FALSE FALSE FALSE  TRUE  TRUE FALSE FALSE FALSE FALSE FALSE FALSE FALSE\n",
              " [661] FALSE FALSE FALSE FALSE FALSE  TRUE  TRUE  TRUE FALSE FALSE FALSE FALSE\n",
              " [673] FALSE FALSE FALSE FALSE  TRUE FALSE FALSE  TRUE FALSE FALSE FALSE FALSE\n",
              " [685] FALSE FALSE  TRUE FALSE FALSE FALSE  TRUE FALSE FALSE FALSE  TRUE FALSE\n",
              " [697] FALSE FALSE FALSE FALSE  TRUE FALSE FALSE FALSE FALSE FALSE FALSE FALSE\n",
              " [709] FALSE FALSE FALSE FALSE FALSE FALSE FALSE FALSE FALSE FALSE FALSE FALSE\n",
              " [721] FALSE FALSE FALSE FALSE FALSE  TRUE FALSE FALSE FALSE FALSE FALSE FALSE\n",
              " [733] FALSE  TRUE  TRUE  TRUE FALSE FALSE FALSE FALSE FALSE FALSE FALSE FALSE\n",
              " [745]  TRUE  TRUE  TRUE  TRUE FALSE FALSE  TRUE FALSE FALSE FALSE FALSE  TRUE\n",
              " [757] FALSE FALSE FALSE FALSE FALSE  TRUE FALSE FALSE FALSE FALSE  TRUE FALSE\n",
              " [769] FALSE FALSE FALSE FALSE FALSE FALSE FALSE FALSE FALSE FALSE FALSE FALSE\n",
              " [781] FALSE FALSE FALSE FALSE FALSE FALSE FALSE  TRUE  TRUE FALSE FALSE FALSE\n",
              " [793] FALSE FALSE FALSE FALSE FALSE FALSE FALSE FALSE FALSE FALSE FALSE FALSE\n",
              " [805] FALSE FALSE  TRUE FALSE FALSE FALSE FALSE FALSE FALSE FALSE FALSE FALSE\n",
              " [817] FALSE FALSE FALSE FALSE  TRUE FALSE FALSE FALSE FALSE  TRUE FALSE FALSE\n",
              " [829] FALSE FALSE FALSE  TRUE FALSE FALSE FALSE FALSE FALSE  TRUE FALSE FALSE\n",
              " [841] FALSE FALSE  TRUE  TRUE  TRUE FALSE FALSE FALSE  TRUE  TRUE FALSE FALSE\n",
              " [853]  TRUE FALSE FALSE FALSE FALSE FALSE  TRUE FALSE FALSE FALSE FALSE FALSE\n",
              " [865] FALSE FALSE FALSE FALSE  TRUE FALSE FALSE FALSE FALSE FALSE FALSE FALSE\n",
              " [877] FALSE FALSE FALSE FALSE FALSE FALSE FALSE FALSE FALSE FALSE  TRUE FALSE\n",
              " [889] FALSE FALSE FALSE  TRUE  TRUE FALSE FALSE FALSE FALSE FALSE FALSE FALSE\n",
              " [901] FALSE FALSE FALSE FALSE FALSE  TRUE FALSE FALSE  TRUE FALSE  TRUE FALSE\n",
              " [913] FALSE FALSE FALSE FALSE FALSE  TRUE FALSE FALSE FALSE FALSE FALSE  TRUE\n",
              " [925]  TRUE FALSE FALSE FALSE FALSE FALSE FALSE FALSE FALSE FALSE FALSE FALSE\n",
              " [937] FALSE FALSE  TRUE FALSE FALSE FALSE  TRUE FALSE FALSE FALSE FALSE FALSE\n",
              " [949] FALSE  TRUE FALSE FALSE FALSE FALSE FALSE FALSE FALSE FALSE FALSE FALSE\n",
              " [961] FALSE  TRUE FALSE FALSE  TRUE  TRUE FALSE  TRUE FALSE FALSE FALSE FALSE\n",
              " [973] FALSE FALSE FALSE FALSE FALSE FALSE  TRUE FALSE FALSE FALSE FALSE FALSE\n",
              " [985] FALSE FALSE FALSE FALSE FALSE  TRUE FALSE FALSE FALSE FALSE FALSE FALSE\n",
              " [997] FALSE FALSE  TRUE FALSE"
            ]
          },
          "metadata": {}
        },
        {
          "output_type": "display_data",
          "data": {
            "text/html": [
              "145"
            ],
            "text/markdown": "145",
            "text/latex": "145",
            "text/plain": [
              "[1] 145"
            ]
          },
          "metadata": {}
        }
      ]
    },
    {
      "cell_type": "code",
      "source": [
        "# Note what we can do with the ! operator\n",
        "x <- c(1, 2, 3)\n",
        "ind <- c(FALSE, TRUE, FALSE)\n",
        "x[!ind]\n",
        "\n",
        "# Create the ind vector\n",
        "library(dslabs)\n",
        "data(na_example)\n",
        "ind <- is.na(na_example)\n",
        "\n",
        "# We saw that this gives an NA\n",
        "mean(na_example)\n",
        "\n",
        "# Compute the average, for entries of na_example that are not NA\n",
        "mean(na_example[!ind])"
      ],
      "metadata": {
        "id": "eBdWDSg8lCM2",
        "colab": {
          "base_uri": "https://localhost:8080/",
          "height": 69
        },
        "outputId": "a6614f7a-5e23-4c69-f088-cb0b050ce3a1"
      },
      "execution_count": 25,
      "outputs": [
        {
          "output_type": "display_data",
          "data": {
            "text/html": [
              "<style>\n",
              ".list-inline {list-style: none; margin:0; padding: 0}\n",
              ".list-inline>li {display: inline-block}\n",
              ".list-inline>li:not(:last-child)::after {content: \"\\00b7\"; padding: 0 .5ex}\n",
              "</style>\n",
              "<ol class=list-inline><li>1</li><li>3</li></ol>\n"
            ],
            "text/markdown": "1. 1\n2. 3\n\n\n",
            "text/latex": "\\begin{enumerate*}\n\\item 1\n\\item 3\n\\end{enumerate*}\n",
            "text/plain": [
              "[1] 1 3"
            ]
          },
          "metadata": {}
        },
        {
          "output_type": "display_data",
          "data": {
            "text/html": [
              "&lt;NA&gt;"
            ],
            "text/markdown": "&lt;NA&gt;",
            "text/latex": "<NA>",
            "text/plain": [
              "[1] NA"
            ]
          },
          "metadata": {}
        },
        {
          "output_type": "display_data",
          "data": {
            "text/html": [
              "2.30175438596491"
            ],
            "text/markdown": "2.30175438596491",
            "text/latex": "2.30175438596491",
            "text/plain": [
              "[1] 2.301754"
            ]
          },
          "metadata": {}
        }
      ]
    },
    {
      "cell_type": "code",
      "source": [
        "x <- c(2, 43, 27, 96, 18)\n",
        "rank(x)\n",
        "sort(x)\n",
        "min(x)\n",
        "which.min(x)"
      ],
      "metadata": {
        "colab": {
          "base_uri": "https://localhost:8080/",
          "height": 86
        },
        "id": "O0wEwJcnvuBP",
        "outputId": "70eea4c9-d695-4614-fcc4-bb0eb09c7391"
      },
      "execution_count": 26,
      "outputs": [
        {
          "output_type": "display_data",
          "data": {
            "text/html": [
              "<style>\n",
              ".list-inline {list-style: none; margin:0; padding: 0}\n",
              ".list-inline>li {display: inline-block}\n",
              ".list-inline>li:not(:last-child)::after {content: \"\\00b7\"; padding: 0 .5ex}\n",
              "</style>\n",
              "<ol class=list-inline><li>1</li><li>4</li><li>3</li><li>5</li><li>2</li></ol>\n"
            ],
            "text/markdown": "1. 1\n2. 4\n3. 3\n4. 5\n5. 2\n\n\n",
            "text/latex": "\\begin{enumerate*}\n\\item 1\n\\item 4\n\\item 3\n\\item 5\n\\item 2\n\\end{enumerate*}\n",
            "text/plain": [
              "[1] 1 4 3 5 2"
            ]
          },
          "metadata": {}
        },
        {
          "output_type": "display_data",
          "data": {
            "text/html": [
              "<style>\n",
              ".list-inline {list-style: none; margin:0; padding: 0}\n",
              ".list-inline>li {display: inline-block}\n",
              ".list-inline>li:not(:last-child)::after {content: \"\\00b7\"; padding: 0 .5ex}\n",
              "</style>\n",
              "<ol class=list-inline><li>2</li><li>18</li><li>27</li><li>43</li><li>96</li></ol>\n"
            ],
            "text/markdown": "1. 2\n2. 18\n3. 27\n4. 43\n5. 96\n\n\n",
            "text/latex": "\\begin{enumerate*}\n\\item 2\n\\item 18\n\\item 27\n\\item 43\n\\item 96\n\\end{enumerate*}\n",
            "text/plain": [
              "[1]  2 18 27 43 96"
            ]
          },
          "metadata": {}
        },
        {
          "output_type": "display_data",
          "data": {
            "text/html": [
              "2"
            ],
            "text/markdown": "2",
            "text/latex": "2",
            "text/plain": [
              "[1] 2"
            ]
          },
          "metadata": {}
        },
        {
          "output_type": "display_data",
          "data": {
            "text/html": [
              "1"
            ],
            "text/markdown": "1",
            "text/latex": "1",
            "text/plain": [
              "[1] 1"
            ]
          },
          "metadata": {}
        }
      ]
    },
    {
      "cell_type": "code",
      "source": [
        "name <- c(\"Mandi\", \"Amy\", \"Nicole\", \"Olivia\")\n",
        "distance <- c(0.8, 3.1, 2.8, 4.0)\n",
        "time <- c(10, 30, 40, 50)\n",
        "\n",
        "time <- time/60\n",
        "time\n",
        "\n",
        "speed = distance/time\n",
        "\n",
        "\n",
        "df = data.frame(name = name, dist = distance, time = time, speed = speed)\n",
        "df"
      ],
      "metadata": {
        "colab": {
          "base_uri": "https://localhost:8080/",
          "height": 241
        },
        "id": "gywenAJmwnoD",
        "outputId": "f644d385-41ef-4f5f-e39a-ad99fd3b6cc1"
      },
      "execution_count": 27,
      "outputs": [
        {
          "output_type": "display_data",
          "data": {
            "text/html": [
              "<style>\n",
              ".list-inline {list-style: none; margin:0; padding: 0}\n",
              ".list-inline>li {display: inline-block}\n",
              ".list-inline>li:not(:last-child)::after {content: \"\\00b7\"; padding: 0 .5ex}\n",
              "</style>\n",
              "<ol class=list-inline><li>0.166666666666667</li><li>0.5</li><li>0.666666666666667</li><li>0.833333333333333</li></ol>\n"
            ],
            "text/markdown": "1. 0.166666666666667\n2. 0.5\n3. 0.666666666666667\n4. 0.833333333333333\n\n\n",
            "text/latex": "\\begin{enumerate*}\n\\item 0.166666666666667\n\\item 0.5\n\\item 0.666666666666667\n\\item 0.833333333333333\n\\end{enumerate*}\n",
            "text/plain": [
              "[1] 0.1666667 0.5000000 0.6666667 0.8333333"
            ]
          },
          "metadata": {}
        },
        {
          "output_type": "display_data",
          "data": {
            "text/html": [
              "<table class=\"dataframe\">\n",
              "<caption>A data.frame: 4 × 4</caption>\n",
              "<thead>\n",
              "\t<tr><th scope=col>name</th><th scope=col>dist</th><th scope=col>time</th><th scope=col>speed</th></tr>\n",
              "\t<tr><th scope=col>&lt;chr&gt;</th><th scope=col>&lt;dbl&gt;</th><th scope=col>&lt;dbl&gt;</th><th scope=col>&lt;dbl&gt;</th></tr>\n",
              "</thead>\n",
              "<tbody>\n",
              "\t<tr><td>Mandi </td><td>0.8</td><td>0.1666667</td><td>4.8</td></tr>\n",
              "\t<tr><td>Amy   </td><td>3.1</td><td>0.5000000</td><td>6.2</td></tr>\n",
              "\t<tr><td>Nicole</td><td>2.8</td><td>0.6666667</td><td>4.2</td></tr>\n",
              "\t<tr><td>Olivia</td><td>4.0</td><td>0.8333333</td><td>4.8</td></tr>\n",
              "</tbody>\n",
              "</table>\n"
            ],
            "text/markdown": "\nA data.frame: 4 × 4\n\n| name &lt;chr&gt; | dist &lt;dbl&gt; | time &lt;dbl&gt; | speed &lt;dbl&gt; |\n|---|---|---|---|\n| Mandi  | 0.8 | 0.1666667 | 4.8 |\n| Amy    | 3.1 | 0.5000000 | 6.2 |\n| Nicole | 2.8 | 0.6666667 | 4.2 |\n| Olivia | 4.0 | 0.8333333 | 4.8 |\n\n",
            "text/latex": "A data.frame: 4 × 4\n\\begin{tabular}{llll}\n name & dist & time & speed\\\\\n <chr> & <dbl> & <dbl> & <dbl>\\\\\n\\hline\n\t Mandi  & 0.8 & 0.1666667 & 4.8\\\\\n\t Amy    & 3.1 & 0.5000000 & 6.2\\\\\n\t Nicole & 2.8 & 0.6666667 & 4.2\\\\\n\t Olivia & 4.0 & 0.8333333 & 4.8\\\\\n\\end{tabular}\n",
            "text/plain": [
              "  name   dist time      speed\n",
              "1 Mandi  0.8  0.1666667 4.8  \n",
              "2 Amy    3.1  0.5000000 6.2  \n",
              "3 Nicole 2.8  0.6666667 4.2  \n",
              "4 Olivia 4.0  0.8333333 4.8  "
            ]
          },
          "metadata": {}
        }
      ]
    },
    {
      "cell_type": "code",
      "source": [
        "# defining murder rate as before\n",
        "murder_rate <- murders$total / murders$population * 100000\n",
        "# creating a logical vector that specifies if the murder rate in that state is less than or equal to 0.71\n",
        "index <- murder_rate <= 0.71\n",
        "# determining which states have murder rates less than or equal to 0.71\n",
        "murders$state[index]\n",
        "# calculating how many states have a murder rate less than or equal to 0.71\n",
        "sum(index)\n",
        "\n",
        "# creating the two logical vectors representing our conditions\n",
        "west <- murders$region == \"West\"\n",
        "safe <- murder_rate <= 1\n",
        "# defining an index and identifying states with both conditions true\n",
        "index <- safe & west\n",
        "murders$state[index]"
      ],
      "metadata": {
        "colab": {
          "base_uri": "https://localhost:8080/",
          "height": 69
        },
        "id": "Oia1zLCyG7kG",
        "outputId": "1217014c-4a82-4170-d2de-9f1a3a5f90d8"
      },
      "execution_count": 28,
      "outputs": [
        {
          "output_type": "display_data",
          "data": {
            "text/html": [
              "<style>\n",
              ".list-inline {list-style: none; margin:0; padding: 0}\n",
              ".list-inline>li {display: inline-block}\n",
              ".list-inline>li:not(:last-child)::after {content: \"\\00b7\"; padding: 0 .5ex}\n",
              "</style>\n",
              "<ol class=list-inline><li>'Hawaii'</li><li>'Iowa'</li><li>'New Hampshire'</li><li>'North Dakota'</li><li>'Vermont'</li></ol>\n"
            ],
            "text/markdown": "1. 'Hawaii'\n2. 'Iowa'\n3. 'New Hampshire'\n4. 'North Dakota'\n5. 'Vermont'\n\n\n",
            "text/latex": "\\begin{enumerate*}\n\\item 'Hawaii'\n\\item 'Iowa'\n\\item 'New Hampshire'\n\\item 'North Dakota'\n\\item 'Vermont'\n\\end{enumerate*}\n",
            "text/plain": [
              "[1] \"Hawaii\"        \"Iowa\"          \"New Hampshire\" \"North Dakota\" \n",
              "[5] \"Vermont\"      "
            ]
          },
          "metadata": {}
        },
        {
          "output_type": "display_data",
          "data": {
            "text/html": [
              "5"
            ],
            "text/markdown": "5",
            "text/latex": "5",
            "text/plain": [
              "[1] 5"
            ]
          },
          "metadata": {}
        },
        {
          "output_type": "display_data",
          "data": {
            "text/html": [
              "<style>\n",
              ".list-inline {list-style: none; margin:0; padding: 0}\n",
              ".list-inline>li {display: inline-block}\n",
              ".list-inline>li:not(:last-child)::after {content: \"\\00b7\"; padding: 0 .5ex}\n",
              "</style>\n",
              "<ol class=list-inline><li>'Hawaii'</li><li>'Idaho'</li><li>'Oregon'</li><li>'Utah'</li><li>'Wyoming'</li></ol>\n"
            ],
            "text/markdown": "1. 'Hawaii'\n2. 'Idaho'\n3. 'Oregon'\n4. 'Utah'\n5. 'Wyoming'\n\n\n",
            "text/latex": "\\begin{enumerate*}\n\\item 'Hawaii'\n\\item 'Idaho'\n\\item 'Oregon'\n\\item 'Utah'\n\\item 'Wyoming'\n\\end{enumerate*}\n",
            "text/plain": [
              "[1] \"Hawaii\"  \"Idaho\"   \"Oregon\"  \"Utah\"    \"Wyoming\""
            ]
          },
          "metadata": {}
        }
      ]
    },
    {
      "cell_type": "code",
      "source": [
        "x <- c(FALSE, TRUE, FALSE, TRUE, TRUE, FALSE)\n",
        "which(x)    # returns indices that are TRUE\n",
        "\n",
        "# to determine the murder rate in Massachusetts we may do the following\n",
        "index <- which(murders$state == \"Massachusetts\")\n",
        "index\n",
        "murder_rate[index]\n",
        "\n",
        "# to obtain the indices and subsequent murder rates of New York, Florida, Texas, we do:\n",
        "index <- match(c(\"New York\", \"Florida\", \"Texas\"), murders$state)\n",
        "index\n",
        "murders$state[index]\n",
        "murder_rate[index]\n",
        "\n",
        "x <- c(\"a\", \"b\", \"c\", \"d\", \"e\")\n",
        "y <- c(\"a\", \"d\", \"f\")\n",
        "y %in% x\n",
        "\n",
        "# to see if Boston, Dakota, and Washington are states\n",
        "c(\"Boston\", \"Dakota\", \"Washington\") %in% murders$state"
      ],
      "metadata": {
        "colab": {
          "base_uri": "https://localhost:8080/",
          "height": 156
        },
        "id": "oiY_xmmpG8Za",
        "outputId": "3c47cad9-75c4-4622-eb75-c2de1f6bfed2"
      },
      "execution_count": 29,
      "outputs": [
        {
          "output_type": "display_data",
          "data": {
            "text/html": [
              "<style>\n",
              ".list-inline {list-style: none; margin:0; padding: 0}\n",
              ".list-inline>li {display: inline-block}\n",
              ".list-inline>li:not(:last-child)::after {content: \"\\00b7\"; padding: 0 .5ex}\n",
              "</style>\n",
              "<ol class=list-inline><li>2</li><li>4</li><li>5</li></ol>\n"
            ],
            "text/markdown": "1. 2\n2. 4\n3. 5\n\n\n",
            "text/latex": "\\begin{enumerate*}\n\\item 2\n\\item 4\n\\item 5\n\\end{enumerate*}\n",
            "text/plain": [
              "[1] 2 4 5"
            ]
          },
          "metadata": {}
        },
        {
          "output_type": "display_data",
          "data": {
            "text/html": [
              "22"
            ],
            "text/markdown": "22",
            "text/latex": "22",
            "text/plain": [
              "[1] 22"
            ]
          },
          "metadata": {}
        },
        {
          "output_type": "display_data",
          "data": {
            "text/html": [
              "1.80217907886962"
            ],
            "text/markdown": "1.80217907886962",
            "text/latex": "1.80217907886962",
            "text/plain": [
              "[1] 1.802179"
            ]
          },
          "metadata": {}
        },
        {
          "output_type": "display_data",
          "data": {
            "text/html": [
              "<style>\n",
              ".list-inline {list-style: none; margin:0; padding: 0}\n",
              ".list-inline>li {display: inline-block}\n",
              ".list-inline>li:not(:last-child)::after {content: \"\\00b7\"; padding: 0 .5ex}\n",
              "</style>\n",
              "<ol class=list-inline><li>33</li><li>10</li><li>44</li></ol>\n"
            ],
            "text/markdown": "1. 33\n2. 10\n3. 44\n\n\n",
            "text/latex": "\\begin{enumerate*}\n\\item 33\n\\item 10\n\\item 44\n\\end{enumerate*}\n",
            "text/plain": [
              "[1] 33 10 44"
            ]
          },
          "metadata": {}
        },
        {
          "output_type": "display_data",
          "data": {
            "text/html": [
              "<style>\n",
              ".list-inline {list-style: none; margin:0; padding: 0}\n",
              ".list-inline>li {display: inline-block}\n",
              ".list-inline>li:not(:last-child)::after {content: \"\\00b7\"; padding: 0 .5ex}\n",
              "</style>\n",
              "<ol class=list-inline><li>'New York'</li><li>'Florida'</li><li>'Texas'</li></ol>\n"
            ],
            "text/markdown": "1. 'New York'\n2. 'Florida'\n3. 'Texas'\n\n\n",
            "text/latex": "\\begin{enumerate*}\n\\item 'New York'\n\\item 'Florida'\n\\item 'Texas'\n\\end{enumerate*}\n",
            "text/plain": [
              "[1] \"New York\" \"Florida\"  \"Texas\"   "
            ]
          },
          "metadata": {}
        },
        {
          "output_type": "display_data",
          "data": {
            "text/html": [
              "<style>\n",
              ".list-inline {list-style: none; margin:0; padding: 0}\n",
              ".list-inline>li {display: inline-block}\n",
              ".list-inline>li:not(:last-child)::after {content: \"\\00b7\"; padding: 0 .5ex}\n",
              "</style>\n",
              "<ol class=list-inline><li>2.66795994778023</li><li>3.39806883024604</li><li>3.20136027189849</li></ol>\n"
            ],
            "text/markdown": "1. 2.66795994778023\n2. 3.39806883024604\n3. 3.20136027189849\n\n\n",
            "text/latex": "\\begin{enumerate*}\n\\item 2.66795994778023\n\\item 3.39806883024604\n\\item 3.20136027189849\n\\end{enumerate*}\n",
            "text/plain": [
              "[1] 2.667960 3.398069 3.201360"
            ]
          },
          "metadata": {}
        },
        {
          "output_type": "display_data",
          "data": {
            "text/html": [
              "<style>\n",
              ".list-inline {list-style: none; margin:0; padding: 0}\n",
              ".list-inline>li {display: inline-block}\n",
              ".list-inline>li:not(:last-child)::after {content: \"\\00b7\"; padding: 0 .5ex}\n",
              "</style>\n",
              "<ol class=list-inline><li>TRUE</li><li>TRUE</li><li>FALSE</li></ol>\n"
            ],
            "text/markdown": "1. TRUE\n2. TRUE\n3. FALSE\n\n\n",
            "text/latex": "\\begin{enumerate*}\n\\item TRUE\n\\item TRUE\n\\item FALSE\n\\end{enumerate*}\n",
            "text/plain": [
              "[1]  TRUE  TRUE FALSE"
            ]
          },
          "metadata": {}
        },
        {
          "output_type": "display_data",
          "data": {
            "text/html": [
              "<style>\n",
              ".list-inline {list-style: none; margin:0; padding: 0}\n",
              ".list-inline>li {display: inline-block}\n",
              ".list-inline>li:not(:last-child)::after {content: \"\\00b7\"; padding: 0 .5ex}\n",
              "</style>\n",
              "<ol class=list-inline><li>FALSE</li><li>FALSE</li><li>TRUE</li></ol>\n"
            ],
            "text/markdown": "1. FALSE\n2. FALSE\n3. TRUE\n\n\n",
            "text/latex": "\\begin{enumerate*}\n\\item FALSE\n\\item FALSE\n\\item TRUE\n\\end{enumerate*}\n",
            "text/plain": [
              "[1] FALSE FALSE  TRUE"
            ]
          },
          "metadata": {}
        }
      ]
    },
    {
      "cell_type": "code",
      "source": [
        "murder_rate <- murders$total/murders$population*100000\n",
        "\n",
        "# Store the murder_rate < 1 in low\n",
        "low <- murder_rate < 1\n",
        "\n",
        "# Names of states with murder rates lower than 1\n",
        "murders$state[low]"
      ],
      "metadata": {
        "id": "-teR8-cKIyUX",
        "colab": {
          "base_uri": "https://localhost:8080/",
          "height": 34
        },
        "outputId": "015c38d0-2a9e-4f0b-9d23-2494c8958dbe"
      },
      "execution_count": 30,
      "outputs": [
        {
          "output_type": "display_data",
          "data": {
            "text/html": [
              "<style>\n",
              ".list-inline {list-style: none; margin:0; padding: 0}\n",
              ".list-inline>li {display: inline-block}\n",
              ".list-inline>li:not(:last-child)::after {content: \"\\00b7\"; padding: 0 .5ex}\n",
              "</style>\n",
              "<ol class=list-inline><li>'Hawaii'</li><li>'Idaho'</li><li>'Iowa'</li><li>'Maine'</li><li>'Minnesota'</li><li>'New Hampshire'</li><li>'North Dakota'</li><li>'Oregon'</li><li>'South Dakota'</li><li>'Utah'</li><li>'Vermont'</li><li>'Wyoming'</li></ol>\n"
            ],
            "text/markdown": "1. 'Hawaii'\n2. 'Idaho'\n3. 'Iowa'\n4. 'Maine'\n5. 'Minnesota'\n6. 'New Hampshire'\n7. 'North Dakota'\n8. 'Oregon'\n9. 'South Dakota'\n10. 'Utah'\n11. 'Vermont'\n12. 'Wyoming'\n\n\n",
            "text/latex": "\\begin{enumerate*}\n\\item 'Hawaii'\n\\item 'Idaho'\n\\item 'Iowa'\n\\item 'Maine'\n\\item 'Minnesota'\n\\item 'New Hampshire'\n\\item 'North Dakota'\n\\item 'Oregon'\n\\item 'South Dakota'\n\\item 'Utah'\n\\item 'Vermont'\n\\item 'Wyoming'\n\\end{enumerate*}\n",
            "text/plain": [
              " [1] \"Hawaii\"        \"Idaho\"         \"Iowa\"          \"Maine\"        \n",
              " [5] \"Minnesota\"     \"New Hampshire\" \"North Dakota\"  \"Oregon\"       \n",
              " [9] \"South Dakota\"  \"Utah\"          \"Vermont\"       \"Wyoming\"      "
            ]
          },
          "metadata": {}
        }
      ]
    },
    {
      "cell_type": "code",
      "source": [
        "low <- murder_rate < 1\n",
        "\n",
        "# Create a vector ind for states in the Northeast and with murder rates lower than 1.\n",
        "ind <- c(murders$region == \"Northeast\" & murder_rate < 1)\n",
        "# Names of states in `ind`\n",
        "murders$state[ind]"
      ],
      "metadata": {
        "id": "mCBcBxD_LqIj",
        "colab": {
          "base_uri": "https://localhost:8080/",
          "height": 34
        },
        "outputId": "d5743fa9-83ab-4241-c696-5d93b141c9b8"
      },
      "execution_count": 31,
      "outputs": [
        {
          "output_type": "display_data",
          "data": {
            "text/html": [
              "<style>\n",
              ".list-inline {list-style: none; margin:0; padding: 0}\n",
              ".list-inline>li {display: inline-block}\n",
              ".list-inline>li:not(:last-child)::after {content: \"\\00b7\"; padding: 0 .5ex}\n",
              "</style>\n",
              "<ol class=list-inline><li>'Maine'</li><li>'New Hampshire'</li><li>'Vermont'</li></ol>\n"
            ],
            "text/markdown": "1. 'Maine'\n2. 'New Hampshire'\n3. 'Vermont'\n\n\n",
            "text/latex": "\\begin{enumerate*}\n\\item 'Maine'\n\\item 'New Hampshire'\n\\item 'Vermont'\n\\end{enumerate*}\n",
            "text/plain": [
              "[1] \"Maine\"         \"New Hampshire\" \"Vermont\"      "
            ]
          },
          "metadata": {}
        }
      ]
    },
    {
      "cell_type": "code",
      "source": [
        "# Store the murder rate per 100,000 for each state, in murder_rate\n",
        "murder_rate <- murders$total/murders$population*100000\n",
        "\n",
        "# Store the murder_rate < 1 in low\n",
        "low <- murder_rate < 1\n",
        "\n",
        "# Names of states with murder rates lower than 1\n",
        "murders$state[low]"
      ],
      "metadata": {
        "id": "gIN-DfAwLr6a",
        "colab": {
          "base_uri": "https://localhost:8080/",
          "height": 34
        },
        "outputId": "0e700fb0-03a4-466a-fc40-b835b612f07b"
      },
      "execution_count": 32,
      "outputs": [
        {
          "output_type": "display_data",
          "data": {
            "text/html": [
              "<style>\n",
              ".list-inline {list-style: none; margin:0; padding: 0}\n",
              ".list-inline>li {display: inline-block}\n",
              ".list-inline>li:not(:last-child)::after {content: \"\\00b7\"; padding: 0 .5ex}\n",
              "</style>\n",
              "<ol class=list-inline><li>'Hawaii'</li><li>'Idaho'</li><li>'Iowa'</li><li>'Maine'</li><li>'Minnesota'</li><li>'New Hampshire'</li><li>'North Dakota'</li><li>'Oregon'</li><li>'South Dakota'</li><li>'Utah'</li><li>'Vermont'</li><li>'Wyoming'</li></ol>\n"
            ],
            "text/markdown": "1. 'Hawaii'\n2. 'Idaho'\n3. 'Iowa'\n4. 'Maine'\n5. 'Minnesota'\n6. 'New Hampshire'\n7. 'North Dakota'\n8. 'Oregon'\n9. 'South Dakota'\n10. 'Utah'\n11. 'Vermont'\n12. 'Wyoming'\n\n\n",
            "text/latex": "\\begin{enumerate*}\n\\item 'Hawaii'\n\\item 'Idaho'\n\\item 'Iowa'\n\\item 'Maine'\n\\item 'Minnesota'\n\\item 'New Hampshire'\n\\item 'North Dakota'\n\\item 'Oregon'\n\\item 'South Dakota'\n\\item 'Utah'\n\\item 'Vermont'\n\\item 'Wyoming'\n\\end{enumerate*}\n",
            "text/plain": [
              " [1] \"Hawaii\"        \"Idaho\"         \"Iowa\"          \"Maine\"        \n",
              " [5] \"Minnesota\"     \"New Hampshire\" \"North Dakota\"  \"Oregon\"       \n",
              " [9] \"South Dakota\"  \"Utah\"          \"Vermont\"       \"Wyoming\"      "
            ]
          },
          "metadata": {}
        }
      ]
    },
    {
      "cell_type": "code",
      "source": [
        "# Store the murder rate per 100,000 for each state, in murder_rate\n",
        "murder_rate <- murders$total/murders$population*100000\n",
        "\n",
        "# Store the murder_rate < 1 in low\n",
        "low <- murder_rate < 1\n",
        "\n",
        "# Get the indices of entries that are below 1\n",
        "index <- which(murder_rate < 1)\n",
        "index\n"
      ],
      "metadata": {
        "id": "J6zbJ4rzLt21",
        "colab": {
          "base_uri": "https://localhost:8080/",
          "height": 34
        },
        "outputId": "10d2f6d9-21f1-4c79-bde4-f3a778abc01d"
      },
      "execution_count": 33,
      "outputs": [
        {
          "output_type": "display_data",
          "data": {
            "text/html": [
              "<style>\n",
              ".list-inline {list-style: none; margin:0; padding: 0}\n",
              ".list-inline>li {display: inline-block}\n",
              ".list-inline>li:not(:last-child)::after {content: \"\\00b7\"; padding: 0 .5ex}\n",
              "</style>\n",
              "<ol class=list-inline><li>12</li><li>13</li><li>16</li><li>20</li><li>24</li><li>30</li><li>35</li><li>38</li><li>42</li><li>45</li><li>46</li><li>51</li></ol>\n"
            ],
            "text/markdown": "1. 12\n2. 13\n3. 16\n4. 20\n5. 24\n6. 30\n7. 35\n8. 38\n9. 42\n10. 45\n11. 46\n12. 51\n\n\n",
            "text/latex": "\\begin{enumerate*}\n\\item 12\n\\item 13\n\\item 16\n\\item 20\n\\item 24\n\\item 30\n\\item 35\n\\item 38\n\\item 42\n\\item 45\n\\item 46\n\\item 51\n\\end{enumerate*}\n",
            "text/plain": [
              " [1] 12 13 16 20 24 30 35 38 42 45 46 51"
            ]
          },
          "metadata": {}
        }
      ]
    },
    {
      "cell_type": "code",
      "source": [
        "install.packages(\"dplyr\")\n",
        "library(dplyr)"
      ],
      "metadata": {
        "colab": {
          "base_uri": "https://localhost:8080/"
        },
        "id": "7bQjWv0sME_B",
        "outputId": "2b31bc72-48c1-46e5-cfc4-f37b9af5fce2"
      },
      "execution_count": 34,
      "outputs": [
        {
          "output_type": "stream",
          "name": "stderr",
          "text": [
            "Installing package into ‘/usr/local/lib/R/site-library’\n",
            "(as ‘lib’ is unspecified)\n",
            "\n"
          ]
        }
      ]
    },
    {
      "cell_type": "code",
      "source": [
        "library(dplyr)\n",
        "\n",
        "# adding a column with mutate\n",
        "library(dslabs)\n",
        "data(\"murders\")\n",
        "murders <- mutate(murders, rate = total / population * 100000)\n",
        "\n",
        "# subsetting with filter\n",
        "filter(murders, rate <= 0.71)\n",
        "\n",
        "# selecting columns with select\n",
        "new_table <- select(murders, state, region, rate)\n",
        "\n",
        "# using the pipe\n",
        "murders %>% select(state, region, rate) %>% filter(rate <= 0.71)\n",
        "\n",
        "grades <- data.frame(names = c(\"John\", \"Juan\", \"Jean\", \"Yao\"),\n",
        "                     exam_1 = c(95, 80, 90, 85),\n",
        "                     exam_2 = c(90, 85, 85, 90),\n",
        "                     stringsAsFactors = FALSE)\n",
        "\n",
        "                     # Create a new data frame called murders_nw with only the states from the northeast and the west\n",
        "murders_nw <- filter(murders, region %in% c(\"Northeast\", \"West\"))\n",
        "# Number of states (rows) in this category\n",
        "nrow(murders_nw)"
      ],
      "metadata": {
        "id": "w1L1AlVMSon6",
        "colab": {
          "base_uri": "https://localhost:8080/",
          "height": 510
        },
        "outputId": "a62570e8-ca01-40e1-b4ad-27275edc8889"
      },
      "execution_count": 35,
      "outputs": [
        {
          "output_type": "display_data",
          "data": {
            "text/html": [
              "<table class=\"dataframe\">\n",
              "<caption>A data.frame: 5 × 6</caption>\n",
              "<thead>\n",
              "\t<tr><th scope=col>state</th><th scope=col>abb</th><th scope=col>region</th><th scope=col>population</th><th scope=col>total</th><th scope=col>rate</th></tr>\n",
              "\t<tr><th scope=col>&lt;chr&gt;</th><th scope=col>&lt;chr&gt;</th><th scope=col>&lt;fct&gt;</th><th scope=col>&lt;dbl&gt;</th><th scope=col>&lt;dbl&gt;</th><th scope=col>&lt;dbl&gt;</th></tr>\n",
              "</thead>\n",
              "<tbody>\n",
              "\t<tr><td>Hawaii       </td><td>HI</td><td>West         </td><td>1360301</td><td> 7</td><td>0.5145920</td></tr>\n",
              "\t<tr><td>Iowa         </td><td>IA</td><td>North Central</td><td>3046355</td><td>21</td><td>0.6893484</td></tr>\n",
              "\t<tr><td>New Hampshire</td><td>NH</td><td>Northeast    </td><td>1316470</td><td> 5</td><td>0.3798036</td></tr>\n",
              "\t<tr><td>North Dakota </td><td>ND</td><td>North Central</td><td> 672591</td><td> 4</td><td>0.5947151</td></tr>\n",
              "\t<tr><td>Vermont      </td><td>VT</td><td>Northeast    </td><td> 625741</td><td> 2</td><td>0.3196211</td></tr>\n",
              "</tbody>\n",
              "</table>\n"
            ],
            "text/markdown": "\nA data.frame: 5 × 6\n\n| state &lt;chr&gt; | abb &lt;chr&gt; | region &lt;fct&gt; | population &lt;dbl&gt; | total &lt;dbl&gt; | rate &lt;dbl&gt; |\n|---|---|---|---|---|---|\n| Hawaii        | HI | West          | 1360301 |  7 | 0.5145920 |\n| Iowa          | IA | North Central | 3046355 | 21 | 0.6893484 |\n| New Hampshire | NH | Northeast     | 1316470 |  5 | 0.3798036 |\n| North Dakota  | ND | North Central |  672591 |  4 | 0.5947151 |\n| Vermont       | VT | Northeast     |  625741 |  2 | 0.3196211 |\n\n",
            "text/latex": "A data.frame: 5 × 6\n\\begin{tabular}{llllll}\n state & abb & region & population & total & rate\\\\\n <chr> & <chr> & <fct> & <dbl> & <dbl> & <dbl>\\\\\n\\hline\n\t Hawaii        & HI & West          & 1360301 &  7 & 0.5145920\\\\\n\t Iowa          & IA & North Central & 3046355 & 21 & 0.6893484\\\\\n\t New Hampshire & NH & Northeast     & 1316470 &  5 & 0.3798036\\\\\n\t North Dakota  & ND & North Central &  672591 &  4 & 0.5947151\\\\\n\t Vermont       & VT & Northeast     &  625741 &  2 & 0.3196211\\\\\n\\end{tabular}\n",
            "text/plain": [
              "  state         abb region        population total rate     \n",
              "1 Hawaii        HI  West          1360301     7    0.5145920\n",
              "2 Iowa          IA  North Central 3046355    21    0.6893484\n",
              "3 New Hampshire NH  Northeast     1316470     5    0.3798036\n",
              "4 North Dakota  ND  North Central  672591     4    0.5947151\n",
              "5 Vermont       VT  Northeast      625741     2    0.3196211"
            ]
          },
          "metadata": {}
        },
        {
          "output_type": "display_data",
          "data": {
            "text/html": [
              "<table class=\"dataframe\">\n",
              "<caption>A data.frame: 5 × 3</caption>\n",
              "<thead>\n",
              "\t<tr><th scope=col>state</th><th scope=col>region</th><th scope=col>rate</th></tr>\n",
              "\t<tr><th scope=col>&lt;chr&gt;</th><th scope=col>&lt;fct&gt;</th><th scope=col>&lt;dbl&gt;</th></tr>\n",
              "</thead>\n",
              "<tbody>\n",
              "\t<tr><td>Hawaii       </td><td>West         </td><td>0.5145920</td></tr>\n",
              "\t<tr><td>Iowa         </td><td>North Central</td><td>0.6893484</td></tr>\n",
              "\t<tr><td>New Hampshire</td><td>Northeast    </td><td>0.3798036</td></tr>\n",
              "\t<tr><td>North Dakota </td><td>North Central</td><td>0.5947151</td></tr>\n",
              "\t<tr><td>Vermont      </td><td>Northeast    </td><td>0.3196211</td></tr>\n",
              "</tbody>\n",
              "</table>\n"
            ],
            "text/markdown": "\nA data.frame: 5 × 3\n\n| state &lt;chr&gt; | region &lt;fct&gt; | rate &lt;dbl&gt; |\n|---|---|---|\n| Hawaii        | West          | 0.5145920 |\n| Iowa          | North Central | 0.6893484 |\n| New Hampshire | Northeast     | 0.3798036 |\n| North Dakota  | North Central | 0.5947151 |\n| Vermont       | Northeast     | 0.3196211 |\n\n",
            "text/latex": "A data.frame: 5 × 3\n\\begin{tabular}{lll}\n state & region & rate\\\\\n <chr> & <fct> & <dbl>\\\\\n\\hline\n\t Hawaii        & West          & 0.5145920\\\\\n\t Iowa          & North Central & 0.6893484\\\\\n\t New Hampshire & Northeast     & 0.3798036\\\\\n\t North Dakota  & North Central & 0.5947151\\\\\n\t Vermont       & Northeast     & 0.3196211\\\\\n\\end{tabular}\n",
            "text/plain": [
              "  state         region        rate     \n",
              "1 Hawaii        West          0.5145920\n",
              "2 Iowa          North Central 0.6893484\n",
              "3 New Hampshire Northeast     0.3798036\n",
              "4 North Dakota  North Central 0.5947151\n",
              "5 Vermont       Northeast     0.3196211"
            ]
          },
          "metadata": {}
        },
        {
          "output_type": "display_data",
          "data": {
            "text/html": [
              "22"
            ],
            "text/markdown": "22",
            "text/latex": "22",
            "text/plain": [
              "[1] 22"
            ]
          },
          "metadata": {}
        }
      ]
    },
    {
      "cell_type": "code",
      "source": [
        "# Load library\n",
        "library(dplyr)\n",
        "\n",
        "## Define the rate column\n",
        "murders <- mutate(murders, rate =  total / population * 100000, rank = rank(-rate))\n",
        "\n",
        "# show the result and only include the state, rate, and rank columns, all in one line, in that order\n",
        "murders %>% mutate(rate =  total / population * 100000, rank = rank(-rate)) %>%  filter (region %in% c(\"Northeast\", \"West\") & rate < 1)  %>% select( state, rate, rank)"
      ],
      "metadata": {
        "id": "5cDYajg-ZBT7",
        "colab": {
          "base_uri": "https://localhost:8080/",
          "height": 349
        },
        "outputId": "ff757041-7ad9-467d-96f3-bea1c8bacea8"
      },
      "execution_count": 36,
      "outputs": [
        {
          "output_type": "display_data",
          "data": {
            "text/html": [
              "<table class=\"dataframe\">\n",
              "<caption>A data.frame: 8 × 3</caption>\n",
              "<thead>\n",
              "\t<tr><th scope=col>state</th><th scope=col>rate</th><th scope=col>rank</th></tr>\n",
              "\t<tr><th scope=col>&lt;chr&gt;</th><th scope=col>&lt;dbl&gt;</th><th scope=col>&lt;dbl&gt;</th></tr>\n",
              "</thead>\n",
              "<tbody>\n",
              "\t<tr><td>Hawaii       </td><td>0.5145920</td><td>49</td></tr>\n",
              "\t<tr><td>Idaho        </td><td>0.7655102</td><td>46</td></tr>\n",
              "\t<tr><td>Maine        </td><td>0.8280881</td><td>44</td></tr>\n",
              "\t<tr><td>New Hampshire</td><td>0.3798036</td><td>50</td></tr>\n",
              "\t<tr><td>Oregon       </td><td>0.9396843</td><td>42</td></tr>\n",
              "\t<tr><td>Utah         </td><td>0.7959810</td><td>45</td></tr>\n",
              "\t<tr><td>Vermont      </td><td>0.3196211</td><td>51</td></tr>\n",
              "\t<tr><td>Wyoming      </td><td>0.8871131</td><td>43</td></tr>\n",
              "</tbody>\n",
              "</table>\n"
            ],
            "text/markdown": "\nA data.frame: 8 × 3\n\n| state &lt;chr&gt; | rate &lt;dbl&gt; | rank &lt;dbl&gt; |\n|---|---|---|\n| Hawaii        | 0.5145920 | 49 |\n| Idaho         | 0.7655102 | 46 |\n| Maine         | 0.8280881 | 44 |\n| New Hampshire | 0.3798036 | 50 |\n| Oregon        | 0.9396843 | 42 |\n| Utah          | 0.7959810 | 45 |\n| Vermont       | 0.3196211 | 51 |\n| Wyoming       | 0.8871131 | 43 |\n\n",
            "text/latex": "A data.frame: 8 × 3\n\\begin{tabular}{lll}\n state & rate & rank\\\\\n <chr> & <dbl> & <dbl>\\\\\n\\hline\n\t Hawaii        & 0.5145920 & 49\\\\\n\t Idaho         & 0.7655102 & 46\\\\\n\t Maine         & 0.8280881 & 44\\\\\n\t New Hampshire & 0.3798036 & 50\\\\\n\t Oregon        & 0.9396843 & 42\\\\\n\t Utah          & 0.7959810 & 45\\\\\n\t Vermont       & 0.3196211 & 51\\\\\n\t Wyoming       & 0.8871131 & 43\\\\\n\\end{tabular}\n",
            "text/plain": [
              "  state         rate      rank\n",
              "1 Hawaii        0.5145920 49  \n",
              "2 Idaho         0.7655102 46  \n",
              "3 Maine         0.8280881 44  \n",
              "4 New Hampshire 0.3798036 50  \n",
              "5 Oregon        0.9396843 42  \n",
              "6 Utah          0.7959810 45  \n",
              "7 Vermont       0.3196211 51  \n",
              "8 Wyoming       0.8871131 43  "
            ]
          },
          "metadata": {}
        }
      ]
    },
    {
      "cell_type": "code",
      "source": [
        "install.packages(\"dslabs\")\n",
        "\n",
        "library(dplyr)\n",
        "library(dslabs)\n",
        "data(\"murders\")\n",
        "\n",
        "# a simple scatterplot of total murders versus population\n",
        "x <- murders$population /10^6\n",
        "y <- murders$total\n",
        "plot(x, y)\n",
        "\n",
        "# a histogram of murder rates\n",
        "murders <- mutate(murders, rate = total / population * 100000)\n",
        "hist(murders$rate)\n",
        "\n",
        "# boxplots of murder rates by region\n",
        "boxplot(rate~region, data = murders)"
      ],
      "metadata": {
        "colab": {
          "base_uri": "https://localhost:8080/",
          "height": 1000
        },
        "id": "h1eePlpfaIaD",
        "outputId": "ad9df465-2703-45bb-dcd3-7e5f46460b21"
      },
      "execution_count": 37,
      "outputs": [
        {
          "output_type": "stream",
          "name": "stderr",
          "text": [
            "Installing package into ‘/usr/local/lib/R/site-library’\n",
            "(as ‘lib’ is unspecified)\n",
            "\n"
          ]
        },
        {
          "output_type": "display_data",
          "data": {
            "text/plain": [
              "plot without title"
            ],
            "image/png": "[encoded data removed]"
          },
          "metadata": {
            "image/png": {
              "width": 420,
              "height": 420
            }
          }
        },
        {
          "output_type": "display_data",
          "data": {
            "text/plain": [
              "Plot with title “Histogram of murders$rate”"
            ],
            "image/png": "[encoded data removed]"
          },
          "metadata": {
            "image/png": {
              "width": 420,
              "height": 420
            }
          }
        },
        {
          "output_type": "display_data",
          "data": {
            "text/plain": [
              "plot without title"
            ],
            "image/png": "[encoded data removed]"
          },
          "metadata": {
            "image/png": {
              "width": 420,
              "height": 420
            }
          }
        }
      ]
    },
    {
      "cell_type": "code",
      "source": [
        "library(tidyverse)\n",
        "library(dplyr)\n",
        "library(dslabs)\n",
        "data(murders)\n",
        "murders <- mutate(murders, rate = total / population * 10^5)\n",
        "\n",
        "# minimum, median, and maximum murder rate for the states in the West region\n",
        "s <- murders %>%\n",
        "  filter(region == \"West\") %>%\n",
        "  summarize(minimum = min(rate),\n",
        "            median = median(rate),\n",
        "            maximum = max(rate))\n",
        "s\n",
        "\n",
        "# accessing the components with the accessor $\n",
        "s$median\n",
        "s$maximum\n",
        "\n",
        "# average rate unadjusted by population size\n",
        "mean(murders$rate)\n",
        "\n",
        "# average rate adjusted by population size\n",
        "us_murder_rate <- murders %>%\n",
        "  summarize(rate = sum(total) / sum(population) * 10^5)\n",
        "us_murder_rate"
      ],
      "metadata": {
        "id": "A0B9tL2NFrqz",
        "colab": {
          "base_uri": "https://localhost:8080/",
          "height": 329
        },
        "outputId": "cbb20585-2728-4583-fcda-99855dc0dd59"
      },
      "execution_count": 38,
      "outputs": [
        {
          "output_type": "display_data",
          "data": {
            "text/html": [
              "<table class=\"dataframe\">\n",
              "<caption>A data.frame: 1 × 3</caption>\n",
              "<thead>\n",
              "\t<tr><th scope=col>minimum</th><th scope=col>median</th><th scope=col>maximum</th></tr>\n",
              "\t<tr><th scope=col>&lt;dbl&gt;</th><th scope=col>&lt;dbl&gt;</th><th scope=col>&lt;dbl&gt;</th></tr>\n",
              "</thead>\n",
              "<tbody>\n",
              "\t<tr><td>0.514592</td><td>1.292453</td><td>3.629527</td></tr>\n",
              "</tbody>\n",
              "</table>\n"
            ],
            "text/markdown": "\nA data.frame: 1 × 3\n\n| minimum &lt;dbl&gt; | median &lt;dbl&gt; | maximum &lt;dbl&gt; |\n|---|---|---|\n| 0.514592 | 1.292453 | 3.629527 |\n\n",
            "text/latex": "A data.frame: 1 × 3\n\\begin{tabular}{lll}\n minimum & median & maximum\\\\\n <dbl> & <dbl> & <dbl>\\\\\n\\hline\n\t 0.514592 & 1.292453 & 3.629527\\\\\n\\end{tabular}\n",
            "text/plain": [
              "  minimum  median   maximum \n",
              "1 0.514592 1.292453 3.629527"
            ]
          },
          "metadata": {}
        },
        {
          "output_type": "display_data",
          "data": {
            "text/html": [
              "1.29245310781286"
            ],
            "text/markdown": "1.29245310781286",
            "text/latex": "1.29245310781286",
            "text/plain": [
              "[1] 1.292453"
            ]
          },
          "metadata": {}
        },
        {
          "output_type": "display_data",
          "data": {
            "text/html": [
              "3.62952726815339"
            ],
            "text/markdown": "3.62952726815339",
            "text/latex": "3.62952726815339",
            "text/plain": [
              "[1] 3.629527"
            ]
          },
          "metadata": {}
        },
        {
          "output_type": "display_data",
          "data": {
            "text/html": [
              "2.77912545066711"
            ],
            "text/markdown": "2.77912545066711",
            "text/latex": "2.77912545066711",
            "text/plain": [
              "[1] 2.779125"
            ]
          },
          "metadata": {}
        },
        {
          "output_type": "display_data",
          "data": {
            "text/html": [
              "<table class=\"dataframe\">\n",
              "<caption>A data.frame: 1 × 1</caption>\n",
              "<thead>\n",
              "\t<tr><th scope=col>rate</th></tr>\n",
              "\t<tr><th scope=col>&lt;dbl&gt;</th></tr>\n",
              "</thead>\n",
              "<tbody>\n",
              "\t<tr><td>3.034555</td></tr>\n",
              "</tbody>\n",
              "</table>\n"
            ],
            "text/markdown": "\nA data.frame: 1 × 1\n\n| rate &lt;dbl&gt; |\n|---|\n| 3.034555 |\n\n",
            "text/latex": "A data.frame: 1 × 1\n\\begin{tabular}{l}\n rate\\\\\n <dbl>\\\\\n\\hline\n\t 3.034555\\\\\n\\end{tabular}\n",
            "text/plain": [
              "  rate    \n",
              "1 3.034555"
            ]
          },
          "metadata": {}
        }
      ]
    },
    {
      "cell_type": "code",
      "source": [
        "library(tidyverse)\n",
        "library(dplyr)\n",
        "library(dslabs)\n",
        "data(murders)\n",
        "murders <- mutate(murders, rate = total / population * 10^5)\n",
        "\n",
        "# minimum, median, and maximum murder rate for the states in the West region using quantile\n",
        "# note that this returns a vector\n",
        "murders %>%\n",
        "  filter(region == \"West\") %>%\n",
        "  summarize(range = quantile(rate, c(0, 0.5, 1)))\n",
        "\n",
        "# returning minimum, median, and maximum as a data frame\n",
        "my_quantile <- function(x){\n",
        "  r <-  quantile(x, c(0, 0.5, 1))\n",
        "  data.frame(minimum = r[1], median = r[2], maximum = r[3])\n",
        "}\n",
        "murders %>%\n",
        "  filter(region == \"West\") %>%\n",
        "  summarize(my_quantile(rate))"
      ],
      "metadata": {
        "id": "bY_VCleJFrnX",
        "colab": {
          "base_uri": "https://localhost:8080/",
          "height": 444
        },
        "outputId": "64a0fb38-efdd-4b19-eef1-cc28b648f0dc"
      },
      "execution_count": 39,
      "outputs": [
        {
          "output_type": "stream",
          "name": "stderr",
          "text": [
            "Warning message:\n",
            "“\u001b[1m\u001b[22mReturning more (or less) than 1 row per `summarise()` group was deprecated in\n",
            "dplyr 1.1.0.\n",
            "\u001b[36mℹ\u001b[39m Please use `reframe()` instead.\n",
            "\u001b[36mℹ\u001b[39m When switching from `summarise()` to `reframe()`, remember that `reframe()`\n",
            "  always returns an ungrouped data frame and adjust accordingly.”\n"
          ]
        },
        {
          "output_type": "display_data",
          "data": {
            "text/html": [
              "<table class=\"dataframe\">\n",
              "<caption>A data.frame: 3 × 1</caption>\n",
              "<thead>\n",
              "\t<tr><th scope=col>range</th></tr>\n",
              "\t<tr><th scope=col>&lt;dbl&gt;</th></tr>\n",
              "</thead>\n",
              "<tbody>\n",
              "\t<tr><td>0.514592</td></tr>\n",
              "\t<tr><td>1.292453</td></tr>\n",
              "\t<tr><td>3.629527</td></tr>\n",
              "</tbody>\n",
              "</table>\n"
            ],
            "text/markdown": "\nA data.frame: 3 × 1\n\n| range &lt;dbl&gt; |\n|---|\n| 0.514592 |\n| 1.292453 |\n| 3.629527 |\n\n",
            "text/latex": "A data.frame: 3 × 1\n\\begin{tabular}{l}\n range\\\\\n <dbl>\\\\\n\\hline\n\t 0.514592\\\\\n\t 1.292453\\\\\n\t 3.629527\\\\\n\\end{tabular}\n",
            "text/plain": [
              "  range   \n",
              "1 0.514592\n",
              "2 1.292453\n",
              "3 3.629527"
            ]
          },
          "metadata": {}
        },
        {
          "output_type": "display_data",
          "data": {
            "text/html": [
              "<table class=\"dataframe\">\n",
              "<caption>A data.frame: 1 × 3</caption>\n",
              "<thead>\n",
              "\t<tr><th scope=col>minimum</th><th scope=col>median</th><th scope=col>maximum</th></tr>\n",
              "\t<tr><th scope=col>&lt;dbl&gt;</th><th scope=col>&lt;dbl&gt;</th><th scope=col>&lt;dbl&gt;</th></tr>\n",
              "</thead>\n",
              "<tbody>\n",
              "\t<tr><td>0.514592</td><td>1.292453</td><td>3.629527</td></tr>\n",
              "</tbody>\n",
              "</table>\n"
            ],
            "text/markdown": "\nA data.frame: 1 × 3\n\n| minimum &lt;dbl&gt; | median &lt;dbl&gt; | maximum &lt;dbl&gt; |\n|---|---|---|\n| 0.514592 | 1.292453 | 3.629527 |\n\n",
            "text/latex": "A data.frame: 1 × 3\n\\begin{tabular}{lll}\n minimum & median & maximum\\\\\n <dbl> & <dbl> & <dbl>\\\\\n\\hline\n\t 0.514592 & 1.292453 & 3.629527\\\\\n\\end{tabular}\n",
            "text/plain": [
              "  minimum  median   maximum \n",
              "1 0.514592 1.292453 3.629527"
            ]
          },
          "metadata": {}
        }
      ]
    },
    {
      "cell_type": "code",
      "source": [
        "library(dslabs)\n",
        "data(murders)\n",
        "murders <- mutate(murders, rate = total / population * 10^5)\n",
        "\n",
        "# order the states by population size\n",
        "murders %>% arrange(population) %>% head()\n",
        "\n",
        "# order the states by murder rate - the default is ascending order\n",
        "murders %>% arrange(rate) %>% head()\n",
        "\n",
        "# order the states by murder rate in descending order\n",
        "murders %>% arrange(desc(rate)) %>% head()\n",
        "\n",
        "# order the states by region and then by murder rate within region\n",
        "murders %>% arrange(region, rate) %>% head()\n",
        "\n",
        "# return the top 10 states by murder rate\n",
        "murders %>% top_n(10, rate)\n",
        "\n",
        "# return the top 10 states ranked by murder rate, sorted by murder rate\n",
        "murders %>% arrange(desc(rate)) %>% top_n(10)"
      ],
      "metadata": {
        "id": "LYGmiC9cGFsL",
        "colab": {
          "base_uri": "https://localhost:8080/",
          "height": 1000
        },
        "outputId": "1e7eb423-d829-4c9f-d26f-83f14e44669b"
      },
      "execution_count": 40,
      "outputs": [
        {
          "output_type": "display_data",
          "data": {
            "text/html": [
              "<table class=\"dataframe\">\n",
              "<caption>A data.frame: 6 × 6</caption>\n",
              "<thead>\n",
              "\t<tr><th></th><th scope=col>state</th><th scope=col>abb</th><th scope=col>region</th><th scope=col>population</th><th scope=col>total</th><th scope=col>rate</th></tr>\n",
              "\t<tr><th></th><th scope=col>&lt;chr&gt;</th><th scope=col>&lt;chr&gt;</th><th scope=col>&lt;fct&gt;</th><th scope=col>&lt;dbl&gt;</th><th scope=col>&lt;dbl&gt;</th><th scope=col>&lt;dbl&gt;</th></tr>\n",
              "</thead>\n",
              "<tbody>\n",
              "\t<tr><th scope=row>1</th><td>Wyoming             </td><td>WY</td><td>West         </td><td>563626</td><td> 5</td><td> 0.8871131</td></tr>\n",
              "\t<tr><th scope=row>2</th><td>District of Columbia</td><td>DC</td><td>South        </td><td>601723</td><td>99</td><td>16.4527532</td></tr>\n",
              "\t<tr><th scope=row>3</th><td>Vermont             </td><td>VT</td><td>Northeast    </td><td>625741</td><td> 2</td><td> 0.3196211</td></tr>\n",
              "\t<tr><th scope=row>4</th><td>North Dakota        </td><td>ND</td><td>North Central</td><td>672591</td><td> 4</td><td> 0.5947151</td></tr>\n",
              "\t<tr><th scope=row>5</th><td>Alaska              </td><td>AK</td><td>West         </td><td>710231</td><td>19</td><td> 2.6751860</td></tr>\n",
              "\t<tr><th scope=row>6</th><td>South Dakota        </td><td>SD</td><td>North Central</td><td>814180</td><td> 8</td><td> 0.9825837</td></tr>\n",
              "</tbody>\n",
              "</table>\n"
            ],
            "text/markdown": "\nA data.frame: 6 × 6\n\n| <!--/--> | state &lt;chr&gt; | abb &lt;chr&gt; | region &lt;fct&gt; | population &lt;dbl&gt; | total &lt;dbl&gt; | rate &lt;dbl&gt; |\n|---|---|---|---|---|---|---|\n| 1 | Wyoming              | WY | West          | 563626 |  5 |  0.8871131 |\n| 2 | District of Columbia | DC | South         | 601723 | 99 | 16.4527532 |\n| 3 | Vermont              | VT | Northeast     | 625741 |  2 |  0.3196211 |\n| 4 | North Dakota         | ND | North Central | 672591 |  4 |  0.5947151 |\n| 5 | Alaska               | AK | West          | 710231 | 19 |  2.6751860 |\n| 6 | South Dakota         | SD | North Central | 814180 |  8 |  0.9825837 |\n\n",
            "text/latex": "A data.frame: 6 × 6\n\\begin{tabular}{r|llllll}\n  & state & abb & region & population & total & rate\\\\\n  & <chr> & <chr> & <fct> & <dbl> & <dbl> & <dbl>\\\\\n\\hline\n\t1 & Wyoming              & WY & West          & 563626 &  5 &  0.8871131\\\\\n\t2 & District of Columbia & DC & South         & 601723 & 99 & 16.4527532\\\\\n\t3 & Vermont              & VT & Northeast     & 625741 &  2 &  0.3196211\\\\\n\t4 & North Dakota         & ND & North Central & 672591 &  4 &  0.5947151\\\\\n\t5 & Alaska               & AK & West          & 710231 & 19 &  2.6751860\\\\\n\t6 & South Dakota         & SD & North Central & 814180 &  8 &  0.9825837\\\\\n\\end{tabular}\n",
            "text/plain": [
              "  state                abb region        population total rate      \n",
              "1 Wyoming              WY  West          563626      5     0.8871131\n",
              "2 District of Columbia DC  South         601723     99    16.4527532\n",
              "3 Vermont              VT  Northeast     625741      2     0.3196211\n",
              "4 North Dakota         ND  North Central 672591      4     0.5947151\n",
              "5 Alaska               AK  West          710231     19     2.6751860\n",
              "6 South Dakota         SD  North Central 814180      8     0.9825837"
            ]
          },
          "metadata": {}
        },
        {
          "output_type": "display_data",
          "data": {
            "text/html": [
              "<table class=\"dataframe\">\n",
              "<caption>A data.frame: 6 × 6</caption>\n",
              "<thead>\n",
              "\t<tr><th></th><th scope=col>state</th><th scope=col>abb</th><th scope=col>region</th><th scope=col>population</th><th scope=col>total</th><th scope=col>rate</th></tr>\n",
              "\t<tr><th></th><th scope=col>&lt;chr&gt;</th><th scope=col>&lt;chr&gt;</th><th scope=col>&lt;fct&gt;</th><th scope=col>&lt;dbl&gt;</th><th scope=col>&lt;dbl&gt;</th><th scope=col>&lt;dbl&gt;</th></tr>\n",
              "</thead>\n",
              "<tbody>\n",
              "\t<tr><th scope=row>1</th><td>Vermont      </td><td>VT</td><td>Northeast    </td><td> 625741</td><td> 2</td><td>0.3196211</td></tr>\n",
              "\t<tr><th scope=row>2</th><td>New Hampshire</td><td>NH</td><td>Northeast    </td><td>1316470</td><td> 5</td><td>0.3798036</td></tr>\n",
              "\t<tr><th scope=row>3</th><td>Hawaii       </td><td>HI</td><td>West         </td><td>1360301</td><td> 7</td><td>0.5145920</td></tr>\n",
              "\t<tr><th scope=row>4</th><td>North Dakota </td><td>ND</td><td>North Central</td><td> 672591</td><td> 4</td><td>0.5947151</td></tr>\n",
              "\t<tr><th scope=row>5</th><td>Iowa         </td><td>IA</td><td>North Central</td><td>3046355</td><td>21</td><td>0.6893484</td></tr>\n",
              "\t<tr><th scope=row>6</th><td>Idaho        </td><td>ID</td><td>West         </td><td>1567582</td><td>12</td><td>0.7655102</td></tr>\n",
              "</tbody>\n",
              "</table>\n"
            ],
            "text/markdown": "\nA data.frame: 6 × 6\n\n| <!--/--> | state &lt;chr&gt; | abb &lt;chr&gt; | region &lt;fct&gt; | population &lt;dbl&gt; | total &lt;dbl&gt; | rate &lt;dbl&gt; |\n|---|---|---|---|---|---|---|\n| 1 | Vermont       | VT | Northeast     |  625741 |  2 | 0.3196211 |\n| 2 | New Hampshire | NH | Northeast     | 1316470 |  5 | 0.3798036 |\n| 3 | Hawaii        | HI | West          | 1360301 |  7 | 0.5145920 |\n| 4 | North Dakota  | ND | North Central |  672591 |  4 | 0.5947151 |\n| 5 | Iowa          | IA | North Central | 3046355 | 21 | 0.6893484 |\n| 6 | Idaho         | ID | West          | 1567582 | 12 | 0.7655102 |\n\n",
            "text/latex": "A data.frame: 6 × 6\n\\begin{tabular}{r|llllll}\n  & state & abb & region & population & total & rate\\\\\n  & <chr> & <chr> & <fct> & <dbl> & <dbl> & <dbl>\\\\\n\\hline\n\t1 & Vermont       & VT & Northeast     &  625741 &  2 & 0.3196211\\\\\n\t2 & New Hampshire & NH & Northeast     & 1316470 &  5 & 0.3798036\\\\\n\t3 & Hawaii        & HI & West          & 1360301 &  7 & 0.5145920\\\\\n\t4 & North Dakota  & ND & North Central &  672591 &  4 & 0.5947151\\\\\n\t5 & Iowa          & IA & North Central & 3046355 & 21 & 0.6893484\\\\\n\t6 & Idaho         & ID & West          & 1567582 & 12 & 0.7655102\\\\\n\\end{tabular}\n",
            "text/plain": [
              "  state         abb region        population total rate     \n",
              "1 Vermont       VT  Northeast      625741     2    0.3196211\n",
              "2 New Hampshire NH  Northeast     1316470     5    0.3798036\n",
              "3 Hawaii        HI  West          1360301     7    0.5145920\n",
              "4 North Dakota  ND  North Central  672591     4    0.5947151\n",
              "5 Iowa          IA  North Central 3046355    21    0.6893484\n",
              "6 Idaho         ID  West          1567582    12    0.7655102"
            ]
          },
          "metadata": {}
        },
        {
          "output_type": "display_data",
          "data": {
            "text/html": [
              "<table class=\"dataframe\">\n",
              "<caption>A data.frame: 6 × 6</caption>\n",
              "<thead>\n",
              "\t<tr><th></th><th scope=col>state</th><th scope=col>abb</th><th scope=col>region</th><th scope=col>population</th><th scope=col>total</th><th scope=col>rate</th></tr>\n",
              "\t<tr><th></th><th scope=col>&lt;chr&gt;</th><th scope=col>&lt;chr&gt;</th><th scope=col>&lt;fct&gt;</th><th scope=col>&lt;dbl&gt;</th><th scope=col>&lt;dbl&gt;</th><th scope=col>&lt;dbl&gt;</th></tr>\n",
              "</thead>\n",
              "<tbody>\n",
              "\t<tr><th scope=row>1</th><td>District of Columbia</td><td>DC</td><td>South        </td><td> 601723</td><td> 99</td><td>16.452753</td></tr>\n",
              "\t<tr><th scope=row>2</th><td>Louisiana           </td><td>LA</td><td>South        </td><td>4533372</td><td>351</td><td> 7.742581</td></tr>\n",
              "\t<tr><th scope=row>3</th><td>Missouri            </td><td>MO</td><td>North Central</td><td>5988927</td><td>321</td><td> 5.359892</td></tr>\n",
              "\t<tr><th scope=row>4</th><td>Maryland            </td><td>MD</td><td>South        </td><td>5773552</td><td>293</td><td> 5.074866</td></tr>\n",
              "\t<tr><th scope=row>5</th><td>South Carolina      </td><td>SC</td><td>South        </td><td>4625364</td><td>207</td><td> 4.475323</td></tr>\n",
              "\t<tr><th scope=row>6</th><td>Delaware            </td><td>DE</td><td>South        </td><td> 897934</td><td> 38</td><td> 4.231937</td></tr>\n",
              "</tbody>\n",
              "</table>\n"
            ],
            "text/markdown": "\nA data.frame: 6 × 6\n\n| <!--/--> | state &lt;chr&gt; | abb &lt;chr&gt; | region &lt;fct&gt; | population &lt;dbl&gt; | total &lt;dbl&gt; | rate &lt;dbl&gt; |\n|---|---|---|---|---|---|---|\n| 1 | District of Columbia | DC | South         |  601723 |  99 | 16.452753 |\n| 2 | Louisiana            | LA | South         | 4533372 | 351 |  7.742581 |\n| 3 | Missouri             | MO | North Central | 5988927 | 321 |  5.359892 |\n| 4 | Maryland             | MD | South         | 5773552 | 293 |  5.074866 |\n| 5 | South Carolina       | SC | South         | 4625364 | 207 |  4.475323 |\n| 6 | Delaware             | DE | South         |  897934 |  38 |  4.231937 |\n\n",
            "text/latex": "A data.frame: 6 × 6\n\\begin{tabular}{r|llllll}\n  & state & abb & region & population & total & rate\\\\\n  & <chr> & <chr> & <fct> & <dbl> & <dbl> & <dbl>\\\\\n\\hline\n\t1 & District of Columbia & DC & South         &  601723 &  99 & 16.452753\\\\\n\t2 & Louisiana            & LA & South         & 4533372 & 351 &  7.742581\\\\\n\t3 & Missouri             & MO & North Central & 5988927 & 321 &  5.359892\\\\\n\t4 & Maryland             & MD & South         & 5773552 & 293 &  5.074866\\\\\n\t5 & South Carolina       & SC & South         & 4625364 & 207 &  4.475323\\\\\n\t6 & Delaware             & DE & South         &  897934 &  38 &  4.231937\\\\\n\\end{tabular}\n",
            "text/plain": [
              "  state                abb region        population total rate     \n",
              "1 District of Columbia DC  South          601723     99   16.452753\n",
              "2 Louisiana            LA  South         4533372    351    7.742581\n",
              "3 Missouri             MO  North Central 5988927    321    5.359892\n",
              "4 Maryland             MD  South         5773552    293    5.074866\n",
              "5 South Carolina       SC  South         4625364    207    4.475323\n",
              "6 Delaware             DE  South          897934     38    4.231937"
            ]
          },
          "metadata": {}
        },
        {
          "output_type": "display_data",
          "data": {
            "text/html": [
              "<table class=\"dataframe\">\n",
              "<caption>A data.frame: 6 × 6</caption>\n",
              "<thead>\n",
              "\t<tr><th></th><th scope=col>state</th><th scope=col>abb</th><th scope=col>region</th><th scope=col>population</th><th scope=col>total</th><th scope=col>rate</th></tr>\n",
              "\t<tr><th></th><th scope=col>&lt;chr&gt;</th><th scope=col>&lt;chr&gt;</th><th scope=col>&lt;fct&gt;</th><th scope=col>&lt;dbl&gt;</th><th scope=col>&lt;dbl&gt;</th><th scope=col>&lt;dbl&gt;</th></tr>\n",
              "</thead>\n",
              "<tbody>\n",
              "\t<tr><th scope=row>1</th><td>Vermont      </td><td>VT</td><td>Northeast</td><td>  625741</td><td>  2</td><td>0.3196211</td></tr>\n",
              "\t<tr><th scope=row>2</th><td>New Hampshire</td><td>NH</td><td>Northeast</td><td> 1316470</td><td>  5</td><td>0.3798036</td></tr>\n",
              "\t<tr><th scope=row>3</th><td>Maine        </td><td>ME</td><td>Northeast</td><td> 1328361</td><td> 11</td><td>0.8280881</td></tr>\n",
              "\t<tr><th scope=row>4</th><td>Rhode Island </td><td>RI</td><td>Northeast</td><td> 1052567</td><td> 16</td><td>1.5200933</td></tr>\n",
              "\t<tr><th scope=row>5</th><td>Massachusetts</td><td>MA</td><td>Northeast</td><td> 6547629</td><td>118</td><td>1.8021791</td></tr>\n",
              "\t<tr><th scope=row>6</th><td>New York     </td><td>NY</td><td>Northeast</td><td>19378102</td><td>517</td><td>2.6679599</td></tr>\n",
              "</tbody>\n",
              "</table>\n"
            ],
            "text/markdown": "\nA data.frame: 6 × 6\n\n| <!--/--> | state &lt;chr&gt; | abb &lt;chr&gt; | region &lt;fct&gt; | population &lt;dbl&gt; | total &lt;dbl&gt; | rate &lt;dbl&gt; |\n|---|---|---|---|---|---|---|\n| 1 | Vermont       | VT | Northeast |   625741 |   2 | 0.3196211 |\n| 2 | New Hampshire | NH | Northeast |  1316470 |   5 | 0.3798036 |\n| 3 | Maine         | ME | Northeast |  1328361 |  11 | 0.8280881 |\n| 4 | Rhode Island  | RI | Northeast |  1052567 |  16 | 1.5200933 |\n| 5 | Massachusetts | MA | Northeast |  6547629 | 118 | 1.8021791 |\n| 6 | New York      | NY | Northeast | 19378102 | 517 | 2.6679599 |\n\n",
            "text/latex": "A data.frame: 6 × 6\n\\begin{tabular}{r|llllll}\n  & state & abb & region & population & total & rate\\\\\n  & <chr> & <chr> & <fct> & <dbl> & <dbl> & <dbl>\\\\\n\\hline\n\t1 & Vermont       & VT & Northeast &   625741 &   2 & 0.3196211\\\\\n\t2 & New Hampshire & NH & Northeast &  1316470 &   5 & 0.3798036\\\\\n\t3 & Maine         & ME & Northeast &  1328361 &  11 & 0.8280881\\\\\n\t4 & Rhode Island  & RI & Northeast &  1052567 &  16 & 1.5200933\\\\\n\t5 & Massachusetts & MA & Northeast &  6547629 & 118 & 1.8021791\\\\\n\t6 & New York      & NY & Northeast & 19378102 & 517 & 2.6679599\\\\\n\\end{tabular}\n",
            "text/plain": [
              "  state         abb region    population total rate     \n",
              "1 Vermont       VT  Northeast   625741     2   0.3196211\n",
              "2 New Hampshire NH  Northeast  1316470     5   0.3798036\n",
              "3 Maine         ME  Northeast  1328361    11   0.8280881\n",
              "4 Rhode Island  RI  Northeast  1052567    16   1.5200933\n",
              "5 Massachusetts MA  Northeast  6547629   118   1.8021791\n",
              "6 New York      NY  Northeast 19378102   517   2.6679599"
            ]
          },
          "metadata": {}
        },
        {
          "output_type": "display_data",
          "data": {
            "text/html": [
              "<table class=\"dataframe\">\n",
              "<caption>A data.frame: 10 × 6</caption>\n",
              "<thead>\n",
              "\t<tr><th scope=col>state</th><th scope=col>abb</th><th scope=col>region</th><th scope=col>population</th><th scope=col>total</th><th scope=col>rate</th></tr>\n",
              "\t<tr><th scope=col>&lt;chr&gt;</th><th scope=col>&lt;chr&gt;</th><th scope=col>&lt;fct&gt;</th><th scope=col>&lt;dbl&gt;</th><th scope=col>&lt;dbl&gt;</th><th scope=col>&lt;dbl&gt;</th></tr>\n",
              "</thead>\n",
              "<tbody>\n",
              "\t<tr><td>Arizona             </td><td>AZ</td><td>West         </td><td>6392017</td><td>232</td><td> 3.629527</td></tr>\n",
              "\t<tr><td>Delaware            </td><td>DE</td><td>South        </td><td> 897934</td><td> 38</td><td> 4.231937</td></tr>\n",
              "\t<tr><td>District of Columbia</td><td>DC</td><td>South        </td><td> 601723</td><td> 99</td><td>16.452753</td></tr>\n",
              "\t<tr><td>Georgia             </td><td>GA</td><td>South        </td><td>9920000</td><td>376</td><td> 3.790323</td></tr>\n",
              "\t<tr><td>Louisiana           </td><td>LA</td><td>South        </td><td>4533372</td><td>351</td><td> 7.742581</td></tr>\n",
              "\t<tr><td>Maryland            </td><td>MD</td><td>South        </td><td>5773552</td><td>293</td><td> 5.074866</td></tr>\n",
              "\t<tr><td>Michigan            </td><td>MI</td><td>North Central</td><td>9883640</td><td>413</td><td> 4.178622</td></tr>\n",
              "\t<tr><td>Mississippi         </td><td>MS</td><td>South        </td><td>2967297</td><td>120</td><td> 4.044085</td></tr>\n",
              "\t<tr><td>Missouri            </td><td>MO</td><td>North Central</td><td>5988927</td><td>321</td><td> 5.359892</td></tr>\n",
              "\t<tr><td>South Carolina      </td><td>SC</td><td>South        </td><td>4625364</td><td>207</td><td> 4.475323</td></tr>\n",
              "</tbody>\n",
              "</table>\n"
            ],
            "text/markdown": "\nA data.frame: 10 × 6\n\n| state &lt;chr&gt; | abb &lt;chr&gt; | region &lt;fct&gt; | population &lt;dbl&gt; | total &lt;dbl&gt; | rate &lt;dbl&gt; |\n|---|---|---|---|---|---|\n| Arizona              | AZ | West          | 6392017 | 232 |  3.629527 |\n| Delaware             | DE | South         |  897934 |  38 |  4.231937 |\n| District of Columbia | DC | South         |  601723 |  99 | 16.452753 |\n| Georgia              | GA | South         | 9920000 | 376 |  3.790323 |\n| Louisiana            | LA | South         | 4533372 | 351 |  7.742581 |\n| Maryland             | MD | South         | 5773552 | 293 |  5.074866 |\n| Michigan             | MI | North Central | 9883640 | 413 |  4.178622 |\n| Mississippi          | MS | South         | 2967297 | 120 |  4.044085 |\n| Missouri             | MO | North Central | 5988927 | 321 |  5.359892 |\n| South Carolina       | SC | South         | 4625364 | 207 |  4.475323 |\n\n",
            "text/latex": "A data.frame: 10 × 6\n\\begin{tabular}{llllll}\n state & abb & region & population & total & rate\\\\\n <chr> & <chr> & <fct> & <dbl> & <dbl> & <dbl>\\\\\n\\hline\n\t Arizona              & AZ & West          & 6392017 & 232 &  3.629527\\\\\n\t Delaware             & DE & South         &  897934 &  38 &  4.231937\\\\\n\t District of Columbia & DC & South         &  601723 &  99 & 16.452753\\\\\n\t Georgia              & GA & South         & 9920000 & 376 &  3.790323\\\\\n\t Louisiana            & LA & South         & 4533372 & 351 &  7.742581\\\\\n\t Maryland             & MD & South         & 5773552 & 293 &  5.074866\\\\\n\t Michigan             & MI & North Central & 9883640 & 413 &  4.178622\\\\\n\t Mississippi          & MS & South         & 2967297 & 120 &  4.044085\\\\\n\t Missouri             & MO & North Central & 5988927 & 321 &  5.359892\\\\\n\t South Carolina       & SC & South         & 4625364 & 207 &  4.475323\\\\\n\\end{tabular}\n",
            "text/plain": [
              "   state                abb region        population total rate     \n",
              "1  Arizona              AZ  West          6392017    232    3.629527\n",
              "2  Delaware             DE  South          897934     38    4.231937\n",
              "3  District of Columbia DC  South          601723     99   16.452753\n",
              "4  Georgia              GA  South         9920000    376    3.790323\n",
              "5  Louisiana            LA  South         4533372    351    7.742581\n",
              "6  Maryland             MD  South         5773552    293    5.074866\n",
              "7  Michigan             MI  North Central 9883640    413    4.178622\n",
              "8  Mississippi          MS  South         2967297    120    4.044085\n",
              "9  Missouri             MO  North Central 5988927    321    5.359892\n",
              "10 South Carolina       SC  South         4625364    207    4.475323"
            ]
          },
          "metadata": {}
        },
        {
          "output_type": "stream",
          "name": "stderr",
          "text": [
            "\u001b[1m\u001b[22mSelecting by rate\n"
          ]
        },
        {
          "output_type": "display_data",
          "data": {
            "text/html": [
              "<table class=\"dataframe\">\n",
              "<caption>A data.frame: 10 × 6</caption>\n",
              "<thead>\n",
              "\t<tr><th scope=col>state</th><th scope=col>abb</th><th scope=col>region</th><th scope=col>population</th><th scope=col>total</th><th scope=col>rate</th></tr>\n",
              "\t<tr><th scope=col>&lt;chr&gt;</th><th scope=col>&lt;chr&gt;</th><th scope=col>&lt;fct&gt;</th><th scope=col>&lt;dbl&gt;</th><th scope=col>&lt;dbl&gt;</th><th scope=col>&lt;dbl&gt;</th></tr>\n",
              "</thead>\n",
              "<tbody>\n",
              "\t<tr><td>District of Columbia</td><td>DC</td><td>South        </td><td> 601723</td><td> 99</td><td>16.452753</td></tr>\n",
              "\t<tr><td>Louisiana           </td><td>LA</td><td>South        </td><td>4533372</td><td>351</td><td> 7.742581</td></tr>\n",
              "\t<tr><td>Missouri            </td><td>MO</td><td>North Central</td><td>5988927</td><td>321</td><td> 5.359892</td></tr>\n",
              "\t<tr><td>Maryland            </td><td>MD</td><td>South        </td><td>5773552</td><td>293</td><td> 5.074866</td></tr>\n",
              "\t<tr><td>South Carolina      </td><td>SC</td><td>South        </td><td>4625364</td><td>207</td><td> 4.475323</td></tr>\n",
              "\t<tr><td>Delaware            </td><td>DE</td><td>South        </td><td> 897934</td><td> 38</td><td> 4.231937</td></tr>\n",
              "\t<tr><td>Michigan            </td><td>MI</td><td>North Central</td><td>9883640</td><td>413</td><td> 4.178622</td></tr>\n",
              "\t<tr><td>Mississippi         </td><td>MS</td><td>South        </td><td>2967297</td><td>120</td><td> 4.044085</td></tr>\n",
              "\t<tr><td>Georgia             </td><td>GA</td><td>South        </td><td>9920000</td><td>376</td><td> 3.790323</td></tr>\n",
              "\t<tr><td>Arizona             </td><td>AZ</td><td>West         </td><td>6392017</td><td>232</td><td> 3.629527</td></tr>\n",
              "</tbody>\n",
              "</table>\n"
            ],
            "text/markdown": "\nA data.frame: 10 × 6\n\n| state &lt;chr&gt; | abb &lt;chr&gt; | region &lt;fct&gt; | population &lt;dbl&gt; | total &lt;dbl&gt; | rate &lt;dbl&gt; |\n|---|---|---|---|---|---|\n| District of Columbia | DC | South         |  601723 |  99 | 16.452753 |\n| Louisiana            | LA | South         | 4533372 | 351 |  7.742581 |\n| Missouri             | MO | North Central | 5988927 | 321 |  5.359892 |\n| Maryland             | MD | South         | 5773552 | 293 |  5.074866 |\n| South Carolina       | SC | South         | 4625364 | 207 |  4.475323 |\n| Delaware             | DE | South         |  897934 |  38 |  4.231937 |\n| Michigan             | MI | North Central | 9883640 | 413 |  4.178622 |\n| Mississippi          | MS | South         | 2967297 | 120 |  4.044085 |\n| Georgia              | GA | South         | 9920000 | 376 |  3.790323 |\n| Arizona              | AZ | West          | 6392017 | 232 |  3.629527 |\n\n",
            "text/latex": "A data.frame: 10 × 6\n\\begin{tabular}{llllll}\n state & abb & region & population & total & rate\\\\\n <chr> & <chr> & <fct> & <dbl> & <dbl> & <dbl>\\\\\n\\hline\n\t District of Columbia & DC & South         &  601723 &  99 & 16.452753\\\\\n\t Louisiana            & LA & South         & 4533372 & 351 &  7.742581\\\\\n\t Missouri             & MO & North Central & 5988927 & 321 &  5.359892\\\\\n\t Maryland             & MD & South         & 5773552 & 293 &  5.074866\\\\\n\t South Carolina       & SC & South         & 4625364 & 207 &  4.475323\\\\\n\t Delaware             & DE & South         &  897934 &  38 &  4.231937\\\\\n\t Michigan             & MI & North Central & 9883640 & 413 &  4.178622\\\\\n\t Mississippi          & MS & South         & 2967297 & 120 &  4.044085\\\\\n\t Georgia              & GA & South         & 9920000 & 376 &  3.790323\\\\\n\t Arizona              & AZ & West          & 6392017 & 232 &  3.629527\\\\\n\\end{tabular}\n",
            "text/plain": [
              "   state                abb region        population total rate     \n",
              "1  District of Columbia DC  South          601723     99   16.452753\n",
              "2  Louisiana            LA  South         4533372    351    7.742581\n",
              "3  Missouri             MO  North Central 5988927    321    5.359892\n",
              "4  Maryland             MD  South         5773552    293    5.074866\n",
              "5  South Carolina       SC  South         4625364    207    4.475323\n",
              "6  Delaware             DE  South          897934     38    4.231937\n",
              "7  Michigan             MI  North Central 9883640    413    4.178622\n",
              "8  Mississippi          MS  South         2967297    120    4.044085\n",
              "9  Georgia              GA  South         9920000    376    3.790323\n",
              "10 Arizona              AZ  West          6392017    232    3.629527"
            ]
          },
          "metadata": {}
        }
      ]
    },
    {
      "cell_type": "code",
      "source": [],
      "metadata": {
        "id": "6OVv4RX5K09D"
      },
      "execution_count": 41,
      "outputs": []
    },
    {
      "cell_type": "code",
      "source": [
        "# install the data.table package before you use it!\n",
        "install.packages(\"data.table\")\n",
        "\n",
        "# load data.table package\n",
        "library(data.table)\n",
        "\n",
        "# load other packages and datasets\n",
        "library(tidyverse)\n",
        "library(dplyr)\n",
        "library(dslabs)\n",
        "data(murders)\n",
        "\n",
        "# convert the data frame into a data.table object\n",
        "murders <- setDT(murders)\n",
        "\n",
        "# selecting in dplyr\n",
        "select(murders, state, region)\n",
        "\n",
        "# selecting in data.table - 2 methods\n",
        "murders[, c(\"state\", \"region\")] |> head()\n",
        "murders[, .(state, region)] |> head()\n",
        "\n",
        "# adding or changing a column in dplyr\n",
        "murders <- mutate(murders, rate = total / population * 10^5)\n",
        "\n",
        "# adding or changing a column in data.table\n",
        "murders[, rate := total / population * 100000]\n",
        "head(murders)\n",
        "murders[, \":=\"(rate = total / population * 100000, rank = rank(population))]\n",
        "\n",
        "# y is referring to x and := changes by reference\n",
        "x <- data.table(a = 1)\n",
        "y <- x\n",
        "\n",
        "x[,a := 2]\n",
        "y\n",
        "\n",
        "y[,a := 1]\n",
        "x\n",
        "\n",
        "# use copy to make an actual copy\n",
        "x <- data.table(a = 1)\n",
        "y <- copy(x)\n",
        "x[,a := 2]\n",
        "y\n",
        "\n",
        "murders <- setDT(murders)\n",
        "murders <- mutate(murders, rate = total / population * 10^5)\n",
        "murders[, rate := total / population * 100000]\n",
        "\n",
        "# subsetting in dplyr\n",
        "filter(murders, rate <= 0.7)\n",
        "\n",
        "# subsetting in data.table\n",
        "murders[rate <= 0.7]\n",
        "\n",
        "# combining filter and select in data.table\n",
        "murders[rate <= 0.7, .(state, rate)]\n",
        "\n",
        "# combining filter and select in dplyr\n",
        "murders %>% filter(rate <= 0.7) %>% select(state, rate)"
      ],
      "metadata": {
        "id": "8zltbbR8WKZS",
        "colab": {
          "base_uri": "https://localhost:8080/",
          "height": 1000
        },
        "outputId": "1c4b3208-6fa2-4e21-ec66-b923d9d9036b"
      },
      "execution_count": 45,
      "outputs": [
        {
          "output_type": "stream",
          "name": "stderr",
          "text": [
            "Installing package into ‘/usr/local/lib/R/site-library’\n",
            "(as ‘lib’ is unspecified)\n",
            "\n",
            "\n",
            "Attaching package: ‘data.table’\n",
            "\n",
            "\n",
            "The following objects are masked from ‘package:lubridate’:\n",
            "\n",
            "    hour, isoweek, mday, minute, month, quarter, second, wday, week,\n",
            "    yday, year\n",
            "\n",
            "\n",
            "The following objects are masked from ‘package:dplyr’:\n",
            "\n",
            "    between, first, last\n",
            "\n",
            "\n",
            "The following object is masked from ‘package:purrr’:\n",
            "\n",
            "    transpose\n",
            "\n",
            "\n"
          ]
        },
        {
          "output_type": "display_data",
          "data": {
            "text/html": [
              "<table class=\"dataframe\">\n",
              "<caption>A data.table: 51 × 2</caption>\n",
              "<thead>\n",
              "\t<tr><th scope=col>state</th><th scope=col>region</th></tr>\n",
              "\t<tr><th scope=col>&lt;chr&gt;</th><th scope=col>&lt;fct&gt;</th></tr>\n",
              "</thead>\n",
              "<tbody>\n",
              "\t<tr><td>Alabama             </td><td>South        </td></tr>\n",
              "\t<tr><td>Alaska              </td><td>West         </td></tr>\n",
              "\t<tr><td>Arizona             </td><td>West         </td></tr>\n",
              "\t<tr><td>Arkansas            </td><td>South        </td></tr>\n",
              "\t<tr><td>California          </td><td>West         </td></tr>\n",
              "\t<tr><td>Colorado            </td><td>West         </td></tr>\n",
              "\t<tr><td>Connecticut         </td><td>Northeast    </td></tr>\n",
              "\t<tr><td>Delaware            </td><td>South        </td></tr>\n",
              "\t<tr><td>District of Columbia</td><td>South        </td></tr>\n",
              "\t<tr><td>Florida             </td><td>South        </td></tr>\n",
              "\t<tr><td>Georgia             </td><td>South        </td></tr>\n",
              "\t<tr><td>Hawaii              </td><td>West         </td></tr>\n",
              "\t<tr><td>Idaho               </td><td>West         </td></tr>\n",
              "\t<tr><td>Illinois            </td><td>North Central</td></tr>\n",
              "\t<tr><td>Indiana             </td><td>North Central</td></tr>\n",
              "\t<tr><td>Iowa                </td><td>North Central</td></tr>\n",
              "\t<tr><td>Kansas              </td><td>North Central</td></tr>\n",
              "\t<tr><td>Kentucky            </td><td>South        </td></tr>\n",
              "\t<tr><td>Louisiana           </td><td>South        </td></tr>\n",
              "\t<tr><td>Maine               </td><td>Northeast    </td></tr>\n",
              "\t<tr><td>Maryland            </td><td>South        </td></tr>\n",
              "\t<tr><td>Massachusetts       </td><td>Northeast    </td></tr>\n",
              "\t<tr><td>Michigan            </td><td>North Central</td></tr>\n",
              "\t<tr><td>Minnesota           </td><td>North Central</td></tr>\n",
              "\t<tr><td>Mississippi         </td><td>South        </td></tr>\n",
              "\t<tr><td>Missouri            </td><td>North Central</td></tr>\n",
              "\t<tr><td>Montana             </td><td>West         </td></tr>\n",
              "\t<tr><td>Nebraska            </td><td>North Central</td></tr>\n",
              "\t<tr><td>Nevada              </td><td>West         </td></tr>\n",
              "\t<tr><td>New Hampshire       </td><td>Northeast    </td></tr>\n",
              "\t<tr><td>New Jersey          </td><td>Northeast    </td></tr>\n",
              "\t<tr><td>New Mexico          </td><td>West         </td></tr>\n",
              "\t<tr><td>New York            </td><td>Northeast    </td></tr>\n",
              "\t<tr><td>North Carolina      </td><td>South        </td></tr>\n",
              "\t<tr><td>North Dakota        </td><td>North Central</td></tr>\n",
              "\t<tr><td>Ohio                </td><td>North Central</td></tr>\n",
              "\t<tr><td>Oklahoma            </td><td>South        </td></tr>\n",
              "\t<tr><td>Oregon              </td><td>West         </td></tr>\n",
              "\t<tr><td>Pennsylvania        </td><td>Northeast    </td></tr>\n",
              "\t<tr><td>Rhode Island        </td><td>Northeast    </td></tr>\n",
              "\t<tr><td>South Carolina      </td><td>South        </td></tr>\n",
              "\t<tr><td>South Dakota        </td><td>North Central</td></tr>\n",
              "\t<tr><td>Tennessee           </td><td>South        </td></tr>\n",
              "\t<tr><td>Texas               </td><td>South        </td></tr>\n",
              "\t<tr><td>Utah                </td><td>West         </td></tr>\n",
              "\t<tr><td>Vermont             </td><td>Northeast    </td></tr>\n",
              "\t<tr><td>Virginia            </td><td>South        </td></tr>\n",
              "\t<tr><td>Washington          </td><td>West         </td></tr>\n",
              "\t<tr><td>West Virginia       </td><td>South        </td></tr>\n",
              "\t<tr><td>Wisconsin           </td><td>North Central</td></tr>\n",
              "\t<tr><td>Wyoming             </td><td>West         </td></tr>\n",
              "</tbody>\n",
              "</table>\n"
            ],
            "text/markdown": "\nA data.table: 51 × 2\n\n| state &lt;chr&gt; | region &lt;fct&gt; |\n|---|---|\n| Alabama              | South         |\n| Alaska               | West          |\n| Arizona              | West          |\n| Arkansas             | South         |\n| California           | West          |\n| Colorado             | West          |\n| Connecticut          | Northeast     |\n| Delaware             | South         |\n| District of Columbia | South         |\n| Florida              | South         |\n| Georgia              | South         |\n| Hawaii               | West          |\n| Idaho                | West          |\n| Illinois             | North Central |\n| Indiana              | North Central |\n| Iowa                 | North Central |\n| Kansas               | North Central |\n| Kentucky             | South         |\n| Louisiana            | South         |\n| Maine                | Northeast     |\n| Maryland             | South         |\n| Massachusetts        | Northeast     |\n| Michigan             | North Central |\n| Minnesota            | North Central |\n| Mississippi          | South         |\n| Missouri             | North Central |\n| Montana              | West          |\n| Nebraska             | North Central |\n| Nevada               | West          |\n| New Hampshire        | Northeast     |\n| New Jersey           | Northeast     |\n| New Mexico           | West          |\n| New York             | Northeast     |\n| North Carolina       | South         |\n| North Dakota         | North Central |\n| Ohio                 | North Central |\n| Oklahoma             | South         |\n| Oregon               | West          |\n| Pennsylvania         | Northeast     |\n| Rhode Island         | Northeast     |\n| South Carolina       | South         |\n| South Dakota         | North Central |\n| Tennessee            | South         |\n| Texas                | South         |\n| Utah                 | West          |\n| Vermont              | Northeast     |\n| Virginia             | South         |\n| Washington           | West          |\n| West Virginia        | South         |\n| Wisconsin            | North Central |\n| Wyoming              | West          |\n\n",
            "text/latex": "A data.table: 51 × 2\n\\begin{tabular}{ll}\n state & region\\\\\n <chr> & <fct>\\\\\n\\hline\n\t Alabama              & South        \\\\\n\t Alaska               & West         \\\\\n\t Arizona              & West         \\\\\n\t Arkansas             & South        \\\\\n\t California           & West         \\\\\n\t Colorado             & West         \\\\\n\t Connecticut          & Northeast    \\\\\n\t Delaware             & South        \\\\\n\t District of Columbia & South        \\\\\n\t Florida              & South        \\\\\n\t Georgia              & South        \\\\\n\t Hawaii               & West         \\\\\n\t Idaho                & West         \\\\\n\t Illinois             & North Central\\\\\n\t Indiana              & North Central\\\\\n\t Iowa                 & North Central\\\\\n\t Kansas               & North Central\\\\\n\t Kentucky             & South        \\\\\n\t Louisiana            & South        \\\\\n\t Maine                & Northeast    \\\\\n\t Maryland             & South        \\\\\n\t Massachusetts        & Northeast    \\\\\n\t Michigan             & North Central\\\\\n\t Minnesota            & North Central\\\\\n\t Mississippi          & South        \\\\\n\t Missouri             & North Central\\\\\n\t Montana              & West         \\\\\n\t Nebraska             & North Central\\\\\n\t Nevada               & West         \\\\\n\t New Hampshire        & Northeast    \\\\\n\t New Jersey           & Northeast    \\\\\n\t New Mexico           & West         \\\\\n\t New York             & Northeast    \\\\\n\t North Carolina       & South        \\\\\n\t North Dakota         & North Central\\\\\n\t Ohio                 & North Central\\\\\n\t Oklahoma             & South        \\\\\n\t Oregon               & West         \\\\\n\t Pennsylvania         & Northeast    \\\\\n\t Rhode Island         & Northeast    \\\\\n\t South Carolina       & South        \\\\\n\t South Dakota         & North Central\\\\\n\t Tennessee            & South        \\\\\n\t Texas                & South        \\\\\n\t Utah                 & West         \\\\\n\t Vermont              & Northeast    \\\\\n\t Virginia             & South        \\\\\n\t Washington           & West         \\\\\n\t West Virginia        & South        \\\\\n\t Wisconsin            & North Central\\\\\n\t Wyoming              & West         \\\\\n\\end{tabular}\n",
            "text/plain": [
              "   state                region       \n",
              "1  Alabama              South        \n",
              "2  Alaska               West         \n",
              "3  Arizona              West         \n",
              "4  Arkansas             South        \n",
              "5  California           West         \n",
              "6  Colorado             West         \n",
              "7  Connecticut          Northeast    \n",
              "8  Delaware             South        \n",
              "9  District of Columbia South        \n",
              "10 Florida              South        \n",
              "11 Georgia              South        \n",
              "12 Hawaii               West         \n",
              "13 Idaho                West         \n",
              "14 Illinois             North Central\n",
              "15 Indiana              North Central\n",
              "16 Iowa                 North Central\n",
              "17 Kansas               North Central\n",
              "18 Kentucky             South        \n",
              "19 Louisiana            South        \n",
              "20 Maine                Northeast    \n",
              "21 Maryland             South        \n",
              "22 Massachusetts        Northeast    \n",
              "23 Michigan             North Central\n",
              "24 Minnesota            North Central\n",
              "25 Mississippi          South        \n",
              "26 Missouri             North Central\n",
              "27 Montana              West         \n",
              "28 Nebraska             North Central\n",
              "29 Nevada               West         \n",
              "30 New Hampshire        Northeast    \n",
              "31 New Jersey           Northeast    \n",
              "32 New Mexico           West         \n",
              "33 New York             Northeast    \n",
              "34 North Carolina       South        \n",
              "35 North Dakota         North Central\n",
              "36 Ohio                 North Central\n",
              "37 Oklahoma             South        \n",
              "38 Oregon               West         \n",
              "39 Pennsylvania         Northeast    \n",
              "40 Rhode Island         Northeast    \n",
              "41 South Carolina       South        \n",
              "42 South Dakota         North Central\n",
              "43 Tennessee            South        \n",
              "44 Texas                South        \n",
              "45 Utah                 West         \n",
              "46 Vermont              Northeast    \n",
              "47 Virginia             South        \n",
              "48 Washington           West         \n",
              "49 West Virginia        South        \n",
              "50 Wisconsin            North Central\n",
              "51 Wyoming              West         "
            ]
          },
          "metadata": {}
        },
        {
          "output_type": "display_data",
          "data": {
            "text/html": [
              "<table class=\"dataframe\">\n",
              "<caption>A data.table: 6 × 2</caption>\n",
              "<thead>\n",
              "\t<tr><th scope=col>state</th><th scope=col>region</th></tr>\n",
              "\t<tr><th scope=col>&lt;chr&gt;</th><th scope=col>&lt;fct&gt;</th></tr>\n",
              "</thead>\n",
              "<tbody>\n",
              "\t<tr><td>Alabama   </td><td>South</td></tr>\n",
              "\t<tr><td>Alaska    </td><td>West </td></tr>\n",
              "\t<tr><td>Arizona   </td><td>West </td></tr>\n",
              "\t<tr><td>Arkansas  </td><td>South</td></tr>\n",
              "\t<tr><td>California</td><td>West </td></tr>\n",
              "\t<tr><td>Colorado  </td><td>West </td></tr>\n",
              "</tbody>\n",
              "</table>\n"
            ],
            "text/markdown": "\nA data.table: 6 × 2\n\n| state &lt;chr&gt; | region &lt;fct&gt; |\n|---|---|\n| Alabama    | South |\n| Alaska     | West  |\n| Arizona    | West  |\n| Arkansas   | South |\n| California | West  |\n| Colorado   | West  |\n\n",
            "text/latex": "A data.table: 6 × 2\n\\begin{tabular}{ll}\n state & region\\\\\n <chr> & <fct>\\\\\n\\hline\n\t Alabama    & South\\\\\n\t Alaska     & West \\\\\n\t Arizona    & West \\\\\n\t Arkansas   & South\\\\\n\t California & West \\\\\n\t Colorado   & West \\\\\n\\end{tabular}\n",
            "text/plain": [
              "  state      region\n",
              "1 Alabama    South \n",
              "2 Alaska     West  \n",
              "3 Arizona    West  \n",
              "4 Arkansas   South \n",
              "5 California West  \n",
              "6 Colorado   West  "
            ]
          },
          "metadata": {}
        },
        {
          "output_type": "display_data",
          "data": {
            "text/html": [
              "<table class=\"dataframe\">\n",
              "<caption>A data.table: 6 × 2</caption>\n",
              "<thead>\n",
              "\t<tr><th scope=col>state</th><th scope=col>region</th></tr>\n",
              "\t<tr><th scope=col>&lt;chr&gt;</th><th scope=col>&lt;fct&gt;</th></tr>\n",
              "</thead>\n",
              "<tbody>\n",
              "\t<tr><td>Alabama   </td><td>South</td></tr>\n",
              "\t<tr><td>Alaska    </td><td>West </td></tr>\n",
              "\t<tr><td>Arizona   </td><td>West </td></tr>\n",
              "\t<tr><td>Arkansas  </td><td>South</td></tr>\n",
              "\t<tr><td>California</td><td>West </td></tr>\n",
              "\t<tr><td>Colorado  </td><td>West </td></tr>\n",
              "</tbody>\n",
              "</table>\n"
            ],
            "text/markdown": "\nA data.table: 6 × 2\n\n| state &lt;chr&gt; | region &lt;fct&gt; |\n|---|---|\n| Alabama    | South |\n| Alaska     | West  |\n| Arizona    | West  |\n| Arkansas   | South |\n| California | West  |\n| Colorado   | West  |\n\n",
            "text/latex": "A data.table: 6 × 2\n\\begin{tabular}{ll}\n state & region\\\\\n <chr> & <fct>\\\\\n\\hline\n\t Alabama    & South\\\\\n\t Alaska     & West \\\\\n\t Arizona    & West \\\\\n\t Arkansas   & South\\\\\n\t California & West \\\\\n\t Colorado   & West \\\\\n\\end{tabular}\n",
            "text/plain": [
              "  state      region\n",
              "1 Alabama    South \n",
              "2 Alaska     West  \n",
              "3 Arizona    West  \n",
              "4 Arkansas   South \n",
              "5 California West  \n",
              "6 Colorado   West  "
            ]
          },
          "metadata": {}
        },
        {
          "output_type": "display_data",
          "data": {
            "text/html": [
              "<table class=\"dataframe\">\n",
              "<caption>A data.table: 6 × 6</caption>\n",
              "<thead>\n",
              "\t<tr><th scope=col>state</th><th scope=col>abb</th><th scope=col>region</th><th scope=col>population</th><th scope=col>total</th><th scope=col>rate</th></tr>\n",
              "\t<tr><th scope=col>&lt;chr&gt;</th><th scope=col>&lt;chr&gt;</th><th scope=col>&lt;fct&gt;</th><th scope=col>&lt;dbl&gt;</th><th scope=col>&lt;dbl&gt;</th><th scope=col>&lt;dbl&gt;</th></tr>\n",
              "</thead>\n",
              "<tbody>\n",
              "\t<tr><td>Alabama   </td><td>AL</td><td>South</td><td> 4779736</td><td> 135</td><td>2.824424</td></tr>\n",
              "\t<tr><td>Alaska    </td><td>AK</td><td>West </td><td>  710231</td><td>  19</td><td>2.675186</td></tr>\n",
              "\t<tr><td>Arizona   </td><td>AZ</td><td>West </td><td> 6392017</td><td> 232</td><td>3.629527</td></tr>\n",
              "\t<tr><td>Arkansas  </td><td>AR</td><td>South</td><td> 2915918</td><td>  93</td><td>3.189390</td></tr>\n",
              "\t<tr><td>California</td><td>CA</td><td>West </td><td>37253956</td><td>1257</td><td>3.374138</td></tr>\n",
              "\t<tr><td>Colorado  </td><td>CO</td><td>West </td><td> 5029196</td><td>  65</td><td>1.292453</td></tr>\n",
              "</tbody>\n",
              "</table>\n"
            ],
            "text/markdown": "\nA data.table: 6 × 6\n\n| state &lt;chr&gt; | abb &lt;chr&gt; | region &lt;fct&gt; | population &lt;dbl&gt; | total &lt;dbl&gt; | rate &lt;dbl&gt; |\n|---|---|---|---|---|---|\n| Alabama    | AL | South |  4779736 |  135 | 2.824424 |\n| Alaska     | AK | West  |   710231 |   19 | 2.675186 |\n| Arizona    | AZ | West  |  6392017 |  232 | 3.629527 |\n| Arkansas   | AR | South |  2915918 |   93 | 3.189390 |\n| California | CA | West  | 37253956 | 1257 | 3.374138 |\n| Colorado   | CO | West  |  5029196 |   65 | 1.292453 |\n\n",
            "text/latex": "A data.table: 6 × 6\n\\begin{tabular}{llllll}\n state & abb & region & population & total & rate\\\\\n <chr> & <chr> & <fct> & <dbl> & <dbl> & <dbl>\\\\\n\\hline\n\t Alabama    & AL & South &  4779736 &  135 & 2.824424\\\\\n\t Alaska     & AK & West  &   710231 &   19 & 2.675186\\\\\n\t Arizona    & AZ & West  &  6392017 &  232 & 3.629527\\\\\n\t Arkansas   & AR & South &  2915918 &   93 & 3.189390\\\\\n\t California & CA & West  & 37253956 & 1257 & 3.374138\\\\\n\t Colorado   & CO & West  &  5029196 &   65 & 1.292453\\\\\n\\end{tabular}\n",
            "text/plain": [
              "  state      abb region population total rate    \n",
              "1 Alabama    AL  South   4779736    135  2.824424\n",
              "2 Alaska     AK  West     710231     19  2.675186\n",
              "3 Arizona    AZ  West    6392017    232  3.629527\n",
              "4 Arkansas   AR  South   2915918     93  3.189390\n",
              "5 California CA  West   37253956   1257  3.374138\n",
              "6 Colorado   CO  West    5029196     65  1.292453"
            ]
          },
          "metadata": {}
        },
        {
          "output_type": "stream",
          "name": "stderr",
          "text": [
            "Warning message:\n",
            "“Invalid .internal.selfref detected and fixed by taking a (shallow) copy of the data.table so that := can add this new column by reference. At an earlier point, this data.table has been copied by R (or was created manually using structure() or similar). Avoid names<- and attr<- which in R currently (and oddly) may copy the whole data.table. Use set* syntax instead to avoid copying: ?set, ?setnames and ?setattr. If this message doesn't help, please report your use case to the data.table issue tracker so the root cause can be fixed or this message improved.”\n"
          ]
        },
        {
          "output_type": "display_data",
          "data": {
            "text/html": [
              "<table class=\"dataframe\">\n",
              "<caption>A data.table: 1 × 1</caption>\n",
              "<thead>\n",
              "\t<tr><th scope=col>a</th></tr>\n",
              "\t<tr><th scope=col>&lt;dbl&gt;</th></tr>\n",
              "</thead>\n",
              "<tbody>\n",
              "\t<tr><td>2</td></tr>\n",
              "</tbody>\n",
              "</table>\n"
            ],
            "text/markdown": "\nA data.table: 1 × 1\n\n| a &lt;dbl&gt; |\n|---|\n| 2 |\n\n",
            "text/latex": "A data.table: 1 × 1\n\\begin{tabular}{l}\n a\\\\\n <dbl>\\\\\n\\hline\n\t 2\\\\\n\\end{tabular}\n",
            "text/plain": [
              "  a\n",
              "1 2"
            ]
          },
          "metadata": {}
        },
        {
          "output_type": "display_data",
          "data": {
            "text/html": [
              "<table class=\"dataframe\">\n",
              "<caption>A data.table: 1 × 1</caption>\n",
              "<thead>\n",
              "\t<tr><th scope=col>a</th></tr>\n",
              "\t<tr><th scope=col>&lt;dbl&gt;</th></tr>\n",
              "</thead>\n",
              "<tbody>\n",
              "\t<tr><td>1</td></tr>\n",
              "</tbody>\n",
              "</table>\n"
            ],
            "text/markdown": "\nA data.table: 1 × 1\n\n| a &lt;dbl&gt; |\n|---|\n| 1 |\n\n",
            "text/latex": "A data.table: 1 × 1\n\\begin{tabular}{l}\n a\\\\\n <dbl>\\\\\n\\hline\n\t 1\\\\\n\\end{tabular}\n",
            "text/plain": [
              "  a\n",
              "1 1"
            ]
          },
          "metadata": {}
        },
        {
          "output_type": "display_data",
          "data": {
            "text/html": [
              "<table class=\"dataframe\">\n",
              "<caption>A data.table: 1 × 1</caption>\n",
              "<thead>\n",
              "\t<tr><th scope=col>a</th></tr>\n",
              "\t<tr><th scope=col>&lt;dbl&gt;</th></tr>\n",
              "</thead>\n",
              "<tbody>\n",
              "\t<tr><td>1</td></tr>\n",
              "</tbody>\n",
              "</table>\n"
            ],
            "text/markdown": "\nA data.table: 1 × 1\n\n| a &lt;dbl&gt; |\n|---|\n| 1 |\n\n",
            "text/latex": "A data.table: 1 × 1\n\\begin{tabular}{l}\n a\\\\\n <dbl>\\\\\n\\hline\n\t 1\\\\\n\\end{tabular}\n",
            "text/plain": [
              "  a\n",
              "1 1"
            ]
          },
          "metadata": {}
        },
        {
          "output_type": "display_data",
          "data": {
            "text/html": [
              "<table class=\"dataframe\">\n",
              "<caption>A data.table: 5 × 7</caption>\n",
              "<thead>\n",
              "\t<tr><th scope=col>state</th><th scope=col>abb</th><th scope=col>region</th><th scope=col>population</th><th scope=col>total</th><th scope=col>rate</th><th scope=col>rank</th></tr>\n",
              "\t<tr><th scope=col>&lt;chr&gt;</th><th scope=col>&lt;chr&gt;</th><th scope=col>&lt;fct&gt;</th><th scope=col>&lt;dbl&gt;</th><th scope=col>&lt;dbl&gt;</th><th scope=col>&lt;dbl&gt;</th><th scope=col>&lt;dbl&gt;</th></tr>\n",
              "</thead>\n",
              "<tbody>\n",
              "\t<tr><td>Hawaii       </td><td>HI</td><td>West         </td><td>1360301</td><td> 7</td><td>0.5145920</td><td>12</td></tr>\n",
              "\t<tr><td>Iowa         </td><td>IA</td><td>North Central</td><td>3046355</td><td>21</td><td>0.6893484</td><td>22</td></tr>\n",
              "\t<tr><td>New Hampshire</td><td>NH</td><td>Northeast    </td><td>1316470</td><td> 5</td><td>0.3798036</td><td>10</td></tr>\n",
              "\t<tr><td>North Dakota </td><td>ND</td><td>North Central</td><td> 672591</td><td> 4</td><td>0.5947151</td><td> 4</td></tr>\n",
              "\t<tr><td>Vermont      </td><td>VT</td><td>Northeast    </td><td> 625741</td><td> 2</td><td>0.3196211</td><td> 3</td></tr>\n",
              "</tbody>\n",
              "</table>\n"
            ],
            "text/markdown": "\nA data.table: 5 × 7\n\n| state &lt;chr&gt; | abb &lt;chr&gt; | region &lt;fct&gt; | population &lt;dbl&gt; | total &lt;dbl&gt; | rate &lt;dbl&gt; | rank &lt;dbl&gt; |\n|---|---|---|---|---|---|---|\n| Hawaii        | HI | West          | 1360301 |  7 | 0.5145920 | 12 |\n| Iowa          | IA | North Central | 3046355 | 21 | 0.6893484 | 22 |\n| New Hampshire | NH | Northeast     | 1316470 |  5 | 0.3798036 | 10 |\n| North Dakota  | ND | North Central |  672591 |  4 | 0.5947151 |  4 |\n| Vermont       | VT | Northeast     |  625741 |  2 | 0.3196211 |  3 |\n\n",
            "text/latex": "A data.table: 5 × 7\n\\begin{tabular}{lllllll}\n state & abb & region & population & total & rate & rank\\\\\n <chr> & <chr> & <fct> & <dbl> & <dbl> & <dbl> & <dbl>\\\\\n\\hline\n\t Hawaii        & HI & West          & 1360301 &  7 & 0.5145920 & 12\\\\\n\t Iowa          & IA & North Central & 3046355 & 21 & 0.6893484 & 22\\\\\n\t New Hampshire & NH & Northeast     & 1316470 &  5 & 0.3798036 & 10\\\\\n\t North Dakota  & ND & North Central &  672591 &  4 & 0.5947151 &  4\\\\\n\t Vermont       & VT & Northeast     &  625741 &  2 & 0.3196211 &  3\\\\\n\\end{tabular}\n",
            "text/plain": [
              "  state         abb region        population total rate      rank\n",
              "1 Hawaii        HI  West          1360301     7    0.5145920 12  \n",
              "2 Iowa          IA  North Central 3046355    21    0.6893484 22  \n",
              "3 New Hampshire NH  Northeast     1316470     5    0.3798036 10  \n",
              "4 North Dakota  ND  North Central  672591     4    0.5947151  4  \n",
              "5 Vermont       VT  Northeast      625741     2    0.3196211  3  "
            ]
          },
          "metadata": {}
        },
        {
          "output_type": "display_data",
          "data": {
            "text/html": [
              "<table class=\"dataframe\">\n",
              "<caption>A data.table: 5 × 7</caption>\n",
              "<thead>\n",
              "\t<tr><th scope=col>state</th><th scope=col>abb</th><th scope=col>region</th><th scope=col>population</th><th scope=col>total</th><th scope=col>rate</th><th scope=col>rank</th></tr>\n",
              "\t<tr><th scope=col>&lt;chr&gt;</th><th scope=col>&lt;chr&gt;</th><th scope=col>&lt;fct&gt;</th><th scope=col>&lt;dbl&gt;</th><th scope=col>&lt;dbl&gt;</th><th scope=col>&lt;dbl&gt;</th><th scope=col>&lt;dbl&gt;</th></tr>\n",
              "</thead>\n",
              "<tbody>\n",
              "\t<tr><td>Hawaii       </td><td>HI</td><td>West         </td><td>1360301</td><td> 7</td><td>0.5145920</td><td>12</td></tr>\n",
              "\t<tr><td>Iowa         </td><td>IA</td><td>North Central</td><td>3046355</td><td>21</td><td>0.6893484</td><td>22</td></tr>\n",
              "\t<tr><td>New Hampshire</td><td>NH</td><td>Northeast    </td><td>1316470</td><td> 5</td><td>0.3798036</td><td>10</td></tr>\n",
              "\t<tr><td>North Dakota </td><td>ND</td><td>North Central</td><td> 672591</td><td> 4</td><td>0.5947151</td><td> 4</td></tr>\n",
              "\t<tr><td>Vermont      </td><td>VT</td><td>Northeast    </td><td> 625741</td><td> 2</td><td>0.3196211</td><td> 3</td></tr>\n",
              "</tbody>\n",
              "</table>\n"
            ],
            "text/markdown": "\nA data.table: 5 × 7\n\n| state &lt;chr&gt; | abb &lt;chr&gt; | region &lt;fct&gt; | population &lt;dbl&gt; | total &lt;dbl&gt; | rate &lt;dbl&gt; | rank &lt;dbl&gt; |\n|---|---|---|---|---|---|---|\n| Hawaii        | HI | West          | 1360301 |  7 | 0.5145920 | 12 |\n| Iowa          | IA | North Central | 3046355 | 21 | 0.6893484 | 22 |\n| New Hampshire | NH | Northeast     | 1316470 |  5 | 0.3798036 | 10 |\n| North Dakota  | ND | North Central |  672591 |  4 | 0.5947151 |  4 |\n| Vermont       | VT | Northeast     |  625741 |  2 | 0.3196211 |  3 |\n\n",
            "text/latex": "A data.table: 5 × 7\n\\begin{tabular}{lllllll}\n state & abb & region & population & total & rate & rank\\\\\n <chr> & <chr> & <fct> & <dbl> & <dbl> & <dbl> & <dbl>\\\\\n\\hline\n\t Hawaii        & HI & West          & 1360301 &  7 & 0.5145920 & 12\\\\\n\t Iowa          & IA & North Central & 3046355 & 21 & 0.6893484 & 22\\\\\n\t New Hampshire & NH & Northeast     & 1316470 &  5 & 0.3798036 & 10\\\\\n\t North Dakota  & ND & North Central &  672591 &  4 & 0.5947151 &  4\\\\\n\t Vermont       & VT & Northeast     &  625741 &  2 & 0.3196211 &  3\\\\\n\\end{tabular}\n",
            "text/plain": [
              "  state         abb region        population total rate      rank\n",
              "1 Hawaii        HI  West          1360301     7    0.5145920 12  \n",
              "2 Iowa          IA  North Central 3046355    21    0.6893484 22  \n",
              "3 New Hampshire NH  Northeast     1316470     5    0.3798036 10  \n",
              "4 North Dakota  ND  North Central  672591     4    0.5947151  4  \n",
              "5 Vermont       VT  Northeast      625741     2    0.3196211  3  "
            ]
          },
          "metadata": {}
        },
        {
          "output_type": "display_data",
          "data": {
            "text/html": [
              "<table class=\"dataframe\">\n",
              "<caption>A data.table: 5 × 2</caption>\n",
              "<thead>\n",
              "\t<tr><th scope=col>state</th><th scope=col>rate</th></tr>\n",
              "\t<tr><th scope=col>&lt;chr&gt;</th><th scope=col>&lt;dbl&gt;</th></tr>\n",
              "</thead>\n",
              "<tbody>\n",
              "\t<tr><td>Hawaii       </td><td>0.5145920</td></tr>\n",
              "\t<tr><td>Iowa         </td><td>0.6893484</td></tr>\n",
              "\t<tr><td>New Hampshire</td><td>0.3798036</td></tr>\n",
              "\t<tr><td>North Dakota </td><td>0.5947151</td></tr>\n",
              "\t<tr><td>Vermont      </td><td>0.3196211</td></tr>\n",
              "</tbody>\n",
              "</table>\n"
            ],
            "text/markdown": "\nA data.table: 5 × 2\n\n| state &lt;chr&gt; | rate &lt;dbl&gt; |\n|---|---|\n| Hawaii        | 0.5145920 |\n| Iowa          | 0.6893484 |\n| New Hampshire | 0.3798036 |\n| North Dakota  | 0.5947151 |\n| Vermont       | 0.3196211 |\n\n",
            "text/latex": "A data.table: 5 × 2\n\\begin{tabular}{ll}\n state & rate\\\\\n <chr> & <dbl>\\\\\n\\hline\n\t Hawaii        & 0.5145920\\\\\n\t Iowa          & 0.6893484\\\\\n\t New Hampshire & 0.3798036\\\\\n\t North Dakota  & 0.5947151\\\\\n\t Vermont       & 0.3196211\\\\\n\\end{tabular}\n",
            "text/plain": [
              "  state         rate     \n",
              "1 Hawaii        0.5145920\n",
              "2 Iowa          0.6893484\n",
              "3 New Hampshire 0.3798036\n",
              "4 North Dakota  0.5947151\n",
              "5 Vermont       0.3196211"
            ]
          },
          "metadata": {}
        },
        {
          "output_type": "display_data",
          "data": {
            "text/html": [
              "<table class=\"dataframe\">\n",
              "<caption>A data.table: 5 × 2</caption>\n",
              "<thead>\n",
              "\t<tr><th scope=col>state</th><th scope=col>rate</th></tr>\n",
              "\t<tr><th scope=col>&lt;chr&gt;</th><th scope=col>&lt;dbl&gt;</th></tr>\n",
              "</thead>\n",
              "<tbody>\n",
              "\t<tr><td>Hawaii       </td><td>0.5145920</td></tr>\n",
              "\t<tr><td>Iowa         </td><td>0.6893484</td></tr>\n",
              "\t<tr><td>New Hampshire</td><td>0.3798036</td></tr>\n",
              "\t<tr><td>North Dakota </td><td>0.5947151</td></tr>\n",
              "\t<tr><td>Vermont      </td><td>0.3196211</td></tr>\n",
              "</tbody>\n",
              "</table>\n"
            ],
            "text/markdown": "\nA data.table: 5 × 2\n\n| state &lt;chr&gt; | rate &lt;dbl&gt; |\n|---|---|\n| Hawaii        | 0.5145920 |\n| Iowa          | 0.6893484 |\n| New Hampshire | 0.3798036 |\n| North Dakota  | 0.5947151 |\n| Vermont       | 0.3196211 |\n\n",
            "text/latex": "A data.table: 5 × 2\n\\begin{tabular}{ll}\n state & rate\\\\\n <chr> & <dbl>\\\\\n\\hline\n\t Hawaii        & 0.5145920\\\\\n\t Iowa          & 0.6893484\\\\\n\t New Hampshire & 0.3798036\\\\\n\t North Dakota  & 0.5947151\\\\\n\t Vermont       & 0.3196211\\\\\n\\end{tabular}\n",
            "text/plain": [
              "  state         rate     \n",
              "1 Hawaii        0.5145920\n",
              "2 Iowa          0.6893484\n",
              "3 New Hampshire 0.3798036\n",
              "4 North Dakota  0.5947151\n",
              "5 Vermont       0.3196211"
            ]
          },
          "metadata": {}
        }
      ]
    },
    {
      "cell_type": "code",
      "source": [
        "library(tidyverse)\n",
        "library(dplyr)\n",
        "library(dslabs)\n",
        "data(heights)\n",
        "heights <- setDT(heights)\n",
        "\n",
        "# summarizing in dplyr\n",
        "s <- heights %>%\n",
        "  summarize(average = mean(height), standard_deviation = sd(height))\n",
        "\n",
        "# summarizing in data.table\n",
        "s <- heights[, .(average = mean(height), standard_deviation = sd(height))]\n",
        "\n",
        "# subsetting and then summarizing in dplyr\n",
        "s <- heights %>%\n",
        "  filter(sex == \"Female\") %>%\n",
        "  summarize(average = mean(height), standard_deviation = sd(height))\n",
        "\n",
        "# subsetting and then summarizing in data.table\n",
        "s <- heights[sex == \"Female\", .(average = mean(height), standard_deviation = sd(height))]\n",
        "\n",
        "# previously defined function\n",
        "median_min_max <- function(x){\n",
        "  qs <- quantile(x, c(0.5, 0, 1))\n",
        "  data.frame(median = qs[1], minimum = qs[2], maximum = qs[3])\n",
        "}\n",
        "\n",
        "# multiple summaries in data.table\n",
        "heights[, .(median_min_max(height))]\n",
        "\n",
        "# grouping then summarizing in data.table\n",
        "heights[, .(average = mean(height), standard_deviation = sd(height)), by = sex]"
      ],
      "metadata": {
        "id": "F-5IJMZKW9nq",
        "colab": {
          "base_uri": "https://localhost:8080/",
          "height": 274
        },
        "outputId": "7472ddba-5742-4119-8e17-4c66680aa0b1"
      },
      "execution_count": 46,
      "outputs": [
        {
          "output_type": "display_data",
          "data": {
            "text/html": [
              "<table class=\"dataframe\">\n",
              "<caption>A data.table: 1 × 3</caption>\n",
              "<thead>\n",
              "\t<tr><th scope=col>median</th><th scope=col>minimum</th><th scope=col>maximum</th></tr>\n",
              "\t<tr><th scope=col>&lt;dbl&gt;</th><th scope=col>&lt;dbl&gt;</th><th scope=col>&lt;dbl&gt;</th></tr>\n",
              "</thead>\n",
              "<tbody>\n",
              "\t<tr><td>68.5</td><td>50</td><td>82.67717</td></tr>\n",
              "</tbody>\n",
              "</table>\n"
            ],
            "text/markdown": "\nA data.table: 1 × 3\n\n| median &lt;dbl&gt; | minimum &lt;dbl&gt; | maximum &lt;dbl&gt; |\n|---|---|---|\n| 68.5 | 50 | 82.67717 |\n\n",
            "text/latex": "A data.table: 1 × 3\n\\begin{tabular}{lll}\n median & minimum & maximum\\\\\n <dbl> & <dbl> & <dbl>\\\\\n\\hline\n\t 68.5 & 50 & 82.67717\\\\\n\\end{tabular}\n",
            "text/plain": [
              "  median minimum maximum \n",
              "1 68.5   50      82.67717"
            ]
          },
          "metadata": {}
        },
        {
          "output_type": "display_data",
          "data": {
            "text/html": [
              "<table class=\"dataframe\">\n",
              "<caption>A data.table: 2 × 3</caption>\n",
              "<thead>\n",
              "\t<tr><th scope=col>sex</th><th scope=col>average</th><th scope=col>standard_deviation</th></tr>\n",
              "\t<tr><th scope=col>&lt;fct&gt;</th><th scope=col>&lt;dbl&gt;</th><th scope=col>&lt;dbl&gt;</th></tr>\n",
              "</thead>\n",
              "<tbody>\n",
              "\t<tr><td>Male  </td><td>69.31475</td><td>3.611024</td></tr>\n",
              "\t<tr><td>Female</td><td>64.93942</td><td>3.760656</td></tr>\n",
              "</tbody>\n",
              "</table>\n"
            ],
            "text/markdown": "\nA data.table: 2 × 3\n\n| sex &lt;fct&gt; | average &lt;dbl&gt; | standard_deviation &lt;dbl&gt; |\n|---|---|---|\n| Male   | 69.31475 | 3.611024 |\n| Female | 64.93942 | 3.760656 |\n\n",
            "text/latex": "A data.table: 2 × 3\n\\begin{tabular}{lll}\n sex & average & standard\\_deviation\\\\\n <fct> & <dbl> & <dbl>\\\\\n\\hline\n\t Male   & 69.31475 & 3.611024\\\\\n\t Female & 64.93942 & 3.760656\\\\\n\\end{tabular}\n",
            "text/plain": [
              "  sex    average  standard_deviation\n",
              "1 Male   69.31475 3.611024          \n",
              "2 Female 64.93942 3.760656          "
            ]
          },
          "metadata": {}
        }
      ]
    },
    {
      "cell_type": "code",
      "source": [
        "library(tidyverse)\n",
        "library(dplyr)\n",
        "library(data.table)\n",
        "library(dslabs)\n",
        "data(murders)\n",
        "murders <- setDT(murders)\n",
        "murders[, rate := total / population * 100000]\n",
        "\n",
        "# order by population\n",
        "murders[order(population)] |> head()\n",
        "\n",
        "# order by population in descending order\n",
        "murders[order(population, decreasing = TRUE)]\n",
        "\n",
        "# order by region and then murder rate\n",
        "murders[order(region, rate)]"
      ],
      "metadata": {
        "id": "5JTNR4-IXRaU",
        "colab": {
          "base_uri": "https://localhost:8080/",
          "height": 1000
        },
        "outputId": "13c9ff50-e568-4128-ab48-df838f51d9fb"
      },
      "execution_count": 47,
      "outputs": [
        {
          "output_type": "display_data",
          "data": {
            "text/html": [
              "<table class=\"dataframe\">\n",
              "<caption>A data.table: 6 × 6</caption>\n",
              "<thead>\n",
              "\t<tr><th scope=col>state</th><th scope=col>abb</th><th scope=col>region</th><th scope=col>population</th><th scope=col>total</th><th scope=col>rate</th></tr>\n",
              "\t<tr><th scope=col>&lt;chr&gt;</th><th scope=col>&lt;chr&gt;</th><th scope=col>&lt;fct&gt;</th><th scope=col>&lt;dbl&gt;</th><th scope=col>&lt;dbl&gt;</th><th scope=col>&lt;dbl&gt;</th></tr>\n",
              "</thead>\n",
              "<tbody>\n",
              "\t<tr><td>Wyoming             </td><td>WY</td><td>West         </td><td>563626</td><td> 5</td><td> 0.8871131</td></tr>\n",
              "\t<tr><td>District of Columbia</td><td>DC</td><td>South        </td><td>601723</td><td>99</td><td>16.4527532</td></tr>\n",
              "\t<tr><td>Vermont             </td><td>VT</td><td>Northeast    </td><td>625741</td><td> 2</td><td> 0.3196211</td></tr>\n",
              "\t<tr><td>North Dakota        </td><td>ND</td><td>North Central</td><td>672591</td><td> 4</td><td> 0.5947151</td></tr>\n",
              "\t<tr><td>Alaska              </td><td>AK</td><td>West         </td><td>710231</td><td>19</td><td> 2.6751860</td></tr>\n",
              "\t<tr><td>South Dakota        </td><td>SD</td><td>North Central</td><td>814180</td><td> 8</td><td> 0.9825837</td></tr>\n",
              "</tbody>\n",
              "</table>\n"
            ],
            "text/markdown": "\nA data.table: 6 × 6\n\n| state &lt;chr&gt; | abb &lt;chr&gt; | region &lt;fct&gt; | population &lt;dbl&gt; | total &lt;dbl&gt; | rate &lt;dbl&gt; |\n|---|---|---|---|---|---|\n| Wyoming              | WY | West          | 563626 |  5 |  0.8871131 |\n| District of Columbia | DC | South         | 601723 | 99 | 16.4527532 |\n| Vermont              | VT | Northeast     | 625741 |  2 |  0.3196211 |\n| North Dakota         | ND | North Central | 672591 |  4 |  0.5947151 |\n| Alaska               | AK | West          | 710231 | 19 |  2.6751860 |\n| South Dakota         | SD | North Central | 814180 |  8 |  0.9825837 |\n\n",
            "text/latex": "A data.table: 6 × 6\n\\begin{tabular}{llllll}\n state & abb & region & population & total & rate\\\\\n <chr> & <chr> & <fct> & <dbl> & <dbl> & <dbl>\\\\\n\\hline\n\t Wyoming              & WY & West          & 563626 &  5 &  0.8871131\\\\\n\t District of Columbia & DC & South         & 601723 & 99 & 16.4527532\\\\\n\t Vermont              & VT & Northeast     & 625741 &  2 &  0.3196211\\\\\n\t North Dakota         & ND & North Central & 672591 &  4 &  0.5947151\\\\\n\t Alaska               & AK & West          & 710231 & 19 &  2.6751860\\\\\n\t South Dakota         & SD & North Central & 814180 &  8 &  0.9825837\\\\\n\\end{tabular}\n",
            "text/plain": [
              "  state                abb region        population total rate      \n",
              "1 Wyoming              WY  West          563626      5     0.8871131\n",
              "2 District of Columbia DC  South         601723     99    16.4527532\n",
              "3 Vermont              VT  Northeast     625741      2     0.3196211\n",
              "4 North Dakota         ND  North Central 672591      4     0.5947151\n",
              "5 Alaska               AK  West          710231     19     2.6751860\n",
              "6 South Dakota         SD  North Central 814180      8     0.9825837"
            ]
          },
          "metadata": {}
        },
        {
          "output_type": "display_data",
          "data": {
            "text/html": [
              "<table class=\"dataframe\">\n",
              "<caption>A data.table: 51 × 6</caption>\n",
              "<thead>\n",
              "\t<tr><th scope=col>state</th><th scope=col>abb</th><th scope=col>region</th><th scope=col>population</th><th scope=col>total</th><th scope=col>rate</th></tr>\n",
              "\t<tr><th scope=col>&lt;chr&gt;</th><th scope=col>&lt;chr&gt;</th><th scope=col>&lt;fct&gt;</th><th scope=col>&lt;dbl&gt;</th><th scope=col>&lt;dbl&gt;</th><th scope=col>&lt;dbl&gt;</th></tr>\n",
              "</thead>\n",
              "<tbody>\n",
              "\t<tr><td>California          </td><td>CA</td><td>West         </td><td>37253956</td><td>1257</td><td> 3.3741383</td></tr>\n",
              "\t<tr><td>Texas               </td><td>TX</td><td>South        </td><td>25145561</td><td> 805</td><td> 3.2013603</td></tr>\n",
              "\t<tr><td>Florida             </td><td>FL</td><td>South        </td><td>19687653</td><td> 669</td><td> 3.3980688</td></tr>\n",
              "\t<tr><td>New York            </td><td>NY</td><td>Northeast    </td><td>19378102</td><td> 517</td><td> 2.6679599</td></tr>\n",
              "\t<tr><td>Illinois            </td><td>IL</td><td>North Central</td><td>12830632</td><td> 364</td><td> 2.8369608</td></tr>\n",
              "\t<tr><td>Pennsylvania        </td><td>PA</td><td>Northeast    </td><td>12702379</td><td> 457</td><td> 3.5977513</td></tr>\n",
              "\t<tr><td>Ohio                </td><td>OH</td><td>North Central</td><td>11536504</td><td> 310</td><td> 2.6871225</td></tr>\n",
              "\t<tr><td>Georgia             </td><td>GA</td><td>South        </td><td> 9920000</td><td> 376</td><td> 3.7903226</td></tr>\n",
              "\t<tr><td>Michigan            </td><td>MI</td><td>North Central</td><td> 9883640</td><td> 413</td><td> 4.1786225</td></tr>\n",
              "\t<tr><td>North Carolina      </td><td>NC</td><td>South        </td><td> 9535483</td><td> 286</td><td> 2.9993237</td></tr>\n",
              "\t<tr><td>New Jersey          </td><td>NJ</td><td>Northeast    </td><td> 8791894</td><td> 246</td><td> 2.7980319</td></tr>\n",
              "\t<tr><td>Virginia            </td><td>VA</td><td>South        </td><td> 8001024</td><td> 250</td><td> 3.1246001</td></tr>\n",
              "\t<tr><td>Washington          </td><td>WA</td><td>West         </td><td> 6724540</td><td>  93</td><td> 1.3829942</td></tr>\n",
              "\t<tr><td>Massachusetts       </td><td>MA</td><td>Northeast    </td><td> 6547629</td><td> 118</td><td> 1.8021791</td></tr>\n",
              "\t<tr><td>Indiana             </td><td>IN</td><td>North Central</td><td> 6483802</td><td> 142</td><td> 2.1900730</td></tr>\n",
              "\t<tr><td>Arizona             </td><td>AZ</td><td>West         </td><td> 6392017</td><td> 232</td><td> 3.6295273</td></tr>\n",
              "\t<tr><td>Tennessee           </td><td>TN</td><td>South        </td><td> 6346105</td><td> 219</td><td> 3.4509357</td></tr>\n",
              "\t<tr><td>Missouri            </td><td>MO</td><td>North Central</td><td> 5988927</td><td> 321</td><td> 5.3598917</td></tr>\n",
              "\t<tr><td>Maryland            </td><td>MD</td><td>South        </td><td> 5773552</td><td> 293</td><td> 5.0748655</td></tr>\n",
              "\t<tr><td>Wisconsin           </td><td>WI</td><td>North Central</td><td> 5686986</td><td>  97</td><td> 1.7056487</td></tr>\n",
              "\t<tr><td>Minnesota           </td><td>MN</td><td>North Central</td><td> 5303925</td><td>  53</td><td> 0.9992600</td></tr>\n",
              "\t<tr><td>Colorado            </td><td>CO</td><td>West         </td><td> 5029196</td><td>  65</td><td> 1.2924531</td></tr>\n",
              "\t<tr><td>Alabama             </td><td>AL</td><td>South        </td><td> 4779736</td><td> 135</td><td> 2.8244238</td></tr>\n",
              "\t<tr><td>South Carolina      </td><td>SC</td><td>South        </td><td> 4625364</td><td> 207</td><td> 4.4753235</td></tr>\n",
              "\t<tr><td>Louisiana           </td><td>LA</td><td>South        </td><td> 4533372</td><td> 351</td><td> 7.7425810</td></tr>\n",
              "\t<tr><td>Kentucky            </td><td>KY</td><td>South        </td><td> 4339367</td><td> 116</td><td> 2.6732010</td></tr>\n",
              "\t<tr><td>Oregon              </td><td>OR</td><td>West         </td><td> 3831074</td><td>  36</td><td> 0.9396843</td></tr>\n",
              "\t<tr><td>Oklahoma            </td><td>OK</td><td>South        </td><td> 3751351</td><td> 111</td><td> 2.9589340</td></tr>\n",
              "\t<tr><td>Connecticut         </td><td>CT</td><td>Northeast    </td><td> 3574097</td><td>  97</td><td> 2.7139722</td></tr>\n",
              "\t<tr><td>Iowa                </td><td>IA</td><td>North Central</td><td> 3046355</td><td>  21</td><td> 0.6893484</td></tr>\n",
              "\t<tr><td>Mississippi         </td><td>MS</td><td>South        </td><td> 2967297</td><td> 120</td><td> 4.0440846</td></tr>\n",
              "\t<tr><td>Arkansas            </td><td>AR</td><td>South        </td><td> 2915918</td><td>  93</td><td> 3.1893901</td></tr>\n",
              "\t<tr><td>Kansas              </td><td>KS</td><td>North Central</td><td> 2853118</td><td>  63</td><td> 2.2081106</td></tr>\n",
              "\t<tr><td>Utah                </td><td>UT</td><td>West         </td><td> 2763885</td><td>  22</td><td> 0.7959810</td></tr>\n",
              "\t<tr><td>Nevada              </td><td>NV</td><td>West         </td><td> 2700551</td><td>  84</td><td> 3.1104763</td></tr>\n",
              "\t<tr><td>New Mexico          </td><td>NM</td><td>West         </td><td> 2059179</td><td>  67</td><td> 3.2537239</td></tr>\n",
              "\t<tr><td>West Virginia       </td><td>WV</td><td>South        </td><td> 1852994</td><td>  27</td><td> 1.4571013</td></tr>\n",
              "\t<tr><td>Nebraska            </td><td>NE</td><td>North Central</td><td> 1826341</td><td>  32</td><td> 1.7521372</td></tr>\n",
              "\t<tr><td>Idaho               </td><td>ID</td><td>West         </td><td> 1567582</td><td>  12</td><td> 0.7655102</td></tr>\n",
              "\t<tr><td>Hawaii              </td><td>HI</td><td>West         </td><td> 1360301</td><td>   7</td><td> 0.5145920</td></tr>\n",
              "\t<tr><td>Maine               </td><td>ME</td><td>Northeast    </td><td> 1328361</td><td>  11</td><td> 0.8280881</td></tr>\n",
              "\t<tr><td>New Hampshire       </td><td>NH</td><td>Northeast    </td><td> 1316470</td><td>   5</td><td> 0.3798036</td></tr>\n",
              "\t<tr><td>Rhode Island        </td><td>RI</td><td>Northeast    </td><td> 1052567</td><td>  16</td><td> 1.5200933</td></tr>\n",
              "\t<tr><td>Montana             </td><td>MT</td><td>West         </td><td>  989415</td><td>  12</td><td> 1.2128379</td></tr>\n",
              "\t<tr><td>Delaware            </td><td>DE</td><td>South        </td><td>  897934</td><td>  38</td><td> 4.2319369</td></tr>\n",
              "\t<tr><td>South Dakota        </td><td>SD</td><td>North Central</td><td>  814180</td><td>   8</td><td> 0.9825837</td></tr>\n",
              "\t<tr><td>Alaska              </td><td>AK</td><td>West         </td><td>  710231</td><td>  19</td><td> 2.6751860</td></tr>\n",
              "\t<tr><td>North Dakota        </td><td>ND</td><td>North Central</td><td>  672591</td><td>   4</td><td> 0.5947151</td></tr>\n",
              "\t<tr><td>Vermont             </td><td>VT</td><td>Northeast    </td><td>  625741</td><td>   2</td><td> 0.3196211</td></tr>\n",
              "\t<tr><td>District of Columbia</td><td>DC</td><td>South        </td><td>  601723</td><td>  99</td><td>16.4527532</td></tr>\n",
              "\t<tr><td>Wyoming             </td><td>WY</td><td>West         </td><td>  563626</td><td>   5</td><td> 0.8871131</td></tr>\n",
              "</tbody>\n",
              "</table>\n"
            ],
            "text/markdown": "\nA data.table: 51 × 6\n\n| state &lt;chr&gt; | abb &lt;chr&gt; | region &lt;fct&gt; | population &lt;dbl&gt; | total &lt;dbl&gt; | rate &lt;dbl&gt; |\n|---|---|---|---|---|---|\n| California           | CA | West          | 37253956 | 1257 |  3.3741383 |\n| Texas                | TX | South         | 25145561 |  805 |  3.2013603 |\n| Florida              | FL | South         | 19687653 |  669 |  3.3980688 |\n| New York             | NY | Northeast     | 19378102 |  517 |  2.6679599 |\n| Illinois             | IL | North Central | 12830632 |  364 |  2.8369608 |\n| Pennsylvania         | PA | Northeast     | 12702379 |  457 |  3.5977513 |\n| Ohio                 | OH | North Central | 11536504 |  310 |  2.6871225 |\n| Georgia              | GA | South         |  9920000 |  376 |  3.7903226 |\n| Michigan             | MI | North Central |  9883640 |  413 |  4.1786225 |\n| North Carolina       | NC | South         |  9535483 |  286 |  2.9993237 |\n| New Jersey           | NJ | Northeast     |  8791894 |  246 |  2.7980319 |\n| Virginia             | VA | South         |  8001024 |  250 |  3.1246001 |\n| Washington           | WA | West          |  6724540 |   93 |  1.3829942 |\n| Massachusetts        | MA | Northeast     |  6547629 |  118 |  1.8021791 |\n| Indiana              | IN | North Central |  6483802 |  142 |  2.1900730 |\n| Arizona              | AZ | West          |  6392017 |  232 |  3.6295273 |\n| Tennessee            | TN | South         |  6346105 |  219 |  3.4509357 |\n| Missouri             | MO | North Central |  5988927 |  321 |  5.3598917 |\n| Maryland             | MD | South         |  5773552 |  293 |  5.0748655 |\n| Wisconsin            | WI | North Central |  5686986 |   97 |  1.7056487 |\n| Minnesota            | MN | North Central |  5303925 |   53 |  0.9992600 |\n| Colorado             | CO | West          |  5029196 |   65 |  1.2924531 |\n| Alabama              | AL | South         |  4779736 |  135 |  2.8244238 |\n| South Carolina       | SC | South         |  4625364 |  207 |  4.4753235 |\n| Louisiana            | LA | South         |  4533372 |  351 |  7.7425810 |\n| Kentucky             | KY | South         |  4339367 |  116 |  2.6732010 |\n| Oregon               | OR | West          |  3831074 |   36 |  0.9396843 |\n| Oklahoma             | OK | South         |  3751351 |  111 |  2.9589340 |\n| Connecticut          | CT | Northeast     |  3574097 |   97 |  2.7139722 |\n| Iowa                 | IA | North Central |  3046355 |   21 |  0.6893484 |\n| Mississippi          | MS | South         |  2967297 |  120 |  4.0440846 |\n| Arkansas             | AR | South         |  2915918 |   93 |  3.1893901 |\n| Kansas               | KS | North Central |  2853118 |   63 |  2.2081106 |\n| Utah                 | UT | West          |  2763885 |   22 |  0.7959810 |\n| Nevada               | NV | West          |  2700551 |   84 |  3.1104763 |\n| New Mexico           | NM | West          |  2059179 |   67 |  3.2537239 |\n| West Virginia        | WV | South         |  1852994 |   27 |  1.4571013 |\n| Nebraska             | NE | North Central |  1826341 |   32 |  1.7521372 |\n| Idaho                | ID | West          |  1567582 |   12 |  0.7655102 |\n| Hawaii               | HI | West          |  1360301 |    7 |  0.5145920 |\n| Maine                | ME | Northeast     |  1328361 |   11 |  0.8280881 |\n| New Hampshire        | NH | Northeast     |  1316470 |    5 |  0.3798036 |\n| Rhode Island         | RI | Northeast     |  1052567 |   16 |  1.5200933 |\n| Montana              | MT | West          |   989415 |   12 |  1.2128379 |\n| Delaware             | DE | South         |   897934 |   38 |  4.2319369 |\n| South Dakota         | SD | North Central |   814180 |    8 |  0.9825837 |\n| Alaska               | AK | West          |   710231 |   19 |  2.6751860 |\n| North Dakota         | ND | North Central |   672591 |    4 |  0.5947151 |\n| Vermont              | VT | Northeast     |   625741 |    2 |  0.3196211 |\n| District of Columbia | DC | South         |   601723 |   99 | 16.4527532 |\n| Wyoming              | WY | West          |   563626 |    5 |  0.8871131 |\n\n",
            "text/latex": "A data.table: 51 × 6\n\\begin{tabular}{llllll}\n state & abb & region & population & total & rate\\\\\n <chr> & <chr> & <fct> & <dbl> & <dbl> & <dbl>\\\\\n\\hline\n\t California           & CA & West          & 37253956 & 1257 &  3.3741383\\\\\n\t Texas                & TX & South         & 25145561 &  805 &  3.2013603\\\\\n\t Florida              & FL & South         & 19687653 &  669 &  3.3980688\\\\\n\t New York             & NY & Northeast     & 19378102 &  517 &  2.6679599\\\\\n\t Illinois             & IL & North Central & 12830632 &  364 &  2.8369608\\\\\n\t Pennsylvania         & PA & Northeast     & 12702379 &  457 &  3.5977513\\\\\n\t Ohio                 & OH & North Central & 11536504 &  310 &  2.6871225\\\\\n\t Georgia              & GA & South         &  9920000 &  376 &  3.7903226\\\\\n\t Michigan             & MI & North Central &  9883640 &  413 &  4.1786225\\\\\n\t North Carolina       & NC & South         &  9535483 &  286 &  2.9993237\\\\\n\t New Jersey           & NJ & Northeast     &  8791894 &  246 &  2.7980319\\\\\n\t Virginia             & VA & South         &  8001024 &  250 &  3.1246001\\\\\n\t Washington           & WA & West          &  6724540 &   93 &  1.3829942\\\\\n\t Massachusetts        & MA & Northeast     &  6547629 &  118 &  1.8021791\\\\\n\t Indiana              & IN & North Central &  6483802 &  142 &  2.1900730\\\\\n\t Arizona              & AZ & West          &  6392017 &  232 &  3.6295273\\\\\n\t Tennessee            & TN & South         &  6346105 &  219 &  3.4509357\\\\\n\t Missouri             & MO & North Central &  5988927 &  321 &  5.3598917\\\\\n\t Maryland             & MD & South         &  5773552 &  293 &  5.0748655\\\\\n\t Wisconsin            & WI & North Central &  5686986 &   97 &  1.7056487\\\\\n\t Minnesota            & MN & North Central &  5303925 &   53 &  0.9992600\\\\\n\t Colorado             & CO & West          &  5029196 &   65 &  1.2924531\\\\\n\t Alabama              & AL & South         &  4779736 &  135 &  2.8244238\\\\\n\t South Carolina       & SC & South         &  4625364 &  207 &  4.4753235\\\\\n\t Louisiana            & LA & South         &  4533372 &  351 &  7.7425810\\\\\n\t Kentucky             & KY & South         &  4339367 &  116 &  2.6732010\\\\\n\t Oregon               & OR & West          &  3831074 &   36 &  0.9396843\\\\\n\t Oklahoma             & OK & South         &  3751351 &  111 &  2.9589340\\\\\n\t Connecticut          & CT & Northeast     &  3574097 &   97 &  2.7139722\\\\\n\t Iowa                 & IA & North Central &  3046355 &   21 &  0.6893484\\\\\n\t Mississippi          & MS & South         &  2967297 &  120 &  4.0440846\\\\\n\t Arkansas             & AR & South         &  2915918 &   93 &  3.1893901\\\\\n\t Kansas               & KS & North Central &  2853118 &   63 &  2.2081106\\\\\n\t Utah                 & UT & West          &  2763885 &   22 &  0.7959810\\\\\n\t Nevada               & NV & West          &  2700551 &   84 &  3.1104763\\\\\n\t New Mexico           & NM & West          &  2059179 &   67 &  3.2537239\\\\\n\t West Virginia        & WV & South         &  1852994 &   27 &  1.4571013\\\\\n\t Nebraska             & NE & North Central &  1826341 &   32 &  1.7521372\\\\\n\t Idaho                & ID & West          &  1567582 &   12 &  0.7655102\\\\\n\t Hawaii               & HI & West          &  1360301 &    7 &  0.5145920\\\\\n\t Maine                & ME & Northeast     &  1328361 &   11 &  0.8280881\\\\\n\t New Hampshire        & NH & Northeast     &  1316470 &    5 &  0.3798036\\\\\n\t Rhode Island         & RI & Northeast     &  1052567 &   16 &  1.5200933\\\\\n\t Montana              & MT & West          &   989415 &   12 &  1.2128379\\\\\n\t Delaware             & DE & South         &   897934 &   38 &  4.2319369\\\\\n\t South Dakota         & SD & North Central &   814180 &    8 &  0.9825837\\\\\n\t Alaska               & AK & West          &   710231 &   19 &  2.6751860\\\\\n\t North Dakota         & ND & North Central &   672591 &    4 &  0.5947151\\\\\n\t Vermont              & VT & Northeast     &   625741 &    2 &  0.3196211\\\\\n\t District of Columbia & DC & South         &   601723 &   99 & 16.4527532\\\\\n\t Wyoming              & WY & West          &   563626 &    5 &  0.8871131\\\\\n\\end{tabular}\n",
            "text/plain": [
              "   state                abb region        population total rate      \n",
              "1  California           CA  West          37253956   1257   3.3741383\n",
              "2  Texas                TX  South         25145561    805   3.2013603\n",
              "3  Florida              FL  South         19687653    669   3.3980688\n",
              "4  New York             NY  Northeast     19378102    517   2.6679599\n",
              "5  Illinois             IL  North Central 12830632    364   2.8369608\n",
              "6  Pennsylvania         PA  Northeast     12702379    457   3.5977513\n",
              "7  Ohio                 OH  North Central 11536504    310   2.6871225\n",
              "8  Georgia              GA  South          9920000    376   3.7903226\n",
              "9  Michigan             MI  North Central  9883640    413   4.1786225\n",
              "10 North Carolina       NC  South          9535483    286   2.9993237\n",
              "11 New Jersey           NJ  Northeast      8791894    246   2.7980319\n",
              "12 Virginia             VA  South          8001024    250   3.1246001\n",
              "13 Washington           WA  West           6724540     93   1.3829942\n",
              "14 Massachusetts        MA  Northeast      6547629    118   1.8021791\n",
              "15 Indiana              IN  North Central  6483802    142   2.1900730\n",
              "16 Arizona              AZ  West           6392017    232   3.6295273\n",
              "17 Tennessee            TN  South          6346105    219   3.4509357\n",
              "18 Missouri             MO  North Central  5988927    321   5.3598917\n",
              "19 Maryland             MD  South          5773552    293   5.0748655\n",
              "20 Wisconsin            WI  North Central  5686986     97   1.7056487\n",
              "21 Minnesota            MN  North Central  5303925     53   0.9992600\n",
              "22 Colorado             CO  West           5029196     65   1.2924531\n",
              "23 Alabama              AL  South          4779736    135   2.8244238\n",
              "24 South Carolina       SC  South          4625364    207   4.4753235\n",
              "25 Louisiana            LA  South          4533372    351   7.7425810\n",
              "26 Kentucky             KY  South          4339367    116   2.6732010\n",
              "27 Oregon               OR  West           3831074     36   0.9396843\n",
              "28 Oklahoma             OK  South          3751351    111   2.9589340\n",
              "29 Connecticut          CT  Northeast      3574097     97   2.7139722\n",
              "30 Iowa                 IA  North Central  3046355     21   0.6893484\n",
              "31 Mississippi          MS  South          2967297    120   4.0440846\n",
              "32 Arkansas             AR  South          2915918     93   3.1893901\n",
              "33 Kansas               KS  North Central  2853118     63   2.2081106\n",
              "34 Utah                 UT  West           2763885     22   0.7959810\n",
              "35 Nevada               NV  West           2700551     84   3.1104763\n",
              "36 New Mexico           NM  West           2059179     67   3.2537239\n",
              "37 West Virginia        WV  South          1852994     27   1.4571013\n",
              "38 Nebraska             NE  North Central  1826341     32   1.7521372\n",
              "39 Idaho                ID  West           1567582     12   0.7655102\n",
              "40 Hawaii               HI  West           1360301      7   0.5145920\n",
              "41 Maine                ME  Northeast      1328361     11   0.8280881\n",
              "42 New Hampshire        NH  Northeast      1316470      5   0.3798036\n",
              "43 Rhode Island         RI  Northeast      1052567     16   1.5200933\n",
              "44 Montana              MT  West            989415     12   1.2128379\n",
              "45 Delaware             DE  South           897934     38   4.2319369\n",
              "46 South Dakota         SD  North Central   814180      8   0.9825837\n",
              "47 Alaska               AK  West            710231     19   2.6751860\n",
              "48 North Dakota         ND  North Central   672591      4   0.5947151\n",
              "49 Vermont              VT  Northeast       625741      2   0.3196211\n",
              "50 District of Columbia DC  South           601723     99  16.4527532\n",
              "51 Wyoming              WY  West            563626      5   0.8871131"
            ]
          },
          "metadata": {}
        },
        {
          "output_type": "display_data",
          "data": {
            "text/html": [
              "<table class=\"dataframe\">\n",
              "<caption>A data.table: 51 × 6</caption>\n",
              "<thead>\n",
              "\t<tr><th scope=col>state</th><th scope=col>abb</th><th scope=col>region</th><th scope=col>population</th><th scope=col>total</th><th scope=col>rate</th></tr>\n",
              "\t<tr><th scope=col>&lt;chr&gt;</th><th scope=col>&lt;chr&gt;</th><th scope=col>&lt;fct&gt;</th><th scope=col>&lt;dbl&gt;</th><th scope=col>&lt;dbl&gt;</th><th scope=col>&lt;dbl&gt;</th></tr>\n",
              "</thead>\n",
              "<tbody>\n",
              "\t<tr><td>Vermont             </td><td>VT</td><td>Northeast    </td><td>  625741</td><td>   2</td><td> 0.3196211</td></tr>\n",
              "\t<tr><td>New Hampshire       </td><td>NH</td><td>Northeast    </td><td> 1316470</td><td>   5</td><td> 0.3798036</td></tr>\n",
              "\t<tr><td>Maine               </td><td>ME</td><td>Northeast    </td><td> 1328361</td><td>  11</td><td> 0.8280881</td></tr>\n",
              "\t<tr><td>Rhode Island        </td><td>RI</td><td>Northeast    </td><td> 1052567</td><td>  16</td><td> 1.5200933</td></tr>\n",
              "\t<tr><td>Massachusetts       </td><td>MA</td><td>Northeast    </td><td> 6547629</td><td> 118</td><td> 1.8021791</td></tr>\n",
              "\t<tr><td>New York            </td><td>NY</td><td>Northeast    </td><td>19378102</td><td> 517</td><td> 2.6679599</td></tr>\n",
              "\t<tr><td>Connecticut         </td><td>CT</td><td>Northeast    </td><td> 3574097</td><td>  97</td><td> 2.7139722</td></tr>\n",
              "\t<tr><td>New Jersey          </td><td>NJ</td><td>Northeast    </td><td> 8791894</td><td> 246</td><td> 2.7980319</td></tr>\n",
              "\t<tr><td>Pennsylvania        </td><td>PA</td><td>Northeast    </td><td>12702379</td><td> 457</td><td> 3.5977513</td></tr>\n",
              "\t<tr><td>West Virginia       </td><td>WV</td><td>South        </td><td> 1852994</td><td>  27</td><td> 1.4571013</td></tr>\n",
              "\t<tr><td>Kentucky            </td><td>KY</td><td>South        </td><td> 4339367</td><td> 116</td><td> 2.6732010</td></tr>\n",
              "\t<tr><td>Alabama             </td><td>AL</td><td>South        </td><td> 4779736</td><td> 135</td><td> 2.8244238</td></tr>\n",
              "\t<tr><td>Oklahoma            </td><td>OK</td><td>South        </td><td> 3751351</td><td> 111</td><td> 2.9589340</td></tr>\n",
              "\t<tr><td>North Carolina      </td><td>NC</td><td>South        </td><td> 9535483</td><td> 286</td><td> 2.9993237</td></tr>\n",
              "\t<tr><td>Virginia            </td><td>VA</td><td>South        </td><td> 8001024</td><td> 250</td><td> 3.1246001</td></tr>\n",
              "\t<tr><td>Arkansas            </td><td>AR</td><td>South        </td><td> 2915918</td><td>  93</td><td> 3.1893901</td></tr>\n",
              "\t<tr><td>Texas               </td><td>TX</td><td>South        </td><td>25145561</td><td> 805</td><td> 3.2013603</td></tr>\n",
              "\t<tr><td>Florida             </td><td>FL</td><td>South        </td><td>19687653</td><td> 669</td><td> 3.3980688</td></tr>\n",
              "\t<tr><td>Tennessee           </td><td>TN</td><td>South        </td><td> 6346105</td><td> 219</td><td> 3.4509357</td></tr>\n",
              "\t<tr><td>Georgia             </td><td>GA</td><td>South        </td><td> 9920000</td><td> 376</td><td> 3.7903226</td></tr>\n",
              "\t<tr><td>Mississippi         </td><td>MS</td><td>South        </td><td> 2967297</td><td> 120</td><td> 4.0440846</td></tr>\n",
              "\t<tr><td>Delaware            </td><td>DE</td><td>South        </td><td>  897934</td><td>  38</td><td> 4.2319369</td></tr>\n",
              "\t<tr><td>South Carolina      </td><td>SC</td><td>South        </td><td> 4625364</td><td> 207</td><td> 4.4753235</td></tr>\n",
              "\t<tr><td>Maryland            </td><td>MD</td><td>South        </td><td> 5773552</td><td> 293</td><td> 5.0748655</td></tr>\n",
              "\t<tr><td>Louisiana           </td><td>LA</td><td>South        </td><td> 4533372</td><td> 351</td><td> 7.7425810</td></tr>\n",
              "\t<tr><td>District of Columbia</td><td>DC</td><td>South        </td><td>  601723</td><td>  99</td><td>16.4527532</td></tr>\n",
              "\t<tr><td>North Dakota        </td><td>ND</td><td>North Central</td><td>  672591</td><td>   4</td><td> 0.5947151</td></tr>\n",
              "\t<tr><td>Iowa                </td><td>IA</td><td>North Central</td><td> 3046355</td><td>  21</td><td> 0.6893484</td></tr>\n",
              "\t<tr><td>South Dakota        </td><td>SD</td><td>North Central</td><td>  814180</td><td>   8</td><td> 0.9825837</td></tr>\n",
              "\t<tr><td>Minnesota           </td><td>MN</td><td>North Central</td><td> 5303925</td><td>  53</td><td> 0.9992600</td></tr>\n",
              "\t<tr><td>Wisconsin           </td><td>WI</td><td>North Central</td><td> 5686986</td><td>  97</td><td> 1.7056487</td></tr>\n",
              "\t<tr><td>Nebraska            </td><td>NE</td><td>North Central</td><td> 1826341</td><td>  32</td><td> 1.7521372</td></tr>\n",
              "\t<tr><td>Indiana             </td><td>IN</td><td>North Central</td><td> 6483802</td><td> 142</td><td> 2.1900730</td></tr>\n",
              "\t<tr><td>Kansas              </td><td>KS</td><td>North Central</td><td> 2853118</td><td>  63</td><td> 2.2081106</td></tr>\n",
              "\t<tr><td>Ohio                </td><td>OH</td><td>North Central</td><td>11536504</td><td> 310</td><td> 2.6871225</td></tr>\n",
              "\t<tr><td>Illinois            </td><td>IL</td><td>North Central</td><td>12830632</td><td> 364</td><td> 2.8369608</td></tr>\n",
              "\t<tr><td>Michigan            </td><td>MI</td><td>North Central</td><td> 9883640</td><td> 413</td><td> 4.1786225</td></tr>\n",
              "\t<tr><td>Missouri            </td><td>MO</td><td>North Central</td><td> 5988927</td><td> 321</td><td> 5.3598917</td></tr>\n",
              "\t<tr><td>Hawaii              </td><td>HI</td><td>West         </td><td> 1360301</td><td>   7</td><td> 0.5145920</td></tr>\n",
              "\t<tr><td>Idaho               </td><td>ID</td><td>West         </td><td> 1567582</td><td>  12</td><td> 0.7655102</td></tr>\n",
              "\t<tr><td>Utah                </td><td>UT</td><td>West         </td><td> 2763885</td><td>  22</td><td> 0.7959810</td></tr>\n",
              "\t<tr><td>Wyoming             </td><td>WY</td><td>West         </td><td>  563626</td><td>   5</td><td> 0.8871131</td></tr>\n",
              "\t<tr><td>Oregon              </td><td>OR</td><td>West         </td><td> 3831074</td><td>  36</td><td> 0.9396843</td></tr>\n",
              "\t<tr><td>Montana             </td><td>MT</td><td>West         </td><td>  989415</td><td>  12</td><td> 1.2128379</td></tr>\n",
              "\t<tr><td>Colorado            </td><td>CO</td><td>West         </td><td> 5029196</td><td>  65</td><td> 1.2924531</td></tr>\n",
              "\t<tr><td>Washington          </td><td>WA</td><td>West         </td><td> 6724540</td><td>  93</td><td> 1.3829942</td></tr>\n",
              "\t<tr><td>Alaska              </td><td>AK</td><td>West         </td><td>  710231</td><td>  19</td><td> 2.6751860</td></tr>\n",
              "\t<tr><td>Nevada              </td><td>NV</td><td>West         </td><td> 2700551</td><td>  84</td><td> 3.1104763</td></tr>\n",
              "\t<tr><td>New Mexico          </td><td>NM</td><td>West         </td><td> 2059179</td><td>  67</td><td> 3.2537239</td></tr>\n",
              "\t<tr><td>California          </td><td>CA</td><td>West         </td><td>37253956</td><td>1257</td><td> 3.3741383</td></tr>\n",
              "\t<tr><td>Arizona             </td><td>AZ</td><td>West         </td><td> 6392017</td><td> 232</td><td> 3.6295273</td></tr>\n",
              "</tbody>\n",
              "</table>\n"
            ],
            "text/markdown": "\nA data.table: 51 × 6\n\n| state &lt;chr&gt; | abb &lt;chr&gt; | region &lt;fct&gt; | population &lt;dbl&gt; | total &lt;dbl&gt; | rate &lt;dbl&gt; |\n|---|---|---|---|---|---|\n| Vermont              | VT | Northeast     |   625741 |    2 |  0.3196211 |\n| New Hampshire        | NH | Northeast     |  1316470 |    5 |  0.3798036 |\n| Maine                | ME | Northeast     |  1328361 |   11 |  0.8280881 |\n| Rhode Island         | RI | Northeast     |  1052567 |   16 |  1.5200933 |\n| Massachusetts        | MA | Northeast     |  6547629 |  118 |  1.8021791 |\n| New York             | NY | Northeast     | 19378102 |  517 |  2.6679599 |\n| Connecticut          | CT | Northeast     |  3574097 |   97 |  2.7139722 |\n| New Jersey           | NJ | Northeast     |  8791894 |  246 |  2.7980319 |\n| Pennsylvania         | PA | Northeast     | 12702379 |  457 |  3.5977513 |\n| West Virginia        | WV | South         |  1852994 |   27 |  1.4571013 |\n| Kentucky             | KY | South         |  4339367 |  116 |  2.6732010 |\n| Alabama              | AL | South         |  4779736 |  135 |  2.8244238 |\n| Oklahoma             | OK | South         |  3751351 |  111 |  2.9589340 |\n| North Carolina       | NC | South         |  9535483 |  286 |  2.9993237 |\n| Virginia             | VA | South         |  8001024 |  250 |  3.1246001 |\n| Arkansas             | AR | South         |  2915918 |   93 |  3.1893901 |\n| Texas                | TX | South         | 25145561 |  805 |  3.2013603 |\n| Florida              | FL | South         | 19687653 |  669 |  3.3980688 |\n| Tennessee            | TN | South         |  6346105 |  219 |  3.4509357 |\n| Georgia              | GA | South         |  9920000 |  376 |  3.7903226 |\n| Mississippi          | MS | South         |  2967297 |  120 |  4.0440846 |\n| Delaware             | DE | South         |   897934 |   38 |  4.2319369 |\n| South Carolina       | SC | South         |  4625364 |  207 |  4.4753235 |\n| Maryland             | MD | South         |  5773552 |  293 |  5.0748655 |\n| Louisiana            | LA | South         |  4533372 |  351 |  7.7425810 |\n| District of Columbia | DC | South         |   601723 |   99 | 16.4527532 |\n| North Dakota         | ND | North Central |   672591 |    4 |  0.5947151 |\n| Iowa                 | IA | North Central |  3046355 |   21 |  0.6893484 |\n| South Dakota         | SD | North Central |   814180 |    8 |  0.9825837 |\n| Minnesota            | MN | North Central |  5303925 |   53 |  0.9992600 |\n| Wisconsin            | WI | North Central |  5686986 |   97 |  1.7056487 |\n| Nebraska             | NE | North Central |  1826341 |   32 |  1.7521372 |\n| Indiana              | IN | North Central |  6483802 |  142 |  2.1900730 |\n| Kansas               | KS | North Central |  2853118 |   63 |  2.2081106 |\n| Ohio                 | OH | North Central | 11536504 |  310 |  2.6871225 |\n| Illinois             | IL | North Central | 12830632 |  364 |  2.8369608 |\n| Michigan             | MI | North Central |  9883640 |  413 |  4.1786225 |\n| Missouri             | MO | North Central |  5988927 |  321 |  5.3598917 |\n| Hawaii               | HI | West          |  1360301 |    7 |  0.5145920 |\n| Idaho                | ID | West          |  1567582 |   12 |  0.7655102 |\n| Utah                 | UT | West          |  2763885 |   22 |  0.7959810 |\n| Wyoming              | WY | West          |   563626 |    5 |  0.8871131 |\n| Oregon               | OR | West          |  3831074 |   36 |  0.9396843 |\n| Montana              | MT | West          |   989415 |   12 |  1.2128379 |\n| Colorado             | CO | West          |  5029196 |   65 |  1.2924531 |\n| Washington           | WA | West          |  6724540 |   93 |  1.3829942 |\n| Alaska               | AK | West          |   710231 |   19 |  2.6751860 |\n| Nevada               | NV | West          |  2700551 |   84 |  3.1104763 |\n| New Mexico           | NM | West          |  2059179 |   67 |  3.2537239 |\n| California           | CA | West          | 37253956 | 1257 |  3.3741383 |\n| Arizona              | AZ | West          |  6392017 |  232 |  3.6295273 |\n\n",
            "text/latex": "A data.table: 51 × 6\n\\begin{tabular}{llllll}\n state & abb & region & population & total & rate\\\\\n <chr> & <chr> & <fct> & <dbl> & <dbl> & <dbl>\\\\\n\\hline\n\t Vermont              & VT & Northeast     &   625741 &    2 &  0.3196211\\\\\n\t New Hampshire        & NH & Northeast     &  1316470 &    5 &  0.3798036\\\\\n\t Maine                & ME & Northeast     &  1328361 &   11 &  0.8280881\\\\\n\t Rhode Island         & RI & Northeast     &  1052567 &   16 &  1.5200933\\\\\n\t Massachusetts        & MA & Northeast     &  6547629 &  118 &  1.8021791\\\\\n\t New York             & NY & Northeast     & 19378102 &  517 &  2.6679599\\\\\n\t Connecticut          & CT & Northeast     &  3574097 &   97 &  2.7139722\\\\\n\t New Jersey           & NJ & Northeast     &  8791894 &  246 &  2.7980319\\\\\n\t Pennsylvania         & PA & Northeast     & 12702379 &  457 &  3.5977513\\\\\n\t West Virginia        & WV & South         &  1852994 &   27 &  1.4571013\\\\\n\t Kentucky             & KY & South         &  4339367 &  116 &  2.6732010\\\\\n\t Alabama              & AL & South         &  4779736 &  135 &  2.8244238\\\\\n\t Oklahoma             & OK & South         &  3751351 &  111 &  2.9589340\\\\\n\t North Carolina       & NC & South         &  9535483 &  286 &  2.9993237\\\\\n\t Virginia             & VA & South         &  8001024 &  250 &  3.1246001\\\\\n\t Arkansas             & AR & South         &  2915918 &   93 &  3.1893901\\\\\n\t Texas                & TX & South         & 25145561 &  805 &  3.2013603\\\\\n\t Florida              & FL & South         & 19687653 &  669 &  3.3980688\\\\\n\t Tennessee            & TN & South         &  6346105 &  219 &  3.4509357\\\\\n\t Georgia              & GA & South         &  9920000 &  376 &  3.7903226\\\\\n\t Mississippi          & MS & South         &  2967297 &  120 &  4.0440846\\\\\n\t Delaware             & DE & South         &   897934 &   38 &  4.2319369\\\\\n\t South Carolina       & SC & South         &  4625364 &  207 &  4.4753235\\\\\n\t Maryland             & MD & South         &  5773552 &  293 &  5.0748655\\\\\n\t Louisiana            & LA & South         &  4533372 &  351 &  7.7425810\\\\\n\t District of Columbia & DC & South         &   601723 &   99 & 16.4527532\\\\\n\t North Dakota         & ND & North Central &   672591 &    4 &  0.5947151\\\\\n\t Iowa                 & IA & North Central &  3046355 &   21 &  0.6893484\\\\\n\t South Dakota         & SD & North Central &   814180 &    8 &  0.9825837\\\\\n\t Minnesota            & MN & North Central &  5303925 &   53 &  0.9992600\\\\\n\t Wisconsin            & WI & North Central &  5686986 &   97 &  1.7056487\\\\\n\t Nebraska             & NE & North Central &  1826341 &   32 &  1.7521372\\\\\n\t Indiana              & IN & North Central &  6483802 &  142 &  2.1900730\\\\\n\t Kansas               & KS & North Central &  2853118 &   63 &  2.2081106\\\\\n\t Ohio                 & OH & North Central & 11536504 &  310 &  2.6871225\\\\\n\t Illinois             & IL & North Central & 12830632 &  364 &  2.8369608\\\\\n\t Michigan             & MI & North Central &  9883640 &  413 &  4.1786225\\\\\n\t Missouri             & MO & North Central &  5988927 &  321 &  5.3598917\\\\\n\t Hawaii               & HI & West          &  1360301 &    7 &  0.5145920\\\\\n\t Idaho                & ID & West          &  1567582 &   12 &  0.7655102\\\\\n\t Utah                 & UT & West          &  2763885 &   22 &  0.7959810\\\\\n\t Wyoming              & WY & West          &   563626 &    5 &  0.8871131\\\\\n\t Oregon               & OR & West          &  3831074 &   36 &  0.9396843\\\\\n\t Montana              & MT & West          &   989415 &   12 &  1.2128379\\\\\n\t Colorado             & CO & West          &  5029196 &   65 &  1.2924531\\\\\n\t Washington           & WA & West          &  6724540 &   93 &  1.3829942\\\\\n\t Alaska               & AK & West          &   710231 &   19 &  2.6751860\\\\\n\t Nevada               & NV & West          &  2700551 &   84 &  3.1104763\\\\\n\t New Mexico           & NM & West          &  2059179 &   67 &  3.2537239\\\\\n\t California           & CA & West          & 37253956 & 1257 &  3.3741383\\\\\n\t Arizona              & AZ & West          &  6392017 &  232 &  3.6295273\\\\\n\\end{tabular}\n",
            "text/plain": [
              "   state                abb region        population total rate      \n",
              "1  Vermont              VT  Northeast       625741      2   0.3196211\n",
              "2  New Hampshire        NH  Northeast      1316470      5   0.3798036\n",
              "3  Maine                ME  Northeast      1328361     11   0.8280881\n",
              "4  Rhode Island         RI  Northeast      1052567     16   1.5200933\n",
              "5  Massachusetts        MA  Northeast      6547629    118   1.8021791\n",
              "6  New York             NY  Northeast     19378102    517   2.6679599\n",
              "7  Connecticut          CT  Northeast      3574097     97   2.7139722\n",
              "8  New Jersey           NJ  Northeast      8791894    246   2.7980319\n",
              "9  Pennsylvania         PA  Northeast     12702379    457   3.5977513\n",
              "10 West Virginia        WV  South          1852994     27   1.4571013\n",
              "11 Kentucky             KY  South          4339367    116   2.6732010\n",
              "12 Alabama              AL  South          4779736    135   2.8244238\n",
              "13 Oklahoma             OK  South          3751351    111   2.9589340\n",
              "14 North Carolina       NC  South          9535483    286   2.9993237\n",
              "15 Virginia             VA  South          8001024    250   3.1246001\n",
              "16 Arkansas             AR  South          2915918     93   3.1893901\n",
              "17 Texas                TX  South         25145561    805   3.2013603\n",
              "18 Florida              FL  South         19687653    669   3.3980688\n",
              "19 Tennessee            TN  South          6346105    219   3.4509357\n",
              "20 Georgia              GA  South          9920000    376   3.7903226\n",
              "21 Mississippi          MS  South          2967297    120   4.0440846\n",
              "22 Delaware             DE  South           897934     38   4.2319369\n",
              "23 South Carolina       SC  South          4625364    207   4.4753235\n",
              "24 Maryland             MD  South          5773552    293   5.0748655\n",
              "25 Louisiana            LA  South          4533372    351   7.7425810\n",
              "26 District of Columbia DC  South           601723     99  16.4527532\n",
              "27 North Dakota         ND  North Central   672591      4   0.5947151\n",
              "28 Iowa                 IA  North Central  3046355     21   0.6893484\n",
              "29 South Dakota         SD  North Central   814180      8   0.9825837\n",
              "30 Minnesota            MN  North Central  5303925     53   0.9992600\n",
              "31 Wisconsin            WI  North Central  5686986     97   1.7056487\n",
              "32 Nebraska             NE  North Central  1826341     32   1.7521372\n",
              "33 Indiana              IN  North Central  6483802    142   2.1900730\n",
              "34 Kansas               KS  North Central  2853118     63   2.2081106\n",
              "35 Ohio                 OH  North Central 11536504    310   2.6871225\n",
              "36 Illinois             IL  North Central 12830632    364   2.8369608\n",
              "37 Michigan             MI  North Central  9883640    413   4.1786225\n",
              "38 Missouri             MO  North Central  5988927    321   5.3598917\n",
              "39 Hawaii               HI  West           1360301      7   0.5145920\n",
              "40 Idaho                ID  West           1567582     12   0.7655102\n",
              "41 Utah                 UT  West           2763885     22   0.7959810\n",
              "42 Wyoming              WY  West            563626      5   0.8871131\n",
              "43 Oregon               OR  West           3831074     36   0.9396843\n",
              "44 Montana              MT  West            989415     12   1.2128379\n",
              "45 Colorado             CO  West           5029196     65   1.2924531\n",
              "46 Washington           WA  West           6724540     93   1.3829942\n",
              "47 Alaska               AK  West            710231     19   2.6751860\n",
              "48 Nevada               NV  West           2700551     84   3.1104763\n",
              "49 New Mexico           NM  West           2059179     67   3.2537239\n",
              "50 California           CA  West          37253956   1257   3.3741383\n",
              "51 Arizona              AZ  West           6392017    232   3.6295273"
            ]
          },
          "metadata": {}
        }
      ]
    },
    {
      "cell_type": "code",
      "source": [
        "# view the dataset\n",
        "murders %>% group_by(region)\n",
        "\n",
        "# see the class\n",
        "murders %>% group_by(region) %>% class()\n",
        "\n",
        "# compare the print output of a regular data frame to a tibble\n",
        "gapminder\n",
        "as_tibble(gapminder)\n",
        "\n",
        "# compare subsetting a regular data frame and a tibble\n",
        "class(murders[,1])\n",
        "class(as_tibble(murders)[,1])\n",
        "\n",
        "# access a column vector not as a tibble using $\n",
        "class(as_tibble(murders)$state)\n",
        "\n",
        "# compare what happens when accessing a column that doesn't exist in a regular data frame to in a tibble\n",
        "murders$State\n",
        "as_tibble(murders)$State\n",
        "\n",
        "# create a tibble\n",
        "tibble(id = c(1, 2, 3), func = c(mean, median, sd))"
      ],
      "metadata": {
        "id": "QDcPuqJJYI2B",
        "colab": {
          "base_uri": "https://localhost:8080/",
          "height": 1000
        },
        "outputId": "8ba9836b-df4c-4b69-a6b7-0f2fa2d336fd"
      },
      "execution_count": 48,
      "outputs": [
        {
          "output_type": "display_data",
          "data": {
            "text/html": [
              "<table class=\"dataframe\">\n",
              "<caption>A grouped_df: 51 × 6</caption>\n",
              "<thead>\n",
              "\t<tr><th scope=col>state</th><th scope=col>abb</th><th scope=col>region</th><th scope=col>population</th><th scope=col>total</th><th scope=col>rate</th></tr>\n",
              "\t<tr><th scope=col>&lt;chr&gt;</th><th scope=col>&lt;chr&gt;</th><th scope=col>&lt;fct&gt;</th><th scope=col>&lt;dbl&gt;</th><th scope=col>&lt;dbl&gt;</th><th scope=col>&lt;dbl&gt;</th></tr>\n",
              "</thead>\n",
              "<tbody>\n",
              "\t<tr><td>Alabama             </td><td>AL</td><td>South        </td><td> 4779736</td><td> 135</td><td> 2.8244238</td></tr>\n",
              "\t<tr><td>Alaska              </td><td>AK</td><td>West         </td><td>  710231</td><td>  19</td><td> 2.6751860</td></tr>\n",
              "\t<tr><td>Arizona             </td><td>AZ</td><td>West         </td><td> 6392017</td><td> 232</td><td> 3.6295273</td></tr>\n",
              "\t<tr><td>Arkansas            </td><td>AR</td><td>South        </td><td> 2915918</td><td>  93</td><td> 3.1893901</td></tr>\n",
              "\t<tr><td>California          </td><td>CA</td><td>West         </td><td>37253956</td><td>1257</td><td> 3.3741383</td></tr>\n",
              "\t<tr><td>Colorado            </td><td>CO</td><td>West         </td><td> 5029196</td><td>  65</td><td> 1.2924531</td></tr>\n",
              "\t<tr><td>Connecticut         </td><td>CT</td><td>Northeast    </td><td> 3574097</td><td>  97</td><td> 2.7139722</td></tr>\n",
              "\t<tr><td>Delaware            </td><td>DE</td><td>South        </td><td>  897934</td><td>  38</td><td> 4.2319369</td></tr>\n",
              "\t<tr><td>District of Columbia</td><td>DC</td><td>South        </td><td>  601723</td><td>  99</td><td>16.4527532</td></tr>\n",
              "\t<tr><td>Florida             </td><td>FL</td><td>South        </td><td>19687653</td><td> 669</td><td> 3.3980688</td></tr>\n",
              "\t<tr><td>Georgia             </td><td>GA</td><td>South        </td><td> 9920000</td><td> 376</td><td> 3.7903226</td></tr>\n",
              "\t<tr><td>Hawaii              </td><td>HI</td><td>West         </td><td> 1360301</td><td>   7</td><td> 0.5145920</td></tr>\n",
              "\t<tr><td>Idaho               </td><td>ID</td><td>West         </td><td> 1567582</td><td>  12</td><td> 0.7655102</td></tr>\n",
              "\t<tr><td>Illinois            </td><td>IL</td><td>North Central</td><td>12830632</td><td> 364</td><td> 2.8369608</td></tr>\n",
              "\t<tr><td>Indiana             </td><td>IN</td><td>North Central</td><td> 6483802</td><td> 142</td><td> 2.1900730</td></tr>\n",
              "\t<tr><td>Iowa                </td><td>IA</td><td>North Central</td><td> 3046355</td><td>  21</td><td> 0.6893484</td></tr>\n",
              "\t<tr><td>Kansas              </td><td>KS</td><td>North Central</td><td> 2853118</td><td>  63</td><td> 2.2081106</td></tr>\n",
              "\t<tr><td>Kentucky            </td><td>KY</td><td>South        </td><td> 4339367</td><td> 116</td><td> 2.6732010</td></tr>\n",
              "\t<tr><td>Louisiana           </td><td>LA</td><td>South        </td><td> 4533372</td><td> 351</td><td> 7.7425810</td></tr>\n",
              "\t<tr><td>Maine               </td><td>ME</td><td>Northeast    </td><td> 1328361</td><td>  11</td><td> 0.8280881</td></tr>\n",
              "\t<tr><td>Maryland            </td><td>MD</td><td>South        </td><td> 5773552</td><td> 293</td><td> 5.0748655</td></tr>\n",
              "\t<tr><td>Massachusetts       </td><td>MA</td><td>Northeast    </td><td> 6547629</td><td> 118</td><td> 1.8021791</td></tr>\n",
              "\t<tr><td>Michigan            </td><td>MI</td><td>North Central</td><td> 9883640</td><td> 413</td><td> 4.1786225</td></tr>\n",
              "\t<tr><td>Minnesota           </td><td>MN</td><td>North Central</td><td> 5303925</td><td>  53</td><td> 0.9992600</td></tr>\n",
              "\t<tr><td>Mississippi         </td><td>MS</td><td>South        </td><td> 2967297</td><td> 120</td><td> 4.0440846</td></tr>\n",
              "\t<tr><td>Missouri            </td><td>MO</td><td>North Central</td><td> 5988927</td><td> 321</td><td> 5.3598917</td></tr>\n",
              "\t<tr><td>Montana             </td><td>MT</td><td>West         </td><td>  989415</td><td>  12</td><td> 1.2128379</td></tr>\n",
              "\t<tr><td>Nebraska            </td><td>NE</td><td>North Central</td><td> 1826341</td><td>  32</td><td> 1.7521372</td></tr>\n",
              "\t<tr><td>Nevada              </td><td>NV</td><td>West         </td><td> 2700551</td><td>  84</td><td> 3.1104763</td></tr>\n",
              "\t<tr><td>New Hampshire       </td><td>NH</td><td>Northeast    </td><td> 1316470</td><td>   5</td><td> 0.3798036</td></tr>\n",
              "\t<tr><td>New Jersey          </td><td>NJ</td><td>Northeast    </td><td> 8791894</td><td> 246</td><td> 2.7980319</td></tr>\n",
              "\t<tr><td>New Mexico          </td><td>NM</td><td>West         </td><td> 2059179</td><td>  67</td><td> 3.2537239</td></tr>\n",
              "\t<tr><td>New York            </td><td>NY</td><td>Northeast    </td><td>19378102</td><td> 517</td><td> 2.6679599</td></tr>\n",
              "\t<tr><td>North Carolina      </td><td>NC</td><td>South        </td><td> 9535483</td><td> 286</td><td> 2.9993237</td></tr>\n",
              "\t<tr><td>North Dakota        </td><td>ND</td><td>North Central</td><td>  672591</td><td>   4</td><td> 0.5947151</td></tr>\n",
              "\t<tr><td>Ohio                </td><td>OH</td><td>North Central</td><td>11536504</td><td> 310</td><td> 2.6871225</td></tr>\n",
              "\t<tr><td>Oklahoma            </td><td>OK</td><td>South        </td><td> 3751351</td><td> 111</td><td> 2.9589340</td></tr>\n",
              "\t<tr><td>Oregon              </td><td>OR</td><td>West         </td><td> 3831074</td><td>  36</td><td> 0.9396843</td></tr>\n",
              "\t<tr><td>Pennsylvania        </td><td>PA</td><td>Northeast    </td><td>12702379</td><td> 457</td><td> 3.5977513</td></tr>\n",
              "\t<tr><td>Rhode Island        </td><td>RI</td><td>Northeast    </td><td> 1052567</td><td>  16</td><td> 1.5200933</td></tr>\n",
              "\t<tr><td>South Carolina      </td><td>SC</td><td>South        </td><td> 4625364</td><td> 207</td><td> 4.4753235</td></tr>\n",
              "\t<tr><td>South Dakota        </td><td>SD</td><td>North Central</td><td>  814180</td><td>   8</td><td> 0.9825837</td></tr>\n",
              "\t<tr><td>Tennessee           </td><td>TN</td><td>South        </td><td> 6346105</td><td> 219</td><td> 3.4509357</td></tr>\n",
              "\t<tr><td>Texas               </td><td>TX</td><td>South        </td><td>25145561</td><td> 805</td><td> 3.2013603</td></tr>\n",
              "\t<tr><td>Utah                </td><td>UT</td><td>West         </td><td> 2763885</td><td>  22</td><td> 0.7959810</td></tr>\n",
              "\t<tr><td>Vermont             </td><td>VT</td><td>Northeast    </td><td>  625741</td><td>   2</td><td> 0.3196211</td></tr>\n",
              "\t<tr><td>Virginia            </td><td>VA</td><td>South        </td><td> 8001024</td><td> 250</td><td> 3.1246001</td></tr>\n",
              "\t<tr><td>Washington          </td><td>WA</td><td>West         </td><td> 6724540</td><td>  93</td><td> 1.3829942</td></tr>\n",
              "\t<tr><td>West Virginia       </td><td>WV</td><td>South        </td><td> 1852994</td><td>  27</td><td> 1.4571013</td></tr>\n",
              "\t<tr><td>Wisconsin           </td><td>WI</td><td>North Central</td><td> 5686986</td><td>  97</td><td> 1.7056487</td></tr>\n",
              "\t<tr><td>Wyoming             </td><td>WY</td><td>West         </td><td>  563626</td><td>   5</td><td> 0.8871131</td></tr>\n",
              "</tbody>\n",
              "</table>\n"
            ],
            "text/markdown": "\nA grouped_df: 51 × 6\n\n| state &lt;chr&gt; | abb &lt;chr&gt; | region &lt;fct&gt; | population &lt;dbl&gt; | total &lt;dbl&gt; | rate &lt;dbl&gt; |\n|---|---|---|---|---|---|\n| Alabama              | AL | South         |  4779736 |  135 |  2.8244238 |\n| Alaska               | AK | West          |   710231 |   19 |  2.6751860 |\n| Arizona              | AZ | West          |  6392017 |  232 |  3.6295273 |\n| Arkansas             | AR | South         |  2915918 |   93 |  3.1893901 |\n| California           | CA | West          | 37253956 | 1257 |  3.3741383 |\n| Colorado             | CO | West          |  5029196 |   65 |  1.2924531 |\n| Connecticut          | CT | Northeast     |  3574097 |   97 |  2.7139722 |\n| Delaware             | DE | South         |   897934 |   38 |  4.2319369 |\n| District of Columbia | DC | South         |   601723 |   99 | 16.4527532 |\n| Florida              | FL | South         | 19687653 |  669 |  3.3980688 |\n| Georgia              | GA | South         |  9920000 |  376 |  3.7903226 |\n| Hawaii               | HI | West          |  1360301 |    7 |  0.5145920 |\n| Idaho                | ID | West          |  1567582 |   12 |  0.7655102 |\n| Illinois             | IL | North Central | 12830632 |  364 |  2.8369608 |\n| Indiana              | IN | North Central |  6483802 |  142 |  2.1900730 |\n| Iowa                 | IA | North Central |  3046355 |   21 |  0.6893484 |\n| Kansas               | KS | North Central |  2853118 |   63 |  2.2081106 |\n| Kentucky             | KY | South         |  4339367 |  116 |  2.6732010 |\n| Louisiana            | LA | South         |  4533372 |  351 |  7.7425810 |\n| Maine                | ME | Northeast     |  1328361 |   11 |  0.8280881 |\n| Maryland             | MD | South         |  5773552 |  293 |  5.0748655 |\n| Massachusetts        | MA | Northeast     |  6547629 |  118 |  1.8021791 |\n| Michigan             | MI | North Central |  9883640 |  413 |  4.1786225 |\n| Minnesota            | MN | North Central |  5303925 |   53 |  0.9992600 |\n| Mississippi          | MS | South         |  2967297 |  120 |  4.0440846 |\n| Missouri             | MO | North Central |  5988927 |  321 |  5.3598917 |\n| Montana              | MT | West          |   989415 |   12 |  1.2128379 |\n| Nebraska             | NE | North Central |  1826341 |   32 |  1.7521372 |\n| Nevada               | NV | West          |  2700551 |   84 |  3.1104763 |\n| New Hampshire        | NH | Northeast     |  1316470 |    5 |  0.3798036 |\n| New Jersey           | NJ | Northeast     |  8791894 |  246 |  2.7980319 |\n| New Mexico           | NM | West          |  2059179 |   67 |  3.2537239 |\n| New York             | NY | Northeast     | 19378102 |  517 |  2.6679599 |\n| North Carolina       | NC | South         |  9535483 |  286 |  2.9993237 |\n| North Dakota         | ND | North Central |   672591 |    4 |  0.5947151 |\n| Ohio                 | OH | North Central | 11536504 |  310 |  2.6871225 |\n| Oklahoma             | OK | South         |  3751351 |  111 |  2.9589340 |\n| Oregon               | OR | West          |  3831074 |   36 |  0.9396843 |\n| Pennsylvania         | PA | Northeast     | 12702379 |  457 |  3.5977513 |\n| Rhode Island         | RI | Northeast     |  1052567 |   16 |  1.5200933 |\n| South Carolina       | SC | South         |  4625364 |  207 |  4.4753235 |\n| South Dakota         | SD | North Central |   814180 |    8 |  0.9825837 |\n| Tennessee            | TN | South         |  6346105 |  219 |  3.4509357 |\n| Texas                | TX | South         | 25145561 |  805 |  3.2013603 |\n| Utah                 | UT | West          |  2763885 |   22 |  0.7959810 |\n| Vermont              | VT | Northeast     |   625741 |    2 |  0.3196211 |\n| Virginia             | VA | South         |  8001024 |  250 |  3.1246001 |\n| Washington           | WA | West          |  6724540 |   93 |  1.3829942 |\n| West Virginia        | WV | South         |  1852994 |   27 |  1.4571013 |\n| Wisconsin            | WI | North Central |  5686986 |   97 |  1.7056487 |\n| Wyoming              | WY | West          |   563626 |    5 |  0.8871131 |\n\n",
            "text/latex": "A grouped\\_df: 51 × 6\n\\begin{tabular}{llllll}\n state & abb & region & population & total & rate\\\\\n <chr> & <chr> & <fct> & <dbl> & <dbl> & <dbl>\\\\\n\\hline\n\t Alabama              & AL & South         &  4779736 &  135 &  2.8244238\\\\\n\t Alaska               & AK & West          &   710231 &   19 &  2.6751860\\\\\n\t Arizona              & AZ & West          &  6392017 &  232 &  3.6295273\\\\\n\t Arkansas             & AR & South         &  2915918 &   93 &  3.1893901\\\\\n\t California           & CA & West          & 37253956 & 1257 &  3.3741383\\\\\n\t Colorado             & CO & West          &  5029196 &   65 &  1.2924531\\\\\n\t Connecticut          & CT & Northeast     &  3574097 &   97 &  2.7139722\\\\\n\t Delaware             & DE & South         &   897934 &   38 &  4.2319369\\\\\n\t District of Columbia & DC & South         &   601723 &   99 & 16.4527532\\\\\n\t Florida              & FL & South         & 19687653 &  669 &  3.3980688\\\\\n\t Georgia              & GA & South         &  9920000 &  376 &  3.7903226\\\\\n\t Hawaii               & HI & West          &  1360301 &    7 &  0.5145920\\\\\n\t Idaho                & ID & West          &  1567582 &   12 &  0.7655102\\\\\n\t Illinois             & IL & North Central & 12830632 &  364 &  2.8369608\\\\\n\t Indiana              & IN & North Central &  6483802 &  142 &  2.1900730\\\\\n\t Iowa                 & IA & North Central &  3046355 &   21 &  0.6893484\\\\\n\t Kansas               & KS & North Central &  2853118 &   63 &  2.2081106\\\\\n\t Kentucky             & KY & South         &  4339367 &  116 &  2.6732010\\\\\n\t Louisiana            & LA & South         &  4533372 &  351 &  7.7425810\\\\\n\t Maine                & ME & Northeast     &  1328361 &   11 &  0.8280881\\\\\n\t Maryland             & MD & South         &  5773552 &  293 &  5.0748655\\\\\n\t Massachusetts        & MA & Northeast     &  6547629 &  118 &  1.8021791\\\\\n\t Michigan             & MI & North Central &  9883640 &  413 &  4.1786225\\\\\n\t Minnesota            & MN & North Central &  5303925 &   53 &  0.9992600\\\\\n\t Mississippi          & MS & South         &  2967297 &  120 &  4.0440846\\\\\n\t Missouri             & MO & North Central &  5988927 &  321 &  5.3598917\\\\\n\t Montana              & MT & West          &   989415 &   12 &  1.2128379\\\\\n\t Nebraska             & NE & North Central &  1826341 &   32 &  1.7521372\\\\\n\t Nevada               & NV & West          &  2700551 &   84 &  3.1104763\\\\\n\t New Hampshire        & NH & Northeast     &  1316470 &    5 &  0.3798036\\\\\n\t New Jersey           & NJ & Northeast     &  8791894 &  246 &  2.7980319\\\\\n\t New Mexico           & NM & West          &  2059179 &   67 &  3.2537239\\\\\n\t New York             & NY & Northeast     & 19378102 &  517 &  2.6679599\\\\\n\t North Carolina       & NC & South         &  9535483 &  286 &  2.9993237\\\\\n\t North Dakota         & ND & North Central &   672591 &    4 &  0.5947151\\\\\n\t Ohio                 & OH & North Central & 11536504 &  310 &  2.6871225\\\\\n\t Oklahoma             & OK & South         &  3751351 &  111 &  2.9589340\\\\\n\t Oregon               & OR & West          &  3831074 &   36 &  0.9396843\\\\\n\t Pennsylvania         & PA & Northeast     & 12702379 &  457 &  3.5977513\\\\\n\t Rhode Island         & RI & Northeast     &  1052567 &   16 &  1.5200933\\\\\n\t South Carolina       & SC & South         &  4625364 &  207 &  4.4753235\\\\\n\t South Dakota         & SD & North Central &   814180 &    8 &  0.9825837\\\\\n\t Tennessee            & TN & South         &  6346105 &  219 &  3.4509357\\\\\n\t Texas                & TX & South         & 25145561 &  805 &  3.2013603\\\\\n\t Utah                 & UT & West          &  2763885 &   22 &  0.7959810\\\\\n\t Vermont              & VT & Northeast     &   625741 &    2 &  0.3196211\\\\\n\t Virginia             & VA & South         &  8001024 &  250 &  3.1246001\\\\\n\t Washington           & WA & West          &  6724540 &   93 &  1.3829942\\\\\n\t West Virginia        & WV & South         &  1852994 &   27 &  1.4571013\\\\\n\t Wisconsin            & WI & North Central &  5686986 &   97 &  1.7056487\\\\\n\t Wyoming              & WY & West          &   563626 &    5 &  0.8871131\\\\\n\\end{tabular}\n",
            "text/plain": [
              "   state                abb region        population total rate      \n",
              "1  Alabama              AL  South          4779736    135   2.8244238\n",
              "2  Alaska               AK  West            710231     19   2.6751860\n",
              "3  Arizona              AZ  West           6392017    232   3.6295273\n",
              "4  Arkansas             AR  South          2915918     93   3.1893901\n",
              "5  California           CA  West          37253956   1257   3.3741383\n",
              "6  Colorado             CO  West           5029196     65   1.2924531\n",
              "7  Connecticut          CT  Northeast      3574097     97   2.7139722\n",
              "8  Delaware             DE  South           897934     38   4.2319369\n",
              "9  District of Columbia DC  South           601723     99  16.4527532\n",
              "10 Florida              FL  South         19687653    669   3.3980688\n",
              "11 Georgia              GA  South          9920000    376   3.7903226\n",
              "12 Hawaii               HI  West           1360301      7   0.5145920\n",
              "13 Idaho                ID  West           1567582     12   0.7655102\n",
              "14 Illinois             IL  North Central 12830632    364   2.8369608\n",
              "15 Indiana              IN  North Central  6483802    142   2.1900730\n",
              "16 Iowa                 IA  North Central  3046355     21   0.6893484\n",
              "17 Kansas               KS  North Central  2853118     63   2.2081106\n",
              "18 Kentucky             KY  South          4339367    116   2.6732010\n",
              "19 Louisiana            LA  South          4533372    351   7.7425810\n",
              "20 Maine                ME  Northeast      1328361     11   0.8280881\n",
              "21 Maryland             MD  South          5773552    293   5.0748655\n",
              "22 Massachusetts        MA  Northeast      6547629    118   1.8021791\n",
              "23 Michigan             MI  North Central  9883640    413   4.1786225\n",
              "24 Minnesota            MN  North Central  5303925     53   0.9992600\n",
              "25 Mississippi          MS  South          2967297    120   4.0440846\n",
              "26 Missouri             MO  North Central  5988927    321   5.3598917\n",
              "27 Montana              MT  West            989415     12   1.2128379\n",
              "28 Nebraska             NE  North Central  1826341     32   1.7521372\n",
              "29 Nevada               NV  West           2700551     84   3.1104763\n",
              "30 New Hampshire        NH  Northeast      1316470      5   0.3798036\n",
              "31 New Jersey           NJ  Northeast      8791894    246   2.7980319\n",
              "32 New Mexico           NM  West           2059179     67   3.2537239\n",
              "33 New York             NY  Northeast     19378102    517   2.6679599\n",
              "34 North Carolina       NC  South          9535483    286   2.9993237\n",
              "35 North Dakota         ND  North Central   672591      4   0.5947151\n",
              "36 Ohio                 OH  North Central 11536504    310   2.6871225\n",
              "37 Oklahoma             OK  South          3751351    111   2.9589340\n",
              "38 Oregon               OR  West           3831074     36   0.9396843\n",
              "39 Pennsylvania         PA  Northeast     12702379    457   3.5977513\n",
              "40 Rhode Island         RI  Northeast      1052567     16   1.5200933\n",
              "41 South Carolina       SC  South          4625364    207   4.4753235\n",
              "42 South Dakota         SD  North Central   814180      8   0.9825837\n",
              "43 Tennessee            TN  South          6346105    219   3.4509357\n",
              "44 Texas                TX  South         25145561    805   3.2013603\n",
              "45 Utah                 UT  West           2763885     22   0.7959810\n",
              "46 Vermont              VT  Northeast       625741      2   0.3196211\n",
              "47 Virginia             VA  South          8001024    250   3.1246001\n",
              "48 Washington           WA  West           6724540     93   1.3829942\n",
              "49 West Virginia        WV  South          1852994     27   1.4571013\n",
              "50 Wisconsin            WI  North Central  5686986     97   1.7056487\n",
              "51 Wyoming              WY  West            563626      5   0.8871131"
            ]
          },
          "metadata": {}
        },
        {
          "output_type": "display_data",
          "data": {
            "text/html": [
              "<style>\n",
              ".list-inline {list-style: none; margin:0; padding: 0}\n",
              ".list-inline>li {display: inline-block}\n",
              ".list-inline>li:not(:last-child)::after {content: \"\\00b7\"; padding: 0 .5ex}\n",
              "</style>\n",
              "<ol class=list-inline><li>'grouped_df'</li><li>'tbl_df'</li><li>'tbl'</li><li>'data.frame'</li></ol>\n"
            ],
            "text/markdown": "1. 'grouped_df'\n2. 'tbl_df'\n3. 'tbl'\n4. 'data.frame'\n\n\n",
            "text/latex": "\\begin{enumerate*}\n\\item 'grouped\\_df'\n\\item 'tbl\\_df'\n\\item 'tbl'\n\\item 'data.frame'\n\\end{enumerate*}\n",
            "text/plain": [
              "[1] \"grouped_df\" \"tbl_df\"     \"tbl\"        \"data.frame\""
            ]
          },
          "metadata": {}
        },
        {
          "output_type": "display_data",
          "data": {
            "text/html": [
              "<table class=\"dataframe\">\n",
              "<caption>A data.frame: 10545 × 9</caption>\n",
              "<thead>\n",
              "\t<tr><th scope=col>country</th><th scope=col>year</th><th scope=col>infant_mortality</th><th scope=col>life_expectancy</th><th scope=col>fertility</th><th scope=col>population</th><th scope=col>gdp</th><th scope=col>continent</th><th scope=col>region</th></tr>\n",
              "\t<tr><th scope=col>&lt;fct&gt;</th><th scope=col>&lt;int&gt;</th><th scope=col>&lt;dbl&gt;</th><th scope=col>&lt;dbl&gt;</th><th scope=col>&lt;dbl&gt;</th><th scope=col>&lt;dbl&gt;</th><th scope=col>&lt;dbl&gt;</th><th scope=col>&lt;fct&gt;</th><th scope=col>&lt;fct&gt;</th></tr>\n",
              "</thead>\n",
              "<tbody>\n",
              "\t<tr><td>Albania               </td><td>1960</td><td>115.40</td><td>62.87</td><td>6.19</td><td> 1636054</td><td>          NA</td><td>Europe  </td><td>Southern Europe          </td></tr>\n",
              "\t<tr><td>Algeria               </td><td>1960</td><td>148.20</td><td>47.50</td><td>7.65</td><td>11124892</td><td> 13828152297</td><td>Africa  </td><td>Northern Africa          </td></tr>\n",
              "\t<tr><td>Angola                </td><td>1960</td><td>208.00</td><td>35.98</td><td>7.32</td><td> 5270844</td><td>          NA</td><td>Africa  </td><td>Middle Africa            </td></tr>\n",
              "\t<tr><td>Antigua and Barbuda   </td><td>1960</td><td>    NA</td><td>62.97</td><td>4.43</td><td>   54681</td><td>          NA</td><td>Americas</td><td>Caribbean                </td></tr>\n",
              "\t<tr><td>Argentina             </td><td>1960</td><td> 59.87</td><td>65.39</td><td>3.11</td><td>20619075</td><td>108322326649</td><td>Americas</td><td>South America            </td></tr>\n",
              "\t<tr><td>Armenia               </td><td>1960</td><td>    NA</td><td>66.86</td><td>4.55</td><td> 1867396</td><td>          NA</td><td>Asia    </td><td>Western Asia             </td></tr>\n",
              "\t<tr><td>Aruba                 </td><td>1960</td><td>    NA</td><td>65.66</td><td>4.82</td><td>   54208</td><td>          NA</td><td>Americas</td><td>Caribbean                </td></tr>\n",
              "\t<tr><td>Australia             </td><td>1960</td><td> 20.30</td><td>70.87</td><td>3.45</td><td>10292328</td><td> 96677859364</td><td>Oceania </td><td>Australia and New Zealand</td></tr>\n",
              "\t<tr><td>Austria               </td><td>1960</td><td> 37.30</td><td>68.75</td><td>2.70</td><td> 7065525</td><td> 52392699681</td><td>Europe  </td><td>Western Europe           </td></tr>\n",
              "\t<tr><td>Azerbaijan            </td><td>1960</td><td>    NA</td><td>61.33</td><td>5.57</td><td> 3897889</td><td>          NA</td><td>Asia    </td><td>Western Asia             </td></tr>\n",
              "\t<tr><td>Bahamas               </td><td>1960</td><td> 51.00</td><td>62.00</td><td>4.50</td><td>  109526</td><td>  1306269490</td><td>Americas</td><td>Caribbean                </td></tr>\n",
              "\t<tr><td>Bahrain               </td><td>1960</td><td>134.50</td><td>51.64</td><td>7.09</td><td>  162501</td><td>          NA</td><td>Asia    </td><td>Western Asia             </td></tr>\n",
              "\t<tr><td>Bangladesh            </td><td>1960</td><td>176.30</td><td>46.20</td><td>6.73</td><td>48200702</td><td> 12767231590</td><td>Asia    </td><td>Southern Asia            </td></tr>\n",
              "\t<tr><td>Barbados              </td><td>1960</td><td> 69.50</td><td>61.80</td><td>4.33</td><td>  230934</td><td>   784120376</td><td>Americas</td><td>Caribbean                </td></tr>\n",
              "\t<tr><td>Belarus               </td><td>1960</td><td>    NA</td><td>71.59</td><td>2.74</td><td> 8190027</td><td>          NA</td><td>Europe  </td><td>Eastern Europe           </td></tr>\n",
              "\t<tr><td>Belgium               </td><td>1960</td><td> 29.50</td><td>69.59</td><td>2.60</td><td> 9140563</td><td> 68236665814</td><td>Europe  </td><td>Western Europe           </td></tr>\n",
              "\t<tr><td>Belize                </td><td>1960</td><td>    NA</td><td>60.08</td><td>6.50</td><td>   92068</td><td>    86532304</td><td>Americas</td><td>Central America          </td></tr>\n",
              "\t<tr><td>Benin                 </td><td>1960</td><td>186.90</td><td>38.29</td><td>6.28</td><td> 2431620</td><td>   621797131</td><td>Africa  </td><td>Western Africa           </td></tr>\n",
              "\t<tr><td>Bhutan                </td><td>1960</td><td>175.00</td><td>35.94</td><td>6.67</td><td>  224108</td><td>          NA</td><td>Asia    </td><td>Southern Asia            </td></tr>\n",
              "\t<tr><td>Bolivia               </td><td>1960</td><td>173.40</td><td>43.77</td><td>6.70</td><td> 3693451</td><td>  3001815692</td><td>Americas</td><td>South America            </td></tr>\n",
              "\t<tr><td>Bosnia and Herzegovina</td><td>1960</td><td>105.00</td><td>62.56</td><td>4.05</td><td> 3214520</td><td>          NA</td><td>Europe  </td><td>Southern Europe          </td></tr>\n",
              "\t<tr><td>Botswana              </td><td>1960</td><td>115.50</td><td>50.34</td><td>6.62</td><td>  524029</td><td>   124460933</td><td>Africa  </td><td>Southern Africa          </td></tr>\n",
              "\t<tr><td>Brazil                </td><td>1960</td><td>129.40</td><td>55.27</td><td>6.21</td><td>72493585</td><td>105343379555</td><td>Americas</td><td>South America            </td></tr>\n",
              "\t<tr><td>Brunei                </td><td>1960</td><td> 63.00</td><td>62.52</td><td>6.49</td><td>   81825</td><td>          NA</td><td>Asia    </td><td>South-Eastern Asia       </td></tr>\n",
              "\t<tr><td>Bulgaria              </td><td>1960</td><td> 49.00</td><td>69.22</td><td>2.25</td><td> 7866472</td><td>          NA</td><td>Europe  </td><td>Eastern Europe           </td></tr>\n",
              "\t<tr><td>Burkina Faso          </td><td>1960</td><td>161.30</td><td>35.21</td><td>6.29</td><td> 4829291</td><td>   596612183</td><td>Africa  </td><td>Western Africa           </td></tr>\n",
              "\t<tr><td>Burundi               </td><td>1960</td><td>145.10</td><td>40.58</td><td>6.95</td><td> 2786740</td><td>   341126765</td><td>Africa  </td><td>Eastern Africa           </td></tr>\n",
              "\t<tr><td>Cambodia              </td><td>1960</td><td>    NA</td><td>42.29</td><td>6.97</td><td> 5722370</td><td>          NA</td><td>Asia    </td><td>South-Eastern Asia       </td></tr>\n",
              "\t<tr><td>Cameroon              </td><td>1960</td><td>166.90</td><td>43.46</td><td>5.65</td><td> 5361367</td><td>  2537944080</td><td>Africa  </td><td>Middle Africa            </td></tr>\n",
              "\t<tr><td>Canada                </td><td>1960</td><td> 27.80</td><td>71.00</td><td>3.91</td><td>17909232</td><td>167894860728</td><td>Americas</td><td>Northern America         </td></tr>\n",
              "\t<tr><td>⋮</td><td>⋮</td><td>⋮</td><td>⋮</td><td>⋮</td><td>⋮</td><td>⋮</td><td>⋮</td><td>⋮</td></tr>\n",
              "\t<tr><td>Sudan               </td><td>2016</td><td>NA</td><td>67.80</td><td>NA</td><td>NA</td><td>NA</td><td>Africa  </td><td>Northern Africa   </td></tr>\n",
              "\t<tr><td>Suriname            </td><td>2016</td><td>NA</td><td>72.20</td><td>NA</td><td>NA</td><td>NA</td><td>Americas</td><td>South America     </td></tr>\n",
              "\t<tr><td>Swaziland           </td><td>2016</td><td>NA</td><td>53.88</td><td>NA</td><td>NA</td><td>NA</td><td>Africa  </td><td>Southern Africa   </td></tr>\n",
              "\t<tr><td>Sweden              </td><td>2016</td><td>NA</td><td>82.10</td><td>NA</td><td>NA</td><td>NA</td><td>Europe  </td><td>Northern Europe   </td></tr>\n",
              "\t<tr><td>Switzerland         </td><td>2016</td><td>NA</td><td>83.10</td><td>NA</td><td>NA</td><td>NA</td><td>Europe  </td><td>Western Europe    </td></tr>\n",
              "\t<tr><td>Syria               </td><td>2016</td><td>NA</td><td>69.21</td><td>NA</td><td>NA</td><td>NA</td><td>Asia    </td><td>Western Asia      </td></tr>\n",
              "\t<tr><td>Tajikistan          </td><td>2016</td><td>NA</td><td>72.90</td><td>NA</td><td>NA</td><td>NA</td><td>Asia    </td><td>Central Asia      </td></tr>\n",
              "\t<tr><td>Tanzania            </td><td>2016</td><td>NA</td><td>64.91</td><td>NA</td><td>NA</td><td>NA</td><td>Africa  </td><td>Eastern Africa    </td></tr>\n",
              "\t<tr><td>Thailand            </td><td>2016</td><td>NA</td><td>74.80</td><td>NA</td><td>NA</td><td>NA</td><td>Asia    </td><td>South-Eastern Asia</td></tr>\n",
              "\t<tr><td>Timor-Leste         </td><td>2016</td><td>NA</td><td>72.50</td><td>NA</td><td>NA</td><td>NA</td><td>Asia    </td><td>South-Eastern Asia</td></tr>\n",
              "\t<tr><td>Togo                </td><td>2016</td><td>NA</td><td>61.90</td><td>NA</td><td>NA</td><td>NA</td><td>Africa  </td><td>Western Africa    </td></tr>\n",
              "\t<tr><td>Tonga               </td><td>2016</td><td>NA</td><td>71.70</td><td>NA</td><td>NA</td><td>NA</td><td>Oceania </td><td>Polynesia         </td></tr>\n",
              "\t<tr><td>Trinidad and Tobago </td><td>2016</td><td>NA</td><td>72.50</td><td>NA</td><td>NA</td><td>NA</td><td>Americas</td><td>Caribbean         </td></tr>\n",
              "\t<tr><td>Tunisia             </td><td>2016</td><td>NA</td><td>77.60</td><td>NA</td><td>NA</td><td>NA</td><td>Africa  </td><td>Northern Africa   </td></tr>\n",
              "\t<tr><td>Turkey              </td><td>2016</td><td>NA</td><td>79.30</td><td>NA</td><td>NA</td><td>NA</td><td>Asia    </td><td>Western Asia      </td></tr>\n",
              "\t<tr><td>Turkmenistan        </td><td>2016</td><td>NA</td><td>70.40</td><td>NA</td><td>NA</td><td>NA</td><td>Asia    </td><td>Central Asia      </td></tr>\n",
              "\t<tr><td>Uganda              </td><td>2016</td><td>NA</td><td>61.91</td><td>NA</td><td>NA</td><td>NA</td><td>Africa  </td><td>Eastern Africa    </td></tr>\n",
              "\t<tr><td>Ukraine             </td><td>2016</td><td>NA</td><td>71.70</td><td>NA</td><td>NA</td><td>NA</td><td>Europe  </td><td>Eastern Europe    </td></tr>\n",
              "\t<tr><td>United Arab Emirates</td><td>2016</td><td>NA</td><td>75.40</td><td>NA</td><td>NA</td><td>NA</td><td>Asia    </td><td>Western Asia      </td></tr>\n",
              "\t<tr><td>United Kingdom      </td><td>2016</td><td>NA</td><td>81.10</td><td>NA</td><td>NA</td><td>NA</td><td>Europe  </td><td>Northern Europe   </td></tr>\n",
              "\t<tr><td>United States       </td><td>2016</td><td>NA</td><td>79.10</td><td>NA</td><td>NA</td><td>NA</td><td>Americas</td><td>Northern America  </td></tr>\n",
              "\t<tr><td>Uruguay             </td><td>2016</td><td>NA</td><td>77.00</td><td>NA</td><td>NA</td><td>NA</td><td>Americas</td><td>South America     </td></tr>\n",
              "\t<tr><td>Uzbekistan          </td><td>2016</td><td>NA</td><td>72.10</td><td>NA</td><td>NA</td><td>NA</td><td>Asia    </td><td>Central Asia      </td></tr>\n",
              "\t<tr><td>Vanuatu             </td><td>2016</td><td>NA</td><td>65.10</td><td>NA</td><td>NA</td><td>NA</td><td>Oceania </td><td>Melanesia         </td></tr>\n",
              "\t<tr><td>Venezuela           </td><td>2016</td><td>NA</td><td>74.80</td><td>NA</td><td>NA</td><td>NA</td><td>Americas</td><td>South America     </td></tr>\n",
              "\t<tr><td>West Bank and Gaza  </td><td>2016</td><td>NA</td><td>74.70</td><td>NA</td><td>NA</td><td>NA</td><td>Asia    </td><td>Western Asia      </td></tr>\n",
              "\t<tr><td>Vietnam             </td><td>2016</td><td>NA</td><td>75.60</td><td>NA</td><td>NA</td><td>NA</td><td>Asia    </td><td>South-Eastern Asia</td></tr>\n",
              "\t<tr><td>Yemen               </td><td>2016</td><td>NA</td><td>64.92</td><td>NA</td><td>NA</td><td>NA</td><td>Asia    </td><td>Western Asia      </td></tr>\n",
              "\t<tr><td>Zambia              </td><td>2016</td><td>NA</td><td>57.10</td><td>NA</td><td>NA</td><td>NA</td><td>Africa  </td><td>Eastern Africa    </td></tr>\n",
              "\t<tr><td>Zimbabwe            </td><td>2016</td><td>NA</td><td>61.69</td><td>NA</td><td>NA</td><td>NA</td><td>Africa  </td><td>Eastern Africa    </td></tr>\n",
              "</tbody>\n",
              "</table>\n"
            ],
            "text/markdown": "\nA data.frame: 10545 × 9\n\n| country &lt;fct&gt; | year &lt;int&gt; | infant_mortality &lt;dbl&gt; | life_expectancy &lt;dbl&gt; | fertility &lt;dbl&gt; | population &lt;dbl&gt; | gdp &lt;dbl&gt; | continent &lt;fct&gt; | region &lt;fct&gt; |\n|---|---|---|---|---|---|---|---|---|\n| Albania                | 1960 | 115.40 | 62.87 | 6.19 |  1636054 |           NA | Europe   | Southern Europe           |\n| Algeria                | 1960 | 148.20 | 47.50 | 7.65 | 11124892 |  13828152297 | Africa   | Northern Africa           |\n| Angola                 | 1960 | 208.00 | 35.98 | 7.32 |  5270844 |           NA | Africa   | Middle Africa             |\n| Antigua and Barbuda    | 1960 |     NA | 62.97 | 4.43 |    54681 |           NA | Americas | Caribbean                 |\n| Argentina              | 1960 |  59.87 | 65.39 | 3.11 | 20619075 | 108322326649 | Americas | South America             |\n| Armenia                | 1960 |     NA | 66.86 | 4.55 |  1867396 |           NA | Asia     | Western Asia              |\n| Aruba                  | 1960 |     NA | 65.66 | 4.82 |    54208 |           NA | Americas | Caribbean                 |\n| Australia              | 1960 |  20.30 | 70.87 | 3.45 | 10292328 |  96677859364 | Oceania  | Australia and New Zealand |\n| Austria                | 1960 |  37.30 | 68.75 | 2.70 |  7065525 |  52392699681 | Europe   | Western Europe            |\n| Azerbaijan             | 1960 |     NA | 61.33 | 5.57 |  3897889 |           NA | Asia     | Western Asia              |\n| Bahamas                | 1960 |  51.00 | 62.00 | 4.50 |   109526 |   1306269490 | Americas | Caribbean                 |\n| Bahrain                | 1960 | 134.50 | 51.64 | 7.09 |   162501 |           NA | Asia     | Western Asia              |\n| Bangladesh             | 1960 | 176.30 | 46.20 | 6.73 | 48200702 |  12767231590 | Asia     | Southern Asia             |\n| Barbados               | 1960 |  69.50 | 61.80 | 4.33 |   230934 |    784120376 | Americas | Caribbean                 |\n| Belarus                | 1960 |     NA | 71.59 | 2.74 |  8190027 |           NA | Europe   | Eastern Europe            |\n| Belgium                | 1960 |  29.50 | 69.59 | 2.60 |  9140563 |  68236665814 | Europe   | Western Europe            |\n| Belize                 | 1960 |     NA | 60.08 | 6.50 |    92068 |     86532304 | Americas | Central America           |\n| Benin                  | 1960 | 186.90 | 38.29 | 6.28 |  2431620 |    621797131 | Africa   | Western Africa            |\n| Bhutan                 | 1960 | 175.00 | 35.94 | 6.67 |   224108 |           NA | Asia     | Southern Asia             |\n| Bolivia                | 1960 | 173.40 | 43.77 | 6.70 |  3693451 |   3001815692 | Americas | South America             |\n| Bosnia and Herzegovina | 1960 | 105.00 | 62.56 | 4.05 |  3214520 |           NA | Europe   | Southern Europe           |\n| Botswana               | 1960 | 115.50 | 50.34 | 6.62 |   524029 |    124460933 | Africa   | Southern Africa           |\n| Brazil                 | 1960 | 129.40 | 55.27 | 6.21 | 72493585 | 105343379555 | Americas | South America             |\n| Brunei                 | 1960 |  63.00 | 62.52 | 6.49 |    81825 |           NA | Asia     | South-Eastern Asia        |\n| Bulgaria               | 1960 |  49.00 | 69.22 | 2.25 |  7866472 |           NA | Europe   | Eastern Europe            |\n| Burkina Faso           | 1960 | 161.30 | 35.21 | 6.29 |  4829291 |    596612183 | Africa   | Western Africa            |\n| Burundi                | 1960 | 145.10 | 40.58 | 6.95 |  2786740 |    341126765 | Africa   | Eastern Africa            |\n| Cambodia               | 1960 |     NA | 42.29 | 6.97 |  5722370 |           NA | Asia     | South-Eastern Asia        |\n| Cameroon               | 1960 | 166.90 | 43.46 | 5.65 |  5361367 |   2537944080 | Africa   | Middle Africa             |\n| Canada                 | 1960 |  27.80 | 71.00 | 3.91 | 17909232 | 167894860728 | Americas | Northern America          |\n| ⋮ | ⋮ | ⋮ | ⋮ | ⋮ | ⋮ | ⋮ | ⋮ | ⋮ |\n| Sudan                | 2016 | NA | 67.80 | NA | NA | NA | Africa   | Northern Africa    |\n| Suriname             | 2016 | NA | 72.20 | NA | NA | NA | Americas | South America      |\n| Swaziland            | 2016 | NA | 53.88 | NA | NA | NA | Africa   | Southern Africa    |\n| Sweden               | 2016 | NA | 82.10 | NA | NA | NA | Europe   | Northern Europe    |\n| Switzerland          | 2016 | NA | 83.10 | NA | NA | NA | Europe   | Western Europe     |\n| Syria                | 2016 | NA | 69.21 | NA | NA | NA | Asia     | Western Asia       |\n| Tajikistan           | 2016 | NA | 72.90 | NA | NA | NA | Asia     | Central Asia       |\n| Tanzania             | 2016 | NA | 64.91 | NA | NA | NA | Africa   | Eastern Africa     |\n| Thailand             | 2016 | NA | 74.80 | NA | NA | NA | Asia     | South-Eastern Asia |\n| Timor-Leste          | 2016 | NA | 72.50 | NA | NA | NA | Asia     | South-Eastern Asia |\n| Togo                 | 2016 | NA | 61.90 | NA | NA | NA | Africa   | Western Africa     |\n| Tonga                | 2016 | NA | 71.70 | NA | NA | NA | Oceania  | Polynesia          |\n| Trinidad and Tobago  | 2016 | NA | 72.50 | NA | NA | NA | Americas | Caribbean          |\n| Tunisia              | 2016 | NA | 77.60 | NA | NA | NA | Africa   | Northern Africa    |\n| Turkey               | 2016 | NA | 79.30 | NA | NA | NA | Asia     | Western Asia       |\n| Turkmenistan         | 2016 | NA | 70.40 | NA | NA | NA | Asia     | Central Asia       |\n| Uganda               | 2016 | NA | 61.91 | NA | NA | NA | Africa   | Eastern Africa     |\n| Ukraine              | 2016 | NA | 71.70 | NA | NA | NA | Europe   | Eastern Europe     |\n| United Arab Emirates | 2016 | NA | 75.40 | NA | NA | NA | Asia     | Western Asia       |\n| United Kingdom       | 2016 | NA | 81.10 | NA | NA | NA | Europe   | Northern Europe    |\n| United States        | 2016 | NA | 79.10 | NA | NA | NA | Americas | Northern America   |\n| Uruguay              | 2016 | NA | 77.00 | NA | NA | NA | Americas | South America      |\n| Uzbekistan           | 2016 | NA | 72.10 | NA | NA | NA | Asia     | Central Asia       |\n| Vanuatu              | 2016 | NA | 65.10 | NA | NA | NA | Oceania  | Melanesia          |\n| Venezuela            | 2016 | NA | 74.80 | NA | NA | NA | Americas | South America      |\n| West Bank and Gaza   | 2016 | NA | 74.70 | NA | NA | NA | Asia     | Western Asia       |\n| Vietnam              | 2016 | NA | 75.60 | NA | NA | NA | Asia     | South-Eastern Asia |\n| Yemen                | 2016 | NA | 64.92 | NA | NA | NA | Asia     | Western Asia       |\n| Zambia               | 2016 | NA | 57.10 | NA | NA | NA | Africa   | Eastern Africa     |\n| Zimbabwe             | 2016 | NA | 61.69 | NA | NA | NA | Africa   | Eastern Africa     |\n\n",
            "text/latex": "A data.frame: 10545 × 9\n\\begin{tabular}{lllllllll}\n country & year & infant\\_mortality & life\\_expectancy & fertility & population & gdp & continent & region\\\\\n <fct> & <int> & <dbl> & <dbl> & <dbl> & <dbl> & <dbl> & <fct> & <fct>\\\\\n\\hline\n\t Albania                & 1960 & 115.40 & 62.87 & 6.19 &  1636054 &           NA & Europe   & Southern Europe          \\\\\n\t Algeria                & 1960 & 148.20 & 47.50 & 7.65 & 11124892 &  13828152297 & Africa   & Northern Africa          \\\\\n\t Angola                 & 1960 & 208.00 & 35.98 & 7.32 &  5270844 &           NA & Africa   & Middle Africa            \\\\\n\t Antigua and Barbuda    & 1960 &     NA & 62.97 & 4.43 &    54681 &           NA & Americas & Caribbean                \\\\\n\t Argentina              & 1960 &  59.87 & 65.39 & 3.11 & 20619075 & 108322326649 & Americas & South America            \\\\\n\t Armenia                & 1960 &     NA & 66.86 & 4.55 &  1867396 &           NA & Asia     & Western Asia             \\\\\n\t Aruba                  & 1960 &     NA & 65.66 & 4.82 &    54208 &           NA & Americas & Caribbean                \\\\\n\t Australia              & 1960 &  20.30 & 70.87 & 3.45 & 10292328 &  96677859364 & Oceania  & Australia and New Zealand\\\\\n\t Austria                & 1960 &  37.30 & 68.75 & 2.70 &  7065525 &  52392699681 & Europe   & Western Europe           \\\\\n\t Azerbaijan             & 1960 &     NA & 61.33 & 5.57 &  3897889 &           NA & Asia     & Western Asia             \\\\\n\t Bahamas                & 1960 &  51.00 & 62.00 & 4.50 &   109526 &   1306269490 & Americas & Caribbean                \\\\\n\t Bahrain                & 1960 & 134.50 & 51.64 & 7.09 &   162501 &           NA & Asia     & Western Asia             \\\\\n\t Bangladesh             & 1960 & 176.30 & 46.20 & 6.73 & 48200702 &  12767231590 & Asia     & Southern Asia            \\\\\n\t Barbados               & 1960 &  69.50 & 61.80 & 4.33 &   230934 &    784120376 & Americas & Caribbean                \\\\\n\t Belarus                & 1960 &     NA & 71.59 & 2.74 &  8190027 &           NA & Europe   & Eastern Europe           \\\\\n\t Belgium                & 1960 &  29.50 & 69.59 & 2.60 &  9140563 &  68236665814 & Europe   & Western Europe           \\\\\n\t Belize                 & 1960 &     NA & 60.08 & 6.50 &    92068 &     86532304 & Americas & Central America          \\\\\n\t Benin                  & 1960 & 186.90 & 38.29 & 6.28 &  2431620 &    621797131 & Africa   & Western Africa           \\\\\n\t Bhutan                 & 1960 & 175.00 & 35.94 & 6.67 &   224108 &           NA & Asia     & Southern Asia            \\\\\n\t Bolivia                & 1960 & 173.40 & 43.77 & 6.70 &  3693451 &   3001815692 & Americas & South America            \\\\\n\t Bosnia and Herzegovina & 1960 & 105.00 & 62.56 & 4.05 &  3214520 &           NA & Europe   & Southern Europe          \\\\\n\t Botswana               & 1960 & 115.50 & 50.34 & 6.62 &   524029 &    124460933 & Africa   & Southern Africa          \\\\\n\t Brazil                 & 1960 & 129.40 & 55.27 & 6.21 & 72493585 & 105343379555 & Americas & South America            \\\\\n\t Brunei                 & 1960 &  63.00 & 62.52 & 6.49 &    81825 &           NA & Asia     & South-Eastern Asia       \\\\\n\t Bulgaria               & 1960 &  49.00 & 69.22 & 2.25 &  7866472 &           NA & Europe   & Eastern Europe           \\\\\n\t Burkina Faso           & 1960 & 161.30 & 35.21 & 6.29 &  4829291 &    596612183 & Africa   & Western Africa           \\\\\n\t Burundi                & 1960 & 145.10 & 40.58 & 6.95 &  2786740 &    341126765 & Africa   & Eastern Africa           \\\\\n\t Cambodia               & 1960 &     NA & 42.29 & 6.97 &  5722370 &           NA & Asia     & South-Eastern Asia       \\\\\n\t Cameroon               & 1960 & 166.90 & 43.46 & 5.65 &  5361367 &   2537944080 & Africa   & Middle Africa            \\\\\n\t Canada                 & 1960 &  27.80 & 71.00 & 3.91 & 17909232 & 167894860728 & Americas & Northern America         \\\\\n\t ⋮ & ⋮ & ⋮ & ⋮ & ⋮ & ⋮ & ⋮ & ⋮ & ⋮\\\\\n\t Sudan                & 2016 & NA & 67.80 & NA & NA & NA & Africa   & Northern Africa   \\\\\n\t Suriname             & 2016 & NA & 72.20 & NA & NA & NA & Americas & South America     \\\\\n\t Swaziland            & 2016 & NA & 53.88 & NA & NA & NA & Africa   & Southern Africa   \\\\\n\t Sweden               & 2016 & NA & 82.10 & NA & NA & NA & Europe   & Northern Europe   \\\\\n\t Switzerland          & 2016 & NA & 83.10 & NA & NA & NA & Europe   & Western Europe    \\\\\n\t Syria                & 2016 & NA & 69.21 & NA & NA & NA & Asia     & Western Asia      \\\\\n\t Tajikistan           & 2016 & NA & 72.90 & NA & NA & NA & Asia     & Central Asia      \\\\\n\t Tanzania             & 2016 & NA & 64.91 & NA & NA & NA & Africa   & Eastern Africa    \\\\\n\t Thailand             & 2016 & NA & 74.80 & NA & NA & NA & Asia     & South-Eastern Asia\\\\\n\t Timor-Leste          & 2016 & NA & 72.50 & NA & NA & NA & Asia     & South-Eastern Asia\\\\\n\t Togo                 & 2016 & NA & 61.90 & NA & NA & NA & Africa   & Western Africa    \\\\\n\t Tonga                & 2016 & NA & 71.70 & NA & NA & NA & Oceania  & Polynesia         \\\\\n\t Trinidad and Tobago  & 2016 & NA & 72.50 & NA & NA & NA & Americas & Caribbean         \\\\\n\t Tunisia              & 2016 & NA & 77.60 & NA & NA & NA & Africa   & Northern Africa   \\\\\n\t Turkey               & 2016 & NA & 79.30 & NA & NA & NA & Asia     & Western Asia      \\\\\n\t Turkmenistan         & 2016 & NA & 70.40 & NA & NA & NA & Asia     & Central Asia      \\\\\n\t Uganda               & 2016 & NA & 61.91 & NA & NA & NA & Africa   & Eastern Africa    \\\\\n\t Ukraine              & 2016 & NA & 71.70 & NA & NA & NA & Europe   & Eastern Europe    \\\\\n\t United Arab Emirates & 2016 & NA & 75.40 & NA & NA & NA & Asia     & Western Asia      \\\\\n\t United Kingdom       & 2016 & NA & 81.10 & NA & NA & NA & Europe   & Northern Europe   \\\\\n\t United States        & 2016 & NA & 79.10 & NA & NA & NA & Americas & Northern America  \\\\\n\t Uruguay              & 2016 & NA & 77.00 & NA & NA & NA & Americas & South America     \\\\\n\t Uzbekistan           & 2016 & NA & 72.10 & NA & NA & NA & Asia     & Central Asia      \\\\\n\t Vanuatu              & 2016 & NA & 65.10 & NA & NA & NA & Oceania  & Melanesia         \\\\\n\t Venezuela            & 2016 & NA & 74.80 & NA & NA & NA & Americas & South America     \\\\\n\t West Bank and Gaza   & 2016 & NA & 74.70 & NA & NA & NA & Asia     & Western Asia      \\\\\n\t Vietnam              & 2016 & NA & 75.60 & NA & NA & NA & Asia     & South-Eastern Asia\\\\\n\t Yemen                & 2016 & NA & 64.92 & NA & NA & NA & Asia     & Western Asia      \\\\\n\t Zambia               & 2016 & NA & 57.10 & NA & NA & NA & Africa   & Eastern Africa    \\\\\n\t Zimbabwe             & 2016 & NA & 61.69 & NA & NA & NA & Africa   & Eastern Africa    \\\\\n\\end{tabular}\n",
            "text/plain": [
              "      country                year infant_mortality life_expectancy fertility\n",
              "1     Albania                1960 115.40           62.87           6.19     \n",
              "2     Algeria                1960 148.20           47.50           7.65     \n",
              "3     Angola                 1960 208.00           35.98           7.32     \n",
              "4     Antigua and Barbuda    1960     NA           62.97           4.43     \n",
              "5     Argentina              1960  59.87           65.39           3.11     \n",
              "6     Armenia                1960     NA           66.86           4.55     \n",
              "7     Aruba                  1960     NA           65.66           4.82     \n",
              "8     Australia              1960  20.30           70.87           3.45     \n",
              "9     Austria                1960  37.30           68.75           2.70     \n",
              "10    Azerbaijan             1960     NA           61.33           5.57     \n",
              "11    Bahamas                1960  51.00           62.00           4.50     \n",
              "12    Bahrain                1960 134.50           51.64           7.09     \n",
              "13    Bangladesh             1960 176.30           46.20           6.73     \n",
              "14    Barbados               1960  69.50           61.80           4.33     \n",
              "15    Belarus                1960     NA           71.59           2.74     \n",
              "16    Belgium                1960  29.50           69.59           2.60     \n",
              "17    Belize                 1960     NA           60.08           6.50     \n",
              "18    Benin                  1960 186.90           38.29           6.28     \n",
              "19    Bhutan                 1960 175.00           35.94           6.67     \n",
              "20    Bolivia                1960 173.40           43.77           6.70     \n",
              "21    Bosnia and Herzegovina 1960 105.00           62.56           4.05     \n",
              "22    Botswana               1960 115.50           50.34           6.62     \n",
              "23    Brazil                 1960 129.40           55.27           6.21     \n",
              "24    Brunei                 1960  63.00           62.52           6.49     \n",
              "25    Bulgaria               1960  49.00           69.22           2.25     \n",
              "26    Burkina Faso           1960 161.30           35.21           6.29     \n",
              "27    Burundi                1960 145.10           40.58           6.95     \n",
              "28    Cambodia               1960     NA           42.29           6.97     \n",
              "29    Cameroon               1960 166.90           43.46           5.65     \n",
              "30    Canada                 1960  27.80           71.00           3.91     \n",
              "⋮     ⋮                      ⋮    ⋮                ⋮               ⋮        \n",
              "10516 Sudan                  2016 NA               67.80           NA       \n",
              "10517 Suriname               2016 NA               72.20           NA       \n",
              "10518 Swaziland              2016 NA               53.88           NA       \n",
              "10519 Sweden                 2016 NA               82.10           NA       \n",
              "10520 Switzerland            2016 NA               83.10           NA       \n",
              "10521 Syria                  2016 NA               69.21           NA       \n",
              "10522 Tajikistan             2016 NA               72.90           NA       \n",
              "10523 Tanzania               2016 NA               64.91           NA       \n",
              "10524 Thailand               2016 NA               74.80           NA       \n",
              "10525 Timor-Leste            2016 NA               72.50           NA       \n",
              "10526 Togo                   2016 NA               61.90           NA       \n",
              "10527 Tonga                  2016 NA               71.70           NA       \n",
              "10528 Trinidad and Tobago    2016 NA               72.50           NA       \n",
              "10529 Tunisia                2016 NA               77.60           NA       \n",
              "10530 Turkey                 2016 NA               79.30           NA       \n",
              "10531 Turkmenistan           2016 NA               70.40           NA       \n",
              "10532 Uganda                 2016 NA               61.91           NA       \n",
              "10533 Ukraine                2016 NA               71.70           NA       \n",
              "10534 United Arab Emirates   2016 NA               75.40           NA       \n",
              "10535 United Kingdom         2016 NA               81.10           NA       \n",
              "10536 United States          2016 NA               79.10           NA       \n",
              "10537 Uruguay                2016 NA               77.00           NA       \n",
              "10538 Uzbekistan             2016 NA               72.10           NA       \n",
              "10539 Vanuatu                2016 NA               65.10           NA       \n",
              "10540 Venezuela              2016 NA               74.80           NA       \n",
              "10541 West Bank and Gaza     2016 NA               74.70           NA       \n",
              "10542 Vietnam                2016 NA               75.60           NA       \n",
              "10543 Yemen                  2016 NA               64.92           NA       \n",
              "10544 Zambia                 2016 NA               57.10           NA       \n",
              "10545 Zimbabwe               2016 NA               61.69           NA       \n",
              "      population gdp          continent region                   \n",
              "1      1636054             NA Europe    Southern Europe          \n",
              "2     11124892    13828152297 Africa    Northern Africa          \n",
              "3      5270844             NA Africa    Middle Africa            \n",
              "4        54681             NA Americas  Caribbean                \n",
              "5     20619075   108322326649 Americas  South America            \n",
              "6      1867396             NA Asia      Western Asia             \n",
              "7        54208             NA Americas  Caribbean                \n",
              "8     10292328    96677859364 Oceania   Australia and New Zealand\n",
              "9      7065525    52392699681 Europe    Western Europe           \n",
              "10     3897889             NA Asia      Western Asia             \n",
              "11      109526     1306269490 Americas  Caribbean                \n",
              "12      162501             NA Asia      Western Asia             \n",
              "13    48200702    12767231590 Asia      Southern Asia            \n",
              "14      230934      784120376 Americas  Caribbean                \n",
              "15     8190027             NA Europe    Eastern Europe           \n",
              "16     9140563    68236665814 Europe    Western Europe           \n",
              "17       92068       86532304 Americas  Central America          \n",
              "18     2431620      621797131 Africa    Western Africa           \n",
              "19      224108             NA Asia      Southern Asia            \n",
              "20     3693451     3001815692 Americas  South America            \n",
              "21     3214520             NA Europe    Southern Europe          \n",
              "22      524029      124460933 Africa    Southern Africa          \n",
              "23    72493585   105343379555 Americas  South America            \n",
              "24       81825             NA Asia      South-Eastern Asia       \n",
              "25     7866472             NA Europe    Eastern Europe           \n",
              "26     4829291      596612183 Africa    Western Africa           \n",
              "27     2786740      341126765 Africa    Eastern Africa           \n",
              "28     5722370             NA Asia      South-Eastern Asia       \n",
              "29     5361367     2537944080 Africa    Middle Africa            \n",
              "30    17909232   167894860728 Americas  Northern America         \n",
              "⋮     ⋮          ⋮            ⋮         ⋮                        \n",
              "10516 NA         NA           Africa    Northern Africa          \n",
              "10517 NA         NA           Americas  South America            \n",
              "10518 NA         NA           Africa    Southern Africa          \n",
              "10519 NA         NA           Europe    Northern Europe          \n",
              "10520 NA         NA           Europe    Western Europe           \n",
              "10521 NA         NA           Asia      Western Asia             \n",
              "10522 NA         NA           Asia      Central Asia             \n",
              "10523 NA         NA           Africa    Eastern Africa           \n",
              "10524 NA         NA           Asia      South-Eastern Asia       \n",
              "10525 NA         NA           Asia      South-Eastern Asia       \n",
              "10526 NA         NA           Africa    Western Africa           \n",
              "10527 NA         NA           Oceania   Polynesia                \n",
              "10528 NA         NA           Americas  Caribbean                \n",
              "10529 NA         NA           Africa    Northern Africa          \n",
              "10530 NA         NA           Asia      Western Asia             \n",
              "10531 NA         NA           Asia      Central Asia             \n",
              "10532 NA         NA           Africa    Eastern Africa           \n",
              "10533 NA         NA           Europe    Eastern Europe           \n",
              "10534 NA         NA           Asia      Western Asia             \n",
              "10535 NA         NA           Europe    Northern Europe          \n",
              "10536 NA         NA           Americas  Northern America         \n",
              "10537 NA         NA           Americas  South America            \n",
              "10538 NA         NA           Asia      Central Asia             \n",
              "10539 NA         NA           Oceania   Melanesia                \n",
              "10540 NA         NA           Americas  South America            \n",
              "10541 NA         NA           Asia      Western Asia             \n",
              "10542 NA         NA           Asia      South-Eastern Asia       \n",
              "10543 NA         NA           Asia      Western Asia             \n",
              "10544 NA         NA           Africa    Eastern Africa           \n",
              "10545 NA         NA           Africa    Eastern Africa           "
            ]
          },
          "metadata": {}
        },
        {
          "output_type": "display_data",
          "data": {
            "text/html": [
              "<table class=\"dataframe\">\n",
              "<caption>A tibble: 10545 × 9</caption>\n",
              "<thead>\n",
              "\t<tr><th scope=col>country</th><th scope=col>year</th><th scope=col>infant_mortality</th><th scope=col>life_expectancy</th><th scope=col>fertility</th><th scope=col>population</th><th scope=col>gdp</th><th scope=col>continent</th><th scope=col>region</th></tr>\n",
              "\t<tr><th scope=col>&lt;fct&gt;</th><th scope=col>&lt;int&gt;</th><th scope=col>&lt;dbl&gt;</th><th scope=col>&lt;dbl&gt;</th><th scope=col>&lt;dbl&gt;</th><th scope=col>&lt;dbl&gt;</th><th scope=col>&lt;dbl&gt;</th><th scope=col>&lt;fct&gt;</th><th scope=col>&lt;fct&gt;</th></tr>\n",
              "</thead>\n",
              "<tbody>\n",
              "\t<tr><td>Albania               </td><td>1960</td><td>115.40</td><td>62.87</td><td>6.19</td><td> 1636054</td><td>          NA</td><td>Europe  </td><td>Southern Europe          </td></tr>\n",
              "\t<tr><td>Algeria               </td><td>1960</td><td>148.20</td><td>47.50</td><td>7.65</td><td>11124892</td><td> 13828152297</td><td>Africa  </td><td>Northern Africa          </td></tr>\n",
              "\t<tr><td>Angola                </td><td>1960</td><td>208.00</td><td>35.98</td><td>7.32</td><td> 5270844</td><td>          NA</td><td>Africa  </td><td>Middle Africa            </td></tr>\n",
              "\t<tr><td>Antigua and Barbuda   </td><td>1960</td><td>    NA</td><td>62.97</td><td>4.43</td><td>   54681</td><td>          NA</td><td>Americas</td><td>Caribbean                </td></tr>\n",
              "\t<tr><td>Argentina             </td><td>1960</td><td> 59.87</td><td>65.39</td><td>3.11</td><td>20619075</td><td>108322326649</td><td>Americas</td><td>South America            </td></tr>\n",
              "\t<tr><td>Armenia               </td><td>1960</td><td>    NA</td><td>66.86</td><td>4.55</td><td> 1867396</td><td>          NA</td><td>Asia    </td><td>Western Asia             </td></tr>\n",
              "\t<tr><td>Aruba                 </td><td>1960</td><td>    NA</td><td>65.66</td><td>4.82</td><td>   54208</td><td>          NA</td><td>Americas</td><td>Caribbean                </td></tr>\n",
              "\t<tr><td>Australia             </td><td>1960</td><td> 20.30</td><td>70.87</td><td>3.45</td><td>10292328</td><td> 96677859364</td><td>Oceania </td><td>Australia and New Zealand</td></tr>\n",
              "\t<tr><td>Austria               </td><td>1960</td><td> 37.30</td><td>68.75</td><td>2.70</td><td> 7065525</td><td> 52392699681</td><td>Europe  </td><td>Western Europe           </td></tr>\n",
              "\t<tr><td>Azerbaijan            </td><td>1960</td><td>    NA</td><td>61.33</td><td>5.57</td><td> 3897889</td><td>          NA</td><td>Asia    </td><td>Western Asia             </td></tr>\n",
              "\t<tr><td>Bahamas               </td><td>1960</td><td> 51.00</td><td>62.00</td><td>4.50</td><td>  109526</td><td>  1306269490</td><td>Americas</td><td>Caribbean                </td></tr>\n",
              "\t<tr><td>Bahrain               </td><td>1960</td><td>134.50</td><td>51.64</td><td>7.09</td><td>  162501</td><td>          NA</td><td>Asia    </td><td>Western Asia             </td></tr>\n",
              "\t<tr><td>Bangladesh            </td><td>1960</td><td>176.30</td><td>46.20</td><td>6.73</td><td>48200702</td><td> 12767231590</td><td>Asia    </td><td>Southern Asia            </td></tr>\n",
              "\t<tr><td>Barbados              </td><td>1960</td><td> 69.50</td><td>61.80</td><td>4.33</td><td>  230934</td><td>   784120376</td><td>Americas</td><td>Caribbean                </td></tr>\n",
              "\t<tr><td>Belarus               </td><td>1960</td><td>    NA</td><td>71.59</td><td>2.74</td><td> 8190027</td><td>          NA</td><td>Europe  </td><td>Eastern Europe           </td></tr>\n",
              "\t<tr><td>Belgium               </td><td>1960</td><td> 29.50</td><td>69.59</td><td>2.60</td><td> 9140563</td><td> 68236665814</td><td>Europe  </td><td>Western Europe           </td></tr>\n",
              "\t<tr><td>Belize                </td><td>1960</td><td>    NA</td><td>60.08</td><td>6.50</td><td>   92068</td><td>    86532304</td><td>Americas</td><td>Central America          </td></tr>\n",
              "\t<tr><td>Benin                 </td><td>1960</td><td>186.90</td><td>38.29</td><td>6.28</td><td> 2431620</td><td>   621797131</td><td>Africa  </td><td>Western Africa           </td></tr>\n",
              "\t<tr><td>Bhutan                </td><td>1960</td><td>175.00</td><td>35.94</td><td>6.67</td><td>  224108</td><td>          NA</td><td>Asia    </td><td>Southern Asia            </td></tr>\n",
              "\t<tr><td>Bolivia               </td><td>1960</td><td>173.40</td><td>43.77</td><td>6.70</td><td> 3693451</td><td>  3001815692</td><td>Americas</td><td>South America            </td></tr>\n",
              "\t<tr><td>Bosnia and Herzegovina</td><td>1960</td><td>105.00</td><td>62.56</td><td>4.05</td><td> 3214520</td><td>          NA</td><td>Europe  </td><td>Southern Europe          </td></tr>\n",
              "\t<tr><td>Botswana              </td><td>1960</td><td>115.50</td><td>50.34</td><td>6.62</td><td>  524029</td><td>   124460933</td><td>Africa  </td><td>Southern Africa          </td></tr>\n",
              "\t<tr><td>Brazil                </td><td>1960</td><td>129.40</td><td>55.27</td><td>6.21</td><td>72493585</td><td>105343379555</td><td>Americas</td><td>South America            </td></tr>\n",
              "\t<tr><td>Brunei                </td><td>1960</td><td> 63.00</td><td>62.52</td><td>6.49</td><td>   81825</td><td>          NA</td><td>Asia    </td><td>South-Eastern Asia       </td></tr>\n",
              "\t<tr><td>Bulgaria              </td><td>1960</td><td> 49.00</td><td>69.22</td><td>2.25</td><td> 7866472</td><td>          NA</td><td>Europe  </td><td>Eastern Europe           </td></tr>\n",
              "\t<tr><td>Burkina Faso          </td><td>1960</td><td>161.30</td><td>35.21</td><td>6.29</td><td> 4829291</td><td>   596612183</td><td>Africa  </td><td>Western Africa           </td></tr>\n",
              "\t<tr><td>Burundi               </td><td>1960</td><td>145.10</td><td>40.58</td><td>6.95</td><td> 2786740</td><td>   341126765</td><td>Africa  </td><td>Eastern Africa           </td></tr>\n",
              "\t<tr><td>Cambodia              </td><td>1960</td><td>    NA</td><td>42.29</td><td>6.97</td><td> 5722370</td><td>          NA</td><td>Asia    </td><td>South-Eastern Asia       </td></tr>\n",
              "\t<tr><td>Cameroon              </td><td>1960</td><td>166.90</td><td>43.46</td><td>5.65</td><td> 5361367</td><td>  2537944080</td><td>Africa  </td><td>Middle Africa            </td></tr>\n",
              "\t<tr><td>Canada                </td><td>1960</td><td> 27.80</td><td>71.00</td><td>3.91</td><td>17909232</td><td>167894860728</td><td>Americas</td><td>Northern America         </td></tr>\n",
              "\t<tr><td>⋮</td><td>⋮</td><td>⋮</td><td>⋮</td><td>⋮</td><td>⋮</td><td>⋮</td><td>⋮</td><td>⋮</td></tr>\n",
              "\t<tr><td>Sudan               </td><td>2016</td><td>NA</td><td>67.80</td><td>NA</td><td>NA</td><td>NA</td><td>Africa  </td><td>Northern Africa   </td></tr>\n",
              "\t<tr><td>Suriname            </td><td>2016</td><td>NA</td><td>72.20</td><td>NA</td><td>NA</td><td>NA</td><td>Americas</td><td>South America     </td></tr>\n",
              "\t<tr><td>Swaziland           </td><td>2016</td><td>NA</td><td>53.88</td><td>NA</td><td>NA</td><td>NA</td><td>Africa  </td><td>Southern Africa   </td></tr>\n",
              "\t<tr><td>Sweden              </td><td>2016</td><td>NA</td><td>82.10</td><td>NA</td><td>NA</td><td>NA</td><td>Europe  </td><td>Northern Europe   </td></tr>\n",
              "\t<tr><td>Switzerland         </td><td>2016</td><td>NA</td><td>83.10</td><td>NA</td><td>NA</td><td>NA</td><td>Europe  </td><td>Western Europe    </td></tr>\n",
              "\t<tr><td>Syria               </td><td>2016</td><td>NA</td><td>69.21</td><td>NA</td><td>NA</td><td>NA</td><td>Asia    </td><td>Western Asia      </td></tr>\n",
              "\t<tr><td>Tajikistan          </td><td>2016</td><td>NA</td><td>72.90</td><td>NA</td><td>NA</td><td>NA</td><td>Asia    </td><td>Central Asia      </td></tr>\n",
              "\t<tr><td>Tanzania            </td><td>2016</td><td>NA</td><td>64.91</td><td>NA</td><td>NA</td><td>NA</td><td>Africa  </td><td>Eastern Africa    </td></tr>\n",
              "\t<tr><td>Thailand            </td><td>2016</td><td>NA</td><td>74.80</td><td>NA</td><td>NA</td><td>NA</td><td>Asia    </td><td>South-Eastern Asia</td></tr>\n",
              "\t<tr><td>Timor-Leste         </td><td>2016</td><td>NA</td><td>72.50</td><td>NA</td><td>NA</td><td>NA</td><td>Asia    </td><td>South-Eastern Asia</td></tr>\n",
              "\t<tr><td>Togo                </td><td>2016</td><td>NA</td><td>61.90</td><td>NA</td><td>NA</td><td>NA</td><td>Africa  </td><td>Western Africa    </td></tr>\n",
              "\t<tr><td>Tonga               </td><td>2016</td><td>NA</td><td>71.70</td><td>NA</td><td>NA</td><td>NA</td><td>Oceania </td><td>Polynesia         </td></tr>\n",
              "\t<tr><td>Trinidad and Tobago </td><td>2016</td><td>NA</td><td>72.50</td><td>NA</td><td>NA</td><td>NA</td><td>Americas</td><td>Caribbean         </td></tr>\n",
              "\t<tr><td>Tunisia             </td><td>2016</td><td>NA</td><td>77.60</td><td>NA</td><td>NA</td><td>NA</td><td>Africa  </td><td>Northern Africa   </td></tr>\n",
              "\t<tr><td>Turkey              </td><td>2016</td><td>NA</td><td>79.30</td><td>NA</td><td>NA</td><td>NA</td><td>Asia    </td><td>Western Asia      </td></tr>\n",
              "\t<tr><td>Turkmenistan        </td><td>2016</td><td>NA</td><td>70.40</td><td>NA</td><td>NA</td><td>NA</td><td>Asia    </td><td>Central Asia      </td></tr>\n",
              "\t<tr><td>Uganda              </td><td>2016</td><td>NA</td><td>61.91</td><td>NA</td><td>NA</td><td>NA</td><td>Africa  </td><td>Eastern Africa    </td></tr>\n",
              "\t<tr><td>Ukraine             </td><td>2016</td><td>NA</td><td>71.70</td><td>NA</td><td>NA</td><td>NA</td><td>Europe  </td><td>Eastern Europe    </td></tr>\n",
              "\t<tr><td>United Arab Emirates</td><td>2016</td><td>NA</td><td>75.40</td><td>NA</td><td>NA</td><td>NA</td><td>Asia    </td><td>Western Asia      </td></tr>\n",
              "\t<tr><td>United Kingdom      </td><td>2016</td><td>NA</td><td>81.10</td><td>NA</td><td>NA</td><td>NA</td><td>Europe  </td><td>Northern Europe   </td></tr>\n",
              "\t<tr><td>United States       </td><td>2016</td><td>NA</td><td>79.10</td><td>NA</td><td>NA</td><td>NA</td><td>Americas</td><td>Northern America  </td></tr>\n",
              "\t<tr><td>Uruguay             </td><td>2016</td><td>NA</td><td>77.00</td><td>NA</td><td>NA</td><td>NA</td><td>Americas</td><td>South America     </td></tr>\n",
              "\t<tr><td>Uzbekistan          </td><td>2016</td><td>NA</td><td>72.10</td><td>NA</td><td>NA</td><td>NA</td><td>Asia    </td><td>Central Asia      </td></tr>\n",
              "\t<tr><td>Vanuatu             </td><td>2016</td><td>NA</td><td>65.10</td><td>NA</td><td>NA</td><td>NA</td><td>Oceania </td><td>Melanesia         </td></tr>\n",
              "\t<tr><td>Venezuela           </td><td>2016</td><td>NA</td><td>74.80</td><td>NA</td><td>NA</td><td>NA</td><td>Americas</td><td>South America     </td></tr>\n",
              "\t<tr><td>West Bank and Gaza  </td><td>2016</td><td>NA</td><td>74.70</td><td>NA</td><td>NA</td><td>NA</td><td>Asia    </td><td>Western Asia      </td></tr>\n",
              "\t<tr><td>Vietnam             </td><td>2016</td><td>NA</td><td>75.60</td><td>NA</td><td>NA</td><td>NA</td><td>Asia    </td><td>South-Eastern Asia</td></tr>\n",
              "\t<tr><td>Yemen               </td><td>2016</td><td>NA</td><td>64.92</td><td>NA</td><td>NA</td><td>NA</td><td>Asia    </td><td>Western Asia      </td></tr>\n",
              "\t<tr><td>Zambia              </td><td>2016</td><td>NA</td><td>57.10</td><td>NA</td><td>NA</td><td>NA</td><td>Africa  </td><td>Eastern Africa    </td></tr>\n",
              "\t<tr><td>Zimbabwe            </td><td>2016</td><td>NA</td><td>61.69</td><td>NA</td><td>NA</td><td>NA</td><td>Africa  </td><td>Eastern Africa    </td></tr>\n",
              "</tbody>\n",
              "</table>\n"
            ],
            "text/markdown": "\nA tibble: 10545 × 9\n\n| country &lt;fct&gt; | year &lt;int&gt; | infant_mortality &lt;dbl&gt; | life_expectancy &lt;dbl&gt; | fertility &lt;dbl&gt; | population &lt;dbl&gt; | gdp &lt;dbl&gt; | continent &lt;fct&gt; | region &lt;fct&gt; |\n|---|---|---|---|---|---|---|---|---|\n| Albania                | 1960 | 115.40 | 62.87 | 6.19 |  1636054 |           NA | Europe   | Southern Europe           |\n| Algeria                | 1960 | 148.20 | 47.50 | 7.65 | 11124892 |  13828152297 | Africa   | Northern Africa           |\n| Angola                 | 1960 | 208.00 | 35.98 | 7.32 |  5270844 |           NA | Africa   | Middle Africa             |\n| Antigua and Barbuda    | 1960 |     NA | 62.97 | 4.43 |    54681 |           NA | Americas | Caribbean                 |\n| Argentina              | 1960 |  59.87 | 65.39 | 3.11 | 20619075 | 108322326649 | Americas | South America             |\n| Armenia                | 1960 |     NA | 66.86 | 4.55 |  1867396 |           NA | Asia     | Western Asia              |\n| Aruba                  | 1960 |     NA | 65.66 | 4.82 |    54208 |           NA | Americas | Caribbean                 |\n| Australia              | 1960 |  20.30 | 70.87 | 3.45 | 10292328 |  96677859364 | Oceania  | Australia and New Zealand |\n| Austria                | 1960 |  37.30 | 68.75 | 2.70 |  7065525 |  52392699681 | Europe   | Western Europe            |\n| Azerbaijan             | 1960 |     NA | 61.33 | 5.57 |  3897889 |           NA | Asia     | Western Asia              |\n| Bahamas                | 1960 |  51.00 | 62.00 | 4.50 |   109526 |   1306269490 | Americas | Caribbean                 |\n| Bahrain                | 1960 | 134.50 | 51.64 | 7.09 |   162501 |           NA | Asia     | Western Asia              |\n| Bangladesh             | 1960 | 176.30 | 46.20 | 6.73 | 48200702 |  12767231590 | Asia     | Southern Asia             |\n| Barbados               | 1960 |  69.50 | 61.80 | 4.33 |   230934 |    784120376 | Americas | Caribbean                 |\n| Belarus                | 1960 |     NA | 71.59 | 2.74 |  8190027 |           NA | Europe   | Eastern Europe            |\n| Belgium                | 1960 |  29.50 | 69.59 | 2.60 |  9140563 |  68236665814 | Europe   | Western Europe            |\n| Belize                 | 1960 |     NA | 60.08 | 6.50 |    92068 |     86532304 | Americas | Central America           |\n| Benin                  | 1960 | 186.90 | 38.29 | 6.28 |  2431620 |    621797131 | Africa   | Western Africa            |\n| Bhutan                 | 1960 | 175.00 | 35.94 | 6.67 |   224108 |           NA | Asia     | Southern Asia             |\n| Bolivia                | 1960 | 173.40 | 43.77 | 6.70 |  3693451 |   3001815692 | Americas | South America             |\n| Bosnia and Herzegovina | 1960 | 105.00 | 62.56 | 4.05 |  3214520 |           NA | Europe   | Southern Europe           |\n| Botswana               | 1960 | 115.50 | 50.34 | 6.62 |   524029 |    124460933 | Africa   | Southern Africa           |\n| Brazil                 | 1960 | 129.40 | 55.27 | 6.21 | 72493585 | 105343379555 | Americas | South America             |\n| Brunei                 | 1960 |  63.00 | 62.52 | 6.49 |    81825 |           NA | Asia     | South-Eastern Asia        |\n| Bulgaria               | 1960 |  49.00 | 69.22 | 2.25 |  7866472 |           NA | Europe   | Eastern Europe            |\n| Burkina Faso           | 1960 | 161.30 | 35.21 | 6.29 |  4829291 |    596612183 | Africa   | Western Africa            |\n| Burundi                | 1960 | 145.10 | 40.58 | 6.95 |  2786740 |    341126765 | Africa   | Eastern Africa            |\n| Cambodia               | 1960 |     NA | 42.29 | 6.97 |  5722370 |           NA | Asia     | South-Eastern Asia        |\n| Cameroon               | 1960 | 166.90 | 43.46 | 5.65 |  5361367 |   2537944080 | Africa   | Middle Africa             |\n| Canada                 | 1960 |  27.80 | 71.00 | 3.91 | 17909232 | 167894860728 | Americas | Northern America          |\n| ⋮ | ⋮ | ⋮ | ⋮ | ⋮ | ⋮ | ⋮ | ⋮ | ⋮ |\n| Sudan                | 2016 | NA | 67.80 | NA | NA | NA | Africa   | Northern Africa    |\n| Suriname             | 2016 | NA | 72.20 | NA | NA | NA | Americas | South America      |\n| Swaziland            | 2016 | NA | 53.88 | NA | NA | NA | Africa   | Southern Africa    |\n| Sweden               | 2016 | NA | 82.10 | NA | NA | NA | Europe   | Northern Europe    |\n| Switzerland          | 2016 | NA | 83.10 | NA | NA | NA | Europe   | Western Europe     |\n| Syria                | 2016 | NA | 69.21 | NA | NA | NA | Asia     | Western Asia       |\n| Tajikistan           | 2016 | NA | 72.90 | NA | NA | NA | Asia     | Central Asia       |\n| Tanzania             | 2016 | NA | 64.91 | NA | NA | NA | Africa   | Eastern Africa     |\n| Thailand             | 2016 | NA | 74.80 | NA | NA | NA | Asia     | South-Eastern Asia |\n| Timor-Leste          | 2016 | NA | 72.50 | NA | NA | NA | Asia     | South-Eastern Asia |\n| Togo                 | 2016 | NA | 61.90 | NA | NA | NA | Africa   | Western Africa     |\n| Tonga                | 2016 | NA | 71.70 | NA | NA | NA | Oceania  | Polynesia          |\n| Trinidad and Tobago  | 2016 | NA | 72.50 | NA | NA | NA | Americas | Caribbean          |\n| Tunisia              | 2016 | NA | 77.60 | NA | NA | NA | Africa   | Northern Africa    |\n| Turkey               | 2016 | NA | 79.30 | NA | NA | NA | Asia     | Western Asia       |\n| Turkmenistan         | 2016 | NA | 70.40 | NA | NA | NA | Asia     | Central Asia       |\n| Uganda               | 2016 | NA | 61.91 | NA | NA | NA | Africa   | Eastern Africa     |\n| Ukraine              | 2016 | NA | 71.70 | NA | NA | NA | Europe   | Eastern Europe     |\n| United Arab Emirates | 2016 | NA | 75.40 | NA | NA | NA | Asia     | Western Asia       |\n| United Kingdom       | 2016 | NA | 81.10 | NA | NA | NA | Europe   | Northern Europe    |\n| United States        | 2016 | NA | 79.10 | NA | NA | NA | Americas | Northern America   |\n| Uruguay              | 2016 | NA | 77.00 | NA | NA | NA | Americas | South America      |\n| Uzbekistan           | 2016 | NA | 72.10 | NA | NA | NA | Asia     | Central Asia       |\n| Vanuatu              | 2016 | NA | 65.10 | NA | NA | NA | Oceania  | Melanesia          |\n| Venezuela            | 2016 | NA | 74.80 | NA | NA | NA | Americas | South America      |\n| West Bank and Gaza   | 2016 | NA | 74.70 | NA | NA | NA | Asia     | Western Asia       |\n| Vietnam              | 2016 | NA | 75.60 | NA | NA | NA | Asia     | South-Eastern Asia |\n| Yemen                | 2016 | NA | 64.92 | NA | NA | NA | Asia     | Western Asia       |\n| Zambia               | 2016 | NA | 57.10 | NA | NA | NA | Africa   | Eastern Africa     |\n| Zimbabwe             | 2016 | NA | 61.69 | NA | NA | NA | Africa   | Eastern Africa     |\n\n",
            "text/latex": "A tibble: 10545 × 9\n\\begin{tabular}{lllllllll}\n country & year & infant\\_mortality & life\\_expectancy & fertility & population & gdp & continent & region\\\\\n <fct> & <int> & <dbl> & <dbl> & <dbl> & <dbl> & <dbl> & <fct> & <fct>\\\\\n\\hline\n\t Albania                & 1960 & 115.40 & 62.87 & 6.19 &  1636054 &           NA & Europe   & Southern Europe          \\\\\n\t Algeria                & 1960 & 148.20 & 47.50 & 7.65 & 11124892 &  13828152297 & Africa   & Northern Africa          \\\\\n\t Angola                 & 1960 & 208.00 & 35.98 & 7.32 &  5270844 &           NA & Africa   & Middle Africa            \\\\\n\t Antigua and Barbuda    & 1960 &     NA & 62.97 & 4.43 &    54681 &           NA & Americas & Caribbean                \\\\\n\t Argentina              & 1960 &  59.87 & 65.39 & 3.11 & 20619075 & 108322326649 & Americas & South America            \\\\\n\t Armenia                & 1960 &     NA & 66.86 & 4.55 &  1867396 &           NA & Asia     & Western Asia             \\\\\n\t Aruba                  & 1960 &     NA & 65.66 & 4.82 &    54208 &           NA & Americas & Caribbean                \\\\\n\t Australia              & 1960 &  20.30 & 70.87 & 3.45 & 10292328 &  96677859364 & Oceania  & Australia and New Zealand\\\\\n\t Austria                & 1960 &  37.30 & 68.75 & 2.70 &  7065525 &  52392699681 & Europe   & Western Europe           \\\\\n\t Azerbaijan             & 1960 &     NA & 61.33 & 5.57 &  3897889 &           NA & Asia     & Western Asia             \\\\\n\t Bahamas                & 1960 &  51.00 & 62.00 & 4.50 &   109526 &   1306269490 & Americas & Caribbean                \\\\\n\t Bahrain                & 1960 & 134.50 & 51.64 & 7.09 &   162501 &           NA & Asia     & Western Asia             \\\\\n\t Bangladesh             & 1960 & 176.30 & 46.20 & 6.73 & 48200702 &  12767231590 & Asia     & Southern Asia            \\\\\n\t Barbados               & 1960 &  69.50 & 61.80 & 4.33 &   230934 &    784120376 & Americas & Caribbean                \\\\\n\t Belarus                & 1960 &     NA & 71.59 & 2.74 &  8190027 &           NA & Europe   & Eastern Europe           \\\\\n\t Belgium                & 1960 &  29.50 & 69.59 & 2.60 &  9140563 &  68236665814 & Europe   & Western Europe           \\\\\n\t Belize                 & 1960 &     NA & 60.08 & 6.50 &    92068 &     86532304 & Americas & Central America          \\\\\n\t Benin                  & 1960 & 186.90 & 38.29 & 6.28 &  2431620 &    621797131 & Africa   & Western Africa           \\\\\n\t Bhutan                 & 1960 & 175.00 & 35.94 & 6.67 &   224108 &           NA & Asia     & Southern Asia            \\\\\n\t Bolivia                & 1960 & 173.40 & 43.77 & 6.70 &  3693451 &   3001815692 & Americas & South America            \\\\\n\t Bosnia and Herzegovina & 1960 & 105.00 & 62.56 & 4.05 &  3214520 &           NA & Europe   & Southern Europe          \\\\\n\t Botswana               & 1960 & 115.50 & 50.34 & 6.62 &   524029 &    124460933 & Africa   & Southern Africa          \\\\\n\t Brazil                 & 1960 & 129.40 & 55.27 & 6.21 & 72493585 & 105343379555 & Americas & South America            \\\\\n\t Brunei                 & 1960 &  63.00 & 62.52 & 6.49 &    81825 &           NA & Asia     & South-Eastern Asia       \\\\\n\t Bulgaria               & 1960 &  49.00 & 69.22 & 2.25 &  7866472 &           NA & Europe   & Eastern Europe           \\\\\n\t Burkina Faso           & 1960 & 161.30 & 35.21 & 6.29 &  4829291 &    596612183 & Africa   & Western Africa           \\\\\n\t Burundi                & 1960 & 145.10 & 40.58 & 6.95 &  2786740 &    341126765 & Africa   & Eastern Africa           \\\\\n\t Cambodia               & 1960 &     NA & 42.29 & 6.97 &  5722370 &           NA & Asia     & South-Eastern Asia       \\\\\n\t Cameroon               & 1960 & 166.90 & 43.46 & 5.65 &  5361367 &   2537944080 & Africa   & Middle Africa            \\\\\n\t Canada                 & 1960 &  27.80 & 71.00 & 3.91 & 17909232 & 167894860728 & Americas & Northern America         \\\\\n\t ⋮ & ⋮ & ⋮ & ⋮ & ⋮ & ⋮ & ⋮ & ⋮ & ⋮\\\\\n\t Sudan                & 2016 & NA & 67.80 & NA & NA & NA & Africa   & Northern Africa   \\\\\n\t Suriname             & 2016 & NA & 72.20 & NA & NA & NA & Americas & South America     \\\\\n\t Swaziland            & 2016 & NA & 53.88 & NA & NA & NA & Africa   & Southern Africa   \\\\\n\t Sweden               & 2016 & NA & 82.10 & NA & NA & NA & Europe   & Northern Europe   \\\\\n\t Switzerland          & 2016 & NA & 83.10 & NA & NA & NA & Europe   & Western Europe    \\\\\n\t Syria                & 2016 & NA & 69.21 & NA & NA & NA & Asia     & Western Asia      \\\\\n\t Tajikistan           & 2016 & NA & 72.90 & NA & NA & NA & Asia     & Central Asia      \\\\\n\t Tanzania             & 2016 & NA & 64.91 & NA & NA & NA & Africa   & Eastern Africa    \\\\\n\t Thailand             & 2016 & NA & 74.80 & NA & NA & NA & Asia     & South-Eastern Asia\\\\\n\t Timor-Leste          & 2016 & NA & 72.50 & NA & NA & NA & Asia     & South-Eastern Asia\\\\\n\t Togo                 & 2016 & NA & 61.90 & NA & NA & NA & Africa   & Western Africa    \\\\\n\t Tonga                & 2016 & NA & 71.70 & NA & NA & NA & Oceania  & Polynesia         \\\\\n\t Trinidad and Tobago  & 2016 & NA & 72.50 & NA & NA & NA & Americas & Caribbean         \\\\\n\t Tunisia              & 2016 & NA & 77.60 & NA & NA & NA & Africa   & Northern Africa   \\\\\n\t Turkey               & 2016 & NA & 79.30 & NA & NA & NA & Asia     & Western Asia      \\\\\n\t Turkmenistan         & 2016 & NA & 70.40 & NA & NA & NA & Asia     & Central Asia      \\\\\n\t Uganda               & 2016 & NA & 61.91 & NA & NA & NA & Africa   & Eastern Africa    \\\\\n\t Ukraine              & 2016 & NA & 71.70 & NA & NA & NA & Europe   & Eastern Europe    \\\\\n\t United Arab Emirates & 2016 & NA & 75.40 & NA & NA & NA & Asia     & Western Asia      \\\\\n\t United Kingdom       & 2016 & NA & 81.10 & NA & NA & NA & Europe   & Northern Europe   \\\\\n\t United States        & 2016 & NA & 79.10 & NA & NA & NA & Americas & Northern America  \\\\\n\t Uruguay              & 2016 & NA & 77.00 & NA & NA & NA & Americas & South America     \\\\\n\t Uzbekistan           & 2016 & NA & 72.10 & NA & NA & NA & Asia     & Central Asia      \\\\\n\t Vanuatu              & 2016 & NA & 65.10 & NA & NA & NA & Oceania  & Melanesia         \\\\\n\t Venezuela            & 2016 & NA & 74.80 & NA & NA & NA & Americas & South America     \\\\\n\t West Bank and Gaza   & 2016 & NA & 74.70 & NA & NA & NA & Asia     & Western Asia      \\\\\n\t Vietnam              & 2016 & NA & 75.60 & NA & NA & NA & Asia     & South-Eastern Asia\\\\\n\t Yemen                & 2016 & NA & 64.92 & NA & NA & NA & Asia     & Western Asia      \\\\\n\t Zambia               & 2016 & NA & 57.10 & NA & NA & NA & Africa   & Eastern Africa    \\\\\n\t Zimbabwe             & 2016 & NA & 61.69 & NA & NA & NA & Africa   & Eastern Africa    \\\\\n\\end{tabular}\n",
            "text/plain": [
              "      country                year infant_mortality life_expectancy fertility\n",
              "1     Albania                1960 115.40           62.87           6.19     \n",
              "2     Algeria                1960 148.20           47.50           7.65     \n",
              "3     Angola                 1960 208.00           35.98           7.32     \n",
              "4     Antigua and Barbuda    1960     NA           62.97           4.43     \n",
              "5     Argentina              1960  59.87           65.39           3.11     \n",
              "6     Armenia                1960     NA           66.86           4.55     \n",
              "7     Aruba                  1960     NA           65.66           4.82     \n",
              "8     Australia              1960  20.30           70.87           3.45     \n",
              "9     Austria                1960  37.30           68.75           2.70     \n",
              "10    Azerbaijan             1960     NA           61.33           5.57     \n",
              "11    Bahamas                1960  51.00           62.00           4.50     \n",
              "12    Bahrain                1960 134.50           51.64           7.09     \n",
              "13    Bangladesh             1960 176.30           46.20           6.73     \n",
              "14    Barbados               1960  69.50           61.80           4.33     \n",
              "15    Belarus                1960     NA           71.59           2.74     \n",
              "16    Belgium                1960  29.50           69.59           2.60     \n",
              "17    Belize                 1960     NA           60.08           6.50     \n",
              "18    Benin                  1960 186.90           38.29           6.28     \n",
              "19    Bhutan                 1960 175.00           35.94           6.67     \n",
              "20    Bolivia                1960 173.40           43.77           6.70     \n",
              "21    Bosnia and Herzegovina 1960 105.00           62.56           4.05     \n",
              "22    Botswana               1960 115.50           50.34           6.62     \n",
              "23    Brazil                 1960 129.40           55.27           6.21     \n",
              "24    Brunei                 1960  63.00           62.52           6.49     \n",
              "25    Bulgaria               1960  49.00           69.22           2.25     \n",
              "26    Burkina Faso           1960 161.30           35.21           6.29     \n",
              "27    Burundi                1960 145.10           40.58           6.95     \n",
              "28    Cambodia               1960     NA           42.29           6.97     \n",
              "29    Cameroon               1960 166.90           43.46           5.65     \n",
              "30    Canada                 1960  27.80           71.00           3.91     \n",
              "⋮     ⋮                      ⋮    ⋮                ⋮               ⋮        \n",
              "10516 Sudan                  2016 NA               67.80           NA       \n",
              "10517 Suriname               2016 NA               72.20           NA       \n",
              "10518 Swaziland              2016 NA               53.88           NA       \n",
              "10519 Sweden                 2016 NA               82.10           NA       \n",
              "10520 Switzerland            2016 NA               83.10           NA       \n",
              "10521 Syria                  2016 NA               69.21           NA       \n",
              "10522 Tajikistan             2016 NA               72.90           NA       \n",
              "10523 Tanzania               2016 NA               64.91           NA       \n",
              "10524 Thailand               2016 NA               74.80           NA       \n",
              "10525 Timor-Leste            2016 NA               72.50           NA       \n",
              "10526 Togo                   2016 NA               61.90           NA       \n",
              "10527 Tonga                  2016 NA               71.70           NA       \n",
              "10528 Trinidad and Tobago    2016 NA               72.50           NA       \n",
              "10529 Tunisia                2016 NA               77.60           NA       \n",
              "10530 Turkey                 2016 NA               79.30           NA       \n",
              "10531 Turkmenistan           2016 NA               70.40           NA       \n",
              "10532 Uganda                 2016 NA               61.91           NA       \n",
              "10533 Ukraine                2016 NA               71.70           NA       \n",
              "10534 United Arab Emirates   2016 NA               75.40           NA       \n",
              "10535 United Kingdom         2016 NA               81.10           NA       \n",
              "10536 United States          2016 NA               79.10           NA       \n",
              "10537 Uruguay                2016 NA               77.00           NA       \n",
              "10538 Uzbekistan             2016 NA               72.10           NA       \n",
              "10539 Vanuatu                2016 NA               65.10           NA       \n",
              "10540 Venezuela              2016 NA               74.80           NA       \n",
              "10541 West Bank and Gaza     2016 NA               74.70           NA       \n",
              "10542 Vietnam                2016 NA               75.60           NA       \n",
              "10543 Yemen                  2016 NA               64.92           NA       \n",
              "10544 Zambia                 2016 NA               57.10           NA       \n",
              "10545 Zimbabwe               2016 NA               61.69           NA       \n",
              "      population gdp          continent region                   \n",
              "1      1636054             NA Europe    Southern Europe          \n",
              "2     11124892    13828152297 Africa    Northern Africa          \n",
              "3      5270844             NA Africa    Middle Africa            \n",
              "4        54681             NA Americas  Caribbean                \n",
              "5     20619075   108322326649 Americas  South America            \n",
              "6      1867396             NA Asia      Western Asia             \n",
              "7        54208             NA Americas  Caribbean                \n",
              "8     10292328    96677859364 Oceania   Australia and New Zealand\n",
              "9      7065525    52392699681 Europe    Western Europe           \n",
              "10     3897889             NA Asia      Western Asia             \n",
              "11      109526     1306269490 Americas  Caribbean                \n",
              "12      162501             NA Asia      Western Asia             \n",
              "13    48200702    12767231590 Asia      Southern Asia            \n",
              "14      230934      784120376 Americas  Caribbean                \n",
              "15     8190027             NA Europe    Eastern Europe           \n",
              "16     9140563    68236665814 Europe    Western Europe           \n",
              "17       92068       86532304 Americas  Central America          \n",
              "18     2431620      621797131 Africa    Western Africa           \n",
              "19      224108             NA Asia      Southern Asia            \n",
              "20     3693451     3001815692 Americas  South America            \n",
              "21     3214520             NA Europe    Southern Europe          \n",
              "22      524029      124460933 Africa    Southern Africa          \n",
              "23    72493585   105343379555 Americas  South America            \n",
              "24       81825             NA Asia      South-Eastern Asia       \n",
              "25     7866472             NA Europe    Eastern Europe           \n",
              "26     4829291      596612183 Africa    Western Africa           \n",
              "27     2786740      341126765 Africa    Eastern Africa           \n",
              "28     5722370             NA Asia      South-Eastern Asia       \n",
              "29     5361367     2537944080 Africa    Middle Africa            \n",
              "30    17909232   167894860728 Americas  Northern America         \n",
              "⋮     ⋮          ⋮            ⋮         ⋮                        \n",
              "10516 NA         NA           Africa    Northern Africa          \n",
              "10517 NA         NA           Americas  South America            \n",
              "10518 NA         NA           Africa    Southern Africa          \n",
              "10519 NA         NA           Europe    Northern Europe          \n",
              "10520 NA         NA           Europe    Western Europe           \n",
              "10521 NA         NA           Asia      Western Asia             \n",
              "10522 NA         NA           Asia      Central Asia             \n",
              "10523 NA         NA           Africa    Eastern Africa           \n",
              "10524 NA         NA           Asia      South-Eastern Asia       \n",
              "10525 NA         NA           Asia      South-Eastern Asia       \n",
              "10526 NA         NA           Africa    Western Africa           \n",
              "10527 NA         NA           Oceania   Polynesia                \n",
              "10528 NA         NA           Americas  Caribbean                \n",
              "10529 NA         NA           Africa    Northern Africa          \n",
              "10530 NA         NA           Asia      Western Asia             \n",
              "10531 NA         NA           Asia      Central Asia             \n",
              "10532 NA         NA           Africa    Eastern Africa           \n",
              "10533 NA         NA           Europe    Eastern Europe           \n",
              "10534 NA         NA           Asia      Western Asia             \n",
              "10535 NA         NA           Europe    Northern Europe          \n",
              "10536 NA         NA           Americas  Northern America         \n",
              "10537 NA         NA           Americas  South America            \n",
              "10538 NA         NA           Asia      Central Asia             \n",
              "10539 NA         NA           Oceania   Melanesia                \n",
              "10540 NA         NA           Americas  South America            \n",
              "10541 NA         NA           Asia      Western Asia             \n",
              "10542 NA         NA           Asia      South-Eastern Asia       \n",
              "10543 NA         NA           Asia      Western Asia             \n",
              "10544 NA         NA           Africa    Eastern Africa           \n",
              "10545 NA         NA           Africa    Eastern Africa           "
            ]
          },
          "metadata": {}
        },
        {
          "output_type": "display_data",
          "data": {
            "text/html": [
              "<style>\n",
              ".list-inline {list-style: none; margin:0; padding: 0}\n",
              ".list-inline>li {display: inline-block}\n",
              ".list-inline>li:not(:last-child)::after {content: \"\\00b7\"; padding: 0 .5ex}\n",
              "</style>\n",
              "<ol class=list-inline><li>'data.table'</li><li>'data.frame'</li></ol>\n"
            ],
            "text/markdown": "1. 'data.table'\n2. 'data.frame'\n\n\n",
            "text/latex": "\\begin{enumerate*}\n\\item 'data.table'\n\\item 'data.frame'\n\\end{enumerate*}\n",
            "text/plain": [
              "[1] \"data.table\" \"data.frame\""
            ]
          },
          "metadata": {}
        },
        {
          "output_type": "display_data",
          "data": {
            "text/html": [
              "<style>\n",
              ".list-inline {list-style: none; margin:0; padding: 0}\n",
              ".list-inline>li {display: inline-block}\n",
              ".list-inline>li:not(:last-child)::after {content: \"\\00b7\"; padding: 0 .5ex}\n",
              "</style>\n",
              "<ol class=list-inline><li>'tbl_df'</li><li>'tbl'</li><li>'data.frame'</li></ol>\n"
            ],
            "text/markdown": "1. 'tbl_df'\n2. 'tbl'\n3. 'data.frame'\n\n\n",
            "text/latex": "\\begin{enumerate*}\n\\item 'tbl\\_df'\n\\item 'tbl'\n\\item 'data.frame'\n\\end{enumerate*}\n",
            "text/plain": [
              "[1] \"tbl_df\"     \"tbl\"        \"data.frame\""
            ]
          },
          "metadata": {}
        },
        {
          "output_type": "display_data",
          "data": {
            "text/html": [
              "'character'"
            ],
            "text/markdown": "'character'",
            "text/latex": "'character'",
            "text/plain": [
              "[1] \"character\""
            ]
          },
          "metadata": {}
        },
        {
          "output_type": "display_data",
          "data": {
            "text/plain": [
              "NULL"
            ]
          },
          "metadata": {}
        },
        {
          "output_type": "stream",
          "name": "stderr",
          "text": [
            "Warning message:\n",
            "“Unknown or uninitialised column: `State`.”\n"
          ]
        },
        {
          "output_type": "display_data",
          "data": {
            "text/plain": [
              "NULL"
            ]
          },
          "metadata": {}
        },
        {
          "output_type": "stream",
          "name": "stderr",
          "text": [
            "ERROR while rich displaying an object: Error in as.data.frame.default(x[[i]], optional = TRUE): cannot coerce class ‘\"function\"’ to a data.frame\n",
            "\n",
            "Traceback:\n",
            "1. tryCatch(withCallingHandlers({\n",
            " .     if (!mime %in% names(repr::mime2repr)) \n",
            " .         stop(\"No repr_* for mimetype \", mime, \" in repr::mime2repr\")\n",
            " .     rpr <- repr::mime2repr[[mime]](obj)\n",
            " .     if (is.null(rpr)) \n",
            " .         return(NULL)\n",
            " .     prepare_content(is.raw(rpr), rpr)\n",
            " . }, error = error_handler), error = outer_handler)\n",
            "2. tryCatchList(expr, classes, parentenv, handlers)\n",
            "3. tryCatchOne(expr, names, parentenv, handlers[[1L]])\n",
            "4. doTryCatch(return(expr), name, parentenv, handler)\n",
            "5. withCallingHandlers({\n",
            " .     if (!mime %in% names(repr::mime2repr)) \n",
            " .         stop(\"No repr_* for mimetype \", mime, \" in repr::mime2repr\")\n",
            " .     rpr <- repr::mime2repr[[mime]](obj)\n",
            " .     if (is.null(rpr)) \n",
            " .         return(NULL)\n",
            " .     prepare_content(is.raw(rpr), rpr)\n",
            " . }, error = error_handler)\n",
            "6. repr::mime2repr[[mime]](obj)\n",
            "7. repr_text.data.frame(obj)\n",
            "8. ellip_limit_arr(obj, rows, cols)\n",
            "9. arr_parts_format(parts)\n",
            "10. structure(lapply(parts, arr_part_format), omit = attr(parts, \n",
            "  .     \"omit\"))\n",
            "11. lapply(parts, arr_part_format)\n",
            "12. FUN(X[[i]], ...)\n",
            "13. arr_part_unpack_tbl(part)\n",
            "14. mapply(tbl_col_format, tbl, names(tbl), SIMPLIFY = FALSE, USE.NAMES = FALSE)\n",
            "15. (function (col, prefix = \"\") \n",
            "  . {\n",
            "  .     if (is.data.frame(col)) {\n",
            "  .         res <- mapply(tbl_col_format, col, names(col), SIMPLIFY = FALSE, \n",
            "  .             USE.NAMES = FALSE)\n",
            "  .         res <- do.call(cbind.data.frame, res)\n",
            "  .         names(res) <- paste0(prefix, \"$\", names(res))\n",
            "  .         return(res)\n",
            "  .     }\n",
            "  .     else {\n",
            "  .         res <- data.frame(col)\n",
            "  .         names(res) <- prefix\n",
            "  .         return(res)\n",
            "  .     }\n",
            "  . })(dots[[1L]][[2L]], dots[[2L]][[2L]])\n",
            "16. data.frame(col)\n",
            "17. as.data.frame(x[[i]], optional = TRUE, stringsAsFactors = stringsAsFactors)\n",
            "18. as.data.frame.list(x[[i]], optional = TRUE, stringsAsFactors = stringsAsFactors)\n",
            "19. do.call(data.frame, c(x, alis))\n",
            "20. (function (..., row.names = NULL, check.rows = FALSE, check.names = TRUE, \n",
            "  .     fix.empty.names = TRUE, stringsAsFactors = FALSE) \n",
            "  . {\n",
            "  .     data.row.names <- if (check.rows && is.null(row.names)) \n",
            "  .         function(current, new, i) {\n",
            "  .             if (is.character(current)) \n",
            "  .                 new <- as.character(new)\n",
            "  .             if (is.character(new)) \n",
            "  .                 current <- as.character(current)\n",
            "  .             if (anyDuplicated(new)) \n",
            "  .                 return(current)\n",
            "  .             if (is.null(current)) \n",
            "  .                 return(new)\n",
            "  .             if (all(current == new) || all(current == \"\")) \n",
            "  .                 return(new)\n",
            "  .             stop(gettextf(\"mismatch of row names in arguments of 'data.frame', item %d\", \n",
            "  .                 i), domain = NA)\n",
            "  .         }\n",
            "  .     else function(current, new, i) {\n",
            "  .         if (is.null(current)) {\n",
            "  .             if (anyDuplicated(new)) {\n",
            "  .                 warning(gettextf(\"some row.names duplicated: %s --> row.names NOT used\", \n",
            "  .                   paste(which(duplicated(new)), collapse = \",\")), \n",
            "  .                   domain = NA)\n",
            "  .                 current\n",
            "  .             }\n",
            "  .             else new\n",
            "  .         }\n",
            "  .         else current\n",
            "  .     }\n",
            "  .     object <- as.list(substitute(list(...)))[-1L]\n",
            "  .     mirn <- missing(row.names)\n",
            "  .     mrn <- is.null(row.names)\n",
            "  .     x <- list(...)\n",
            "  .     n <- length(x)\n",
            "  .     if (n < 1L) {\n",
            "  .         if (!mrn) {\n",
            "  .             if (is.object(row.names) || !is.integer(row.names)) \n",
            "  .                 row.names <- as.character(row.names)\n",
            "  .             if (anyNA(row.names)) \n",
            "  .                 stop(\"row names contain missing values\")\n",
            "  .             if (anyDuplicated(row.names)) \n",
            "  .                 stop(gettextf(\"duplicate row.names: %s\", paste(unique(row.names[duplicated(row.names)]), \n",
            "  .                   collapse = \", \")), domain = NA)\n",
            "  .         }\n",
            "  .         else row.names <- integer()\n",
            "  .         return(structure(list(), names = character(), row.names = row.names, \n",
            "  .             class = \"data.frame\"))\n",
            "  .     }\n",
            "  .     vnames <- names(x)\n",
            "  .     if (length(vnames) != n) \n",
            "  .         vnames <- character(n)\n",
            "  .     no.vn <- !nzchar(vnames)\n",
            "  .     vlist <- vnames <- as.list(vnames)\n",
            "  .     nrows <- ncols <- integer(n)\n",
            "  .     for (i in seq_len(n)) {\n",
            "  .         xi <- if (is.character(x[[i]]) || is.list(x[[i]])) \n",
            "  .             as.data.frame(x[[i]], optional = TRUE, stringsAsFactors = stringsAsFactors)\n",
            "  .         else as.data.frame(x[[i]], optional = TRUE)\n",
            "  .         nrows[i] <- .row_names_info(xi)\n",
            "  .         ncols[i] <- length(xi)\n",
            "  .         namesi <- names(xi)\n",
            "  .         if (ncols[i] > 1L) {\n",
            "  .             if (length(namesi) == 0L) \n",
            "  .                 namesi <- seq_len(ncols[i])\n",
            "  .             vnames[[i]] <- if (no.vn[i]) \n",
            "  .                 namesi\n",
            "  .             else paste(vnames[[i]], namesi, sep = \".\")\n",
            "  .         }\n",
            "  .         else if (length(namesi)) {\n",
            "  .             vnames[[i]] <- namesi\n",
            "  .         }\n",
            "  .         else if (fix.empty.names && no.vn[[i]]) {\n",
            "  .             tmpname <- deparse(object[[i]], nlines = 1L)[1L]\n",
            "  .             if (startsWith(tmpname, \"I(\") && endsWith(tmpname, \n",
            "  .                 \")\")) {\n",
            "  .                 ntmpn <- nchar(tmpname, \"c\")\n",
            "  .                 tmpname <- substr(tmpname, 3L, ntmpn - 1L)\n",
            "  .             }\n",
            "  .             vnames[[i]] <- tmpname\n",
            "  .         }\n",
            "  .         if (mirn && nrows[i] > 0L) {\n",
            "  .             rowsi <- attr(xi, \"row.names\")\n",
            "  .             if (any(nzchar(rowsi))) \n",
            "  .                 row.names <- data.row.names(row.names, rowsi, \n",
            "  .                   i)\n",
            "  .         }\n",
            "  .         nrows[i] <- abs(nrows[i])\n",
            "  .         vlist[[i]] <- xi\n",
            "  .     }\n",
            "  .     nr <- max(nrows)\n",
            "  .     for (i in seq_len(n)[nrows < nr]) {\n",
            "  .         xi <- vlist[[i]]\n",
            "  .         if (nrows[i] > 0L && (nr%%nrows[i] == 0L)) {\n",
            "  .             xi <- unclass(xi)\n",
            "  .             fixed <- TRUE\n",
            "  .             for (j in seq_along(xi)) {\n",
            "  .                 xi1 <- xi[[j]]\n",
            "  .                 if (is.vector(xi1) || is.factor(xi1)) \n",
            "  .                   xi[[j]] <- rep(xi1, length.out = nr)\n",
            "  .                 else if (is.character(xi1) && inherits(xi1, \"AsIs\")) \n",
            "  .                   xi[[j]] <- structure(rep(xi1, length.out = nr), \n",
            "  .                     class = class(xi1))\n",
            "  .                 else if (inherits(xi1, \"Date\") || inherits(xi1, \n",
            "  .                   \"POSIXct\")) \n",
            "  .                   xi[[j]] <- rep(xi1, length.out = nr)\n",
            "  .                 else {\n",
            "  .                   fixed <- FALSE\n",
            "  .                   break\n",
            "  .                 }\n",
            "  .             }\n",
            "  .             if (fixed) {\n",
            "  .                 vlist[[i]] <- xi\n",
            "  .                 next\n",
            "  .             }\n",
            "  .         }\n",
            "  .         stop(gettextf(\"arguments imply differing number of rows: %s\", \n",
            "  .             paste(unique(nrows), collapse = \", \")), domain = NA)\n",
            "  .     }\n",
            "  .     value <- unlist(vlist, recursive = FALSE, use.names = FALSE)\n",
            "  .     vnames <- as.character(unlist(vnames[ncols > 0L]))\n",
            "  .     if (fix.empty.names && any(noname <- !nzchar(vnames))) \n",
            "  .         vnames[noname] <- paste0(\"Var.\", seq_along(vnames))[noname]\n",
            "  .     if (check.names) {\n",
            "  .         if (fix.empty.names) \n",
            "  .             vnames <- make.names(vnames, unique = TRUE)\n",
            "  .         else {\n",
            "  .             nz <- nzchar(vnames)\n",
            "  .             vnames[nz] <- make.names(vnames[nz], unique = TRUE)\n",
            "  .         }\n",
            "  .     }\n",
            "  .     names(value) <- vnames\n",
            "  .     if (!mrn) {\n",
            "  .         if (length(row.names) == 1L && nr != 1L) {\n",
            "  .             if (is.character(row.names)) \n",
            "  .                 row.names <- match(row.names, vnames, 0L)\n",
            "  .             if (length(row.names) != 1L || row.names < 1L || \n",
            "  .                 row.names > length(vnames)) \n",
            "  .                 stop(\"'row.names' should specify one of the variables\")\n",
            "  .             i <- row.names\n",
            "  .             row.names <- value[[i]]\n",
            "  .             value <- value[-i]\n",
            "  .         }\n",
            "  .         else if (!is.null(row.names) && length(row.names) != \n",
            "  .             nr) \n",
            "  .             stop(\"row names supplied are of the wrong length\")\n",
            "  .     }\n",
            "  .     else if (!is.null(row.names) && length(row.names) != nr) {\n",
            "  .         warning(\"row names were found from a short variable and have been discarded\")\n",
            "  .         row.names <- NULL\n",
            "  .     }\n",
            "  .     class(value) <- \"data.frame\"\n",
            "  .     if (is.null(row.names)) \n",
            "  .         attr(value, \"row.names\") <- .set_row_names(nr)\n",
            "  .     else {\n",
            "  .         if (is.object(row.names) || !is.integer(row.names)) \n",
            "  .             row.names <- as.character(row.names)\n",
            "  .         if (anyNA(row.names)) \n",
            "  .             stop(\"row names contain missing values\")\n",
            "  .         if (anyDuplicated(row.names)) \n",
            "  .             stop(gettextf(\"duplicate row.names: %s\", paste(unique(row.names[duplicated(row.names)]), \n",
            "  .                 collapse = \", \")), domain = NA)\n",
            "  .         row.names(value) <- row.names\n",
            "  .     }\n",
            "  .     value\n",
            "  . })(function (x, ...) \n",
            "  . UseMethod(\"mean\"), function (x, na.rm = FALSE, ...) \n",
            "  . UseMethod(\"median\"), function (x, na.rm = FALSE) \n",
            "  . sqrt(var(if (is.vector(x) || is.factor(x)) x else as.double(x), \n",
            "  .     na.rm = na.rm)), check.names = FALSE, fix.empty.names = TRUE, \n",
            "  .     stringsAsFactors = FALSE)\n",
            "21. as.data.frame(x[[i]], optional = TRUE)\n",
            "22. as.data.frame.default(x[[i]], optional = TRUE)\n",
            "23. stop(gettextf(\"cannot coerce class %s to a data.frame\", sQuote(deparse(class(x))[1L])), \n",
            "  .     domain = NA)\n"
          ]
        }
      ]
    },
    {
      "cell_type": "code",
      "source": [
        "library(dslabs)\n",
        "data(heights)\n",
        "options(digits = 3)\n",
        "mn <- mean(heights$height)\n",
        "df <- heights %>% filter(sex == \"Female\")\n",
        "length(df$sex)/length(heights$sex)\n",
        "heights$sex[match(min(heights$height), heights$height)]\n",
        "min_height <- min(heights$height)\n",
        "max_height <-max(heights$height)\n",
        "\n",
        "\n",
        "# Create vector x containing integers between min and max heights\n",
        "x <- floor(min_height):ceiling(max_height-1)\n",
        "\n",
        "# Print the vector x\n",
        "print(x)\n",
        "\n",
        "sum(!x %in% heights$height)\n",
        "\n",
        "\n",
        "heights <- heights %>% mutate(ht_cm = height*2.54)\n",
        "mean(heights$ht_cm)\n",
        "\n",
        "\n",
        "\n",
        "heights2 <- data.frame(filter(heights, sex == \"Female\"))\n",
        "mean(heights2$ht_cm)"
      ],
      "metadata": {
        "colab": {
          "base_uri": "https://localhost:8080/",
          "height": 156
        },
        "id": "EiRCHdmJYUDC",
        "outputId": "11b2e3fb-ee09-4d78-e8a2-9e92e25cdb81"
      },
      "execution_count": 49,
      "outputs": [
        {
          "output_type": "display_data",
          "data": {
            "text/html": [
              "0.226666666666667"
            ],
            "text/markdown": "0.226666666666667",
            "text/latex": "0.226666666666667",
            "text/plain": [
              "[1] 0.227"
            ]
          },
          "metadata": {}
        },
        {
          "output_type": "display_data",
          "data": {
            "text/html": [
              "Male\n",
              "<details>\n",
              "\t<summary style=display:list-item;cursor:pointer>\n",
              "\t\t<strong>Levels</strong>:\n",
              "\t</summary>\n",
              "\t<style>\n",
              "\t.list-inline {list-style: none; margin:0; padding: 0}\n",
              "\t.list-inline>li {display: inline-block}\n",
              "\t.list-inline>li:not(:last-child)::after {content: \"\\00b7\"; padding: 0 .5ex}\n",
              "\t</style>\n",
              "\t<ol class=list-inline><li>'Female'</li><li>'Male'</li></ol>\n",
              "</details>"
            ],
            "text/markdown": "Male\n**Levels**: 1. 'Female'\n2. 'Male'\n\n\n",
            "text/latex": "Male\n\\emph{Levels}: \\begin{enumerate*}\n\\item 'Female'\n\\item 'Male'\n\\end{enumerate*}\n",
            "text/plain": [
              "[1] Male\n",
              "Levels: Female Male"
            ]
          },
          "metadata": {}
        },
        {
          "output_type": "stream",
          "name": "stdout",
          "text": [
            " [1] 50 51 52 53 54 55 56 57 58 59 60 61 62 63 64 65 66 67 68 69 70 71 72 73 74\n",
            "[26] 75 76 77 78 79 80 81 82\n"
          ]
        },
        {
          "output_type": "display_data",
          "data": {
            "text/html": [
              "3"
            ],
            "text/markdown": "3",
            "text/latex": "3",
            "text/plain": [
              "[1] 3"
            ]
          },
          "metadata": {}
        },
        {
          "output_type": "display_data",
          "data": {
            "text/html": [
              "173.540453828202"
            ],
            "text/markdown": "173.540453828202",
            "text/latex": "173.540453828202",
            "text/plain": [
              "[1] 174"
            ]
          },
          "metadata": {}
        },
        {
          "output_type": "display_data",
          "data": {
            "text/html": [
              "164.946137596639"
            ],
            "text/markdown": "164.946137596639",
            "text/latex": "164.946137596639",
            "text/plain": [
              "[1] 165"
            ]
          },
          "metadata": {}
        }
      ]
    },
    {
      "cell_type": "code",
      "source": [
        "library(dslabs)\n",
        "data(olive)\n",
        "head(olive)\n",
        "plot(olive$palmitic, olive$palmitoleic)\n",
        "hist(olive$eicosenoic)\n",
        "boxplot(palmitic~region, data = olive)"
      ],
      "metadata": {
        "colab": {
          "base_uri": "https://localhost:8080/",
          "height": 1000
        },
        "id": "q7yHEggkn1Nh",
        "outputId": "8436aff1-a66a-4e6d-df63-7641cd267d81"
      },
      "execution_count": 50,
      "outputs": [
        {
          "output_type": "display_data",
          "data": {
            "text/html": [
              "<table class=\"dataframe\">\n",
              "<caption>A data.frame: 6 × 10</caption>\n",
              "<thead>\n",
              "\t<tr><th></th><th scope=col>region</th><th scope=col>area</th><th scope=col>palmitic</th><th scope=col>palmitoleic</th><th scope=col>stearic</th><th scope=col>oleic</th><th scope=col>linoleic</th><th scope=col>linolenic</th><th scope=col>arachidic</th><th scope=col>eicosenoic</th></tr>\n",
              "\t<tr><th></th><th scope=col>&lt;fct&gt;</th><th scope=col>&lt;fct&gt;</th><th scope=col>&lt;dbl&gt;</th><th scope=col>&lt;dbl&gt;</th><th scope=col>&lt;dbl&gt;</th><th scope=col>&lt;dbl&gt;</th><th scope=col>&lt;dbl&gt;</th><th scope=col>&lt;dbl&gt;</th><th scope=col>&lt;dbl&gt;</th><th scope=col>&lt;dbl&gt;</th></tr>\n",
              "</thead>\n",
              "<tbody>\n",
              "\t<tr><th scope=row>1</th><td>Southern Italy</td><td>North-Apulia</td><td>10.75</td><td>0.75</td><td>2.26</td><td>78.2</td><td>6.72</td><td>0.36</td><td>0.60</td><td>0.29</td></tr>\n",
              "\t<tr><th scope=row>2</th><td>Southern Italy</td><td>North-Apulia</td><td>10.88</td><td>0.73</td><td>2.24</td><td>77.1</td><td>7.81</td><td>0.31</td><td>0.61</td><td>0.29</td></tr>\n",
              "\t<tr><th scope=row>3</th><td>Southern Italy</td><td>North-Apulia</td><td> 9.11</td><td>0.54</td><td>2.46</td><td>81.1</td><td>5.49</td><td>0.31</td><td>0.63</td><td>0.29</td></tr>\n",
              "\t<tr><th scope=row>4</th><td>Southern Italy</td><td>North-Apulia</td><td> 9.66</td><td>0.57</td><td>2.40</td><td>79.5</td><td>6.19</td><td>0.50</td><td>0.78</td><td>0.35</td></tr>\n",
              "\t<tr><th scope=row>5</th><td>Southern Italy</td><td>North-Apulia</td><td>10.51</td><td>0.67</td><td>2.59</td><td>77.7</td><td>6.72</td><td>0.50</td><td>0.80</td><td>0.46</td></tr>\n",
              "\t<tr><th scope=row>6</th><td>Southern Italy</td><td>North-Apulia</td><td> 9.11</td><td>0.49</td><td>2.68</td><td>79.2</td><td>6.78</td><td>0.51</td><td>0.70</td><td>0.44</td></tr>\n",
              "</tbody>\n",
              "</table>\n"
            ],
            "text/markdown": "\nA data.frame: 6 × 10\n\n| <!--/--> | region &lt;fct&gt; | area &lt;fct&gt; | palmitic &lt;dbl&gt; | palmitoleic &lt;dbl&gt; | stearic &lt;dbl&gt; | oleic &lt;dbl&gt; | linoleic &lt;dbl&gt; | linolenic &lt;dbl&gt; | arachidic &lt;dbl&gt; | eicosenoic &lt;dbl&gt; |\n|---|---|---|---|---|---|---|---|---|---|---|\n| 1 | Southern Italy | North-Apulia | 10.75 | 0.75 | 2.26 | 78.2 | 6.72 | 0.36 | 0.60 | 0.29 |\n| 2 | Southern Italy | North-Apulia | 10.88 | 0.73 | 2.24 | 77.1 | 7.81 | 0.31 | 0.61 | 0.29 |\n| 3 | Southern Italy | North-Apulia |  9.11 | 0.54 | 2.46 | 81.1 | 5.49 | 0.31 | 0.63 | 0.29 |\n| 4 | Southern Italy | North-Apulia |  9.66 | 0.57 | 2.40 | 79.5 | 6.19 | 0.50 | 0.78 | 0.35 |\n| 5 | Southern Italy | North-Apulia | 10.51 | 0.67 | 2.59 | 77.7 | 6.72 | 0.50 | 0.80 | 0.46 |\n| 6 | Southern Italy | North-Apulia |  9.11 | 0.49 | 2.68 | 79.2 | 6.78 | 0.51 | 0.70 | 0.44 |\n\n",
            "text/latex": "A data.frame: 6 × 10\n\\begin{tabular}{r|llllllllll}\n  & region & area & palmitic & palmitoleic & stearic & oleic & linoleic & linolenic & arachidic & eicosenoic\\\\\n  & <fct> & <fct> & <dbl> & <dbl> & <dbl> & <dbl> & <dbl> & <dbl> & <dbl> & <dbl>\\\\\n\\hline\n\t1 & Southern Italy & North-Apulia & 10.75 & 0.75 & 2.26 & 78.2 & 6.72 & 0.36 & 0.60 & 0.29\\\\\n\t2 & Southern Italy & North-Apulia & 10.88 & 0.73 & 2.24 & 77.1 & 7.81 & 0.31 & 0.61 & 0.29\\\\\n\t3 & Southern Italy & North-Apulia &  9.11 & 0.54 & 2.46 & 81.1 & 5.49 & 0.31 & 0.63 & 0.29\\\\\n\t4 & Southern Italy & North-Apulia &  9.66 & 0.57 & 2.40 & 79.5 & 6.19 & 0.50 & 0.78 & 0.35\\\\\n\t5 & Southern Italy & North-Apulia & 10.51 & 0.67 & 2.59 & 77.7 & 6.72 & 0.50 & 0.80 & 0.46\\\\\n\t6 & Southern Italy & North-Apulia &  9.11 & 0.49 & 2.68 & 79.2 & 6.78 & 0.51 & 0.70 & 0.44\\\\\n\\end{tabular}\n",
            "text/plain": [
              "  region         area         palmitic palmitoleic stearic oleic linoleic\n",
              "1 Southern Italy North-Apulia 10.75    0.75        2.26    78.2  6.72    \n",
              "2 Southern Italy North-Apulia 10.88    0.73        2.24    77.1  7.81    \n",
              "3 Southern Italy North-Apulia  9.11    0.54        2.46    81.1  5.49    \n",
              "4 Southern Italy North-Apulia  9.66    0.57        2.40    79.5  6.19    \n",
              "5 Southern Italy North-Apulia 10.51    0.67        2.59    77.7  6.72    \n",
              "6 Southern Italy North-Apulia  9.11    0.49        2.68    79.2  6.78    \n",
              "  linolenic arachidic eicosenoic\n",
              "1 0.36      0.60      0.29      \n",
              "2 0.31      0.61      0.29      \n",
              "3 0.31      0.63      0.29      \n",
              "4 0.50      0.78      0.35      \n",
              "5 0.50      0.80      0.46      \n",
              "6 0.51      0.70      0.44      "
            ]
          },
          "metadata": {}
        },
        {
          "output_type": "display_data",
          "data": {
            "text/plain": [
              "plot without title"
            ],
            "image/png": "[encoded data removed]"
          },
          "metadata": {
            "image/png": {
              "width": 420,
              "height": 420
            }
          }
        },
        {
          "output_type": "display_data",
          "data": {
            "text/plain": [
              "Plot with title “Histogram of olive$eicosenoic”"
            ],
            "image/png": "[encoded data removed]"
          },
          "metadata": {
            "image/png": {
              "width": 420,
              "height": 420
            }
          }
        },
        {
          "output_type": "display_data",
          "data": {
            "text/plain": [
              "plot without title"
            ],
            "image/png": "[encoded data removed]"
          },
          "metadata": {
            "image/png": {
              "width": 420,
              "height": 420
            }
          }
        }
      ]
    },
    {
      "cell_type": "code",
      "source": [
        "a <- 0\n",
        "if(a!=0){\n",
        "  print(1/a)\n",
        "} else{\n",
        "  print(\"No reciprocal for 0.\")\n",
        "}\n",
        "\n",
        "# an example that tells us which states, if any, have a murder rate less than 0.5\n",
        "library(dslabs)\n",
        "data(murders)\n",
        "murder_rate <- murders$total / murders$population*100000\n",
        "ind <- which.min(murder_rate)\n",
        "if(murder_rate[ind] < 0.5){\n",
        "  print(murders$state[ind])\n",
        "} else{\n",
        "  print(\"No state has murder rate that low\")\n",
        "}\n",
        "\n",
        "# changing the condition to < 0.25 changes the result\n",
        "if(murder_rate[ind] < 0.25){\n",
        "  print(murders$state[ind])\n",
        "} else{\n",
        "  print(\"No state has a murder rate that low.\")\n",
        "}\n",
        "\n",
        "# the ifelse() function works similarly to an if-else conditional\n",
        "a <- 0\n",
        "ifelse(a > 0, 1/a, NA)\n",
        "\n",
        "# the ifelse() function is particularly useful on vectors\n",
        "a <- c(0,1,2,-4,5)\n",
        "result <- ifelse(a > 0, 1/a, NA)\n",
        "\n",
        "# the ifelse() function is also helpful for replacing missing values\n",
        "data(na_example)\n",
        "no_nas <- ifelse(is.na(na_example), 0, na_example)\n",
        "sum(is.na(no_nas))\n",
        "\n",
        "# the any() and all() functions evaluate logical vectors\n",
        "z <- c(TRUE, TRUE, FALSE)\n",
        "any(z)\n",
        "all(z)"
      ],
      "metadata": {
        "id": "YVAIN3B8p3sy",
        "colab": {
          "base_uri": "https://localhost:8080/",
          "height": 139
        },
        "outputId": "8aa92e7d-d77d-4bf0-93a3-eb8a033f458d"
      },
      "execution_count": 51,
      "outputs": [
        {
          "output_type": "stream",
          "name": "stdout",
          "text": [
            "[1] \"No reciprocal for 0.\"\n",
            "[1] \"Vermont\"\n",
            "[1] \"No state has a murder rate that low.\"\n"
          ]
        },
        {
          "output_type": "display_data",
          "data": {
            "text/html": [
              "&lt;NA&gt;"
            ],
            "text/markdown": "&lt;NA&gt;",
            "text/latex": "<NA>",
            "text/plain": [
              "[1] NA"
            ]
          },
          "metadata": {}
        },
        {
          "output_type": "display_data",
          "data": {
            "text/html": [
              "0"
            ],
            "text/markdown": "0",
            "text/latex": "0",
            "text/plain": [
              "[1] 0"
            ]
          },
          "metadata": {}
        },
        {
          "output_type": "display_data",
          "data": {
            "text/html": [
              "TRUE"
            ],
            "text/markdown": "TRUE",
            "text/latex": "TRUE",
            "text/plain": [
              "[1] TRUE"
            ]
          },
          "metadata": {}
        },
        {
          "output_type": "display_data",
          "data": {
            "text/html": [
              "FALSE"
            ],
            "text/markdown": "FALSE",
            "text/latex": "FALSE",
            "text/plain": [
              "[1] FALSE"
            ]
          },
          "metadata": {}
        }
      ]
    },
    {
      "cell_type": "code",
      "source": [
        "# example of defining a function to compute the average of a vector x\n",
        "avg <- function(x){\n",
        "  s <- sum(x)\n",
        "  n <- length(x)\n",
        "  s/n\n",
        "}\n",
        "\n",
        "# we see that the above function and the pre-built R mean() function are identical\n",
        "x <- 1:100\n",
        "identical(mean(x), avg(x))\n",
        "\n",
        "# variables inside a function are not defined in the workspace\n",
        "s <- 3\n",
        "avg(1:10)\n",
        "s\n",
        "\n",
        "\n",
        "\n",
        "# functions can have multiple arguments as well as default values\n",
        "avg <- function(x, arithmetic = TRUE){\n",
        "  n <- length(x)\n",
        "  ifelse(arithmetic, sum(x)/n, prod(x)^(1/n))\n",
        "}"
      ],
      "metadata": {
        "id": "NPfrUwmop41f",
        "colab": {
          "base_uri": "https://localhost:8080/",
          "height": 69
        },
        "outputId": "b256739d-23e5-4507-c265-4bf6313cc546"
      },
      "execution_count": 53,
      "outputs": [
        {
          "output_type": "display_data",
          "data": {
            "text/html": [
              "TRUE"
            ],
            "text/markdown": "TRUE",
            "text/latex": "TRUE",
            "text/plain": [
              "[1] TRUE"
            ]
          },
          "metadata": {}
        },
        {
          "output_type": "display_data",
          "data": {
            "text/html": [
              "5.5"
            ],
            "text/markdown": "5.5",
            "text/latex": "5.5",
            "text/plain": [
              "[1] 5.5"
            ]
          },
          "metadata": {}
        },
        {
          "output_type": "display_data",
          "data": {
            "text/html": [
              "3"
            ],
            "text/markdown": "3",
            "text/latex": "3",
            "text/plain": [
              "[1] 3"
            ]
          },
          "metadata": {}
        }
      ]
    },
    {
      "cell_type": "code",
      "source": [
        "# creating a function that computes the sum of integers 1 through n\n",
        "compute_s_n <- function(n){\n",
        "  x <- 1:n\n",
        "  sum(x)\n",
        "}\n",
        "\n",
        "# a very simple for-loop\n",
        "for(i in 1:5){\n",
        "  print(i)\n",
        "}\n",
        "\n",
        "# a for-loop for our summation\n",
        "m <- 25\n",
        "s_n <- vector(length = m) # create an empty vector\n",
        "for(n in 1:m){\n",
        "  s_n[n] <- compute_s_n(n)\n",
        "}\n",
        "\n",
        "# creating a plot for our summation function\n",
        "n <- 1:m\n",
        "plot(n, s_n)\n",
        "\n",
        "# a table of values comparing our function to the summation formula\n",
        "head(data.frame(s_n = s_n, formula = n*(n+1)/2))\n",
        "\n",
        "# overlaying our function with the summation formula\n",
        "plot(n, s_n)\n",
        "lines(n, n*(n+1)/2)"
      ],
      "metadata": {
        "id": "CYpi5yZ-rWAS",
        "colab": {
          "base_uri": "https://localhost:8080/",
          "height": 793
        },
        "outputId": "077788bb-a564-4cec-9724-d9590f16edb7"
      },
      "execution_count": 54,
      "outputs": [
        {
          "output_type": "stream",
          "name": "stdout",
          "text": [
            "[1] 1\n",
            "[1] 2\n",
            "[1] 3\n",
            "[1] 4\n",
            "[1] 5\n"
          ]
        },
        {
          "output_type": "display_data",
          "data": {
            "text/html": [
              "<table class=\"dataframe\">\n",
              "<caption>A data.frame: 6 × 2</caption>\n",
              "<thead>\n",
              "\t<tr><th></th><th scope=col>s_n</th><th scope=col>formula</th></tr>\n",
              "\t<tr><th></th><th scope=col>&lt;int&gt;</th><th scope=col>&lt;dbl&gt;</th></tr>\n",
              "</thead>\n",
              "<tbody>\n",
              "\t<tr><th scope=row>1</th><td> 1</td><td> 1</td></tr>\n",
              "\t<tr><th scope=row>2</th><td> 3</td><td> 3</td></tr>\n",
              "\t<tr><th scope=row>3</th><td> 6</td><td> 6</td></tr>\n",
              "\t<tr><th scope=row>4</th><td>10</td><td>10</td></tr>\n",
              "\t<tr><th scope=row>5</th><td>15</td><td>15</td></tr>\n",
              "\t<tr><th scope=row>6</th><td>21</td><td>21</td></tr>\n",
              "</tbody>\n",
              "</table>\n"
            ],
            "text/markdown": "\nA data.frame: 6 × 2\n\n| <!--/--> | s_n &lt;int&gt; | formula &lt;dbl&gt; |\n|---|---|---|\n| 1 |  1 |  1 |\n| 2 |  3 |  3 |\n| 3 |  6 |  6 |\n| 4 | 10 | 10 |\n| 5 | 15 | 15 |\n| 6 | 21 | 21 |\n\n",
            "text/latex": "A data.frame: 6 × 2\n\\begin{tabular}{r|ll}\n  & s\\_n & formula\\\\\n  & <int> & <dbl>\\\\\n\\hline\n\t1 &  1 &  1\\\\\n\t2 &  3 &  3\\\\\n\t3 &  6 &  6\\\\\n\t4 & 10 & 10\\\\\n\t5 & 15 & 15\\\\\n\t6 & 21 & 21\\\\\n\\end{tabular}\n",
            "text/plain": [
              "  s_n formula\n",
              "1  1   1     \n",
              "2  3   3     \n",
              "3  6   6     \n",
              "4 10  10     \n",
              "5 15  15     \n",
              "6 21  21     "
            ]
          },
          "metadata": {}
        },
        {
          "output_type": "display_data",
          "data": {
            "text/plain": [
              "plot without title"
            ],
            "image/png": "[encoded data removed]"
          },
          "metadata": {
            "image/png": {
              "width": 420,
              "height": 420
            }
          }
        }
      ]
    },
    {
      "cell_type": "code",
      "source": [
        "x <- c(1,2,-3,4)\n",
        "if(all(x>0)){\n",
        "    print(\"All Positives\")\n",
        "  } else{\n",
        "     print(\"Not All Positives\")\n",
        "  }"
      ],
      "metadata": {
        "colab": {
          "base_uri": "https://localhost:8080/"
        },
        "id": "XW8wX0Bmrujq",
        "outputId": "6ef666e3-fa92-405c-e342-f338d12a9a7e"
      },
      "execution_count": 55,
      "outputs": [
        {
          "output_type": "stream",
          "name": "stdout",
          "text": [
            "[1] \"Not All Positives\"\n"
          ]
        }
      ]
    }
  ]
}